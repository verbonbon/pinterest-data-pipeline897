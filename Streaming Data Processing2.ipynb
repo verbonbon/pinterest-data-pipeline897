{
 "cells": [
  {
   "cell_type": "code",
   "execution_count": 0,
   "metadata": {
    "application/vnd.databricks.v1+cell": {
     "cellMetadata": {
      "byteLimit": 2048000,
      "rowLimit": 10000
     },
     "inputWidgets": {},
     "nuid": "577962b1-85c1-4351-9606-6238144aa103",
     "showTitle": true,
     "title": "Check contents in FileStore"
    }
   },
   "outputs": [
    {
     "output_type": "display_data",
     "data": {
      "text/html": [
       "<style scoped>\n",
       "  .ansiout {\n",
       "    display: block;\n",
       "    unicode-bidi: embed;\n",
       "    white-space: pre-wrap;\n",
       "    word-wrap: break-word;\n",
       "    word-break: break-all;\n",
       "    font-family: \"Menlo\", \"Monaco\", \"Consolas\", \"Ubuntu Mono\", \"Source Code Pro\", monospace;\n",
       "    font-size: 13px;\n",
       "    color: #555;\n",
       "    margin-left: 4px;\n",
       "    line-height: 19px;\n",
       "  }\n",
       "</style>\n",
       "<div class=\"ansiout\">Out[66]: [FileInfo(path=&#39;dbfs:/FileStore/tables/0ed442ca38ad_user_table/&#39;, name=&#39;0ed442ca38ad_user_table/&#39;, size=0, modificationTime=1703073891198),\n",
       " FileInfo(path=&#39;dbfs:/FileStore/tables/authentication_credentials-1.csv&#39;, name=&#39;authentication_credentials-1.csv&#39;, size=97, modificationTime=1702911405000),\n",
       " FileInfo(path=&#39;dbfs:/FileStore/tables/authentication_credentials-2.csv&#39;, name=&#39;authentication_credentials-2.csv&#39;, size=97, modificationTime=1702911558000),\n",
       " FileInfo(path=&#39;dbfs:/FileStore/tables/authentication_credentials.csv&#39;, name=&#39;authentication_credentials.csv&#39;, size=97, modificationTime=1702911748000),\n",
       " FileInfo(path=&#39;dbfs:/FileStore/tables/geo_dirty.csv/&#39;, name=&#39;geo_dirty.csv/&#39;, size=0, modificationTime=1703073891198),\n",
       " FileInfo(path=&#39;dbfs:/FileStore/tables/pin_dirty.csv/&#39;, name=&#39;pin_dirty.csv/&#39;, size=0, modificationTime=1703073891198),\n",
       " FileInfo(path=&#39;dbfs:/FileStore/tables/single_json_file.json&#39;, name=&#39;single_json_file.json&#39;, size=293, modificationTime=1701857903000),\n",
       " FileInfo(path=&#39;dbfs:/FileStore/tables/user_dirty.csv/&#39;, name=&#39;user_dirty.csv/&#39;, size=0, modificationTime=1703073891198)]</div>"
      ]
     },
     "metadata": {
      "application/vnd.databricks.v1+output": {
       "addedWidgets": {},
       "arguments": {},
       "data": "<div class=\"ansiout\">Out[66]: [FileInfo(path=&#39;dbfs:/FileStore/tables/0ed442ca38ad_user_table/&#39;, name=&#39;0ed442ca38ad_user_table/&#39;, size=0, modificationTime=1703073891198),\n FileInfo(path=&#39;dbfs:/FileStore/tables/authentication_credentials-1.csv&#39;, name=&#39;authentication_credentials-1.csv&#39;, size=97, modificationTime=1702911405000),\n FileInfo(path=&#39;dbfs:/FileStore/tables/authentication_credentials-2.csv&#39;, name=&#39;authentication_credentials-2.csv&#39;, size=97, modificationTime=1702911558000),\n FileInfo(path=&#39;dbfs:/FileStore/tables/authentication_credentials.csv&#39;, name=&#39;authentication_credentials.csv&#39;, size=97, modificationTime=1702911748000),\n FileInfo(path=&#39;dbfs:/FileStore/tables/geo_dirty.csv/&#39;, name=&#39;geo_dirty.csv/&#39;, size=0, modificationTime=1703073891198),\n FileInfo(path=&#39;dbfs:/FileStore/tables/pin_dirty.csv/&#39;, name=&#39;pin_dirty.csv/&#39;, size=0, modificationTime=1703073891198),\n FileInfo(path=&#39;dbfs:/FileStore/tables/single_json_file.json&#39;, name=&#39;single_json_file.json&#39;, size=293, modificationTime=1701857903000),\n FileInfo(path=&#39;dbfs:/FileStore/tables/user_dirty.csv/&#39;, name=&#39;user_dirty.csv/&#39;, size=0, modificationTime=1703073891198)]</div>",
       "datasetInfos": [],
       "metadata": {},
       "removedWidgets": [],
       "type": "html"
      }
     },
     "output_type": "display_data"
    }
   ],
   "source": [
    "# check the contents in FileStore\n",
    "dbutils.fs.ls(\"/FileStore/tables\")"
   ]
  },
  {
   "cell_type": "markdown",
   "metadata": {
    "application/vnd.databricks.v1+cell": {
     "cellMetadata": {},
     "inputWidgets": {},
     "nuid": "09828303-3d74-4ff5-b15e-a1f7ddc188b2",
     "showTitle": false,
     "title": ""
    }
   },
   "source": [
    "#Retrieving Credentials"
   ]
  },
  {
   "cell_type": "code",
   "execution_count": 0,
   "metadata": {
    "application/vnd.databricks.v1+cell": {
     "cellMetadata": {
      "byteLimit": 2048000,
      "rowLimit": 10000
     },
     "inputWidgets": {},
     "nuid": "3b61ae51-29c7-4284-b1fd-e1c99f3f7b18",
     "showTitle": true,
     "title": "Step 1: Loading packages"
    }
   },
   "outputs": [
    {
     "output_type": "display_data",
     "data": {
      "text/html": [
       "<style scoped>\n",
       "  .ansiout {\n",
       "    display: block;\n",
       "    unicode-bidi: embed;\n",
       "    white-space: pre-wrap;\n",
       "    word-wrap: break-word;\n",
       "    word-break: break-all;\n",
       "    font-family: \"Menlo\", \"Monaco\", \"Consolas\", \"Ubuntu Mono\", \"Source Code Pro\", monospace;\n",
       "    font-size: 13px;\n",
       "    color: #555;\n",
       "    margin-left: 4px;\n",
       "    line-height: 19px;\n",
       "  }\n",
       "</style>\n",
       "<div class=\"ansiout\"></div>"
      ]
     },
     "metadata": {
      "application/vnd.databricks.v1+output": {
       "addedWidgets": {},
       "arguments": {},
       "data": "<div class=\"ansiout\"></div>",
       "datasetInfos": [],
       "metadata": {},
       "removedWidgets": [],
       "type": "html"
      }
     },
     "output_type": "display_data"
    }
   ],
   "source": [
    "# pyspark functions\n",
    "from pyspark.sql.functions import *\n",
    "from pyspark.sql.types import *\n",
    "# URL processing\n",
    "import urllib"
   ]
  },
  {
   "cell_type": "code",
   "execution_count": 0,
   "metadata": {
    "application/vnd.databricks.v1+cell": {
     "cellMetadata": {
      "byteLimit": 2048000,
      "rowLimit": 10000
     },
     "inputWidgets": {},
     "nuid": "ee3b6660-092d-4961-9091-4313f70c52ed",
     "showTitle": true,
     "title": "Step 2: Read the csv file containing AWS keys to Databricks "
    }
   },
   "outputs": [
    {
     "output_type": "display_data",
     "data": {
      "text/html": [
       "<style scoped>\n",
       "  .ansiout {\n",
       "    display: block;\n",
       "    unicode-bidi: embed;\n",
       "    white-space: pre-wrap;\n",
       "    word-wrap: break-word;\n",
       "    word-break: break-all;\n",
       "    font-family: \"Menlo\", \"Monaco\", \"Consolas\", \"Ubuntu Mono\", \"Source Code Pro\", monospace;\n",
       "    font-size: 13px;\n",
       "    color: #555;\n",
       "    margin-left: 4px;\n",
       "    line-height: 19px;\n",
       "  }\n",
       "</style>\n",
       "<div class=\"ansiout\"></div>"
      ]
     },
     "metadata": {
      "application/vnd.databricks.v1+output": {
       "addedWidgets": {},
       "arguments": {},
       "data": "<div class=\"ansiout\"></div>",
       "datasetInfos": [],
       "metadata": {},
       "removedWidgets": [],
       "type": "html"
      }
     },
     "output_type": "display_data"
    }
   ],
   "source": [
    "# Specify file type to be csv\n",
    "file_type = \"csv\"\n",
    "# Indicates file has first row as the header\n",
    "first_row_is_header = \"true\"\n",
    "# Indicates file has comma as the delimeter\n",
    "delimiter = \",\"\n",
    "# Read the CSV file to spark dataframe\n",
    "aws_keys_df = spark.read.format(file_type)\\\n",
    ".option(\"header\", first_row_is_header)\\\n",
    ".option(\"sep\", delimiter)\\\n",
    ".load(\"/FileStore/tables/authentication_credentials.csv\")"
   ]
  },
  {
   "cell_type": "code",
   "execution_count": 0,
   "metadata": {
    "application/vnd.databricks.v1+cell": {
     "cellMetadata": {
      "byteLimit": 2048000,
      "rowLimit": 10000
     },
     "inputWidgets": {},
     "nuid": "773e3b80-26e6-4e33-879e-33e9cee6924d",
     "showTitle": true,
     "title": "Step 3: Extract access key and secret access key from spark dataframe created above"
    }
   },
   "outputs": [
    {
     "output_type": "display_data",
     "data": {
      "text/html": [
       "<style scoped>\n",
       "  .ansiout {\n",
       "    display: block;\n",
       "    unicode-bidi: embed;\n",
       "    white-space: pre-wrap;\n",
       "    word-wrap: break-word;\n",
       "    word-break: break-all;\n",
       "    font-family: \"Menlo\", \"Monaco\", \"Consolas\", \"Ubuntu Mono\", \"Source Code Pro\", monospace;\n",
       "    font-size: 13px;\n",
       "    color: #555;\n",
       "    margin-left: 4px;\n",
       "    line-height: 19px;\n",
       "  }\n",
       "</style>\n",
       "<div class=\"ansiout\"></div>"
      ]
     },
     "metadata": {
      "application/vnd.databricks.v1+output": {
       "addedWidgets": {},
       "arguments": {},
       "data": "<div class=\"ansiout\"></div>",
       "datasetInfos": [],
       "metadata": {},
       "removedWidgets": [],
       "type": "html"
      }
     },
     "output_type": "display_data"
    }
   ],
   "source": [
    "# Notes: the secret access key will be encoded using urllib.parse.quote for security purposes. \n",
    "# safe=\"\" means that every character will be encoded.\n",
    "\n",
    "# Get the AWS access key and secret key from the spark dataframe\n",
    "ACCESS_KEY = aws_keys_df.select('Access key ID').collect()[0]['Access key ID']\n",
    "SECRET_KEY = aws_keys_df.select('Secret access key').collect()[0]['Secret access key']\n",
    "# Encode the secrete key\n",
    "ENCODED_SECRET_KEY = urllib.parse.quote(string=SECRET_KEY, safe=\"\")"
   ]
  },
  {
   "cell_type": "markdown",
   "metadata": {
    "application/vnd.databricks.v1+cell": {
     "cellMetadata": {},
     "inputWidgets": {},
     "nuid": "a0505069-8704-489b-9913-9dd071b7379a",
     "showTitle": false,
     "title": ""
    }
   },
   "source": [
    "#Read Streaming Data from Kinesis "
   ]
  },
  {
   "cell_type": "code",
   "execution_count": 0,
   "metadata": {
    "application/vnd.databricks.v1+cell": {
     "cellMetadata": {
      "byteLimit": 2048000,
      "rowLimit": 10000
     },
     "inputWidgets": {},
     "nuid": "72c73953-e4ec-4eea-aab7-9787e7d78a81",
     "showTitle": true,
     "title": "Create functions for creating dataframes and delta tables"
    }
   },
   "outputs": [
    {
     "output_type": "display_data",
     "data": {
      "text/html": [
       "<style scoped>\n",
       "  .ansiout {\n",
       "    display: block;\n",
       "    unicode-bidi: embed;\n",
       "    white-space: pre-wrap;\n",
       "    word-wrap: break-word;\n",
       "    word-break: break-all;\n",
       "    font-family: \"Menlo\", \"Monaco\", \"Consolas\", \"Ubuntu Mono\", \"Source Code Pro\", monospace;\n",
       "    font-size: 13px;\n",
       "    color: #555;\n",
       "    margin-left: 4px;\n",
       "    line-height: 19px;\n",
       "  }\n",
       "</style>\n",
       "<div class=\"ansiout\"></div>"
      ]
     },
     "metadata": {
      "application/vnd.databricks.v1+output": {
       "addedWidgets": {},
       "arguments": {},
       "data": "<div class=\"ansiout\"></div>",
       "datasetInfos": [],
       "metadata": {},
       "removedWidgets": [],
       "type": "html"
      }
     },
     "output_type": "display_data"
    }
   ],
   "source": [
    "# a function that retrieves Kienesis stream and returns a df\n",
    "def read_stream(stream_name: str):\n",
    "    df_stream_raw = spark \\\n",
    "    .readStream \\\n",
    "    .format('kinesis') \\\n",
    "    .option('streamName','stream_name') \\\n",
    "    .option('initialPosition','earliest') \\\n",
    "    .option('region','us-east-1') \\\n",
    "    .option('awsAccessKey', ACCESS_KEY) \\\n",
    "    .option('awsSecretKey', SECRET_KEY) \\\n",
    "    .load()\n",
    "    return df_stream_raw\n",
    "    \n",
    "# a function that gets stream dataframe and schema,  \n",
    "# deserializes data from stream and return a df\n",
    "def deserializer(stream, schema):\n",
    "    df_stream_raw = stream \\\n",
    "    .selectExpr(\"CAST(data as STRING)\") \\\n",
    "    .withColumn(\"data\", from_json(col(\"data\"), schema)) \\\n",
    "    .select(col(\"data.*\"))\n",
    "    return df_stream_raw\n",
    "\n",
    "# a funcion that writes the cleaned df to delta table\n",
    "# the parameters are the df names and the topic name for insertion (i.e., pin, geo, user)\n",
    "def create_delta_table(df, topic_name: str):\n",
    "    df.writeStream \\\n",
    "    .format(\"delta\") \\\n",
    "    .outputMode(\"append\") \\\n",
    "    .option(\"checkpointLocation\", \"/tmp/kinesis/_checkpoints/\") \\\n",
    "    .table(f\"0a5e6ec37a2f_{topic_name}_table\")\n"
   ]
  },
  {
   "cell_type": "code",
   "execution_count": 0,
   "metadata": {
    "application/vnd.databricks.v1+cell": {
     "cellMetadata": {
      "byteLimit": 2048000,
      "rowLimit": 10000
     },
     "inputWidgets": {},
     "nuid": "ec5a6f16-d435-4f40-9d36-ece1c1861c96",
     "showTitle": true,
     "title": "Creates Schema to define the variable type"
    }
   },
   "outputs": [
    {
     "output_type": "display_data",
     "data": {
      "text/html": [
       "<style scoped>\n",
       "  .ansiout {\n",
       "    display: block;\n",
       "    unicode-bidi: embed;\n",
       "    white-space: pre-wrap;\n",
       "    word-wrap: break-word;\n",
       "    word-break: break-all;\n",
       "    font-family: \"Menlo\", \"Monaco\", \"Consolas\", \"Ubuntu Mono\", \"Source Code Pro\", monospace;\n",
       "    font-size: 13px;\n",
       "    color: #555;\n",
       "    margin-left: 4px;\n",
       "    line-height: 19px;\n",
       "  }\n",
       "</style>\n",
       "<div class=\"ansiout\"></div>"
      ]
     },
     "metadata": {
      "application/vnd.databricks.v1+output": {
       "addedWidgets": {},
       "arguments": {},
       "data": "<div class=\"ansiout\"></div>",
       "datasetInfos": [],
       "metadata": {},
       "removedWidgets": [],
       "type": "html"
      }
     },
     "output_type": "display_data"
    }
   ],
   "source": [
    "# schema for pin data\n",
    "pin_schema = StructType([\n",
    "    StructField(\"index\", IntegerType()),\n",
    "    StructField(\"unique_id\", StringType()),\n",
    "    StructField(\"title\", StringType()),\n",
    "    StructField(\"description\", StringType()),\n",
    "    StructField(\"poster_name\", StringType()),\n",
    "    StructField(\"follower_count\", StringType()),\n",
    "    StructField(\"tag_list\", StringType()),\n",
    "    StructField(\"is_image_or_video\", StringType()),\n",
    "    StructField(\"image_src\", StringType()),\n",
    "    StructField(\"downloaded\", IntegerType()),\n",
    "    StructField(\"save_location\", StringType()),\n",
    "    StructField(\"category\", StringType())\n",
    "])\n",
    "\n",
    "# schema for geo data\n",
    "geo_schema = StructType([\n",
    "    StructField(\"ind\", IntegerType()),\n",
    "    StructField(\"timestamp\", TimestampType()),\n",
    "    StructField(\"latitude\", FloatType()),\n",
    "    StructField(\"longitude\", FloatType()),\n",
    "    StructField(\"country\", StringType())\n",
    "])\n",
    "\n",
    "# schema for user data\n",
    "user_schema = StructType([\n",
    "    StructField(\"ind\", IntegerType()),\n",
    "    StructField(\"first_name\", StringType()),\n",
    "    StructField(\"last_name\", StringType()),\n",
    "    StructField(\"age\", StringType()),\n",
    "    StructField(\"date_joined\", TimestampType())\n",
    "])"
   ]
  },
  {
   "cell_type": "code",
   "execution_count": 0,
   "metadata": {
    "application/vnd.databricks.v1+cell": {
     "cellMetadata": {
      "byteLimit": 2048000,
      "rowLimit": 10000
     },
     "inputWidgets": {},
     "nuid": "626cd50a-453d-4fe4-bb1c-53fb00bd8feb",
     "showTitle": true,
     "title": "Read the streams from Kinesis"
    }
   },
   "outputs": [
    {
     "output_type": "display_data",
     "data": {
      "text/html": [
       "<style scoped>\n",
       "  .ansiout {\n",
       "    display: block;\n",
       "    unicode-bidi: embed;\n",
       "    white-space: pre-wrap;\n",
       "    word-wrap: break-word;\n",
       "    word-break: break-all;\n",
       "    font-family: \"Menlo\", \"Monaco\", \"Consolas\", \"Ubuntu Mono\", \"Source Code Pro\", monospace;\n",
       "    font-size: 13px;\n",
       "    color: #555;\n",
       "    margin-left: 4px;\n",
       "    line-height: 19px;\n",
       "  }\n",
       "</style>\n",
       "<div class=\"ansiout\"></div>"
      ]
     },
     "metadata": {
      "application/vnd.databricks.v1+output": {
       "addedWidgets": {},
       "arguments": {},
       "data": "<div class=\"ansiout\"></div>",
       "datasetInfos": [],
       "metadata": {},
       "removedWidgets": [],
       "type": "html"
      }
     },
     "output_type": "display_data"
    }
   ],
   "source": [
    "df_pin_stream_raw = read_stream('streaming-0a5e6ec37a2f-pin')\n",
    "df_geo_stream_raw = read_stream('streaming-0a5e6ec37a2f-geo')\n",
    "df_user_stream_raw = read_stream('streaming-0a5e6ec37a2f-user')\n",
    "\n",
    "display(df_pin_stream_raw)"
   ]
  },
  {
   "cell_type": "code",
   "execution_count": 0,
   "metadata": {
    "application/vnd.databricks.v1+cell": {
     "cellMetadata": {
      "byteLimit": 2048000,
      "rowLimit": 10000
     },
     "inputWidgets": {},
     "nuid": "d05157c8-5bc8-4b25-830a-a789108875cf",
     "showTitle": true,
     "title": "Deserialize the streams"
    }
   },
   "outputs": [
    {
     "output_type": "display_data",
     "data": {
      "text/html": [
       "<style scoped>\n",
       "  .ansiout {\n",
       "    display: block;\n",
       "    unicode-bidi: embed;\n",
       "    white-space: pre-wrap;\n",
       "    word-wrap: break-word;\n",
       "    word-break: break-all;\n",
       "    font-family: \"Menlo\", \"Monaco\", \"Consolas\", \"Ubuntu Mono\", \"Source Code Pro\", monospace;\n",
       "    font-size: 13px;\n",
       "    color: #555;\n",
       "    margin-left: 4px;\n",
       "    line-height: 19px;\n",
       "  }\n",
       "</style>\n",
       "<div class=\"ansiout\"></div>"
      ]
     },
     "metadata": {
      "application/vnd.databricks.v1+output": {
       "addedWidgets": {},
       "arguments": {},
       "data": "<div class=\"ansiout\"></div>",
       "datasetInfos": [],
       "metadata": {},
       "removedWidgets": [],
       "type": "html"
      }
     },
     "output_type": "display_data"
    }
   ],
   "source": [
    "df_pin_stream_de = deserializer(df_pin_stream_raw, pin_schema)\n",
    "df_geo_stream_de = deserializer(df_geo_stream_raw, geo_schema)\n",
    "df_user_stream_de = deserializer(df_user_stream_raw, user_schema)\n"
   ]
  },
  {
   "cell_type": "markdown",
   "metadata": {
    "application/vnd.databricks.v1+cell": {
     "cellMetadata": {},
     "inputWidgets": {},
     "nuid": "80b8e6ed-2ed3-4e29-9979-3b225f9e65cf",
     "showTitle": false,
     "title": ""
    }
   },
   "source": [
    "# Data Cleaning"
   ]
  },
  {
   "cell_type": "code",
   "execution_count": 0,
   "metadata": {
    "application/vnd.databricks.v1+cell": {
     "cellMetadata": {
      "byteLimit": 2048000,
      "rowLimit": 10000
     },
     "inputWidgets": {},
     "nuid": "1a2b0d70-6238-463d-9ac0-b5719a8f5569",
     "showTitle": true,
     "title": "Cleaning pinterest dataframe (df_pin_stream_de)"
    }
   },
   "outputs": [
    {
     "output_type": "display_data",
     "data": {
      "text/html": [
       "<style scoped>\n",
       "  .ansiout {\n",
       "    display: block;\n",
       "    unicode-bidi: embed;\n",
       "    white-space: pre-wrap;\n",
       "    word-wrap: break-word;\n",
       "    word-break: break-all;\n",
       "    font-family: \"Menlo\", \"Monaco\", \"Consolas\", \"Ubuntu Mono\", \"Source Code Pro\", monospace;\n",
       "    font-size: 13px;\n",
       "    color: #555;\n",
       "    margin-left: 4px;\n",
       "    line-height: 19px;\n",
       "  }\n",
       "</style>\n",
       "<div class=\"ansiout\"></div>"
      ]
     },
     "metadata": {
      "application/vnd.databricks.v1+output": {
       "addedWidgets": {},
       "arguments": {},
       "data": "<div class=\"ansiout\"></div>",
       "datasetInfos": [],
       "metadata": {},
       "removedWidgets": [],
       "type": "html"
      }
     },
     "output_type": "display_data"
    }
   ],
   "source": [
    "from pyspark.sql.functions import *\n",
    "from pyspark.sql.types import *\n",
    "\n",
    "# Drop duplicates\n",
    "df_pin= df_pin_stream_de.dropDuplicates()\n",
    "\n",
    "# Handle empty entires and entries with error\n",
    "# Replace them with \"None\"\n",
    "df_pin_ = df_pin.replace(['', ' ', 'NULL', 'null'], [None] * 4)\n",
    "df_pin = df_pin.withColumn(\"description\", when(col(\"description\") == \"No description available Story format\", None).otherwise(col(\"description\")))\n",
    "df_pin = df_pin.withColumn('follower_count', when(col('follower_count') == 'User Info Error', None).otherwise(col(\"follower_count\")))\n",
    "df_pin = df_pin.withColumn(\"image_src\", when(col(\"image_src\") == \"Image src error.\", None).otherwise(col(\"image_src\")))\n",
    "df_pin = df_pin.withColumn(\"poster_name\", when(col(\"poster_name\") == \"User Info Error\", None).otherwise(col(\"poster_name\")))\n",
    "df_pin = df_pin.withColumn(\"tag_list\", when(col(\"tag_list\") == \"N,o, ,T,a,g,s, ,A,v,a,i,l,a,b,l,e\", None).otherwise(col(\"tag_list\")))\n",
    "df_pin = df_pin_.withColumn(\"title\", when(col(\"title\") == \"No Title Data Available\", None).otherwise(col(\"title\")))\n",
    "\n",
    "# Transform follower_count to ensure every entry is a number\n",
    "# remove non-numeric entries, such that data type is \"int\"\n",
    "df_pin = df_pin.withColumn(\"follower_count\", regexp_replace(col(\"follower_count\"), \"[^0-9]\", \"\"))\n",
    "\n",
    "# Clean the data in the save_location column to include only the save location path\n",
    "df_pin = df_pin.withColumn(\"save_location\", regexp_replace(col(\"save_location\"), \"Local save in \", \"\"))\n",
    "\n",
    "# Rename index to ind (to match the other dfs)\n",
    "df_pin = df_pin.withColumnRenamed(\"index\", \"ind\")\n",
    "\n",
    "# Reorder df columns\n",
    "df_pin = df_pin.select([\"ind\", \"unique_id\", \"title\", \"description\", \"follower_count\", \"poster_name\", \"tag_list\", \"is_image_or_video\", \"image_src\", \"save_location\", \"category\"])\n",
    "\n",
    "display(df_pin)\n"
   ]
  },
  {
   "cell_type": "code",
   "execution_count": 0,
   "metadata": {
    "application/vnd.databricks.v1+cell": {
     "cellMetadata": {
      "byteLimit": 2048000,
      "rowLimit": 10000
     },
     "inputWidgets": {},
     "nuid": "f9f6260d-4579-4d3f-a34e-bfa95ed2fb72",
     "showTitle": true,
     "title": "Cleaning geo dataframe (df_geo_stream_de)"
    }
   },
   "outputs": [
    {
     "output_type": "display_data",
     "data": {
      "text/html": [
       "<style scoped>\n",
       "  .table-result-container {\n",
       "    max-height: 300px;\n",
       "    overflow: auto;\n",
       "  }\n",
       "  table, th, td {\n",
       "    border: 1px solid black;\n",
       "    border-collapse: collapse;\n",
       "  }\n",
       "  th, td {\n",
       "    padding: 5px;\n",
       "  }\n",
       "  th {\n",
       "    text-align: left;\n",
       "  }\n",
       "</style><div class='table-result-container'><table class='table-result'><thead style='background-color: white'><tr><th>ind</th><th>country</th><th>coordinates</th><th>timestamp</th></tr></thead><tbody><tr><td>9812</td><td>Benin</td><td>List(-44.6251, 72.8949)</td><td>2021-11-20T00:08:55.000+0000</td></tr><tr><td>7068</td><td>Aruba</td><td>List(-74.1238, -64.0839)</td><td>2017-10-27T06:07:40.000+0000</td></tr><tr><td>5561</td><td>Bangladesh</td><td>List(-80.6398, -57.7465)</td><td>2022-06-21T20:46:51.000+0000</td></tr><tr><td>6521</td><td>Australia</td><td>List(-82.0198, -155.211)</td><td>2020-05-27T11:27:08.000+0000</td></tr><tr><td>8887</td><td>Botswana</td><td>List(-28.0137, -160.708)</td><td>2021-09-19T05:27:43.000+0000</td></tr><tr><td>771</td><td>Montserrat</td><td>List(-29.1712, -107.111)</td><td>2018-06-21T08:42:57.000+0000</td></tr><tr><td>7586</td><td>Andorra</td><td>List(-84.7363, -179.087)</td><td>2021-02-07T22:17:31.000+0000</td></tr><tr><td>4530</td><td>Angola</td><td>List(3.30986, 6.98283)</td><td>2021-09-10T22:13:57.000+0000</td></tr><tr><td>5763</td><td>Brunei Darussalam</td><td>List(-5.58912, -18.8417)</td><td>2021-10-10T09:15:43.000+0000</td></tr><tr><td>10179</td><td>Algeria</td><td>List(-74.7055, -177.87)</td><td>2019-11-06T05:51:25.000+0000</td></tr><tr><td>5360</td><td>Argentina</td><td>List(-87.2245, -100.213)</td><td>2017-11-04T17:03:23.000+0000</td></tr><tr><td>7891</td><td>Andorra</td><td>List(-89.4584, -134.271)</td><td>2020-05-05T10:10:10.000+0000</td></tr><tr><td>1341</td><td>Albania</td><td>List(-89.9787, -173.293)</td><td>2022-08-11T05:25:33.000+0000</td></tr><tr><td>8745</td><td>Tuvalu</td><td>List(31.6701, -59.7391)</td><td>2020-10-28T03:45:33.000+0000</td></tr><tr><td>2893</td><td>Bermuda</td><td>List(-68.5399, -28.38)</td><td>2018-03-05T04:33:55.000+0000</td></tr><tr><td>2927</td><td>Andorra</td><td>List(-87.1113, -159.587)</td><td>2020-02-14T00:04:58.000+0000</td></tr><tr><td>8834</td><td>Aruba</td><td>List(-83.104, -171.302)</td><td>2018-05-05T18:10:07.000+0000</td></tr><tr><td>5512</td><td>Aruba</td><td>List(-53.7253, -130.413)</td><td>2022-01-15T23:43:09.000+0000</td></tr><tr><td>1473</td><td>Cote d'Ivoire</td><td>List(1.54969, 92.6435)</td><td>2021-08-11T20:54:01.000+0000</td></tr><tr><td>10138</td><td>Austria</td><td>List(-72.142, -74.3545)</td><td>2019-08-03T00:59:29.000+0000</td></tr><tr><td>9074</td><td>Andorra</td><td>List(-84.7363, -179.087)</td><td>2022-04-10T17:06:13.000+0000</td></tr><tr><td>1450</td><td>American Samoa</td><td>List(-88.5252, -172.436)</td><td>2022-01-15T16:04:27.000+0000</td></tr><tr><td>10245</td><td>Bahamas</td><td>List(-50.1835, 146.776)</td><td>2020-03-03T15:39:44.000+0000</td></tr><tr><td>2288</td><td>Anguilla</td><td>List(-89.1797, -174.015)</td><td>2019-11-03T06:08:36.000+0000</td></tr><tr><td>7850</td><td>Vietnam</td><td>List(26.5208, 160.699)</td><td>2022-04-09T15:06:01.000+0000</td></tr><tr><td>1469</td><td>American Samoa</td><td>List(-81.8896, -153.897)</td><td>2018-09-28T00:59:30.000+0000</td></tr><tr><td>10524</td><td>Guinea</td><td>List(-39.0782, -177.418)</td><td>2022-02-09T07:36:35.000+0000</td></tr><tr><td>6660</td><td>Bouvet Island (Bouvetoya)</td><td>List(-54.5264, 73.4883)</td><td>2019-02-01T11:00:19.000+0000</td></tr><tr><td>2970</td><td>Cuba</td><td>List(-75.7236, -156.761)</td><td>2022-06-07T05:58:57.000+0000</td></tr><tr><td>525</td><td>Albania</td><td>List(-89.9787, -173.293)</td><td>2021-07-23T21:18:02.000+0000</td></tr><tr><td>9533</td><td>Antigua and Barbuda</td><td>List(18.632, -179.847)</td><td>2018-07-20T01:00:43.000+0000</td></tr><tr><td>2523</td><td>Guadeloupe</td><td>List(-22.4337, -96.2152)</td><td>2018-07-09T01:36:13.000+0000</td></tr><tr><td>2337</td><td>British Virgin Islands</td><td>List(-87.7946, -159.647)</td><td>2019-08-22T16:11:41.000+0000</td></tr><tr><td>501</td><td>Albania</td><td>List(-88.8298, -170.188)</td><td>2018-11-04T15:42:21.000+0000</td></tr><tr><td>1972</td><td>Antigua and Barbuda</td><td>List(2.58949, 111.716)</td><td>2022-06-19T09:31:02.000+0000</td></tr><tr><td>5405</td><td>Afghanistan</td><td>List(-89.328, -175.555)</td><td>2019-04-05T14:51:19.000+0000</td></tr><tr><td>3717</td><td>Afghanistan</td><td>List(-88.5478, -174.971)</td><td>2019-05-20T06:15:42.000+0000</td></tr><tr><td>8304</td><td>French Guiana</td><td>List(-28.8852, -164.87)</td><td>2019-09-13T04:50:29.000+0000</td></tr><tr><td>33</td><td>Japan</td><td>List(-47.1159, -118.396)</td><td>2018-02-15T21:25:06.000+0000</td></tr><tr><td>6066</td><td>Bolivia</td><td>List(-67.7278, -174.505)</td><td>2019-03-04T01:04:11.000+0000</td></tr><tr><td>7905</td><td>Namibia</td><td>List(-47.8121, -134.015)</td><td>2018-11-13T12:39:43.000+0000</td></tr><tr><td>5620</td><td>Faroe Islands</td><td>List(-53.6087, -121.68)</td><td>2021-02-18T12:34:44.000+0000</td></tr><tr><td>4862</td><td>Czech Republic</td><td>List(-65.3198, -123.45)</td><td>2021-07-17T05:01:31.000+0000</td></tr><tr><td>2334</td><td>Liberia</td><td>List(6.486, -29.3747)</td><td>2018-07-26T13:06:01.000+0000</td></tr><tr><td>3184</td><td>Cape Verde</td><td>List(-41.293, -171.585)</td><td>2018-09-25T23:17:46.000+0000</td></tr><tr><td>2955</td><td>Antigua and Barbuda</td><td>List(23.7768, -23.4838)</td><td>2022-10-11T17:21:06.000+0000</td></tr><tr><td>5166</td><td>Austria</td><td>List(-26.0588, -72.2696)</td><td>2020-01-16T09:56:50.000+0000</td></tr><tr><td>4245</td><td>Afghanistan</td><td>List(-88.5478, -174.971)</td><td>2018-01-24T03:15:26.000+0000</td></tr><tr><td>1066</td><td>Botswana</td><td>List(-54.8354, 39.6735)</td><td>2019-08-29T17:31:37.000+0000</td></tr><tr><td>4816</td><td>Montserrat</td><td>List(-55.559, -64.4094)</td><td>2022-05-12T08:02:36.000+0000</td></tr><tr><td>974</td><td>Svalbard & Jan Mayen Islands</td><td>List(-56.9556, 94.6183)</td><td>2022-03-17T09:24:07.000+0000</td></tr><tr><td>4944</td><td>Bahamas</td><td>List(-48.2064, -176.272)</td><td>2020-07-06T02:24:51.000+0000</td></tr><tr><td>643</td><td>Bulgaria</td><td>List(-87.4992, -177.336)</td><td>2020-06-01T05:58:14.000+0000</td></tr><tr><td>1214</td><td>Qatar</td><td>List(-79.9392, 40.2275)</td><td>2021-03-06T20:54:28.000+0000</td></tr><tr><td>9721</td><td>Singapore</td><td>List(-17.4568, -148.686)</td><td>2021-11-06T19:42:39.000+0000</td></tr><tr><td>5959</td><td>Cyprus</td><td>List(-44.9016, -17.5192)</td><td>2020-08-10T01:00:33.000+0000</td></tr><tr><td>334</td><td>Solomon Islands</td><td>List(-42.0076, 32.8769)</td><td>2021-11-06T04:13:00.000+0000</td></tr><tr><td>6341</td><td>Andorra</td><td>List(-81.6697, -149.084)</td><td>2018-05-22T07:07:24.000+0000</td></tr><tr><td>8926</td><td>Lesotho</td><td>List(43.0814, -91.8318)</td><td>2019-10-28T22:24:31.000+0000</td></tr><tr><td>4922</td><td>Aruba</td><td>List(-82.0592, -92.7514)</td><td>2018-05-15T10:56:08.000+0000</td></tr><tr><td>3349</td><td>Cameroon</td><td>List(-84.7767, -155.835)</td><td>2022-01-09T07:39:35.000+0000</td></tr><tr><td>3260</td><td>Albania</td><td>List(-89.3675, -157.004)</td><td>2019-10-23T19:52:59.000+0000</td></tr><tr><td>7510</td><td>Aruba</td><td>List(-79.9828, -172.235)</td><td>2021-12-21T01:37:25.000+0000</td></tr><tr><td>8677</td><td>Bouvet Island (Bouvetoya)</td><td>List(-84.3984, -144.933)</td><td>2020-02-12T23:24:01.000+0000</td></tr><tr><td>7240</td><td>Albania</td><td>List(-89.9787, -173.293)</td><td>2022-05-31T21:23:46.000+0000</td></tr><tr><td>7896</td><td>Bulgaria</td><td>List(-64.1231, -164.904)</td><td>2020-06-02T13:49:36.000+0000</td></tr><tr><td>456</td><td>French Guiana</td><td>List(-63.2737, -163.515)</td><td>2018-05-17T18:00:51.000+0000</td></tr><tr><td>307</td><td>Angola</td><td>List(26.8027, 43.1265)</td><td>2018-01-25T00:55:00.000+0000</td></tr><tr><td>4348</td><td>Bouvet Island (Bouvetoya)</td><td>List(-81.2924, -145.407)</td><td>2019-04-06T17:59:09.000+0000</td></tr><tr><td>9546</td><td>Austria</td><td>List(-70.0295, -155.428)</td><td>2018-02-10T06:16:40.000+0000</td></tr><tr><td>10370</td><td>Finland</td><td>List(-81.9798, -71.932)</td><td>2018-07-29T15:53:40.000+0000</td></tr><tr><td>1137</td><td>Seychelles</td><td>List(12.2544, 10.7361)</td><td>2020-12-26T00:56:04.000+0000</td></tr><tr><td>5159</td><td>Albania</td><td>List(-62.7034, -114.366)</td><td>2021-08-26T08:03:46.000+0000</td></tr><tr><td>8889</td><td>Iran</td><td>List(-77.4233, -174.444)</td><td>2022-10-09T05:28:20.000+0000</td></tr><tr><td>3266</td><td>Samoa</td><td>List(43.6716, 160.165)</td><td>2019-02-09T14:23:13.000+0000</td></tr><tr><td>5044</td><td>Austria</td><td>List(-89.1633, -159.957)</td><td>2022-08-28T14:19:24.000+0000</td></tr><tr><td>1776</td><td>Australia</td><td>List(-54.0745, -21.3922)</td><td>2018-11-02T18:29:02.000+0000</td></tr><tr><td>9475</td><td>Panama</td><td>List(-84.1953, 164.362)</td><td>2019-03-19T08:26:35.000+0000</td></tr><tr><td>3240</td><td>Angola</td><td>List(-24.2386, -165.309)</td><td>2022-06-10T09:36:51.000+0000</td></tr><tr><td>10479</td><td>Armenia</td><td>List(-82.9685, -178.095)</td><td>2019-03-06T19:31:55.000+0000</td></tr><tr><td>8505</td><td>New Zealand</td><td>List(63.1367, -61.1867)</td><td>2018-07-13T22:57:41.000+0000</td></tr><tr><td>9530</td><td>Guinea-Bissau</td><td>List(-22.5949, -65.081)</td><td>2021-06-20T12:16:53.000+0000</td></tr><tr><td>3710</td><td>Greenland</td><td>List(73.3141, 168.921)</td><td>2018-11-05T01:18:53.000+0000</td></tr><tr><td>10271</td><td>Ethiopia</td><td>List(39.243, 125.621)</td><td>2021-06-05T12:37:05.000+0000</td></tr><tr><td>9307</td><td>Albania</td><td>List(-88.8298, -170.188)</td><td>2018-05-05T18:51:37.000+0000</td></tr><tr><td>5076</td><td>Germany</td><td>List(-70.7195, -91.1935)</td><td>2019-05-05T16:22:23.000+0000</td></tr><tr><td>7234</td><td>Algeria</td><td>List(-86.4791, -169.547)</td><td>2017-10-21T14:31:02.000+0000</td></tr><tr><td>2172</td><td>Botswana</td><td>List(9.88473, -160.515)</td><td>2022-05-19T04:02:52.000+0000</td></tr><tr><td>7950</td><td>Romania</td><td>List(76.0609, -60.6718)</td><td>2017-10-23T12:34:22.000+0000</td></tr><tr><td>9936</td><td>Australia</td><td>List(-82.1715, -147.691)</td><td>2018-06-30T22:07:13.000+0000</td></tr><tr><td>3011</td><td>Kuwait</td><td>List(-76.4675, 28.8054)</td><td>2019-12-17T17:46:18.000+0000</td></tr><tr><td>3008</td><td>Venezuela</td><td>List(0.314337, -58.7666)</td><td>2019-07-31T22:36:11.000+0000</td></tr><tr><td>4590</td><td>Faroe Islands</td><td>List(-70.8231, 62.688)</td><td>2021-12-15T01:16:31.000+0000</td></tr><tr><td>10156</td><td>Somalia</td><td>List(-16.9412, -35.1592)</td><td>2019-03-08T14:42:14.000+0000</td></tr><tr><td>7166</td><td>Aruba</td><td>List(-86.4063, -136.657)</td><td>2022-07-25T03:07:37.000+0000</td></tr><tr><td>74</td><td>Antigua and Barbuda</td><td>List(-81.0108, -165.206)</td><td>2020-01-29T14:03:35.000+0000</td></tr><tr><td>9355</td><td>Niue</td><td>List(24.2826, -7.25448)</td><td>2021-04-16T13:44:16.000+0000</td></tr><tr><td>3164</td><td>Bolivia</td><td>List(-44.6381, 82.124)</td><td>2018-04-25T18:32:49.000+0000</td></tr><tr><td>7539</td><td>Aruba</td><td>List(-86.4063, -136.657)</td><td>2020-09-05T06:26:33.000+0000</td></tr><tr><td>1308</td><td>Cape Verde</td><td>List(-84.8196, -76.5704)</td><td>2021-05-24T13:17:12.000+0000</td></tr><tr><td>6834</td><td>Nauru</td><td>List(-60.0697, -109.639)</td><td>2019-08-25T15:54:59.000+0000</td></tr><tr><td>7790</td><td>Papua New Guinea</td><td>List(-43.692, 64.9839)</td><td>2018-07-31T08:19:15.000+0000</td></tr><tr><td>1487</td><td>Denmark</td><td>List(6.23029, -75.5939)</td><td>2021-05-15T18:23:45.000+0000</td></tr><tr><td>896</td><td>Malta</td><td>List(-57.9836, -31.5589)</td><td>2018-10-20T13:23:05.000+0000</td></tr><tr><td>222</td><td>Lesotho</td><td>List(43.8747, -54.895)</td><td>2021-12-13T19:14:15.000+0000</td></tr><tr><td>3226</td><td>Andorra</td><td>List(-87.1113, -159.587)</td><td>2020-07-26T13:44:36.000+0000</td></tr><tr><td>6963</td><td>Algeria</td><td>List(-86.4791, -169.547)</td><td>2018-02-08T03:20:50.000+0000</td></tr><tr><td>3317</td><td>Austria</td><td>List(46.9331, -84.3072)</td><td>2022-06-14T00:25:02.000+0000</td></tr><tr><td>1857</td><td>Libyan Arab Jamahiriya</td><td>List(21.2186, -40.6656)</td><td>2018-05-10T13:51:40.000+0000</td></tr><tr><td>9335</td><td>Antarctica (the territory South of 60 deg S)</td><td>List(-88.4642, -171.061)</td><td>2020-11-14T23:42:22.000+0000</td></tr><tr><td>7769</td><td>Algeria</td><td>List(-89.5173, -179.689)</td><td>2019-05-27T20:40:51.000+0000</td></tr><tr><td>3630</td><td>Australia</td><td>List(34.7482, -114.021)</td><td>2021-06-15T15:10:50.000+0000</td></tr><tr><td>719</td><td>Armenia</td><td>List(-38.4062, -154.323)</td><td>2018-10-29T04:05:12.000+0000</td></tr><tr><td>603</td><td>Netherlands Antilles</td><td>List(14.0083, -141.603)</td><td>2019-06-25T05:13:01.000+0000</td></tr><tr><td>10120</td><td>Isle of Man</td><td>List(-55.1562, -122.854)</td><td>2022-03-10T07:02:32.000+0000</td></tr><tr><td>4780</td><td>Maldives</td><td>List(-85.4758, -166.172)</td><td>2020-10-25T17:29:49.000+0000</td></tr><tr><td>7785</td><td>Lebanon</td><td>List(-72.7111, -162.159)</td><td>2020-02-24T05:42:00.000+0000</td></tr><tr><td>3480</td><td>American Samoa</td><td>List(-89.3099, -166.033)</td><td>2018-04-10T08:49:49.000+0000</td></tr><tr><td>4271</td><td>Armenia</td><td>List(-44.7118, -74.3034)</td><td>2021-01-02T01:56:52.000+0000</td></tr><tr><td>5365</td><td>Botswana</td><td>List(-87.476, -163.419)</td><td>2020-10-07T01:28:01.000+0000</td></tr><tr><td>1699</td><td>Canada</td><td>List(-54.3706, -127.783)</td><td>2022-07-03T13:25:48.000+0000</td></tr><tr><td>3878</td><td>Bhutan</td><td>List(36.8347, -14.0135)</td><td>2022-06-06T16:05:13.000+0000</td></tr><tr><td>1570</td><td>India</td><td>List(26.005, 16.2163)</td><td>2020-02-28T17:19:16.000+0000</td></tr><tr><td>4333</td><td>Andorra</td><td>List(-79.0404, -143.074)</td><td>2022-07-24T11:42:30.000+0000</td></tr><tr><td>2315</td><td>Guinea-Bissau</td><td>List(17.806, -1.9042)</td><td>2019-06-05T08:54:04.000+0000</td></tr><tr><td>3896</td><td>Afghanistan</td><td>List(-88.5478, -174.971)</td><td>2020-10-01T22:49:42.000+0000</td></tr><tr><td>6633</td><td>Guyana</td><td>List(86.8189, -91.7252)</td><td>2018-09-02T10:13:09.000+0000</td></tr><tr><td>4424</td><td>Afghanistan</td><td>List(-85.7989, -150.644)</td><td>2021-05-18T02:48:52.000+0000</td></tr><tr><td>5402</td><td>Brazil</td><td>List(-27.1791, -159.955)</td><td>2022-07-22T12:40:32.000+0000</td></tr><tr><td>2267</td><td>Bolivia</td><td>List(-77.4732, -161.087)</td><td>2019-07-15T08:01:36.000+0000</td></tr><tr><td>7383</td><td>Ecuador</td><td>List(-55.757, -157.572)</td><td>2022-01-28T15:36:36.000+0000</td></tr><tr><td>2465</td><td>Bouvet Island (Bouvetoya)</td><td>List(-57.1033, -29.6301)</td><td>2022-07-23T11:15:09.000+0000</td></tr><tr><td>2095</td><td>Nigeria</td><td>List(27.5545, -5.30833)</td><td>2022-09-13T08:48:27.000+0000</td></tr><tr><td>4489</td><td>Brazil</td><td>List(55.3371, -29.5545)</td><td>2022-03-27T21:48:39.000+0000</td></tr><tr><td>1821</td><td>Belgium</td><td>List(-42.9967, -111.616)</td><td>2020-08-29T00:40:44.000+0000</td></tr><tr><td>7596</td><td>Albania</td><td>List(-87.2, -177.109)</td><td>2022-09-03T15:27:36.000+0000</td></tr><tr><td>1422</td><td>American Samoa</td><td>List(-88.5252, -172.436)</td><td>2018-04-30T08:27:21.000+0000</td></tr><tr><td>3436</td><td>Belize</td><td>List(-35.194, -115.253)</td><td>2022-05-31T23:26:11.000+0000</td></tr><tr><td>4396</td><td>Norfolk Island</td><td>List(15.0521, 51.8958)</td><td>2021-03-18T10:05:16.000+0000</td></tr><tr><td>6276</td><td>Costa Rica</td><td>List(-25.6124, -79.4675)</td><td>2022-04-02T10:32:04.000+0000</td></tr><tr><td>6264</td><td>Finland</td><td>List(-72.5021, -128.903)</td><td>2019-06-09T00:01:11.000+0000</td></tr><tr><td>2074</td><td>Central African Republic</td><td>List(-52.3213, -50.11)</td><td>2019-11-03T05:41:59.000+0000</td></tr><tr><td>778</td><td>Guatemala</td><td>List(48.2704, -123.073)</td><td>2018-10-19T14:43:39.000+0000</td></tr><tr><td>10600</td><td>Bermuda</td><td>List(68.9357, 122.338)</td><td>2020-12-31T07:05:04.000+0000</td></tr><tr><td>4931</td><td>Honduras</td><td>List(42.2143, -45.0378)</td><td>2020-03-27T07:42:02.000+0000</td></tr><tr><td>8731</td><td>Aruba</td><td>List(-83.104, -171.302)</td><td>2020-07-17T04:39:09.000+0000</td></tr><tr><td>7718</td><td>United States Virgin Islands</td><td>List(-21.4347, 108.416)</td><td>2022-08-10T06:57:29.000+0000</td></tr><tr><td>5796</td><td>Afghanistan</td><td>List(-89.328, -175.555)</td><td>2020-09-01T12:47:49.000+0000</td></tr><tr><td>6705</td><td>Aruba</td><td>List(-86.2476, -171.577)</td><td>2021-03-19T16:31:21.000+0000</td></tr><tr><td>3647</td><td>American Samoa</td><td>List(-89.3099, -166.033)</td><td>2018-11-27T04:18:51.000+0000</td></tr><tr><td>4757</td><td>Christmas Island</td><td>List(-79.9806, -112.824)</td><td>2019-12-13T12:56:24.000+0000</td></tr><tr><td>8323</td><td>Albania</td><td>List(-89.9787, -173.293)</td><td>2017-11-07T21:37:37.000+0000</td></tr><tr><td>5117</td><td>Azerbaijan</td><td>List(-45.4254, -178.805)</td><td>2018-07-31T04:06:21.000+0000</td></tr><tr><td>3454</td><td>Cambodia</td><td>List(-0.375174, 49.8106)</td><td>2021-07-25T02:20:29.000+0000</td></tr><tr><td>5630</td><td>Bahrain</td><td>List(-19.1403, -164.987)</td><td>2019-05-12T14:43:19.000+0000</td></tr><tr><td>1362</td><td>Ghana</td><td>List(48.3704, 92.28)</td><td>2022-07-20T05:38:18.000+0000</td></tr><tr><td>3052</td><td>Cape Verde</td><td>List(-41.293, -171.585)</td><td>2020-12-16T19:51:57.000+0000</td></tr><tr><td>9950</td><td>Belarus</td><td>List(-22.3693, -133.483)</td><td>2020-01-14T04:36:41.000+0000</td></tr><tr><td>4210</td><td>Brunei Darussalam</td><td>List(67.6263, -102.631)</td><td>2021-08-26T11:24:35.000+0000</td></tr><tr><td>8352</td><td>Georgia</td><td>List(-79.019, -39.4996)</td><td>2022-10-09T10:47:24.000+0000</td></tr><tr><td>5003</td><td>Azerbaijan</td><td>List(-89.3669, -170.886)</td><td>2021-11-23T21:14:44.000+0000</td></tr><tr><td>8081</td><td>Egypt</td><td>List(-33.8238, -129.18)</td><td>2022-03-25T07:42:29.000+0000</td></tr><tr><td>10087</td><td>Cayman Islands</td><td>List(38.7097, -70.0495)</td><td>2018-12-10T17:17:32.000+0000</td></tr><tr><td>7446</td><td>Korea</td><td>List(-79.3098, -179.101)</td><td>2021-10-08T07:48:05.000+0000</td></tr><tr><td>6181</td><td>Argentina</td><td>List(-89.63, -179.022)</td><td>2022-08-18T21:20:00.000+0000</td></tr><tr><td>7370</td><td>Saint Pierre and Miquelon</td><td>List(-24.2107, 138.463)</td><td>2018-04-05T08:02:42.000+0000</td></tr><tr><td>6740</td><td>Saint Pierre and Miquelon</td><td>List(-19.6583, 90.4449)</td><td>2022-09-29T22:58:19.000+0000</td></tr><tr><td>570</td><td>American Samoa</td><td>List(-86.4433, -178.772)</td><td>2019-05-21T00:12:37.000+0000</td></tr><tr><td>9455</td><td>British Indian Ocean Territory (Chagos Archipelago)</td><td>List(-82.9272, -150.346)</td><td>2022-03-15T01:46:32.000+0000</td></tr><tr><td>3201</td><td>Pitcairn Islands</td><td>List(34.0532, -68.4946)</td><td>2019-06-25T08:31:37.000+0000</td></tr><tr><td>10099</td><td>Afghanistan</td><td>List(-89.4261, -171.58)</td><td>2020-12-24T13:33:03.000+0000</td></tr><tr><td>9270</td><td>Bouvet Island (Bouvetoya)</td><td>List(-84.3984, -144.933)</td><td>2022-05-23T03:24:24.000+0000</td></tr><tr><td>7271</td><td>Equatorial Guinea</td><td>List(37.8447, -98.2389)</td><td>2022-06-02T07:28:41.000+0000</td></tr><tr><td>4500</td><td>Aruba</td><td>List(-84.3768, -157.544)</td><td>2020-09-12T03:16:36.000+0000</td></tr><tr><td>4137</td><td>Australia</td><td>List(-55.3079, 108.918)</td><td>2019-06-23T22:16:34.000+0000</td></tr><tr><td>9759</td><td>American Samoa</td><td>List(-77.9744, -106.258)</td><td>2017-12-30T13:05:49.000+0000</td></tr><tr><td>6747</td><td>Saint Barthelemy</td><td>List(-63.5213, 141.538)</td><td>2019-04-23T08:01:32.000+0000</td></tr><tr><td>3177</td><td>Belize</td><td>List(-89.6778, -169.798)</td><td>2022-04-30T12:13:28.000+0000</td></tr><tr><td>4913</td><td>Aruba</td><td>List(-84.3768, -157.544)</td><td>2019-03-08T06:45:39.000+0000</td></tr><tr><td>10347</td><td>Macao</td><td>List(83.9534, -3.36801)</td><td>2021-08-03T13:04:40.000+0000</td></tr><tr><td>6503</td><td>Hong Kong</td><td>List(42.8093, -33.7894)</td><td>2019-09-01T18:43:30.000+0000</td></tr><tr><td>3813</td><td>Georgia</td><td>List(-26.2917, -29.1171)</td><td>2020-06-15T09:37:48.000+0000</td></tr><tr><td>781</td><td>American Samoa</td><td>List(-86.4433, -178.772)</td><td>2021-02-27T23:30:48.000+0000</td></tr><tr><td>2418</td><td>Antarctica (the territory South of 60 deg S)</td><td>List(-88.4642, -171.061)</td><td>2022-05-27T11:30:59.000+0000</td></tr><tr><td>8449</td><td>Algeria</td><td>List(-89.5173, -179.689)</td><td>2022-05-19T10:06:47.000+0000</td></tr><tr><td>2422</td><td>Kuwait</td><td>List(-31.8074, -169.911)</td><td>2022-01-11T01:24:46.000+0000</td></tr><tr><td>8511</td><td>Algeria</td><td>List(86.5503, -175.518)</td><td>2021-11-09T14:40:16.000+0000</td></tr><tr><td>9653</td><td>Swaziland</td><td>List(-8.51096, 48.4678)</td><td>2018-10-04T15:17:55.000+0000</td></tr><tr><td>6916</td><td>Solomon Islands</td><td>List(-73.9714, -119.315)</td><td>2020-04-26T04:12:09.000+0000</td></tr><tr><td>8237</td><td>Algeria</td><td>List(-89.5173, -179.689)</td><td>2021-07-08T05:55:06.000+0000</td></tr><tr><td>4849</td><td>Andorra</td><td>List(-24.3729, 12.2542)</td><td>2022-05-29T04:11:06.000+0000</td></tr><tr><td>5742</td><td>Jamaica</td><td>List(-73.4926, -61.56)</td><td>2020-09-02T01:40:18.000+0000</td></tr><tr><td>995</td><td>Moldova</td><td>List(-88.0923, -179.319)</td><td>2022-09-22T12:17:57.000+0000</td></tr><tr><td>1814</td><td>Bangladesh</td><td>List(-82.3274, -122.209)</td><td>2020-04-25T10:16:28.000+0000</td></tr><tr><td>6781</td><td>Norfolk Island</td><td>List(63.0387, -69.2727)</td><td>2021-02-02T21:27:49.000+0000</td></tr><tr><td>2411</td><td>Albania</td><td>List(-71.6856, -179.126)</td><td>2020-11-15T17:10:07.000+0000</td></tr><tr><td>310</td><td>Antigua and Barbuda</td><td>List(-81.0108, -165.206)</td><td>2021-01-25T22:22:37.000+0000</td></tr><tr><td>867</td><td>Lesotho</td><td>List(43.8747, -54.895)</td><td>2020-10-06T15:34:55.000+0000</td></tr><tr><td>5162</td><td>Antarctica (the territory South of 60 deg S)</td><td>List(-71.6607, -149.206)</td><td>2019-09-27T19:06:43.000+0000</td></tr><tr><td>4357</td><td>Bahamas</td><td>List(-75.4909, -179.908)</td><td>2020-03-06T09:56:43.000+0000</td></tr><tr><td>4115</td><td>Aruba</td><td>List(-87.2086, -172.058)</td><td>2022-08-23T06:13:19.000+0000</td></tr><tr><td>6878</td><td>Algeria</td><td>List(-86.4791, -169.547)</td><td>2019-03-18T04:11:07.000+0000</td></tr><tr><td>1205</td><td>Bhutan</td><td>List(-89.4241, -133.328)</td><td>2022-05-18T07:01:16.000+0000</td></tr><tr><td>10371</td><td>Bahamas</td><td>List(44.5638, 101.933)</td><td>2017-12-17T12:54:54.000+0000</td></tr><tr><td>2780</td><td>Guinea</td><td>List(20.7163, 118.461)</td><td>2021-03-27T04:26:37.000+0000</td></tr><tr><td>5231</td><td>Czech Republic</td><td>List(-84.8278, -4.7503)</td><td>2021-01-03T15:19:31.000+0000</td></tr><tr><td>1179</td><td>Cameroon</td><td>List(-24.8281, -138.237)</td><td>2018-11-24T03:50:34.000+0000</td></tr><tr><td>2447</td><td>Puerto Rico</td><td>List(-53.9666, -0.87653)</td><td>2021-11-27T04:12:27.000+0000</td></tr><tr><td>4050</td><td>Aruba</td><td>List(-61.471, -154.912)</td><td>2021-05-06T22:25:37.000+0000</td></tr><tr><td>232</td><td>Tanzania</td><td>List(6.60912, -173.609)</td><td>2019-02-18T03:38:47.000+0000</td></tr><tr><td>744</td><td>New Caledonia</td><td>List(-76.8074, 58.7517)</td><td>2019-08-28T15:03:13.000+0000</td></tr><tr><td>2343</td><td>Brazil</td><td>List(60.6981, -79.5945)</td><td>2019-10-15T13:21:45.000+0000</td></tr><tr><td>3259</td><td>Albania</td><td>List(-85.7359, -161.599)</td><td>2020-01-12T04:39:05.000+0000</td></tr><tr><td>250</td><td>France</td><td>List(-84.4203, -142.539)</td><td>2018-11-08T12:14:12.000+0000</td></tr><tr><td>4024</td><td>Aruba</td><td>List(-61.471, -154.912)</td><td>2019-10-19T10:03:03.000+0000</td></tr><tr><td>6134</td><td>Austria</td><td>List(-68.8136, -128.482)</td><td>2022-04-03T12:34:59.000+0000</td></tr><tr><td>5130</td><td>Grenada</td><td>List(-86.6858, -160.5)</td><td>2020-10-24T23:43:15.000+0000</td></tr><tr><td>10931</td><td>Armenia</td><td>List(-82.9685, -178.095)</td><td>2021-03-20T06:14:31.000+0000</td></tr><tr><td>1514</td><td>Korea</td><td>List(88.2631, 96.2413)</td><td>2022-02-12T20:43:15.000+0000</td></tr><tr><td>428</td><td>Bangladesh</td><td>List(-83.4105, -150.788)</td><td>2020-09-27T18:46:41.000+0000</td></tr><tr><td>1706</td><td>Aruba</td><td>List(-71.5025, -179.257)</td><td>2017-11-24T23:36:46.000+0000</td></tr><tr><td>10783</td><td>Afghanistan</td><td>List(-71.4881, -117.355)</td><td>2020-01-28T00:13:29.000+0000</td></tr><tr><td>2946</td><td>Maldives</td><td>List(-89.8559, -170.155)</td><td>2020-09-26T03:51:16.000+0000</td></tr><tr><td>8162</td><td>Algeria</td><td>List(-74.408, -178.774)</td><td>2020-07-22T06:56:03.000+0000</td></tr><tr><td>1701</td><td>Malta</td><td>List(11.8752, 72.5547)</td><td>2018-04-08T20:12:32.000+0000</td></tr><tr><td>9672</td><td>India</td><td>List(79.4658, -69.4133)</td><td>2019-11-03T13:15:52.000+0000</td></tr><tr><td>10883</td><td>Aruba</td><td>List(-53.423, -59.3144)</td><td>2020-07-25T13:21:12.000+0000</td></tr><tr><td>4080</td><td>Singapore</td><td>List(73.853, 15.7012)</td><td>2021-03-30T19:39:22.000+0000</td></tr><tr><td>10253</td><td>Azerbaijan</td><td>List(-89.3669, -170.886)</td><td>2018-03-07T12:37:25.000+0000</td></tr><tr><td>7283</td><td>Albania</td><td>List(-89.9787, -173.293)</td><td>2022-08-23T00:58:33.000+0000</td></tr><tr><td>859</td><td>Romania</td><td>List(89.8261, 48.2256)</td><td>2020-04-07T19:23:24.000+0000</td></tr><tr><td>6348</td><td>Bangladesh</td><td>List(-76.8013, -28.1091)</td><td>2019-07-30T01:45:14.000+0000</td></tr><tr><td>10050</td><td>Malawi</td><td>List(-62.2012, -115.461)</td><td>2018-09-23T01:54:04.000+0000</td></tr><tr><td>3632</td><td>Armenia</td><td>List(-44.7118, -74.3034)</td><td>2021-11-28T14:55:54.000+0000</td></tr><tr><td>8282</td><td>Afghanistan</td><td>List(-87.8179, -178.525)</td><td>2022-10-11T08:19:45.000+0000</td></tr><tr><td>1719</td><td>Andorra</td><td>List(24.3613, -26.1229)</td><td>2022-06-01T06:43:11.000+0000</td></tr><tr><td>1503</td><td>Armenia</td><td>List(-74.225, -178.59)</td><td>2019-08-18T05:34:11.000+0000</td></tr><tr><td>5155</td><td>Congo</td><td>List(-72.6034, -163.176)</td><td>2018-06-07T06:28:37.000+0000</td></tr><tr><td>8300</td><td>Chile</td><td>List(-64.5259, 19.7049)</td><td>2018-02-14T23:50:10.000+0000</td></tr><tr><td>5911</td><td>Dominican Republic</td><td>List(-63.6774, -118.407)</td><td>2020-11-04T03:19:21.000+0000</td></tr><tr><td>4857</td><td>Azerbaijan</td><td>List(-39.5852, -175.96)</td><td>2022-09-14T00:06:18.000+0000</td></tr><tr><td>3843</td><td>Jamaica</td><td>List(-65.1524, -18.7344)</td><td>2019-09-20T23:22:44.000+0000</td></tr><tr><td>365</td><td>Ghana</td><td>List(64.583, 15.9277)</td><td>2020-07-22T01:36:17.000+0000</td></tr><tr><td>6575</td><td>Dominican Republic</td><td>List(81.7192, 61.5152)</td><td>2020-12-29T22:59:37.000+0000</td></tr><tr><td>4398</td><td>Greece</td><td>List(-67.8237, 17.7927)</td><td>2018-12-03T03:33:45.000+0000</td></tr><tr><td>8732</td><td>United States of America</td><td>List(85.718, -25.2438)</td><td>2022-03-06T12:41:07.000+0000</td></tr><tr><td>831</td><td>Congo</td><td>List(-43.7816, -66.1592)</td><td>2021-06-23T23:16:10.000+0000</td></tr><tr><td>3599</td><td>Afghanistan</td><td>List(-88.5478, -174.971)</td><td>2019-03-03T06:13:41.000+0000</td></tr><tr><td>7874</td><td>Algeria</td><td>List(-89.5173, -179.689)</td><td>2022-01-18T08:58:49.000+0000</td></tr><tr><td>3824</td><td>British Virgin Islands</td><td>List(-82.4276, -170.019)</td><td>2018-10-28T19:22:34.000+0000</td></tr><tr><td>10137</td><td>Armenia</td><td>List(-50.8998, -112.455)</td><td>2021-05-03T17:23:40.000+0000</td></tr><tr><td>9550</td><td>British Virgin Islands</td><td>List(-84.918, 7.23235)</td><td>2022-03-23T00:25:45.000+0000</td></tr><tr><td>7183</td><td>Finland</td><td>List(-31.7091, 50.1784)</td><td>2020-04-18T00:06:06.000+0000</td></tr><tr><td>9941</td><td>Aruba</td><td>List(-53.7253, -130.413)</td><td>2021-09-22T02:20:21.000+0000</td></tr><tr><td>6398</td><td>Albania</td><td>List(-3.29267, -179.726)</td><td>2020-01-19T01:49:05.000+0000</td></tr><tr><td>1667</td><td>Bangladesh</td><td>List(-83.448, -147.771)</td><td>2022-02-23T16:10:08.000+0000</td></tr><tr><td>4186</td><td>Falkland Islands (Malvinas)</td><td>List(-72.0557, -5.16099)</td><td>2018-09-10T12:52:21.000+0000</td></tr><tr><td>3688</td><td>Montserrat</td><td>List(-64.6183, -173.527)</td><td>2020-12-01T08:22:49.000+0000</td></tr><tr><td>8277</td><td>Switzerland</td><td>List(40.4887, -39.9694)</td><td>2021-10-25T06:21:53.000+0000</td></tr><tr><td>6333</td><td>Yemen</td><td>List(69.6593, 173.413)</td><td>2021-05-09T03:29:56.000+0000</td></tr><tr><td>7500</td><td>Albania</td><td>List(56.5828, -165.941)</td><td>2021-08-08T15:30:48.000+0000</td></tr><tr><td>2553</td><td>Bosnia and Herzegovina</td><td>List(-77.5565, -152.042)</td><td>2022-01-05T11:05:38.000+0000</td></tr><tr><td>9146</td><td>Argentina</td><td>List(-89.4739, -176.154)</td><td>2018-08-08T16:20:34.000+0000</td></tr><tr><td>1263</td><td>Armenia</td><td>List(-74.225, -178.59)</td><td>2022-07-02T14:50:03.000+0000</td></tr><tr><td>4936</td><td>Cambodia</td><td>List(-20.2655, -163.485)</td><td>2019-06-04T23:30:11.000+0000</td></tr><tr><td>10154</td><td>Chile</td><td>List(89.5057, -36.5702)</td><td>2022-04-06T21:26:45.000+0000</td></tr><tr><td>4327</td><td>Bahrain</td><td>List(43.4514, 121.584)</td><td>2017-11-02T02:56:00.000+0000</td></tr><tr><td>6145</td><td>Mozambique</td><td>List(-65.9079, -143.845)</td><td>2019-12-05T02:09:44.000+0000</td></tr><tr><td>5758</td><td>Azerbaijan</td><td>List(-79.3714, -145.242)</td><td>2018-09-12T15:08:34.000+0000</td></tr><tr><td>10917</td><td>Solomon Islands</td><td>List(-86.2944, -11.7821)</td><td>2019-08-18T13:14:30.000+0000</td></tr><tr><td>1881</td><td>Uganda</td><td>List(10.6188, 103.231)</td><td>2018-03-26T06:09:13.000+0000</td></tr><tr><td>6453</td><td>Angola</td><td>List(-81.0982, -151.289)</td><td>2020-11-30T02:46:39.000+0000</td></tr><tr><td>8941</td><td>Argentina</td><td>List(-89.4739, -176.154)</td><td>2019-01-11T22:37:24.000+0000</td></tr><tr><td>4076</td><td>Mauritania</td><td>List(-67.2157, 27.8139)</td><td>2019-06-07T20:13:50.000+0000</td></tr><tr><td>7641</td><td>Albania</td><td>List(-87.2, -177.109)</td><td>2021-09-28T13:56:50.000+0000</td></tr><tr><td>1254</td><td>Latvia</td><td>List(76.9735, -178.147)</td><td>2021-06-08T18:40:59.000+0000</td></tr><tr><td>8090</td><td>Algeria</td><td>List(-89.5173, -179.689)</td><td>2019-04-18T00:54:25.000+0000</td></tr><tr><td>9808</td><td>American Samoa</td><td>List(-77.9744, -106.258)</td><td>2018-02-27T14:43:59.000+0000</td></tr><tr><td>9482</td><td>Rwanda</td><td>List(80.272, -7.54919)</td><td>2022-08-13T15:19:04.000+0000</td></tr><tr><td>7039</td><td>Belize</td><td>List(-77.5336, -161.068)</td><td>2020-09-20T18:21:13.000+0000</td></tr><tr><td>9054</td><td>Aruba</td><td>List(-83.104, -171.302)</td><td>2020-05-18T01:31:05.000+0000</td></tr><tr><td>9223</td><td>Aruba</td><td>List(-83.104, -171.302)</td><td>2022-08-22T03:36:20.000+0000</td></tr><tr><td>223</td><td>Isle of Man</td><td>List(1.15509, -118.397)</td><td>2018-12-07T07:30:40.000+0000</td></tr><tr><td>7738</td><td>Comoros</td><td>List(66.8478, 22.777)</td><td>2017-11-12T03:45:21.000+0000</td></tr><tr><td>6865</td><td>Algeria</td><td>List(-70.3363, -42.7487)</td><td>2020-05-15T16:04:18.000+0000</td></tr><tr><td>7631</td><td>Heard Island and McDonald Islands</td><td>List(54.4122, 130.428)</td><td>2021-12-15T22:42:25.000+0000</td></tr><tr><td>3556</td><td>Andorra</td><td>List(-88.0812, -166.603)</td><td>2022-02-05T02:03:08.000+0000</td></tr><tr><td>1967</td><td>Australia</td><td>List(32.74, -179.581)</td><td>2021-02-05T10:37:28.000+0000</td></tr><tr><td>7162</td><td>Latvia</td><td>List(-62.1814, -161.34)</td><td>2017-12-16T03:09:45.000+0000</td></tr><tr><td>8004</td><td>French Polynesia</td><td>List(44.8017, -151.313)</td><td>2017-10-20T09:27:16.000+0000</td></tr><tr><td>7093</td><td>Nicaragua</td><td>List(-11.9605, 92.2728)</td><td>2022-06-06T14:11:52.000+0000</td></tr><tr><td>1864</td><td>Algeria</td><td>List(-72.3958, -164.414)</td><td>2020-04-24T17:08:13.000+0000</td></tr><tr><td>4256</td><td>Afghanistan</td><td>List(-88.5478, -174.971)</td><td>2018-10-10T17:57:16.000+0000</td></tr><tr><td>8488</td><td>Argentina</td><td>List(-89.4739, -176.154)</td><td>2017-12-20T03:09:10.000+0000</td></tr><tr><td>1024</td><td>Congo</td><td>List(-35.9989, -107.383)</td><td>2020-03-11T02:37:45.000+0000</td></tr><tr><td>9099</td><td>Andorra</td><td>List(-73.8268, -159.056)</td><td>2017-12-24T21:03:56.000+0000</td></tr><tr><td>6682</td><td>Korea</td><td>List(-5.04594, 28.0201)</td><td>2019-02-10T06:51:48.000+0000</td></tr><tr><td>10663</td><td>Saint Kitts and Nevis</td><td>List(-27.3474, -162.83)</td><td>2019-07-25T18:53:51.000+0000</td></tr><tr><td>9903</td><td>Egypt</td><td>List(-73.556, 44.511)</td><td>2019-05-12T08:33:31.000+0000</td></tr><tr><td>2060</td><td>Trinidad and Tobago</td><td>List(52.4584, 68.6527)</td><td>2020-01-25T13:54:17.000+0000</td></tr><tr><td>5198</td><td>Croatia</td><td>List(-13.8028, -160.846)</td><td>2020-10-21T11:13:53.000+0000</td></tr><tr><td>3983</td><td>Benin</td><td>List(-73.6522, -164.936)</td><td>2019-09-01T10:40:42.000+0000</td></tr><tr><td>10673</td><td>Nicaragua</td><td>List(37.1991, -32.1713)</td><td>2021-06-30T08:47:01.000+0000</td></tr><tr><td>2810</td><td>India</td><td>List(-85.4298, -49.5099)</td><td>2019-12-29T14:34:40.000+0000</td></tr><tr><td>1780</td><td>Andorra</td><td>List(-87.1113, -159.587)</td><td>2019-11-01T18:14:25.000+0000</td></tr><tr><td>8591</td><td>Aruba</td><td>List(-83.104, -171.302)</td><td>2021-08-02T15:08:22.000+0000</td></tr><tr><td>8366</td><td>Kuwait</td><td>List(-38.5318, -139.215)</td><td>2018-03-28T14:17:11.000+0000</td></tr><tr><td>10526</td><td>Namibia</td><td>List(59.1203, 94.4738)</td><td>2018-02-21T14:52:09.000+0000</td></tr><tr><td>7209</td><td>Central African Republic</td><td>List(-88.5425, -157.374)</td><td>2020-02-12T11:09:50.000+0000</td></tr><tr><td>10602</td><td>British Virgin Islands</td><td>List(-63.6447, -132.968)</td><td>2018-03-05T12:50:32.000+0000</td></tr><tr><td>5111</td><td>British Indian Ocean Territory (Chagos Archipelago)</td><td>List(-83.7472, 8.65953)</td><td>2021-04-01T00:56:57.000+0000</td></tr><tr><td>204</td><td>United States Virgin Islands</td><td>List(29.2096, -13.1258)</td><td>2018-11-23T15:01:11.000+0000</td></tr><tr><td>9700</td><td>Cyprus</td><td>List(25.3879, -177.604)</td><td>2021-02-05T05:06:15.000+0000</td></tr><tr><td>4353</td><td>Congo</td><td>List(15.5553, -55.4806)</td><td>2018-02-03T23:18:03.000+0000</td></tr><tr><td>2015</td><td>Armenia</td><td>List(-17.629, -177.685)</td><td>2018-09-22T13:52:19.000+0000</td></tr><tr><td>3419</td><td>Bhutan</td><td>List(7.60293, -108.979)</td><td>2021-12-20T05:01:54.000+0000</td></tr><tr><td>8341</td><td>Somalia</td><td>List(-16.5066, -133.185)</td><td>2022-08-08T05:09:50.000+0000</td></tr><tr><td>320</td><td>Greece</td><td>List(12.0902, 113.873)</td><td>2019-11-13T10:03:45.000+0000</td></tr><tr><td>860</td><td>Bahrain</td><td>List(-5.22078, -26.9354)</td><td>2018-12-11T12:14:12.000+0000</td></tr><tr><td>3542</td><td>Monaco</td><td>List(0.214821, -148.275)</td><td>2022-05-15T20:38:55.000+0000</td></tr><tr><td>10093</td><td>Korea</td><td>List(5.63233, -128.852)</td><td>2018-09-11T01:30:39.000+0000</td></tr><tr><td>772</td><td>Monaco</td><td>List(25.0708, -97.1964)</td><td>2022-09-22T05:59:55.000+0000</td></tr><tr><td>1643</td><td>Uganda</td><td>List(52.0489, -63.5087)</td><td>2018-08-17T13:25:13.000+0000</td></tr><tr><td>5460</td><td>Antigua and Barbuda</td><td>List(-56.1614, 7.19803)</td><td>2022-04-25T15:02:37.000+0000</td></tr><tr><td>7958</td><td>Saint Vincent and the Grenadines</td><td>List(-72.3686, 174.831)</td><td>2021-02-26T21:03:00.000+0000</td></tr><tr><td>3563</td><td>Saint Barthelemy</td><td>List(-77.3153, -69.505)</td><td>2018-09-05T07:40:01.000+0000</td></tr><tr><td>2975</td><td>Ecuador</td><td>List(42.4695, 101.315)</td><td>2021-08-06T01:48:36.000+0000</td></tr><tr><td>2754</td><td>Lithuania</td><td>List(-86.4467, -74.949)</td><td>2019-09-11T02:15:42.000+0000</td></tr><tr><td>2297</td><td>United States Virgin Islands</td><td>List(28.1985, -94.6501)</td><td>2021-10-04T19:45:54.000+0000</td></tr><tr><td>6063</td><td>Anguilla</td><td>List(-89.1797, -174.015)</td><td>2021-07-20T09:02:47.000+0000</td></tr><tr><td>9218</td><td>Benin</td><td>List(-70.6524, -171.552)</td><td>2020-05-07T21:30:58.000+0000</td></tr><tr><td>4654</td><td>El Salvador</td><td>List(-77.816, -168.413)</td><td>2020-06-22T16:43:58.000+0000</td></tr><tr><td>8089</td><td>Niue</td><td>List(-56.4684, 98.8754)</td><td>2018-06-01T04:06:02.000+0000</td></tr><tr><td>9718</td><td>Czech Republic</td><td>List(-76.4505, -161.588)</td><td>2021-11-25T04:36:47.000+0000</td></tr><tr><td>8461</td><td>Benin</td><td>List(34.7197, 79.8326)</td><td>2021-10-15T09:17:14.000+0000</td></tr><tr><td>616</td><td>Andorra</td><td>List(-77.6883, -145.539)</td><td>2017-10-25T11:00:30.000+0000</td></tr><tr><td>935</td><td>China</td><td>List(38.6535, 38.6415)</td><td>2020-12-01T00:14:41.000+0000</td></tr><tr><td>3638</td><td>Macao</td><td>List(-0.749224, 58.845)</td><td>2020-09-12T07:45:37.000+0000</td></tr><tr><td>8738</td><td>Austria</td><td>List(-87.7764, -151.645)</td><td>2018-11-21T16:40:06.000+0000</td></tr><tr><td>8007</td><td>Austria</td><td>List(-65.3158, -179.734)</td><td>2022-08-15T09:19:01.000+0000</td></tr><tr><td>4361</td><td>Antarctica (the territory South of 60 deg S)</td><td>List(-24.8372, -163.337)</td><td>2022-07-17T10:48:12.000+0000</td></tr><tr><td>2923</td><td>Cote d'Ivoire</td><td>List(-84.6302, -164.507)</td><td>2019-09-08T22:53:09.000+0000</td></tr><tr><td>46</td><td>Afghanistan</td><td>List(4.21689, -145.82)</td><td>2018-09-15T09:16:57.000+0000</td></tr><tr><td>6261</td><td>Marshall Islands</td><td>List(-10.3101, -109.763)</td><td>2021-11-11T16:18:45.000+0000</td></tr><tr><td>9185</td><td>Antarctica (the territory South of 60 deg S)</td><td>List(-10.3764, -22.9809)</td><td>2019-10-06T18:12:55.000+0000</td></tr><tr><td>1789</td><td>Iran</td><td>List(25.4676, -125.575)</td><td>2020-09-28T10:16:28.000+0000</td></tr><tr><td>678</td><td>Iran</td><td>List(50.2114, 56.4204)</td><td>2019-09-08T16:46:26.000+0000</td></tr><tr><td>5497</td><td>Czech Republic</td><td>List(-84.8278, -4.7503)</td><td>2018-09-10T22:55:37.000+0000</td></tr><tr><td>8174</td><td>Burkina Faso</td><td>List(-66.6708, -110.47)</td><td>2018-10-20T17:28:23.000+0000</td></tr><tr><td>6976</td><td>Aruba</td><td>List(-74.1238, -64.0839)</td><td>2020-09-14T04:55:37.000+0000</td></tr><tr><td>3094</td><td>Benin</td><td>List(-88.9184, -50.9383)</td><td>2018-03-22T12:31:19.000+0000</td></tr><tr><td>5349</td><td>Aruba</td><td>List(-53.7253, -130.413)</td><td>2020-10-09T12:55:51.000+0000</td></tr><tr><td>1322</td><td>Austria</td><td>List(-66.7906, -99.8545)</td><td>2021-08-29T12:37:19.000+0000</td></tr><tr><td>4448</td><td>Anguilla</td><td>List(24.8451, 158.01)</td><td>2019-03-16T15:36:20.000+0000</td></tr><tr><td>480</td><td>Mozambique</td><td>List(-30.7158, -167.461)</td><td>2019-02-08T03:34:58.000+0000</td></tr><tr><td>7745</td><td>Algeria</td><td>List(-89.5173, -179.689)</td><td>2018-11-01T18:20:28.000+0000</td></tr><tr><td>8645</td><td>Armenia</td><td>List(-69.636, -166.432)</td><td>2022-06-22T09:32:17.000+0000</td></tr><tr><td>2001</td><td>Croatia</td><td>List(-53.7111, -138.763)</td><td>2021-11-11T15:42:04.000+0000</td></tr><tr><td>10912</td><td>Armenia</td><td>List(-89.3302, -60.6105)</td><td>2019-12-11T00:03:39.000+0000</td></tr><tr><td>5494</td><td>Bulgaria</td><td>List(-82.6768, -129.202)</td><td>2021-07-21T02:02:35.000+0000</td></tr><tr><td>7554</td><td>Sudan</td><td>List(-51.2172, -77.9768)</td><td>2019-03-20T03:15:07.000+0000</td></tr><tr><td>6019</td><td>Gabon</td><td>List(-12.722, 178.583)</td><td>2019-05-23T22:52:10.000+0000</td></tr><tr><td>8251</td><td>Bouvet Island (Bouvetoya)</td><td>List(-0.165781, -62.325)</td><td>2022-02-03T11:05:11.000+0000</td></tr><tr><td>7964</td><td>Algeria</td><td>List(-89.5173, -179.689)</td><td>2019-03-08T16:29:06.000+0000</td></tr><tr><td>2508</td><td>Bahamas</td><td>List(-46.4572, 131.244)</td><td>2018-01-24T08:31:16.000+0000</td></tr><tr><td>1065</td><td>Saudi Arabia</td><td>List(25.4542, 26.6371)</td><td>2018-09-27T13:09:39.000+0000</td></tr><tr><td>8944</td><td>Ireland</td><td>List(54.4385, -0.300596)</td><td>2020-02-29T04:51:18.000+0000</td></tr><tr><td>5692</td><td>Belize</td><td>List(-71.3226, -2.65747)</td><td>2021-12-27T06:24:04.000+0000</td></tr><tr><td>2293</td><td>British Virgin Islands</td><td>List(-87.7946, -159.647)</td><td>2022-03-21T10:46:53.000+0000</td></tr><tr><td>637</td><td>American Samoa</td><td>List(-41.2244, -158.022)</td><td>2018-06-06T01:25:58.000+0000</td></tr><tr><td>7413</td><td>Nicaragua</td><td>List(-41.065, 169.341)</td><td>2021-10-23T08:25:14.000+0000</td></tr><tr><td>8361</td><td>Algeria</td><td>List(-88.355, -96.0131)</td><td>2019-01-14T02:17:34.000+0000</td></tr><tr><td>6498</td><td>Argentina</td><td>List(-65.3952, -175.249)</td><td>2020-04-04T16:25:16.000+0000</td></tr><tr><td>7940</td><td>Argentina</td><td>List(-87.7034, -178.422)</td><td>2021-11-29T09:13:08.000+0000</td></tr><tr><td>5091</td><td>Saudi Arabia</td><td>List(-19.04, 3.5168)</td><td>2020-11-07T10:43:32.000+0000</td></tr><tr><td>1786</td><td>Afghanistan</td><td>List(33.2467, -132.693)</td><td>2018-05-15T13:12:23.000+0000</td></tr><tr><td>7514</td><td>Belize</td><td>List(-82.0184, 129.231)</td><td>2020-03-07T10:12:53.000+0000</td></tr><tr><td>10715</td><td>Bahamas</td><td>List(-57.3926, -145.818)</td><td>2022-09-24T08:05:54.000+0000</td></tr><tr><td>1537</td><td>Lebanon</td><td>List(43.6096, -176.551)</td><td>2017-12-15T13:53:57.000+0000</td></tr><tr><td>5737</td><td>Argentina</td><td>List(-80.3487, -178.419)</td><td>2020-04-11T11:27:31.000+0000</td></tr><tr><td>10073</td><td>Antarctica (the territory South of 60 deg S)</td><td>List(-32.8885, -170.295)</td><td>2021-06-29T19:56:04.000+0000</td></tr><tr><td>6813</td><td>Albania</td><td>List(-89.9787, -173.293)</td><td>2019-03-28T09:34:06.000+0000</td></tr><tr><td>2430</td><td>Aruba</td><td>List(-71.5025, -179.257)</td><td>2019-06-23T04:33:25.000+0000</td></tr><tr><td>2048</td><td>Antigua and Barbuda</td><td>List(-89.4008, -142.186)</td><td>2017-11-20T06:33:50.000+0000</td></tr><tr><td>1216</td><td>Albania</td><td>List(-69.8134, -152.834)</td><td>2020-07-19T23:57:16.000+0000</td></tr><tr><td>2787</td><td>Bahamas</td><td>List(-51.5396, -105.634)</td><td>2022-03-05T15:22:38.000+0000</td></tr><tr><td>4765</td><td>Bhutan</td><td>List(56.1765, -60.3563)</td><td>2020-06-09T00:49:44.000+0000</td></tr><tr><td>7484</td><td>Mozambique</td><td>List(-6.16637, 16.2863)</td><td>2021-12-16T20:21:16.000+0000</td></tr><tr><td>4417</td><td>Somalia</td><td>List(-70.957, -8.13146)</td><td>2021-04-15T13:11:21.000+0000</td></tr><tr><td>10319</td><td>Palestinian Territory</td><td>List(45.3368, -145.879)</td><td>2021-01-04T02:21:08.000+0000</td></tr><tr><td>3156</td><td>Armenia</td><td>List(-84.738, -160.795)</td><td>2018-01-13T19:33:49.000+0000</td></tr><tr><td>9425</td><td>Macedonia</td><td>List(17.5612, 132.851)</td><td>2020-07-25T01:35:10.000+0000</td></tr><tr><td>4113</td><td>Niger</td><td>List(23.4312, -25.2749)</td><td>2021-01-06T06:21:50.000+0000</td></tr><tr><td>9904</td><td>Algeria</td><td>List(-74.7055, -177.87)</td><td>2018-07-27T09:36:32.000+0000</td></tr><tr><td>7537</td><td>Liechtenstein</td><td>List(57.5347, -129.946)</td><td>2020-06-01T18:04:11.000+0000</td></tr><tr><td>8309</td><td>United States of America</td><td>List(75.447, 62.1468)</td><td>2019-05-14T19:32:10.000+0000</td></tr><tr><td>3185</td><td>Bouvet Island (Bouvetoya)</td><td>List(-88.4607, -154.638)</td><td>2022-06-14T09:39:11.000+0000</td></tr><tr><td>9452</td><td>Andorra</td><td>List(-84.7363, -179.087)</td><td>2021-02-14T08:40:56.000+0000</td></tr><tr><td>6770</td><td>Kenya</td><td>List(-58.8668, 44.9303)</td><td>2021-11-21T22:59:39.000+0000</td></tr><tr><td>7768</td><td>Algeria</td><td>List(-88.355, -96.0131)</td><td>2018-05-25T21:34:19.000+0000</td></tr><tr><td>7167</td><td>Ecuador</td><td>List(-55.757, -157.572)</td><td>2019-12-27T20:45:04.000+0000</td></tr><tr><td>4045</td><td>American Samoa</td><td>List(-89.3099, -166.033)</td><td>2018-03-11T23:01:08.000+0000</td></tr><tr><td>653</td><td>Israel</td><td>List(-65.1612, -167.961)</td><td>2020-10-15T07:38:44.000+0000</td></tr><tr><td>6374</td><td>Congo</td><td>List(-76.5909, -153.068)</td><td>2020-05-14T22:42:45.000+0000</td></tr><tr><td>3239</td><td>Afghanistan</td><td>List(-78.0893, -57.1052)</td><td>2019-10-22T00:54:29.000+0000</td></tr><tr><td>4513</td><td>Namibia</td><td>List(22.2314, 144.214)</td><td>2022-04-11T11:05:13.000+0000</td></tr><tr><td>1675</td><td>Estonia</td><td>List(13.8054, 13.0336)</td><td>2022-06-15T03:39:59.000+0000</td></tr><tr><td>8886</td><td>American Samoa</td><td>List(-88.2286, -178.919)</td><td>2022-01-16T10:17:16.000+0000</td></tr><tr><td>5724</td><td>Greece</td><td>List(47.1902, -10.6517)</td><td>2018-01-19T07:36:12.000+0000</td></tr><tr><td>5333</td><td>Croatia</td><td>List(-86.6652, -173.898)</td><td>2021-01-20T08:10:08.000+0000</td></tr><tr><td>1465</td><td>Albania</td><td>List(-69.8134, -152.834)</td><td>2020-11-09T12:15:10.000+0000</td></tr><tr><td>4505</td><td>Faroe Islands</td><td>List(0.0485475, -16.5635)</td><td>2018-06-20T22:11:03.000+0000</td></tr><tr><td>3800</td><td>Aruba</td><td>List(-61.471, -154.912)</td><td>2018-01-27T16:49:07.000+0000</td></tr><tr><td>604</td><td>Malta</td><td>List(-85.3088, 130.617)</td><td>2020-12-25T06:02:16.000+0000</td></tr><tr><td>1598</td><td>Cambodia</td><td>List(-55.4968, -165.517)</td><td>2021-05-01T05:03:08.000+0000</td></tr><tr><td>8083</td><td>Saint Martin</td><td>List(68.4336, -67.038)</td><td>2018-07-03T01:16:02.000+0000</td></tr><tr><td>7116</td><td>Macao</td><td>List(-18.3686, 72.4109)</td><td>2019-09-16T18:45:41.000+0000</td></tr><tr><td>1901</td><td>Mali</td><td>List(48.1778, 124.806)</td><td>2018-08-03T19:57:38.000+0000</td></tr><tr><td>3032</td><td>American Samoa</td><td>List(-66.7253, -122.489)</td><td>2018-04-14T09:28:18.000+0000</td></tr><tr><td>6170</td><td>Congo</td><td>List(-82.4709, 1.37215)</td><td>2020-03-29T23:28:43.000+0000</td></tr><tr><td>3930</td><td>Congo</td><td>List(-20.2154, -137.478)</td><td>2019-02-24T18:54:12.000+0000</td></tr><tr><td>2595</td><td>Algeria</td><td>List(-53.9169, -104.473)</td><td>2018-02-03T20:35:30.000+0000</td></tr><tr><td>6586</td><td>Burkina Faso</td><td>List(53.9251, 105.744)</td><td>2017-11-04T07:10:22.000+0000</td></tr><tr><td>7031</td><td>Liechtenstein</td><td>List(62.7213, -111.563)</td><td>2018-03-25T09:15:16.000+0000</td></tr><tr><td>8058</td><td>Lao People's Democratic Republic</td><td>List(-45.8033, -140.37)</td><td>2018-08-05T01:23:40.000+0000</td></tr><tr><td>3145</td><td>Kenya</td><td>List(-57.5981, -19.8932)</td><td>2022-06-18T22:46:26.000+0000</td></tr><tr><td>1832</td><td>Bulgaria</td><td>List(-12.0827, -87.0131)</td><td>2020-08-18T12:11:49.000+0000</td></tr><tr><td>4377</td><td>Puerto Rico</td><td>List(-55.7837, 2.5347)</td><td>2020-07-18T04:12:10.000+0000</td></tr><tr><td>533</td><td>Angola</td><td>List(-68.0095, -157.227)</td><td>2020-06-28T04:27:45.000+0000</td></tr><tr><td>10920</td><td>Egypt</td><td>List(-58.5064, -149.458)</td><td>2021-05-05T08:08:57.000+0000</td></tr><tr><td>10932</td><td>Cuba</td><td>List(87.9514, 113.689)</td><td>2022-08-22T08:46:17.000+0000</td></tr><tr><td>9198</td><td>Afghanistan</td><td>List(-12.1295, -29.9199)</td><td>2019-04-07T22:11:02.000+0000</td></tr><tr><td>7529</td><td>Bangladesh</td><td>List(-29.9924, 90.2718)</td><td>2017-12-12T08:44:52.000+0000</td></tr><tr><td>4561</td><td>Hungary</td><td>List(-63.6785, -29.2943)</td><td>2020-04-05T19:38:48.000+0000</td></tr><tr><td>6814</td><td>British Indian Ocean Territory (Chagos Archipelago)</td><td>List(-86.5675, -149.565)</td><td>2022-09-02T11:34:28.000+0000</td></tr><tr><td>5523</td><td>Indonesia</td><td>List(-33.6892, -71.3189)</td><td>2018-10-06T18:24:48.000+0000</td></tr><tr><td>856</td><td>Albania</td><td>List(-71.6856, -179.126)</td><td>2020-07-22T04:49:08.000+0000</td></tr><tr><td>5463</td><td>Chad</td><td>List(-62.3082, 164.589)</td><td>2021-11-05T17:50:36.000+0000</td></tr><tr><td>4996</td><td>Poland</td><td>List(39.9625, -118.569)</td><td>2019-04-16T23:49:42.000+0000</td></tr><tr><td>10160</td><td>Serbia</td><td>List(-19.5192, -115.211)</td><td>2019-05-07T04:28:27.000+0000</td></tr><tr><td>4251</td><td>American Samoa</td><td>List(-89.3099, -166.033)</td><td>2018-09-24T23:24:26.000+0000</td></tr><tr><td>4066</td><td>Aruba</td><td>List(-61.471, -154.912)</td><td>2020-12-12T13:40:43.000+0000</td></tr><tr><td>9979</td><td>Dominican Republic</td><td>List(14.9967, -120.682)</td><td>2018-07-18T19:01:46.000+0000</td></tr><tr><td>8930</td><td>Argentina</td><td>List(-89.4739, -176.154)</td><td>2021-09-29T13:25:49.000+0000</td></tr><tr><td>5759</td><td>Albania</td><td>List(-62.7034, -114.366)</td><td>2019-06-08T02:29:25.000+0000</td></tr><tr><td>8448</td><td>Niue</td><td>List(-87.5252, 140.842)</td><td>2021-09-06T09:41:31.000+0000</td></tr><tr><td>160</td><td>Niger</td><td>List(71.654, -59.7394)</td><td>2019-08-09T06:43:52.000+0000</td></tr><tr><td>8637</td><td>Costa Rica</td><td>List(17.7523, 90.2341)</td><td>2020-12-04T20:23:56.000+0000</td></tr><tr><td>8606</td><td>Antigua and Barbuda</td><td>List(-88.0974, -172.052)</td><td>2021-03-28T14:54:07.000+0000</td></tr><tr><td>3831</td><td>Afghanistan</td><td>List(-88.5478, -174.971)</td><td>2018-07-22T21:46:59.000+0000</td></tr><tr><td>1745</td><td>Bulgaria</td><td>List(-87.4992, -177.336)</td><td>2019-12-11T16:49:31.000+0000</td></tr><tr><td>9896</td><td>Ecuador</td><td>List(-82.0334, -110.476)</td><td>2018-01-12T05:40:05.000+0000</td></tr><tr><td>7733</td><td>Algeria</td><td>List(-89.5173, -179.689)</td><td>2022-09-29T10:45:19.000+0000</td></tr><tr><td>3561</td><td>Albania</td><td>List(-89.8908, -179.887)</td><td>2021-12-04T14:19:43.000+0000</td></tr><tr><td>7090</td><td>Antarctica (the territory South of 60 deg S)</td><td>List(-62.92, -63.7974)</td><td>2022-01-08T18:53:52.000+0000</td></tr><tr><td>2788</td><td>Djibouti</td><td>List(-36.076, -94.1779)</td><td>2019-12-18T03:04:41.000+0000</td></tr><tr><td>2011</td><td>Guinea</td><td>List(18.6922, -80.0756)</td><td>2020-12-14T18:11:42.000+0000</td></tr><tr><td>8705</td><td>Canada</td><td>List(-75.2588, -107.089)</td><td>2020-02-04T20:13:08.000+0000</td></tr><tr><td>7073</td><td>Madagascar</td><td>List(-33.9813, -128.525)</td><td>2021-12-23T13:56:14.000+0000</td></tr><tr><td>2301</td><td>Saint Vincent and the Grenadines</td><td>List(13.4683, 51.7244)</td><td>2020-11-14T00:25:28.000+0000</td></tr><tr><td>5317</td><td>Dominican Republic</td><td>List(-72.2358, -119.449)</td><td>2021-02-21T20:35:38.000+0000</td></tr><tr><td>3352</td><td>Afghanistan</td><td>List(-84.5322, -179.647)</td><td>2018-11-28T20:01:55.000+0000</td></tr><tr><td>8315</td><td>Afghanistan</td><td>List(-87.8179, -178.525)</td><td>2018-10-03T00:29:49.000+0000</td></tr><tr><td>10904</td><td>Romania</td><td>List(64.0854, 35.3199)</td><td>2017-11-17T03:50:33.000+0000</td></tr><tr><td>9123</td><td>Montserrat</td><td>List(53.8446, -84.5662)</td><td>2019-04-30T02:16:32.000+0000</td></tr><tr><td>3285</td><td>Azerbaijan</td><td>List(-42.3946, -149.855)</td><td>2022-07-26T17:05:09.000+0000</td></tr><tr><td>9590</td><td>Algeria</td><td>List(-64.3876, -174.281)</td><td>2019-05-20T19:48:48.000+0000</td></tr><tr><td>6566</td><td>Cape Verde</td><td>List(-39.225, -71.6593)</td><td>2020-11-19T10:06:13.000+0000</td></tr><tr><td>10552</td><td>Grenada</td><td>List(32.7568, -179.812)</td><td>2020-08-24T11:39:32.000+0000</td></tr><tr><td>9363</td><td>Lithuania</td><td>List(-74.8991, 79.285)</td><td>2018-12-13T03:57:08.000+0000</td></tr><tr><td>10908</td><td>Kyrgyz Republic</td><td>List(-37.8211, 153.935)</td><td>2020-07-31T13:10:52.000+0000</td></tr><tr><td>6756</td><td>Nigeria</td><td>List(8.10741, -152.898)</td><td>2020-11-05T01:58:15.000+0000</td></tr><tr><td>746</td><td>Argentina</td><td>List(-71.6036, -175.3)</td><td>2019-10-15T00:31:59.000+0000</td></tr><tr><td>7952</td><td>Liechtenstein</td><td>List(-38.428, -68.0234)</td><td>2020-11-28T08:11:22.000+0000</td></tr><tr><td>1778</td><td>Cameroon</td><td>List(-84.7767, -155.835)</td><td>2020-05-23T00:20:16.000+0000</td></tr><tr><td>8836</td><td>Antarctica (the territory South of 60 deg S)</td><td>List(-75.0203, -108.272)</td><td>2022-09-06T23:57:01.000+0000</td></tr><tr><td>5126</td><td>Azerbaijan</td><td>List(-32.1812, -138.244)</td><td>2020-04-05T00:40:49.000+0000</td></tr><tr><td>8255</td><td>Palestinian Territory</td><td>List(-73.5682, -168.842)</td><td>2020-09-29T11:37:01.000+0000</td></tr><tr><td>660</td><td>Afghanistan</td><td>List(-75.7662, -171.892)</td><td>2021-06-01T23:24:07.000+0000</td></tr><tr><td>5106</td><td>Antigua and Barbuda</td><td>List(-41.6096, -17.9408)</td><td>2019-11-05T04:24:06.000+0000</td></tr><tr><td>10794</td><td>Cocos (Keeling) Islands</td><td>List(-89.5236, -154.567)</td><td>2022-01-01T02:26:50.000+0000</td></tr><tr><td>6328</td><td>Moldova</td><td>List(29.6234, -33.0952)</td><td>2018-01-06T06:29:33.000+0000</td></tr><tr><td>2041</td><td>Bangladesh</td><td>List(-52.0123, -148.446)</td><td>2022-03-01T18:26:27.000+0000</td></tr><tr><td>155</td><td>American Samoa</td><td>List(-86.4433, -178.772)</td><td>2021-06-01T07:43:02.000+0000</td></tr><tr><td>7078</td><td>Fiji</td><td>List(1.43641, 135.772)</td><td>2019-08-25T06:50:19.000+0000</td></tr><tr><td>6250</td><td>Austria</td><td>List(-73.2098, -150.856)</td><td>2020-11-22T18:28:02.000+0000</td></tr><tr><td>7206</td><td>Heard Island and McDonald Islands</td><td>List(-69.8132, -173.161)</td><td>2020-08-19T02:53:12.000+0000</td></tr><tr><td>1313</td><td>Maldives</td><td>List(77.0447, 61.9119)</td><td>2018-06-26T02:39:25.000+0000</td></tr><tr><td>7467</td><td>Burundi</td><td>List(-55.3123, -170.812)</td><td>2020-03-04T20:03:07.000+0000</td></tr><tr><td>6957</td><td>Mauritius</td><td>List(-70.9941, 168.195)</td><td>2021-04-25T04:41:38.000+0000</td></tr><tr><td>3884</td><td>Dominican Republic</td><td>List(-56.7762, -130.132)</td><td>2021-03-02T08:38:33.000+0000</td></tr><tr><td>4866</td><td>Venezuela</td><td>List(9.00668, 46.1605)</td><td>2021-10-27T23:57:46.000+0000</td></tr><tr><td>7974</td><td>Albania</td><td>List(-87.2, -177.109)</td><td>2018-05-24T05:43:00.000+0000</td></tr><tr><td>2206</td><td>British Virgin Islands</td><td>List(-72.8879, -131.966)</td><td>2022-08-15T23:33:00.000+0000</td></tr><tr><td>2304</td><td>Bermuda</td><td>List(-85.2344, -94.599)</td><td>2019-03-29T02:30:06.000+0000</td></tr><tr><td>1371</td><td>Andorra</td><td>List(-89.4584, -134.271)</td><td>2018-08-08T04:41:17.000+0000</td></tr><tr><td>7560</td><td>Guernsey</td><td>List(-19.6852, -44.3416)</td><td>2017-11-24T08:58:34.000+0000</td></tr><tr><td>2565</td><td>Bulgaria</td><td>List(-87.4992, -177.336)</td><td>2022-02-06T13:42:35.000+0000</td></tr><tr><td>4556</td><td>Nicaragua</td><td>List(69.6624, -128.284)</td><td>2021-01-03T15:01:51.000+0000</td></tr><tr><td>3393</td><td>Belgium</td><td>List(-73.6491, -136.57)</td><td>2018-10-10T20:34:11.000+0000</td></tr><tr><td>5254</td><td>Haiti</td><td>List(42.0864, 127.398)</td><td>2020-10-16T10:22:44.000+0000</td></tr><tr><td>6240</td><td>Latvia</td><td>List(-6.88551, -95.5132)</td><td>2021-11-08T01:02:41.000+0000</td></tr><tr><td>8159</td><td>Belgium</td><td>List(-62.2853, -176.497)</td><td>2021-01-02T09:48:03.000+0000</td></tr><tr><td>7832</td><td>Israel</td><td>List(-53.8629, 91.8136)</td><td>2022-02-14T13:47:24.000+0000</td></tr><tr><td>8385</td><td>Grenada</td><td>List(-13.7262, -178.706)</td><td>2018-01-08T06:01:02.000+0000</td></tr><tr><td>3089</td><td>Albania</td><td>List(-89.9787, -173.293)</td><td>2018-02-28T05:31:29.000+0000</td></tr><tr><td>91</td><td>Canada</td><td>List(-54.5927, -90.6345)</td><td>2021-10-11T12:44:03.000+0000</td></tr><tr><td>10862</td><td>Monaco</td><td>List(23.1361, -63.9384)</td><td>2017-11-30T01:25:50.000+0000</td></tr><tr><td>7165</td><td>Denmark</td><td>List(-62.9912, -142.837)</td><td>2021-06-02T21:18:20.000+0000</td></tr><tr><td>6809</td><td>Bangladesh</td><td>List(-89.4254, -161.818)</td><td>2020-04-17T13:20:43.000+0000</td></tr><tr><td>5309</td><td>Maldives</td><td>List(-89.4194, -84.2493)</td><td>2020-05-04T22:00:32.000+0000</td></tr><tr><td>9426</td><td>Sao Tome and Principe</td><td>List(-29.8646, -78.1449)</td><td>2021-06-30T02:14:47.000+0000</td></tr><tr><td>1749</td><td>Ecuador</td><td>List(-76.008, -129.397)</td><td>2018-05-21T23:45:01.000+0000</td></tr><tr><td>2637</td><td>Tunisia</td><td>List(3.0033, -96.4904)</td><td>2022-10-15T13:25:51.000+0000</td></tr><tr><td>552</td><td>Lesotho</td><td>List(-80.6043, 31.9601)</td><td>2022-03-14T05:12:07.000+0000</td></tr><tr><td>10804</td><td>South Africa</td><td>List(69.9913, 170.373)</td><td>2020-04-05T04:16:50.000+0000</td></tr><tr><td>4064</td><td>Austria</td><td>List(-48.6363, -177.92)</td><td>2021-11-19T16:11:38.000+0000</td></tr><tr><td>2403</td><td>Czech Republic</td><td>List(12.4979, 178.574)</td><td>2019-10-03T03:36:09.000+0000</td></tr><tr><td>709</td><td>Albania</td><td>List(-88.8298, -170.188)</td><td>2020-12-03T15:25:22.000+0000</td></tr><tr><td>7922</td><td>Antigua and Barbuda</td><td>List(-88.0974, -172.052)</td><td>2021-01-27T09:14:19.000+0000</td></tr><tr><td>1335</td><td>Antarctica (the territory South of 60 deg S)</td><td>List(-77.9931, -175.682)</td><td>2022-03-19T17:29:42.000+0000</td></tr><tr><td>7670</td><td>Algeria</td><td>List(-89.5173, -179.689)</td><td>2021-12-25T18:58:40.000+0000</td></tr><tr><td>4949</td><td>Austria</td><td>List(-26.961, -141.787)</td><td>2021-05-08T19:16:52.000+0000</td></tr><tr><td>10429</td><td>Aruba</td><td>List(-47.228, -166.492)</td><td>2021-06-06T09:33:56.000+0000</td></tr><tr><td>2795</td><td>Bosnia and Herzegovina</td><td>List(-40.1415, -34.2076)</td><td>2018-10-02T02:16:48.000+0000</td></tr><tr><td>8592</td><td>Botswana</td><td>List(-80.8644, -133.78)</td><td>2018-01-18T04:17:50.000+0000</td></tr><tr><td>10020</td><td>Cocos (Keeling) Islands</td><td>List(-88.6883, -86.0607)</td><td>2021-08-22T19:54:37.000+0000</td></tr><tr><td>9584</td><td>Bahrain</td><td>List(-36.8458, -116.844)</td><td>2018-04-23T06:21:51.000+0000</td></tr><tr><td>7983</td><td>Albania</td><td>List(-87.2, -177.109)</td><td>2019-06-21T20:51:41.000+0000</td></tr><tr><td>1188</td><td>Cocos (Keeling) Islands</td><td>List(-32.5999, 18.3353)</td><td>2019-02-20T19:38:32.000+0000</td></tr><tr><td>741</td><td>Albania</td><td>List(-88.8298, -170.188)</td><td>2017-11-15T15:17:20.000+0000</td></tr><tr><td>6386</td><td>Costa Rica</td><td>List(-86.2326, -144.71)</td><td>2019-02-24T14:41:20.000+0000</td></tr><tr><td>8813</td><td>Algeria</td><td>List(-89.5173, -179.689)</td><td>2022-09-08T01:30:24.000+0000</td></tr><tr><td>6717</td><td>Netherlands</td><td>List(-58.7512, -162.324)</td><td>2022-09-07T16:35:00.000+0000</td></tr><tr><td>4122</td><td>Kyrgyz Republic</td><td>List(53.8438, 5.89482)</td><td>2021-04-03T21:48:54.000+0000</td></tr><tr><td>2925</td><td>France</td><td>List(-38.6499, -72.8142)</td><td>2018-01-12T01:05:35.000+0000</td></tr><tr><td>8509</td><td>Afghanistan</td><td>List(-12.1295, -29.9199)</td><td>2019-01-16T20:04:11.000+0000</td></tr><tr><td>4249</td><td>Afghanistan</td><td>List(-88.5478, -174.971)</td><td>2021-09-01T11:10:02.000+0000</td></tr><tr><td>2668</td><td>Angola</td><td>List(-24.2386, -165.309)</td><td>2019-11-13T16:18:57.000+0000</td></tr><tr><td>4764</td><td>Hong Kong</td><td>List(37.0844, -164.878)</td><td>2018-01-10T11:06:53.000+0000</td></tr><tr><td>8407</td><td>Australia</td><td>List(-4.42914, -23.6931)</td><td>2018-11-14T06:25:25.000+0000</td></tr><tr><td>101</td><td>Albania</td><td>List(-88.8298, -170.188)</td><td>2020-12-30T22:16:20.000+0000</td></tr><tr><td>1094</td><td>Armenia</td><td>List(-46.7328, -124.445)</td><td>2018-08-19T00:34:20.000+0000</td></tr><tr><td>327</td><td>Gibraltar</td><td>List(62.3674, 100.972)</td><td>2022-02-09T03:03:58.000+0000</td></tr><tr><td>7759</td><td>Andorra</td><td>List(-84.7363, -179.087)</td><td>2020-06-14T00:42:47.000+0000</td></tr><tr><td>3504</td><td>Luxembourg</td><td>List(-49.3653, -110.641)</td><td>2021-08-19T00:41:47.000+0000</td></tr><tr><td>9643</td><td>Cook Islands</td><td>List(89.4443, 174.703)</td><td>2020-08-06T23:23:24.000+0000</td></tr><tr><td>7861</td><td>Afghanistan</td><td>List(-39.7124, 25.1539)</td><td>2019-02-26T16:20:44.000+0000</td></tr><tr><td>427</td><td>Isle of Man</td><td>List(-66.9418, -30.0087)</td><td>2020-04-22T03:08:50.000+0000</td></tr><tr><td>8015</td><td>Martinique</td><td>List(52.4977, 94.336)</td><td>2020-03-13T18:02:39.000+0000</td></tr><tr><td>10198</td><td>Gabon</td><td>List(-77.4995, -65.4026)</td><td>2022-02-18T20:14:09.000+0000</td></tr><tr><td>6589</td><td>Mexico</td><td>List(1.81728, -67.4792)</td><td>2019-09-01T20:52:19.000+0000</td></tr><tr><td>1961</td><td>Argentina</td><td>List(-65.3952, -175.249)</td><td>2022-07-29T18:16:50.000+0000</td></tr><tr><td>8100</td><td>Algeria</td><td>List(-89.5173, -179.689)</td><td>2019-12-03T15:49:59.000+0000</td></tr><tr><td>8967</td><td>Guyana</td><td>List(24.8791, 99.4055)</td><td>2021-06-27T12:33:19.000+0000</td></tr><tr><td>4651</td><td>Cocos (Keeling) Islands</td><td>List(42.3157, -56.7178)</td><td>2020-05-06T16:03:39.000+0000</td></tr><tr><td>10659</td><td>Bulgaria</td><td>List(-87.6895, -176.801)</td><td>2018-06-12T12:29:05.000+0000</td></tr><tr><td>5293</td><td>Sao Tome and Principe</td><td>List(-13.1463, -25.9649)</td><td>2019-05-31T20:49:36.000+0000</td></tr><tr><td>5704</td><td>Indonesia</td><td>List(-85.9781, -172.038)</td><td>2019-12-31T11:38:29.000+0000</td></tr><tr><td>9014</td><td>Ethiopia</td><td>List(-37.2495, -118.101)</td><td>2021-04-20T19:45:15.000+0000</td></tr><tr><td>3644</td><td>Fiji</td><td>List(-74.6891, -179.779)</td><td>2021-10-31T17:44:26.000+0000</td></tr><tr><td>3231</td><td>Armenia</td><td>List(-84.738, -160.795)</td><td>2018-10-12T08:31:30.000+0000</td></tr><tr><td>4107</td><td>Bulgaria</td><td>List(-54.7673, -89.1567)</td><td>2021-04-21T22:03:54.000+0000</td></tr><tr><td>10507</td><td>South Georgia and the South Sandwich Islands</td><td>List(-89.4786, -68.913)</td><td>2018-12-27T23:57:31.000+0000</td></tr><tr><td>4983</td><td>India</td><td>List(-8.61001, 57.615)</td><td>2022-10-16T23:45:36.000+0000</td></tr><tr><td>3729</td><td>Turkey</td><td>List(-24.4793, -150.145)</td><td>2018-01-17T03:43:38.000+0000</td></tr><tr><td>9035</td><td>Andorra</td><td>List(-84.7363, -179.087)</td><td>2020-05-18T06:09:15.000+0000</td></tr><tr><td>7356</td><td>Argentina</td><td>List(-89.4739, -176.154)</td><td>2018-10-07T01:04:55.000+0000</td></tr><tr><td>1032</td><td>Italy</td><td>List(-69.0923, -154.819)</td><td>2021-03-21T04:42:59.000+0000</td></tr><tr><td>4565</td><td>Belarus</td><td>List(-67.9802, -22.7204)</td><td>2018-12-10T22:34:21.000+0000</td></tr><tr><td>6636</td><td>Bahamas</td><td>List(-28.1579, 73.2111)</td><td>2018-04-13T08:18:23.000+0000</td></tr><tr><td>5527</td><td>Cote d'Ivoire</td><td>List(-74.0172, -109.979)</td><td>2022-06-03T09:49:02.000+0000</td></tr><tr><td>4213</td><td>Albania</td><td>List(-89.8908, -179.887)</td><td>2020-05-17T04:33:51.000+0000</td></tr><tr><td>6652</td><td>Egypt</td><td>List(-78.2534, -170.668)</td><td>2018-11-28T08:21:12.000+0000</td></tr><tr><td>649</td><td>Sudan</td><td>List(-80.7952, -22.2518)</td><td>2020-10-06T14:24:08.000+0000</td></tr><tr><td>10677</td><td>Estonia</td><td>List(-86.3132, -105.805)</td><td>2018-03-08T17:26:24.000+0000</td></tr><tr><td>7057</td><td>Mongolia</td><td>List(-60.6942, -125.106)</td><td>2020-11-13T07:13:30.000+0000</td></tr><tr><td>6309</td><td>Anguilla</td><td>List(-28.9498, -165.807)</td><td>2022-10-14T19:53:00.000+0000</td></tr><tr><td>4889</td><td>Comoros</td><td>List(23.2845, -156.467)</td><td>2020-12-20T07:09:08.000+0000</td></tr><tr><td>1411</td><td>Cambodia</td><td>List(-55.4968, -165.517)</td><td>2019-10-24T03:10:37.000+0000</td></tr><tr><td>10509</td><td>Gibraltar</td><td>List(-67.187, -24.2977)</td><td>2019-03-06T12:21:56.000+0000</td></tr><tr><td>450</td><td>Antigua and Barbuda</td><td>List(-81.0108, -165.206)</td><td>2018-09-28T05:43:18.000+0000</td></tr><tr><td>4482</td><td>Bermuda</td><td>List(-79.0427, -174.242)</td><td>2020-04-14T23:57:05.000+0000</td></tr><tr><td>7268</td><td>Afghanistan</td><td>List(-88.3754, -164.273)</td><td>2019-12-11T14:05:18.000+0000</td></tr><tr><td>3360</td><td>Anguilla</td><td>List(-89.0609, -170.904)</td><td>2019-01-26T07:43:57.000+0000</td></tr><tr><td>6496</td><td>Cuba</td><td>List(-80.9436, -47.4846)</td><td>2020-09-05T18:39:01.000+0000</td></tr><tr><td>1139</td><td>France</td><td>List(-68.4636, 112.577)</td><td>2018-05-06T18:02:56.000+0000</td></tr><tr><td>9407</td><td>American Samoa</td><td>List(-68.8926, -164.968)</td><td>2022-03-05T17:22:15.000+0000</td></tr><tr><td>9749</td><td>Tunisia</td><td>List(-44.6516, -5.39518)</td><td>2022-02-06T22:14:06.000+0000</td></tr><tr><td>7600</td><td>United States Virgin Islands</td><td>List(13.9054, -166.411)</td><td>2019-10-14T10:12:49.000+0000</td></tr><tr><td>1567</td><td>Angola</td><td>List(-68.0095, -157.227)</td><td>2020-01-03T01:48:25.000+0000</td></tr><tr><td>5551</td><td>Colombia</td><td>List(-67.8095, 63.2758)</td><td>2022-03-22T06:04:33.000+0000</td></tr><tr><td>1379</td><td>American Samoa</td><td>List(-88.5252, -172.436)</td><td>2018-05-26T03:05:20.000+0000</td></tr><tr><td>228</td><td>Bosnia and Herzegovina</td><td>List(-32.3508, -114.656)</td><td>2021-01-15T17:47:34.000+0000</td></tr><tr><td>7294</td><td>Australia</td><td>List(-76.2967, -136.501)</td><td>2018-02-12T08:06:28.000+0000</td></tr><tr><td>3945</td><td>Barbados</td><td>List(-66.2816, -142.673)</td><td>2022-04-17T02:01:53.000+0000</td></tr><tr><td>3660</td><td>French Guiana</td><td>List(-85.2885, 6.96501)</td><td>2018-10-23T21:26:01.000+0000</td></tr><tr><td>10029</td><td>Aruba</td><td>List(-89.8157, -173.632)</td><td>2020-06-17T14:24:19.000+0000</td></tr><tr><td>7343</td><td>Australia</td><td>List(-65.4428, -161.684)</td><td>2018-08-06T12:17:07.000+0000</td></tr><tr><td>10022</td><td>Benin</td><td>List(70.5626, -89.4526)</td><td>2018-12-17T20:26:14.000+0000</td></tr><tr><td>7276</td><td>Sweden</td><td>List(-58.4743, 21.875)</td><td>2018-08-03T05:14:15.000+0000</td></tr><tr><td>10865</td><td>Singapore</td><td>List(45.0564, -115.624)</td><td>2019-09-16T04:32:25.000+0000</td></tr><tr><td>7318</td><td>Bulgaria</td><td>List(-30.255, -87.2169)</td><td>2019-10-27T05:28:07.000+0000</td></tr><tr><td>6631</td><td>Haiti</td><td>List(72.3119, -66.4951)</td><td>2017-12-10T22:59:33.000+0000</td></tr><tr><td>5184</td><td>Congo</td><td>List(-14.7152, -170.399)</td><td>2018-06-27T00:16:41.000+0000</td></tr><tr><td>1704</td><td>Christmas Island</td><td>List(-56.8702, -93.6232)</td><td>2018-11-29T04:46:39.000+0000</td></tr><tr><td>9527</td><td>Turkmenistan</td><td>List(-38.4443, 170.601)</td><td>2021-11-17T07:50:58.000+0000</td></tr><tr><td>10321</td><td>Burkina Faso</td><td>List(-89.1005, -151.255)</td><td>2022-10-09T08:06:50.000+0000</td></tr><tr><td>1775</td><td>Djibouti</td><td>List(-73.588, -146.537)</td><td>2018-05-06T00:29:03.000+0000</td></tr><tr><td>3351</td><td>Portugal</td><td>List(-9.11859, -96.9091)</td><td>2020-09-12T10:34:11.000+0000</td></tr><tr><td>9256</td><td>Argentina</td><td>List(-89.4739, -176.154)</td><td>2019-06-03T10:53:49.000+0000</td></tr><tr><td>909</td><td>El Salvador</td><td>List(-19.8508, 19.7334)</td><td>2020-08-21T12:45:03.000+0000</td></tr><tr><td>6018</td><td>Anguilla</td><td>List(-28.9498, -165.807)</td><td>2020-04-07T22:08:44.000+0000</td></tr><tr><td>2698</td><td>Egypt</td><td>List(-72.7174, 24.169)</td><td>2021-11-24T08:33:51.000+0000</td></tr><tr><td>6558</td><td>Guadeloupe</td><td>List(-26.4944, -174.009)</td><td>2019-09-08T03:27:31.000+0000</td></tr><tr><td>3562</td><td>Angola</td><td>List(-87.3742, -177.647)</td><td>2022-04-08T10:19:47.000+0000</td></tr><tr><td>2308</td><td>Azerbaijan</td><td>List(-42.3946, -149.855)</td><td>2020-02-01T13:56:01.000+0000</td></tr><tr><td>925</td><td>American Samoa</td><td>List(-88.5252, -172.436)</td><td>2018-02-02T19:41:14.000+0000</td></tr><tr><td>4988</td><td>Madagascar</td><td>List(-32.1879, -35.2784)</td><td>2020-07-11T11:01:12.000+0000</td></tr><tr><td>2604</td><td>Antigua and Barbuda</td><td>List(-80.8933, -104.972)</td><td>2018-12-01T09:23:35.000+0000</td></tr><tr><td>2759</td><td>American Samoa</td><td>List(-66.7253, -122.489)</td><td>2022-02-20T11:53:20.000+0000</td></tr><tr><td>1896</td><td>Bahrain</td><td>List(-76.9515, -150.467)</td><td>2021-06-18T08:38:10.000+0000</td></tr><tr><td>5730</td><td>Colombia</td><td>List(-77.015, -101.437)</td><td>2021-04-19T17:37:03.000+0000</td></tr><tr><td>3626</td><td>American Samoa</td><td>List(-89.3099, -166.033)</td><td>2021-05-31T08:12:00.000+0000</td></tr><tr><td>7448</td><td>Bermuda</td><td>List(-48.4974, -61.5981)</td><td>2017-12-20T07:13:19.000+0000</td></tr><tr><td>6021</td><td>American Samoa</td><td>List(-69.1371, 151.933)</td><td>2021-07-25T21:41:11.000+0000</td></tr><tr><td>8578</td><td>Guinea-Bissau</td><td>List(34.6427, -161.397)</td><td>2018-01-26T19:27:11.000+0000</td></tr><tr><td>7180</td><td>Holy See (Vatican City State)</td><td>List(-22.7118, -167.739)</td><td>2018-04-22T21:33:50.000+0000</td></tr><tr><td>1631</td><td>Slovenia</td><td>List(-25.8117, -69.8618)</td><td>2020-08-24T10:43:22.000+0000</td></tr><tr><td>1694</td><td>Saint Martin</td><td>List(-32.6594, -62.5204)</td><td>2022-07-14T11:09:10.000+0000</td></tr><tr><td>2226</td><td>Falkland Islands (Malvinas)</td><td>List(3.38121, 89.7473)</td><td>2018-10-14T11:54:15.000+0000</td></tr><tr><td>737</td><td>Algeria</td><td>List(-67.0064, -65.5553)</td><td>2019-07-05T08:55:23.000+0000</td></tr><tr><td>2090</td><td>Mayotte</td><td>List(78.1523, 0.381029)</td><td>2020-01-10T22:22:33.000+0000</td></tr><tr><td>5978</td><td>Saint Kitts and Nevis</td><td>List(26.749, 127.37)</td><td>2020-06-27T23:54:35.000+0000</td></tr><tr><td>10501</td><td>Hungary</td><td>List(-82.2067, 110.935)</td><td>2020-09-24T13:44:30.000+0000</td></tr><tr><td>27</td><td>Albania</td><td>List(-88.8298, -170.188)</td><td>2020-11-15T23:51:27.000+0000</td></tr><tr><td>1963</td><td>American Samoa</td><td>List(-85.7998, -109.58)</td><td>2022-04-08T09:55:41.000+0000</td></tr><tr><td>2863</td><td>Armenia</td><td>List(-5.34445, -177.924)</td><td>2020-04-27T13:34:16.000+0000</td></tr><tr><td>680</td><td>Bangladesh</td><td>List(-73.1838, -154.293)</td><td>2019-03-29T23:22:56.000+0000</td></tr><tr><td>7262</td><td>Canada</td><td>List(-84.0716, -6.14558)</td><td>2020-01-29T23:37:22.000+0000</td></tr><tr><td>1729</td><td>Antarctica (the territory South of 60 deg S)</td><td>List(-88.4642, -171.061)</td><td>2021-05-04T14:59:44.000+0000</td></tr><tr><td>3979</td><td>United States of America</td><td>List(-8.70075, 74.2723)</td><td>2021-12-30T14:26:47.000+0000</td></tr><tr><td>2530</td><td>Albania</td><td>List(-89.3675, -157.004)</td><td>2018-08-21T22:40:24.000+0000</td></tr><tr><td>7487</td><td>Djibouti</td><td>List(-88.9574, 55.5995)</td><td>2019-08-20T08:34:24.000+0000</td></tr><tr><td>9332</td><td>Andorra</td><td>List(-73.8268, -159.056)</td><td>2018-09-22T14:44:57.000+0000</td></tr><tr><td>10585</td><td>Paraguay</td><td>List(11.1301, -96.9338)</td><td>2018-05-21T07:14:11.000+0000</td></tr><tr><td>5566</td><td>Egypt</td><td>List(-72.7358, 67.9857)</td><td>2021-02-17T18:10:11.000+0000</td></tr><tr><td>6615</td><td>Wallis and Futuna</td><td>List(-25.2428, -32.8992)</td><td>2022-01-31T18:53:34.000+0000</td></tr><tr><td>640</td><td>Albania</td><td>List(-87.2, -177.109)</td><td>2019-07-12T16:46:03.000+0000</td></tr><tr><td>7511</td><td>Guatemala</td><td>List(85.0721, -128.483)</td><td>2019-10-25T19:38:50.000+0000</td></tr><tr><td>2639</td><td>Andorra</td><td>List(-87.1113, -159.587)</td><td>2020-01-28T21:57:17.000+0000</td></tr><tr><td>9734</td><td>Belgium</td><td>List(-77.5092, -33.8585)</td><td>2020-07-25T03:43:05.000+0000</td></tr><tr><td>8612</td><td>American Samoa</td><td>List(-81.8896, -153.897)</td><td>2022-04-09T09:20:15.000+0000</td></tr><tr><td>8224</td><td>Lebanon</td><td>List(-72.7111, -162.159)</td><td>2018-07-01T05:16:34.000+0000</td></tr><tr><td>2779</td><td>Albania</td><td>List(-85.7359, -161.599)</td><td>2018-03-25T22:19:53.000+0000</td></tr><tr><td>9567</td><td>Cameroon</td><td>List(-60.4206, -116.385)</td><td>2021-09-02T20:30:15.000+0000</td></tr><tr><td>3359</td><td>Aruba</td><td>List(-64.984, -117.531)</td><td>2018-12-31T08:50:21.000+0000</td></tr><tr><td>2858</td><td>Argentina</td><td>List(-65.1565, -166.807)</td><td>2018-05-03T13:27:09.000+0000</td></tr><tr><td>5395</td><td>British Virgin Islands</td><td>List(-6.93422, -24.9989)</td><td>2020-08-15T19:30:19.000+0000</td></tr><tr><td>6749</td><td>Antarctica (the territory South of 60 deg S)</td><td>List(-88.4642, -171.061)</td><td>2018-04-16T07:39:46.000+0000</td></tr><tr><td>2354</td><td>American Samoa</td><td>List(-75.8862, -111.36)</td><td>2022-01-30T05:53:41.000+0000</td></tr><tr><td>6849</td><td>Singapore</td><td>List(15.771, 161.106)</td><td>2019-11-13T13:26:28.000+0000</td></tr><tr><td>205</td><td>Barbados</td><td>List(-75.8378, -163.945)</td><td>2020-07-08T14:10:38.000+0000</td></tr><tr><td>10734</td><td>Aruba</td><td>List(-51.2174, -166.894)</td><td>2021-08-29T21:27:53.000+0000</td></tr><tr><td>6403</td><td>Kenya</td><td>List(24.4809, 160.728)</td><td>2021-10-01T16:26:34.000+0000</td></tr><tr><td>7889</td><td>American Samoa</td><td>List(-33.1771, -171.869)</td><td>2021-04-13T10:36:07.000+0000</td></tr><tr><td>25</td><td>Ecuador</td><td>List(-81.3019, 63.8961)</td><td>2021-12-02T12:40:33.000+0000</td></tr><tr><td>7437</td><td>Aruba</td><td>List(-86.4063, -136.657)</td><td>2021-10-27T06:00:23.000+0000</td></tr><tr><td>2715</td><td>Albania</td><td>List(-58.4025, -168.097)</td><td>2021-12-29T12:18:25.000+0000</td></tr><tr><td>7648</td><td>Madagascar</td><td>List(83.3604, 7.88083)</td><td>2018-02-14T12:26:14.000+0000</td></tr><tr><td>10868</td><td>Panama</td><td>List(-42.1051, 153.465)</td><td>2019-06-15T06:59:12.000+0000</td></tr><tr><td>5297</td><td>Croatia</td><td>List(0.944996, -72.3861)</td><td>2018-04-20T23:50:13.000+0000</td></tr><tr><td>6978</td><td>Iran</td><td>List(-22.2957, 121.77)</td><td>2020-12-07T06:42:02.000+0000</td></tr><tr><td>544</td><td>Aruba</td><td>List(-64.984, -117.531)</td><td>2022-07-08T06:00:32.000+0000</td></tr><tr><td>10671</td><td>Mexico</td><td>List(44.4275, 98.3129)</td><td>2018-08-29T03:24:53.000+0000</td></tr><tr><td>734</td><td>Aruba</td><td>List(-84.8378, -167.14)</td><td>2022-04-04T06:26:56.000+0000</td></tr><tr><td>8699</td><td>Mongolia</td><td>List(-66.2443, 106.397)</td><td>2018-03-08T03:33:18.000+0000</td></tr><tr><td>462</td><td>Argentina</td><td>List(-89.63, -179.022)</td><td>2022-08-19T23:59:15.000+0000</td></tr><tr><td>4315</td><td>Cote d'Ivoire</td><td>List(-45.8508, 66.1003)</td><td>2019-12-15T03:51:28.000+0000</td></tr><tr><td>7154</td><td>Afghanistan</td><td>List(-88.3754, -164.273)</td><td>2022-03-26T23:36:54.000+0000</td></tr><tr><td>9267</td><td>Aruba</td><td>List(-83.104, -171.302)</td><td>2019-05-08T18:13:23.000+0000</td></tr><tr><td>1173</td><td>Bermuda</td><td>List(-40.9049, 110.638)</td><td>2021-07-18T00:52:31.000+0000</td></tr><tr><td>6488</td><td>Bolivia</td><td>List(-87.9073, -153.482)</td><td>2018-05-15T03:11:41.000+0000</td></tr><tr><td>8519</td><td>Australia</td><td>List(-71.5286, -122.063)</td><td>2019-05-06T20:52:00.000+0000</td></tr><tr><td>4761</td><td>Bhutan</td><td>List(45.8605, -93.66)</td><td>2020-06-05T14:36:00.000+0000</td></tr><tr><td>4892</td><td>Turks and Caicos Islands</td><td>List(55.2428, 94.8432)</td><td>2020-12-18T21:19:13.000+0000</td></tr><tr><td>10721</td><td>Fiji</td><td>List(82.166, -122.531)</td><td>2019-08-16T10:05:09.000+0000</td></tr><tr><td>10026</td><td>Marshall Islands</td><td>List(-70.8314, -90.784)</td><td>2020-01-01T05:36:44.000+0000</td></tr><tr><td>10097</td><td>Algeria</td><td>List(-74.7055, -177.87)</td><td>2021-09-24T16:28:48.000+0000</td></tr><tr><td>3803</td><td>Angola</td><td>List(-87.3742, -177.647)</td><td>2021-06-19T02:26:08.000+0000</td></tr><tr><td>7801</td><td>Afghanistan</td><td>List(-75.9161, -27.6285)</td><td>2017-11-18T22:54:58.000+0000</td></tr><tr><td>10204</td><td>Svalbard & Jan Mayen Islands</td><td>List(-14.3257, 26.9087)</td><td>2020-04-06T02:56:29.000+0000</td></tr><tr><td>10513</td><td>Slovakia (Slovak Republic)</td><td>List(25.2981, 143.877)</td><td>2021-05-30T01:56:22.000+0000</td></tr><tr><td>926</td><td>Anguilla</td><td>List(-84.9417, 156.846)</td><td>2021-01-26T10:36:38.000+0000</td></tr><tr><td>3716</td><td>Lithuania</td><td>List(32.6648, -16.0578)</td><td>2018-12-31T20:43:42.000+0000</td></tr><tr><td>6014</td><td>French Southern Territories</td><td>List(-26.6026, 155.206)</td><td>2019-04-30T12:33:13.000+0000</td></tr><tr><td>2498</td><td>Togo</td><td>List(61.4706, -51.05)</td><td>2021-04-03T18:10:34.000+0000</td></tr><tr><td>3111</td><td>Iceland</td><td>List(-53.3753, 35.7843)</td><td>2018-01-22T00:19:58.000+0000</td></tr><tr><td>4675</td><td>Panama</td><td>List(-62.9245, -74.6713)</td><td>2020-06-29T01:50:10.000+0000</td></tr><tr><td>2216</td><td>Kiribati</td><td>List(21.423, 14.4097)</td><td>2018-08-21T03:47:41.000+0000</td></tr><tr><td>2959</td><td>Angola</td><td>List(-68.0095, -157.227)</td><td>2019-08-19T08:22:02.000+0000</td></tr><tr><td>1026</td><td>Kiribati</td><td>List(-23.6508, 14.2803)</td><td>2021-08-08T06:13:17.000+0000</td></tr><tr><td>6797</td><td>Greece</td><td>List(-3.94057, 150.733)</td><td>2022-02-28T10:25:08.000+0000</td></tr><tr><td>10247</td><td>Nauru</td><td>List(48.0954, 99.1652)</td><td>2021-10-31T01:04:11.000+0000</td></tr><tr><td>8843</td><td>American Samoa</td><td>List(-88.5255, -161.644)</td><td>2020-10-12T16:19:20.000+0000</td></tr><tr><td>9487</td><td>Canada</td><td>List(-76.9532, -113.641)</td><td>2018-12-18T11:16:52.000+0000</td></tr><tr><td>1599</td><td>Bolivia</td><td>List(86.0967, 111.323)</td><td>2019-02-05T14:58:20.000+0000</td></tr><tr><td>6299</td><td>Bangladesh</td><td>List(29.1899, 98.5863)</td><td>2022-10-05T06:08:34.000+0000</td></tr><tr><td>9155</td><td>Andorra</td><td>List(-84.7363, -179.087)</td><td>2021-09-04T20:27:36.000+0000</td></tr><tr><td>2641</td><td>Anguilla</td><td>List(-89.0609, -170.904)</td><td>2020-04-30T20:37:18.000+0000</td></tr><tr><td>6380</td><td>Argentina</td><td>List(-57.051, -133.377)</td><td>2017-12-21T21:46:23.000+0000</td></tr><tr><td>5647</td><td>Germany</td><td>List(-82.2521, -110.013)</td><td>2021-05-11T20:20:59.000+0000</td></tr><tr><td>1349</td><td>France</td><td>List(-41.0444, 6.37103)</td><td>2018-04-26T22:32:36.000+0000</td></tr><tr><td>10936</td><td>Andorra</td><td>List(52.2422, 38.9553)</td><td>2020-02-12T06:23:29.000+0000</td></tr><tr><td>10119</td><td>Christmas Island</td><td>List(-74.5431, -162.795)</td><td>2020-10-22T01:59:58.000+0000</td></tr><tr><td>9093</td><td>Austria</td><td>List(-87.7764, -151.645)</td><td>2021-07-24T23:07:06.000+0000</td></tr><tr><td>2577</td><td>Aruba</td><td>List(-71.5025, -179.257)</td><td>2019-08-01T05:45:51.000+0000</td></tr><tr><td>9935</td><td>Bouvet Island (Bouvetoya)</td><td>List(-88.516, -178.811)</td><td>2022-02-04T05:27:15.000+0000</td></tr><tr><td>6906</td><td>Central African Republic</td><td>List(-88.5425, -157.374)</td><td>2019-07-12T06:22:04.000+0000</td></tr><tr><td>8978</td><td>Faroe Islands</td><td>List(-2.01499, 3.78198)</td><td>2017-12-01T13:26:06.000+0000</td></tr><tr><td>6680</td><td>Azerbaijan</td><td>List(-24.8545, 162.173)</td><td>2020-09-06T18:52:17.000+0000</td></tr><tr><td>1555</td><td>Algeria</td><td>List(-1.7046, -55.332)</td><td>2017-12-24T18:41:23.000+0000</td></tr><tr><td>6479</td><td>Ireland</td><td>List(47.9142, -98.4756)</td><td>2020-10-12T04:13:06.000+0000</td></tr><tr><td>1676</td><td>Anguilla</td><td>List(69.5322, -89.9617)</td><td>2019-01-11T11:53:56.000+0000</td></tr><tr><td>1811</td><td>Burundi</td><td>List(5.98843, -127.249)</td><td>2020-03-01T19:51:40.000+0000</td></tr><tr><td>7528</td><td>Albania</td><td>List(-89.9787, -173.293)</td><td>2020-08-28T03:52:47.000+0000</td></tr><tr><td>5151</td><td>Guatemala</td><td>List(-47.3372, -151.397)</td><td>2020-07-15T01:42:38.000+0000</td></tr><tr><td>10538</td><td>Belarus</td><td>List(-82.4354, 59.1527)</td><td>2018-01-29T03:49:45.000+0000</td></tr><tr><td>4775</td><td>Maldives</td><td>List(19.1474, 100.721)</td><td>2018-03-21T03:50:29.000+0000</td></tr><tr><td>5069</td><td>Azerbaijan</td><td>List(-63.0063, -157.474)</td><td>2021-03-20T09:32:44.000+0000</td></tr><tr><td>4670</td><td>Turkmenistan</td><td>List(3.12721, 24.4592)</td><td>2021-09-28T23:26:00.000+0000</td></tr><tr><td>813</td><td>French Southern Territories</td><td>List(-70.9146, -136.554)</td><td>2022-06-13T23:08:43.000+0000</td></tr><tr><td>187</td><td>Dominica</td><td>List(-55.1732, -175.864)</td><td>2018-06-20T10:32:48.000+0000</td></tr><tr><td>7512</td><td>Japan</td><td>List(-69.4772, 14.3683)</td><td>2020-01-05T02:10:42.000+0000</td></tr><tr><td>6939</td><td>Cuba</td><td>List(-83.907, 149.749)</td><td>2022-04-06T03:57:03.000+0000</td></tr><tr><td>5209</td><td>Bahrain</td><td>List(-66.8154, -102.355)</td><td>2021-01-21T07:00:24.000+0000</td></tr><tr><td>6602</td><td>Afghanistan</td><td>List(-88.0192, -169.911)</td><td>2019-06-06T07:40:48.000+0000</td></tr><tr><td>1104</td><td>Niger</td><td>List(-67.6004, -153.472)</td><td>2022-01-14T00:33:23.000+0000</td></tr><tr><td>8123</td><td>Morocco</td><td>List(80.2593, -134.292)</td><td>2021-08-23T07:31:46.000+0000</td></tr><tr><td>7961</td><td>El Salvador</td><td>List(-25.6526, -170.677)</td><td>2018-02-22T05:12:04.000+0000</td></tr><tr><td>1530</td><td>Oman</td><td>List(65.8719, 110.263)</td><td>2018-08-23T03:52:50.000+0000</td></tr><tr><td>7752</td><td>Burkina Faso</td><td>List(-66.6708, -110.47)</td><td>2019-08-04T08:10:47.000+0000</td></tr><tr><td>8204</td><td>Maldives</td><td>List(-18.1973, -126.543)</td><td>2019-05-28T05:38:33.000+0000</td></tr><tr><td>1014</td><td>Tonga</td><td>List(81.1477, 69.3538)</td><td>2022-02-03T22:05:34.000+0000</td></tr><tr><td>5468</td><td>Isle of Man</td><td>List(-83.544, 33.9473)</td><td>2020-05-16T23:17:50.000+0000</td></tr><tr><td>7862</td><td>Argentina</td><td>List(-87.7034, -178.422)</td><td>2019-09-01T19:08:58.000+0000</td></tr><tr><td>3485</td><td>Bahamas</td><td>List(-87.0574, -164.826)</td><td>2020-05-07T16:28:18.000+0000</td></tr><tr><td>4585</td><td>Afghanistan</td><td>List(-75.7662, -171.892)</td><td>2021-12-05T18:36:27.000+0000</td></tr><tr><td>10440</td><td>Andorra</td><td>List(-34.1179, 44.4994)</td><td>2021-08-20T01:36:51.000+0000</td></tr><tr><td>6324</td><td>Colombia</td><td>List(31.9862, -132.101)</td><td>2022-03-24T20:45:08.000+0000</td></tr><tr><td>9665</td><td>Antigua and Barbuda</td><td>List(-54.2967, -115.789)</td><td>2019-07-02T12:20:26.000+0000</td></tr><tr><td>3750</td><td>Comoros</td><td>List(-73.8837, -159.054)</td><td>2022-09-03T23:36:08.000+0000</td></tr><tr><td>9120</td><td>Romania</td><td>List(47.556, 3.55852)</td><td>2021-09-30T17:07:00.000+0000</td></tr><tr><td>924</td><td>Tajikistan</td><td>List(-83.1793, -16.6569)</td><td>2022-07-30T11:11:55.000+0000</td></tr><tr><td>10625</td><td>Jamaica</td><td>List(-84.4944, -81.0613)</td><td>2018-07-13T11:51:15.000+0000</td></tr><tr><td>9875</td><td>Barbados</td><td>List(-74.3382, -110.484)</td><td>2020-03-20T13:03:18.000+0000</td></tr><tr><td>4508</td><td>Philippines</td><td>List(69.1858, -76.0761)</td><td>2019-01-04T11:15:27.000+0000</td></tr><tr><td>3882</td><td>Belize</td><td>List(-88.6506, -120.682)</td><td>2022-01-09T01:38:01.000+0000</td></tr><tr><td>9791</td><td>Cote d'Ivoire</td><td>List(62.1818, 80.6331)</td><td>2022-09-12T04:27:50.000+0000</td></tr><tr><td>10566</td><td>Bulgaria</td><td>List(-65.0348, -139.576)</td><td>2022-08-02T03:56:01.000+0000</td></tr><tr><td>3182</td><td>Belize</td><td>List(-89.6778, -169.798)</td><td>2020-07-10T02:31:44.000+0000</td></tr><tr><td>7642</td><td>Algeria</td><td>List(-89.5173, -179.689)</td><td>2021-08-02T04:15:24.000+0000</td></tr><tr><td>8312</td><td>American Samoa</td><td>List(-77.9744, -106.258)</td><td>2021-04-25T15:56:29.000+0000</td></tr><tr><td>4027</td><td>Barbados</td><td>List(-69.7124, -165.207)</td><td>2019-01-23T20:53:22.000+0000</td></tr><tr><td>5084</td><td>Slovakia (Slovak Republic)</td><td>List(87.8011, 53.0249)</td><td>2022-01-06T22:16:07.000+0000</td></tr><tr><td>4475</td><td>Dominica</td><td>List(-59.6238, 96.814)</td><td>2018-05-01T16:59:40.000+0000</td></tr><tr><td>385</td><td>American Samoa</td><td>List(-88.5252, -172.436)</td><td>2017-12-30T19:35:54.000+0000</td></tr><tr><td>808</td><td>Albania</td><td>List(-71.6856, -179.126)</td><td>2019-01-03T15:43:12.000+0000</td></tr><tr><td>10337</td><td>Christmas Island</td><td>List(-42.3069, -109.17)</td><td>2021-10-26T12:09:43.000+0000</td></tr><tr><td>9778</td><td>Guam</td><td>List(85.2343, 126.628)</td><td>2020-08-24T14:24:42.000+0000</td></tr><tr><td>4781</td><td>Dominica</td><td>List(-72.0263, 32.3959)</td><td>2019-06-30T13:16:16.000+0000</td></tr><tr><td>7685</td><td>Azerbaijan</td><td>List(-50.8291, -40.8846)</td><td>2020-06-07T21:29:34.000+0000</td></tr><tr><td>9183</td><td>Anguilla</td><td>List(-54.9713, -55.3111)</td><td>2020-04-20T07:48:31.000+0000</td></tr><tr><td>2452</td><td>Bahamas</td><td>List(-82.2495, -135.586)</td><td>2018-02-16T06:48:42.000+0000</td></tr><tr><td>5679</td><td>Qatar</td><td>List(-31.0302, 69.808)</td><td>2020-03-16T12:40:13.000+0000</td></tr><tr><td>4055</td><td>Georgia</td><td>List(16.8902, -123.373)</td><td>2021-09-23T06:42:16.000+0000</td></tr><tr><td>10570</td><td>Bulgaria</td><td>List(-87.6895, -176.801)</td><td>2021-12-29T05:55:33.000+0000</td></tr><tr><td>7770</td><td>Venezuela</td><td>List(50.8676, 58.8244)</td><td>2019-10-03T17:28:34.000+0000</td></tr><tr><td>9234</td><td>Azerbaijan</td><td>List(-68.2139, -44.4492)</td><td>2021-07-08T05:58:46.000+0000</td></tr><tr><td>4381</td><td>Papua New Guinea</td><td>List(-73.112, 166.935)</td><td>2018-10-24T00:08:30.000+0000</td></tr><tr><td>10248</td><td>Equatorial Guinea</td><td>List(-31.9615, 161.151)</td><td>2019-11-03T15:11:00.000+0000</td></tr><tr><td>3345</td><td>Sweden</td><td>List(21.5886, -173.383)</td><td>2017-10-24T06:17:09.000+0000</td></tr><tr><td>10425</td><td>Bangladesh</td><td>List(-89.4254, -161.818)</td><td>2022-03-30T21:28:40.000+0000</td></tr><tr><td>1611</td><td>Uganda</td><td>List(15.9313, -117.052)</td><td>2018-04-09T02:43:42.000+0000</td></tr><tr><td>6671</td><td>Armenia</td><td>List(-38.5336, 63.0323)</td><td>2019-06-19T07:38:50.000+0000</td></tr><tr><td>1545</td><td>Anguilla</td><td>List(-30.18, -72.3784)</td><td>2022-06-17T05:47:12.000+0000</td></tr><tr><td>1521</td><td>Saint Helena</td><td>List(24.5192, 64.9674)</td><td>2022-10-12T14:03:26.000+0000</td></tr><tr><td>1175</td><td>Nauru</td><td>List(-75.0051, -171.034)</td><td>2020-09-16T14:16:31.000+0000</td></tr><tr><td>8700</td><td>American Samoa</td><td>List(-88.5255, -161.644)</td><td>2019-03-15T15:32:15.000+0000</td></tr><tr><td>5488</td><td>Finland</td><td>List(-59.6163, -107.324)</td><td>2021-03-14T05:55:21.000+0000</td></tr><tr><td>2161</td><td>Bosnia and Herzegovina</td><td>List(65.064, -26.9196)</td><td>2019-07-18T22:30:21.000+0000</td></tr><tr><td>9502</td><td>Algeria</td><td>List(-71.3184, -113.724)</td><td>2021-06-27T10:58:17.000+0000</td></tr><tr><td>9929</td><td>Congo</td><td>List(-55.2455, -97.0937)</td><td>2022-04-19T14:19:21.000+0000</td></tr><tr><td>9010</td><td>Argentina</td><td>List(-89.63, -179.022)</td><td>2018-12-21T18:40:56.000+0000</td></tr><tr><td>7902</td><td>Afghanistan</td><td>List(-87.8179, -178.525)</td><td>2022-04-13T15:57:13.000+0000</td></tr><tr><td>7640</td><td>Albania</td><td>List(-87.2, -177.109)</td><td>2020-12-26T05:39:12.000+0000</td></tr><tr><td>6305</td><td>Azerbaijan</td><td>List(-89.3669, -170.886)</td><td>2021-05-09T19:54:08.000+0000</td></tr><tr><td>7666</td><td>Algeria</td><td>List(-89.5173, -179.689)</td><td>2021-02-06T19:47:52.000+0000</td></tr><tr><td>10234</td><td>Belarus</td><td>List(-89.1492, -169.091)</td><td>2020-08-25T17:45:15.000+0000</td></tr><tr><td>10500</td><td>Philippines</td><td>List(-84.9984, 155.706)</td><td>2019-06-16T10:28:02.000+0000</td></tr><tr><td>283</td><td>Aruba</td><td>List(-84.8378, -167.14)</td><td>2021-01-04T02:59:01.000+0000</td></tr><tr><td>2499</td><td>Guadeloupe</td><td>List(-69.8437, -61.9355)</td><td>2021-09-22T22:23:13.000+0000</td></tr><tr><td>644</td><td>Albania</td><td>List(-71.6856, -179.126)</td><td>2022-06-09T11:40:06.000+0000</td></tr><tr><td>7050</td><td>Monaco</td><td>List(-28.2843, -134.891)</td><td>2020-07-08T00:37:37.000+0000</td></tr><tr><td>287</td><td>Aruba</td><td>List(-84.8378, -167.14)</td><td>2022-06-18T10:40:31.000+0000</td></tr><tr><td>1268</td><td>Argentina</td><td>List(-41.7803, -177.23)</td><td>2019-07-06T04:10:29.000+0000</td></tr><tr><td>2793</td><td>Botswana</td><td>List(-84.3867, -120.917)</td><td>2021-03-22T17:39:38.000+0000</td></tr><tr><td>4641</td><td>Bahrain</td><td>List(-34.1594, -124.145)</td><td>2020-12-23T00:16:10.000+0000</td></tr><tr><td>9268</td><td>American Samoa</td><td>List(-88.5255, -161.644)</td><td>2020-03-16T23:13:51.000+0000</td></tr><tr><td>2904</td><td>Brunei Darussalam</td><td>List(-35.6673, -173.786)</td><td>2022-03-17T06:29:33.000+0000</td></tr><tr><td>498</td><td>Armenia</td><td>List(-88.9652, -164.795)</td><td>2021-05-13T21:01:51.000+0000</td></tr><tr><td>10369</td><td>Bouvet Island (Bouvetoya)</td><td>List(-79.0994, -101.415)</td><td>2020-02-01T10:43:06.000+0000</td></tr><tr><td>6645</td><td>Colombia</td><td>List(-62.5143, -114.548)</td><td>2019-06-18T05:17:37.000+0000</td></tr><tr><td>2952</td><td>Chad</td><td>List(-79.2535, -170.409)</td><td>2019-04-03T08:24:44.000+0000</td></tr><tr><td>3334</td><td>Anguilla</td><td>List(-89.0609, -170.904)</td><td>2019-09-26T20:13:48.000+0000</td></tr><tr><td>8120</td><td>British Virgin Islands</td><td>List(-59.1209, -93.9878)</td><td>2022-02-07T04:10:37.000+0000</td></tr><tr><td>7285</td><td>Afghanistan</td><td>List(-88.3754, -164.273)</td><td>2018-12-08T09:53:32.000+0000</td></tr><tr><td>179</td><td>Monaco</td><td>List(-69.6993, 160.052)</td><td>2019-11-22T14:46:15.000+0000</td></tr><tr><td>159</td><td>Andorra</td><td>List(-88.0812, -166.603)</td><td>2017-11-20T21:14:56.000+0000</td></tr><tr><td>10853</td><td>Peru</td><td>List(26.2386, -91.1249)</td><td>2019-11-03T03:19:46.000+0000</td></tr><tr><td>2025</td><td>American Samoa</td><td>List(-88.5252, -172.436)</td><td>2021-11-08T16:23:39.000+0000</td></tr><tr><td>1707</td><td>Congo</td><td>List(-49.9394, -109.211)</td><td>2021-05-01T22:43:52.000+0000</td></tr><tr><td>8561</td><td>American Samoa</td><td>List(-81.8896, -153.897)</td><td>2019-09-07T20:08:45.000+0000</td></tr><tr><td>9173</td><td>Guernsey</td><td>List(-70.6233, -69.455)</td><td>2019-08-22T13:23:51.000+0000</td></tr><tr><td>857</td><td>Bahamas</td><td>List(-87.0574, -164.826)</td><td>2021-12-28T23:31:43.000+0000</td></tr><tr><td>8854</td><td>Argentina</td><td>List(-89.4739, -176.154)</td><td>2021-05-24T12:35:37.000+0000</td></tr><tr><td>4925</td><td>Saint Kitts and Nevis</td><td>List(-27.7949, -15.1704)</td><td>2018-12-08T06:53:23.000+0000</td></tr><tr><td>3175</td><td>French Polynesia</td><td>List(-84.8365, -122.171)</td><td>2021-12-08T02:58:18.000+0000</td></tr><tr><td>2482</td><td>Bermuda</td><td>List(63.4563, -164.709)</td><td>2019-09-13T08:20:13.000+0000</td></tr><tr><td>10278</td><td>Bahrain</td><td>List(-52.3365, -177.892)</td><td>2019-07-23T13:35:03.000+0000</td></tr><tr><td>1626</td><td>Tokelau</td><td>List(-58.448, -104.059)</td><td>2020-09-23T10:43:02.000+0000</td></tr><tr><td>6844</td><td>New Caledonia</td><td>List(-22.6915, 5.69245)</td><td>2021-06-06T21:53:11.000+0000</td></tr><tr><td>1198</td><td>Finland</td><td>List(6.37207, -150.73)</td><td>2020-01-24T23:42:18.000+0000</td></tr><tr><td>2987</td><td>Dominica</td><td>List(83.1466, -169.136)</td><td>2019-12-24T22:33:06.000+0000</td></tr><tr><td>8996</td><td>Andorra</td><td>List(-84.7363, -179.087)</td><td>2022-06-12T07:21:52.000+0000</td></tr><tr><td>8653</td><td>Seychelles</td><td>List(48.4569, -139.658)</td><td>2022-04-11T18:30:19.000+0000</td></tr><tr><td>4</td><td>Albania</td><td>List(-88.8298, -170.188)</td><td>2022-07-07T00:18:41.000+0000</td></tr><tr><td>865</td><td>Armenia</td><td>List(-88.9652, -164.795)</td><td>2019-12-22T03:54:25.000+0000</td></tr><tr><td>3703</td><td>Angola</td><td>List(-87.3742, -177.647)</td><td>2020-05-18T04:14:27.000+0000</td></tr><tr><td>4769</td><td>Aruba</td><td>List(-82.0592, -92.7514)</td><td>2021-10-16T01:34:51.000+0000</td></tr><tr><td>301</td><td>Aruba</td><td>List(-84.8378, -167.14)</td><td>2018-04-15T07:17:24.000+0000</td></tr><tr><td>9402</td><td>Argentina</td><td>List(-89.4739, -176.154)</td><td>2022-06-15T08:25:16.000+0000</td></tr><tr><td>8977</td><td>Bosnia and Herzegovina</td><td>List(-80.2967, -166.23)</td><td>2021-07-05T00:38:13.000+0000</td></tr><tr><td>6806</td><td>Fiji</td><td>List(51.4822, -20.238)</td><td>2020-10-11T11:07:40.000+0000</td></tr><tr><td>1301</td><td>Lesotho</td><td>List(-20.2845, -1.62035)</td><td>2020-12-16T16:24:43.000+0000</td></tr><tr><td>9969</td><td>Christmas Island</td><td>List(-85.0855, -156.903)</td><td>2019-11-02T09:49:59.000+0000</td></tr><tr><td>10168</td><td>Norway</td><td>List(-14.7211, 137.812)</td><td>2019-10-14T00:19:33.000+0000</td></tr><tr><td>10837</td><td>Samoa</td><td>List(86.6387, -26.2408)</td><td>2018-09-27T07:12:31.000+0000</td></tr><tr><td>527</td><td>Aruba</td><td>List(-75.3, -169.77)</td><td>2020-11-15T18:35:20.000+0000</td></tr><tr><td>5230</td><td>Albania</td><td>List(-89.9787, -173.293)</td><td>2022-05-05T00:30:35.000+0000</td></tr><tr><td>1481</td><td>Finland</td><td>List(-37.2856, 153.269)</td><td>2018-07-14T15:10:37.000+0000</td></tr><tr><td>1324</td><td>Netherlands Antilles</td><td>List(-10.2532, -124.71)</td><td>2019-10-28T01:24:28.000+0000</td></tr><tr><td>10052</td><td>Central African Republic</td><td>List(14.7195, -130.921)</td><td>2020-01-03T01:10:57.000+0000</td></tr><tr><td>409</td><td>Cameroon</td><td>List(-41.5492, -152.355)</td><td>2019-05-28T01:00:22.000+0000</td></tr><tr><td>1170</td><td>Libyan Arab Jamahiriya</td><td>List(56.1198, 20.2963)</td><td>2019-08-07T22:17:07.000+0000</td></tr></tbody></table></div>"
      ]
     },
     "metadata": {
      "application/vnd.databricks.v1+output": {
       "addedWidgets": {},
       "aggData": [],
       "aggError": "",
       "aggOverflow": false,
       "aggSchema": [],
       "aggSeriesLimitReached": false,
       "aggType": "",
       "arguments": {},
       "columnCustomDisplayInfos": {},
       "data": [
        [
         "9812",
         "Benin",
         [
          "-44.6251",
          "72.8949"
         ],
         "2021-11-20T00:08:55.000+0000"
        ],
        [
         "7068",
         "Aruba",
         [
          "-74.1238",
          "-64.0839"
         ],
         "2017-10-27T06:07:40.000+0000"
        ],
        [
         "5561",
         "Bangladesh",
         [
          "-80.6398",
          "-57.7465"
         ],
         "2022-06-21T20:46:51.000+0000"
        ],
        [
         "6521",
         "Australia",
         [
          "-82.0198",
          "-155.211"
         ],
         "2020-05-27T11:27:08.000+0000"
        ],
        [
         "8887",
         "Botswana",
         [
          "-28.0137",
          "-160.708"
         ],
         "2021-09-19T05:27:43.000+0000"
        ],
        [
         "771",
         "Montserrat",
         [
          "-29.1712",
          "-107.111"
         ],
         "2018-06-21T08:42:57.000+0000"
        ],
        [
         "7586",
         "Andorra",
         [
          "-84.7363",
          "-179.087"
         ],
         "2021-02-07T22:17:31.000+0000"
        ],
        [
         "4530",
         "Angola",
         [
          "3.30986",
          "6.98283"
         ],
         "2021-09-10T22:13:57.000+0000"
        ],
        [
         "5763",
         "Brunei Darussalam",
         [
          "-5.58912",
          "-18.8417"
         ],
         "2021-10-10T09:15:43.000+0000"
        ],
        [
         "10179",
         "Algeria",
         [
          "-74.7055",
          "-177.87"
         ],
         "2019-11-06T05:51:25.000+0000"
        ],
        [
         "5360",
         "Argentina",
         [
          "-87.2245",
          "-100.213"
         ],
         "2017-11-04T17:03:23.000+0000"
        ],
        [
         "7891",
         "Andorra",
         [
          "-89.4584",
          "-134.271"
         ],
         "2020-05-05T10:10:10.000+0000"
        ],
        [
         "1341",
         "Albania",
         [
          "-89.9787",
          "-173.293"
         ],
         "2022-08-11T05:25:33.000+0000"
        ],
        [
         "8745",
         "Tuvalu",
         [
          "31.6701",
          "-59.7391"
         ],
         "2020-10-28T03:45:33.000+0000"
        ],
        [
         "2893",
         "Bermuda",
         [
          "-68.5399",
          "-28.38"
         ],
         "2018-03-05T04:33:55.000+0000"
        ],
        [
         "2927",
         "Andorra",
         [
          "-87.1113",
          "-159.587"
         ],
         "2020-02-14T00:04:58.000+0000"
        ],
        [
         "8834",
         "Aruba",
         [
          "-83.104",
          "-171.302"
         ],
         "2018-05-05T18:10:07.000+0000"
        ],
        [
         "5512",
         "Aruba",
         [
          "-53.7253",
          "-130.413"
         ],
         "2022-01-15T23:43:09.000+0000"
        ],
        [
         "1473",
         "Cote d'Ivoire",
         [
          "1.54969",
          "92.6435"
         ],
         "2021-08-11T20:54:01.000+0000"
        ],
        [
         "10138",
         "Austria",
         [
          "-72.142",
          "-74.3545"
         ],
         "2019-08-03T00:59:29.000+0000"
        ],
        [
         "9074",
         "Andorra",
         [
          "-84.7363",
          "-179.087"
         ],
         "2022-04-10T17:06:13.000+0000"
        ],
        [
         "1450",
         "American Samoa",
         [
          "-88.5252",
          "-172.436"
         ],
         "2022-01-15T16:04:27.000+0000"
        ],
        [
         "10245",
         "Bahamas",
         [
          "-50.1835",
          "146.776"
         ],
         "2020-03-03T15:39:44.000+0000"
        ],
        [
         "2288",
         "Anguilla",
         [
          "-89.1797",
          "-174.015"
         ],
         "2019-11-03T06:08:36.000+0000"
        ],
        [
         "7850",
         "Vietnam",
         [
          "26.5208",
          "160.699"
         ],
         "2022-04-09T15:06:01.000+0000"
        ],
        [
         "1469",
         "American Samoa",
         [
          "-81.8896",
          "-153.897"
         ],
         "2018-09-28T00:59:30.000+0000"
        ],
        [
         "10524",
         "Guinea",
         [
          "-39.0782",
          "-177.418"
         ],
         "2022-02-09T07:36:35.000+0000"
        ],
        [
         "6660",
         "Bouvet Island (Bouvetoya)",
         [
          "-54.5264",
          "73.4883"
         ],
         "2019-02-01T11:00:19.000+0000"
        ],
        [
         "2970",
         "Cuba",
         [
          "-75.7236",
          "-156.761"
         ],
         "2022-06-07T05:58:57.000+0000"
        ],
        [
         "525",
         "Albania",
         [
          "-89.9787",
          "-173.293"
         ],
         "2021-07-23T21:18:02.000+0000"
        ],
        [
         "9533",
         "Antigua and Barbuda",
         [
          "18.632",
          "-179.847"
         ],
         "2018-07-20T01:00:43.000+0000"
        ],
        [
         "2523",
         "Guadeloupe",
         [
          "-22.4337",
          "-96.2152"
         ],
         "2018-07-09T01:36:13.000+0000"
        ],
        [
         "2337",
         "British Virgin Islands",
         [
          "-87.7946",
          "-159.647"
         ],
         "2019-08-22T16:11:41.000+0000"
        ],
        [
         "501",
         "Albania",
         [
          "-88.8298",
          "-170.188"
         ],
         "2018-11-04T15:42:21.000+0000"
        ],
        [
         "1972",
         "Antigua and Barbuda",
         [
          "2.58949",
          "111.716"
         ],
         "2022-06-19T09:31:02.000+0000"
        ],
        [
         "5405",
         "Afghanistan",
         [
          "-89.328",
          "-175.555"
         ],
         "2019-04-05T14:51:19.000+0000"
        ],
        [
         "3717",
         "Afghanistan",
         [
          "-88.5478",
          "-174.971"
         ],
         "2019-05-20T06:15:42.000+0000"
        ],
        [
         "8304",
         "French Guiana",
         [
          "-28.8852",
          "-164.87"
         ],
         "2019-09-13T04:50:29.000+0000"
        ],
        [
         "33",
         "Japan",
         [
          "-47.1159",
          "-118.396"
         ],
         "2018-02-15T21:25:06.000+0000"
        ],
        [
         "6066",
         "Bolivia",
         [
          "-67.7278",
          "-174.505"
         ],
         "2019-03-04T01:04:11.000+0000"
        ],
        [
         "7905",
         "Namibia",
         [
          "-47.8121",
          "-134.015"
         ],
         "2018-11-13T12:39:43.000+0000"
        ],
        [
         "5620",
         "Faroe Islands",
         [
          "-53.6087",
          "-121.68"
         ],
         "2021-02-18T12:34:44.000+0000"
        ],
        [
         "4862",
         "Czech Republic",
         [
          "-65.3198",
          "-123.45"
         ],
         "2021-07-17T05:01:31.000+0000"
        ],
        [
         "2334",
         "Liberia",
         [
          "6.486",
          "-29.3747"
         ],
         "2018-07-26T13:06:01.000+0000"
        ],
        [
         "3184",
         "Cape Verde",
         [
          "-41.293",
          "-171.585"
         ],
         "2018-09-25T23:17:46.000+0000"
        ],
        [
         "2955",
         "Antigua and Barbuda",
         [
          "23.7768",
          "-23.4838"
         ],
         "2022-10-11T17:21:06.000+0000"
        ],
        [
         "5166",
         "Austria",
         [
          "-26.0588",
          "-72.2696"
         ],
         "2020-01-16T09:56:50.000+0000"
        ],
        [
         "4245",
         "Afghanistan",
         [
          "-88.5478",
          "-174.971"
         ],
         "2018-01-24T03:15:26.000+0000"
        ],
        [
         "1066",
         "Botswana",
         [
          "-54.8354",
          "39.6735"
         ],
         "2019-08-29T17:31:37.000+0000"
        ],
        [
         "4816",
         "Montserrat",
         [
          "-55.559",
          "-64.4094"
         ],
         "2022-05-12T08:02:36.000+0000"
        ],
        [
         "974",
         "Svalbard & Jan Mayen Islands",
         [
          "-56.9556",
          "94.6183"
         ],
         "2022-03-17T09:24:07.000+0000"
        ],
        [
         "4944",
         "Bahamas",
         [
          "-48.2064",
          "-176.272"
         ],
         "2020-07-06T02:24:51.000+0000"
        ],
        [
         "643",
         "Bulgaria",
         [
          "-87.4992",
          "-177.336"
         ],
         "2020-06-01T05:58:14.000+0000"
        ],
        [
         "1214",
         "Qatar",
         [
          "-79.9392",
          "40.2275"
         ],
         "2021-03-06T20:54:28.000+0000"
        ],
        [
         "9721",
         "Singapore",
         [
          "-17.4568",
          "-148.686"
         ],
         "2021-11-06T19:42:39.000+0000"
        ],
        [
         "5959",
         "Cyprus",
         [
          "-44.9016",
          "-17.5192"
         ],
         "2020-08-10T01:00:33.000+0000"
        ],
        [
         "334",
         "Solomon Islands",
         [
          "-42.0076",
          "32.8769"
         ],
         "2021-11-06T04:13:00.000+0000"
        ],
        [
         "6341",
         "Andorra",
         [
          "-81.6697",
          "-149.084"
         ],
         "2018-05-22T07:07:24.000+0000"
        ],
        [
         "8926",
         "Lesotho",
         [
          "43.0814",
          "-91.8318"
         ],
         "2019-10-28T22:24:31.000+0000"
        ],
        [
         "4922",
         "Aruba",
         [
          "-82.0592",
          "-92.7514"
         ],
         "2018-05-15T10:56:08.000+0000"
        ],
        [
         "3349",
         "Cameroon",
         [
          "-84.7767",
          "-155.835"
         ],
         "2022-01-09T07:39:35.000+0000"
        ],
        [
         "3260",
         "Albania",
         [
          "-89.3675",
          "-157.004"
         ],
         "2019-10-23T19:52:59.000+0000"
        ],
        [
         "7510",
         "Aruba",
         [
          "-79.9828",
          "-172.235"
         ],
         "2021-12-21T01:37:25.000+0000"
        ],
        [
         "8677",
         "Bouvet Island (Bouvetoya)",
         [
          "-84.3984",
          "-144.933"
         ],
         "2020-02-12T23:24:01.000+0000"
        ],
        [
         "7240",
         "Albania",
         [
          "-89.9787",
          "-173.293"
         ],
         "2022-05-31T21:23:46.000+0000"
        ],
        [
         "7896",
         "Bulgaria",
         [
          "-64.1231",
          "-164.904"
         ],
         "2020-06-02T13:49:36.000+0000"
        ],
        [
         "456",
         "French Guiana",
         [
          "-63.2737",
          "-163.515"
         ],
         "2018-05-17T18:00:51.000+0000"
        ],
        [
         "307",
         "Angola",
         [
          "26.8027",
          "43.1265"
         ],
         "2018-01-25T00:55:00.000+0000"
        ],
        [
         "4348",
         "Bouvet Island (Bouvetoya)",
         [
          "-81.2924",
          "-145.407"
         ],
         "2019-04-06T17:59:09.000+0000"
        ],
        [
         "9546",
         "Austria",
         [
          "-70.0295",
          "-155.428"
         ],
         "2018-02-10T06:16:40.000+0000"
        ],
        [
         "10370",
         "Finland",
         [
          "-81.9798",
          "-71.932"
         ],
         "2018-07-29T15:53:40.000+0000"
        ],
        [
         "1137",
         "Seychelles",
         [
          "12.2544",
          "10.7361"
         ],
         "2020-12-26T00:56:04.000+0000"
        ],
        [
         "5159",
         "Albania",
         [
          "-62.7034",
          "-114.366"
         ],
         "2021-08-26T08:03:46.000+0000"
        ],
        [
         "8889",
         "Iran",
         [
          "-77.4233",
          "-174.444"
         ],
         "2022-10-09T05:28:20.000+0000"
        ],
        [
         "3266",
         "Samoa",
         [
          "43.6716",
          "160.165"
         ],
         "2019-02-09T14:23:13.000+0000"
        ],
        [
         "5044",
         "Austria",
         [
          "-89.1633",
          "-159.957"
         ],
         "2022-08-28T14:19:24.000+0000"
        ],
        [
         "1776",
         "Australia",
         [
          "-54.0745",
          "-21.3922"
         ],
         "2018-11-02T18:29:02.000+0000"
        ],
        [
         "9475",
         "Panama",
         [
          "-84.1953",
          "164.362"
         ],
         "2019-03-19T08:26:35.000+0000"
        ],
        [
         "3240",
         "Angola",
         [
          "-24.2386",
          "-165.309"
         ],
         "2022-06-10T09:36:51.000+0000"
        ],
        [
         "10479",
         "Armenia",
         [
          "-82.9685",
          "-178.095"
         ],
         "2019-03-06T19:31:55.000+0000"
        ],
        [
         "8505",
         "New Zealand",
         [
          "63.1367",
          "-61.1867"
         ],
         "2018-07-13T22:57:41.000+0000"
        ],
        [
         "9530",
         "Guinea-Bissau",
         [
          "-22.5949",
          "-65.081"
         ],
         "2021-06-20T12:16:53.000+0000"
        ],
        [
         "3710",
         "Greenland",
         [
          "73.3141",
          "168.921"
         ],
         "2018-11-05T01:18:53.000+0000"
        ],
        [
         "10271",
         "Ethiopia",
         [
          "39.243",
          "125.621"
         ],
         "2021-06-05T12:37:05.000+0000"
        ],
        [
         "9307",
         "Albania",
         [
          "-88.8298",
          "-170.188"
         ],
         "2018-05-05T18:51:37.000+0000"
        ],
        [
         "5076",
         "Germany",
         [
          "-70.7195",
          "-91.1935"
         ],
         "2019-05-05T16:22:23.000+0000"
        ],
        [
         "7234",
         "Algeria",
         [
          "-86.4791",
          "-169.547"
         ],
         "2017-10-21T14:31:02.000+0000"
        ],
        [
         "2172",
         "Botswana",
         [
          "9.88473",
          "-160.515"
         ],
         "2022-05-19T04:02:52.000+0000"
        ],
        [
         "7950",
         "Romania",
         [
          "76.0609",
          "-60.6718"
         ],
         "2017-10-23T12:34:22.000+0000"
        ],
        [
         "9936",
         "Australia",
         [
          "-82.1715",
          "-147.691"
         ],
         "2018-06-30T22:07:13.000+0000"
        ],
        [
         "3011",
         "Kuwait",
         [
          "-76.4675",
          "28.8054"
         ],
         "2019-12-17T17:46:18.000+0000"
        ],
        [
         "3008",
         "Venezuela",
         [
          "0.314337",
          "-58.7666"
         ],
         "2019-07-31T22:36:11.000+0000"
        ],
        [
         "4590",
         "Faroe Islands",
         [
          "-70.8231",
          "62.688"
         ],
         "2021-12-15T01:16:31.000+0000"
        ],
        [
         "10156",
         "Somalia",
         [
          "-16.9412",
          "-35.1592"
         ],
         "2019-03-08T14:42:14.000+0000"
        ],
        [
         "7166",
         "Aruba",
         [
          "-86.4063",
          "-136.657"
         ],
         "2022-07-25T03:07:37.000+0000"
        ],
        [
         "74",
         "Antigua and Barbuda",
         [
          "-81.0108",
          "-165.206"
         ],
         "2020-01-29T14:03:35.000+0000"
        ],
        [
         "9355",
         "Niue",
         [
          "24.2826",
          "-7.25448"
         ],
         "2021-04-16T13:44:16.000+0000"
        ],
        [
         "3164",
         "Bolivia",
         [
          "-44.6381",
          "82.124"
         ],
         "2018-04-25T18:32:49.000+0000"
        ],
        [
         "7539",
         "Aruba",
         [
          "-86.4063",
          "-136.657"
         ],
         "2020-09-05T06:26:33.000+0000"
        ],
        [
         "1308",
         "Cape Verde",
         [
          "-84.8196",
          "-76.5704"
         ],
         "2021-05-24T13:17:12.000+0000"
        ],
        [
         "6834",
         "Nauru",
         [
          "-60.0697",
          "-109.639"
         ],
         "2019-08-25T15:54:59.000+0000"
        ],
        [
         "7790",
         "Papua New Guinea",
         [
          "-43.692",
          "64.9839"
         ],
         "2018-07-31T08:19:15.000+0000"
        ],
        [
         "1487",
         "Denmark",
         [
          "6.23029",
          "-75.5939"
         ],
         "2021-05-15T18:23:45.000+0000"
        ],
        [
         "896",
         "Malta",
         [
          "-57.9836",
          "-31.5589"
         ],
         "2018-10-20T13:23:05.000+0000"
        ],
        [
         "222",
         "Lesotho",
         [
          "43.8747",
          "-54.895"
         ],
         "2021-12-13T19:14:15.000+0000"
        ],
        [
         "3226",
         "Andorra",
         [
          "-87.1113",
          "-159.587"
         ],
         "2020-07-26T13:44:36.000+0000"
        ],
        [
         "6963",
         "Algeria",
         [
          "-86.4791",
          "-169.547"
         ],
         "2018-02-08T03:20:50.000+0000"
        ],
        [
         "3317",
         "Austria",
         [
          "46.9331",
          "-84.3072"
         ],
         "2022-06-14T00:25:02.000+0000"
        ],
        [
         "1857",
         "Libyan Arab Jamahiriya",
         [
          "21.2186",
          "-40.6656"
         ],
         "2018-05-10T13:51:40.000+0000"
        ],
        [
         "9335",
         "Antarctica (the territory South of 60 deg S)",
         [
          "-88.4642",
          "-171.061"
         ],
         "2020-11-14T23:42:22.000+0000"
        ],
        [
         "7769",
         "Algeria",
         [
          "-89.5173",
          "-179.689"
         ],
         "2019-05-27T20:40:51.000+0000"
        ],
        [
         "3630",
         "Australia",
         [
          "34.7482",
          "-114.021"
         ],
         "2021-06-15T15:10:50.000+0000"
        ],
        [
         "719",
         "Armenia",
         [
          "-38.4062",
          "-154.323"
         ],
         "2018-10-29T04:05:12.000+0000"
        ],
        [
         "603",
         "Netherlands Antilles",
         [
          "14.0083",
          "-141.603"
         ],
         "2019-06-25T05:13:01.000+0000"
        ],
        [
         "10120",
         "Isle of Man",
         [
          "-55.1562",
          "-122.854"
         ],
         "2022-03-10T07:02:32.000+0000"
        ],
        [
         "4780",
         "Maldives",
         [
          "-85.4758",
          "-166.172"
         ],
         "2020-10-25T17:29:49.000+0000"
        ],
        [
         "7785",
         "Lebanon",
         [
          "-72.7111",
          "-162.159"
         ],
         "2020-02-24T05:42:00.000+0000"
        ],
        [
         "3480",
         "American Samoa",
         [
          "-89.3099",
          "-166.033"
         ],
         "2018-04-10T08:49:49.000+0000"
        ],
        [
         "4271",
         "Armenia",
         [
          "-44.7118",
          "-74.3034"
         ],
         "2021-01-02T01:56:52.000+0000"
        ],
        [
         "5365",
         "Botswana",
         [
          "-87.476",
          "-163.419"
         ],
         "2020-10-07T01:28:01.000+0000"
        ],
        [
         "1699",
         "Canada",
         [
          "-54.3706",
          "-127.783"
         ],
         "2022-07-03T13:25:48.000+0000"
        ],
        [
         "3878",
         "Bhutan",
         [
          "36.8347",
          "-14.0135"
         ],
         "2022-06-06T16:05:13.000+0000"
        ],
        [
         "1570",
         "India",
         [
          "26.005",
          "16.2163"
         ],
         "2020-02-28T17:19:16.000+0000"
        ],
        [
         "4333",
         "Andorra",
         [
          "-79.0404",
          "-143.074"
         ],
         "2022-07-24T11:42:30.000+0000"
        ],
        [
         "2315",
         "Guinea-Bissau",
         [
          "17.806",
          "-1.9042"
         ],
         "2019-06-05T08:54:04.000+0000"
        ],
        [
         "3896",
         "Afghanistan",
         [
          "-88.5478",
          "-174.971"
         ],
         "2020-10-01T22:49:42.000+0000"
        ],
        [
         "6633",
         "Guyana",
         [
          "86.8189",
          "-91.7252"
         ],
         "2018-09-02T10:13:09.000+0000"
        ],
        [
         "4424",
         "Afghanistan",
         [
          "-85.7989",
          "-150.644"
         ],
         "2021-05-18T02:48:52.000+0000"
        ],
        [
         "5402",
         "Brazil",
         [
          "-27.1791",
          "-159.955"
         ],
         "2022-07-22T12:40:32.000+0000"
        ],
        [
         "2267",
         "Bolivia",
         [
          "-77.4732",
          "-161.087"
         ],
         "2019-07-15T08:01:36.000+0000"
        ],
        [
         "7383",
         "Ecuador",
         [
          "-55.757",
          "-157.572"
         ],
         "2022-01-28T15:36:36.000+0000"
        ],
        [
         "2465",
         "Bouvet Island (Bouvetoya)",
         [
          "-57.1033",
          "-29.6301"
         ],
         "2022-07-23T11:15:09.000+0000"
        ],
        [
         "2095",
         "Nigeria",
         [
          "27.5545",
          "-5.30833"
         ],
         "2022-09-13T08:48:27.000+0000"
        ],
        [
         "4489",
         "Brazil",
         [
          "55.3371",
          "-29.5545"
         ],
         "2022-03-27T21:48:39.000+0000"
        ],
        [
         "1821",
         "Belgium",
         [
          "-42.9967",
          "-111.616"
         ],
         "2020-08-29T00:40:44.000+0000"
        ],
        [
         "7596",
         "Albania",
         [
          "-87.2",
          "-177.109"
         ],
         "2022-09-03T15:27:36.000+0000"
        ],
        [
         "1422",
         "American Samoa",
         [
          "-88.5252",
          "-172.436"
         ],
         "2018-04-30T08:27:21.000+0000"
        ],
        [
         "3436",
         "Belize",
         [
          "-35.194",
          "-115.253"
         ],
         "2022-05-31T23:26:11.000+0000"
        ],
        [
         "4396",
         "Norfolk Island",
         [
          "15.0521",
          "51.8958"
         ],
         "2021-03-18T10:05:16.000+0000"
        ],
        [
         "6276",
         "Costa Rica",
         [
          "-25.6124",
          "-79.4675"
         ],
         "2022-04-02T10:32:04.000+0000"
        ],
        [
         "6264",
         "Finland",
         [
          "-72.5021",
          "-128.903"
         ],
         "2019-06-09T00:01:11.000+0000"
        ],
        [
         "2074",
         "Central African Republic",
         [
          "-52.3213",
          "-50.11"
         ],
         "2019-11-03T05:41:59.000+0000"
        ],
        [
         "778",
         "Guatemala",
         [
          "48.2704",
          "-123.073"
         ],
         "2018-10-19T14:43:39.000+0000"
        ],
        [
         "10600",
         "Bermuda",
         [
          "68.9357",
          "122.338"
         ],
         "2020-12-31T07:05:04.000+0000"
        ],
        [
         "4931",
         "Honduras",
         [
          "42.2143",
          "-45.0378"
         ],
         "2020-03-27T07:42:02.000+0000"
        ],
        [
         "8731",
         "Aruba",
         [
          "-83.104",
          "-171.302"
         ],
         "2020-07-17T04:39:09.000+0000"
        ],
        [
         "7718",
         "United States Virgin Islands",
         [
          "-21.4347",
          "108.416"
         ],
         "2022-08-10T06:57:29.000+0000"
        ],
        [
         "5796",
         "Afghanistan",
         [
          "-89.328",
          "-175.555"
         ],
         "2020-09-01T12:47:49.000+0000"
        ],
        [
         "6705",
         "Aruba",
         [
          "-86.2476",
          "-171.577"
         ],
         "2021-03-19T16:31:21.000+0000"
        ],
        [
         "3647",
         "American Samoa",
         [
          "-89.3099",
          "-166.033"
         ],
         "2018-11-27T04:18:51.000+0000"
        ],
        [
         "4757",
         "Christmas Island",
         [
          "-79.9806",
          "-112.824"
         ],
         "2019-12-13T12:56:24.000+0000"
        ],
        [
         "8323",
         "Albania",
         [
          "-89.9787",
          "-173.293"
         ],
         "2017-11-07T21:37:37.000+0000"
        ],
        [
         "5117",
         "Azerbaijan",
         [
          "-45.4254",
          "-178.805"
         ],
         "2018-07-31T04:06:21.000+0000"
        ],
        [
         "3454",
         "Cambodia",
         [
          "-0.375174",
          "49.8106"
         ],
         "2021-07-25T02:20:29.000+0000"
        ],
        [
         "5630",
         "Bahrain",
         [
          "-19.1403",
          "-164.987"
         ],
         "2019-05-12T14:43:19.000+0000"
        ],
        [
         "1362",
         "Ghana",
         [
          "48.3704",
          "92.28"
         ],
         "2022-07-20T05:38:18.000+0000"
        ],
        [
         "3052",
         "Cape Verde",
         [
          "-41.293",
          "-171.585"
         ],
         "2020-12-16T19:51:57.000+0000"
        ],
        [
         "9950",
         "Belarus",
         [
          "-22.3693",
          "-133.483"
         ],
         "2020-01-14T04:36:41.000+0000"
        ],
        [
         "4210",
         "Brunei Darussalam",
         [
          "67.6263",
          "-102.631"
         ],
         "2021-08-26T11:24:35.000+0000"
        ],
        [
         "8352",
         "Georgia",
         [
          "-79.019",
          "-39.4996"
         ],
         "2022-10-09T10:47:24.000+0000"
        ],
        [
         "5003",
         "Azerbaijan",
         [
          "-89.3669",
          "-170.886"
         ],
         "2021-11-23T21:14:44.000+0000"
        ],
        [
         "8081",
         "Egypt",
         [
          "-33.8238",
          "-129.18"
         ],
         "2022-03-25T07:42:29.000+0000"
        ],
        [
         "10087",
         "Cayman Islands",
         [
          "38.7097",
          "-70.0495"
         ],
         "2018-12-10T17:17:32.000+0000"
        ],
        [
         "7446",
         "Korea",
         [
          "-79.3098",
          "-179.101"
         ],
         "2021-10-08T07:48:05.000+0000"
        ],
        [
         "6181",
         "Argentina",
         [
          "-89.63",
          "-179.022"
         ],
         "2022-08-18T21:20:00.000+0000"
        ],
        [
         "7370",
         "Saint Pierre and Miquelon",
         [
          "-24.2107",
          "138.463"
         ],
         "2018-04-05T08:02:42.000+0000"
        ],
        [
         "6740",
         "Saint Pierre and Miquelon",
         [
          "-19.6583",
          "90.4449"
         ],
         "2022-09-29T22:58:19.000+0000"
        ],
        [
         "570",
         "American Samoa",
         [
          "-86.4433",
          "-178.772"
         ],
         "2019-05-21T00:12:37.000+0000"
        ],
        [
         "9455",
         "British Indian Ocean Territory (Chagos Archipelago)",
         [
          "-82.9272",
          "-150.346"
         ],
         "2022-03-15T01:46:32.000+0000"
        ],
        [
         "3201",
         "Pitcairn Islands",
         [
          "34.0532",
          "-68.4946"
         ],
         "2019-06-25T08:31:37.000+0000"
        ],
        [
         "10099",
         "Afghanistan",
         [
          "-89.4261",
          "-171.58"
         ],
         "2020-12-24T13:33:03.000+0000"
        ],
        [
         "9270",
         "Bouvet Island (Bouvetoya)",
         [
          "-84.3984",
          "-144.933"
         ],
         "2022-05-23T03:24:24.000+0000"
        ],
        [
         "7271",
         "Equatorial Guinea",
         [
          "37.8447",
          "-98.2389"
         ],
         "2022-06-02T07:28:41.000+0000"
        ],
        [
         "4500",
         "Aruba",
         [
          "-84.3768",
          "-157.544"
         ],
         "2020-09-12T03:16:36.000+0000"
        ],
        [
         "4137",
         "Australia",
         [
          "-55.3079",
          "108.918"
         ],
         "2019-06-23T22:16:34.000+0000"
        ],
        [
         "9759",
         "American Samoa",
         [
          "-77.9744",
          "-106.258"
         ],
         "2017-12-30T13:05:49.000+0000"
        ],
        [
         "6747",
         "Saint Barthelemy",
         [
          "-63.5213",
          "141.538"
         ],
         "2019-04-23T08:01:32.000+0000"
        ],
        [
         "3177",
         "Belize",
         [
          "-89.6778",
          "-169.798"
         ],
         "2022-04-30T12:13:28.000+0000"
        ],
        [
         "4913",
         "Aruba",
         [
          "-84.3768",
          "-157.544"
         ],
         "2019-03-08T06:45:39.000+0000"
        ],
        [
         "10347",
         "Macao",
         [
          "83.9534",
          "-3.36801"
         ],
         "2021-08-03T13:04:40.000+0000"
        ],
        [
         "6503",
         "Hong Kong",
         [
          "42.8093",
          "-33.7894"
         ],
         "2019-09-01T18:43:30.000+0000"
        ],
        [
         "3813",
         "Georgia",
         [
          "-26.2917",
          "-29.1171"
         ],
         "2020-06-15T09:37:48.000+0000"
        ],
        [
         "781",
         "American Samoa",
         [
          "-86.4433",
          "-178.772"
         ],
         "2021-02-27T23:30:48.000+0000"
        ],
        [
         "2418",
         "Antarctica (the territory South of 60 deg S)",
         [
          "-88.4642",
          "-171.061"
         ],
         "2022-05-27T11:30:59.000+0000"
        ],
        [
         "8449",
         "Algeria",
         [
          "-89.5173",
          "-179.689"
         ],
         "2022-05-19T10:06:47.000+0000"
        ],
        [
         "2422",
         "Kuwait",
         [
          "-31.8074",
          "-169.911"
         ],
         "2022-01-11T01:24:46.000+0000"
        ],
        [
         "8511",
         "Algeria",
         [
          "86.5503",
          "-175.518"
         ],
         "2021-11-09T14:40:16.000+0000"
        ],
        [
         "9653",
         "Swaziland",
         [
          "-8.51096",
          "48.4678"
         ],
         "2018-10-04T15:17:55.000+0000"
        ],
        [
         "6916",
         "Solomon Islands",
         [
          "-73.9714",
          "-119.315"
         ],
         "2020-04-26T04:12:09.000+0000"
        ],
        [
         "8237",
         "Algeria",
         [
          "-89.5173",
          "-179.689"
         ],
         "2021-07-08T05:55:06.000+0000"
        ],
        [
         "4849",
         "Andorra",
         [
          "-24.3729",
          "12.2542"
         ],
         "2022-05-29T04:11:06.000+0000"
        ],
        [
         "5742",
         "Jamaica",
         [
          "-73.4926",
          "-61.56"
         ],
         "2020-09-02T01:40:18.000+0000"
        ],
        [
         "995",
         "Moldova",
         [
          "-88.0923",
          "-179.319"
         ],
         "2022-09-22T12:17:57.000+0000"
        ],
        [
         "1814",
         "Bangladesh",
         [
          "-82.3274",
          "-122.209"
         ],
         "2020-04-25T10:16:28.000+0000"
        ],
        [
         "6781",
         "Norfolk Island",
         [
          "63.0387",
          "-69.2727"
         ],
         "2021-02-02T21:27:49.000+0000"
        ],
        [
         "2411",
         "Albania",
         [
          "-71.6856",
          "-179.126"
         ],
         "2020-11-15T17:10:07.000+0000"
        ],
        [
         "310",
         "Antigua and Barbuda",
         [
          "-81.0108",
          "-165.206"
         ],
         "2021-01-25T22:22:37.000+0000"
        ],
        [
         "867",
         "Lesotho",
         [
          "43.8747",
          "-54.895"
         ],
         "2020-10-06T15:34:55.000+0000"
        ],
        [
         "5162",
         "Antarctica (the territory South of 60 deg S)",
         [
          "-71.6607",
          "-149.206"
         ],
         "2019-09-27T19:06:43.000+0000"
        ],
        [
         "4357",
         "Bahamas",
         [
          "-75.4909",
          "-179.908"
         ],
         "2020-03-06T09:56:43.000+0000"
        ],
        [
         "4115",
         "Aruba",
         [
          "-87.2086",
          "-172.058"
         ],
         "2022-08-23T06:13:19.000+0000"
        ],
        [
         "6878",
         "Algeria",
         [
          "-86.4791",
          "-169.547"
         ],
         "2019-03-18T04:11:07.000+0000"
        ],
        [
         "1205",
         "Bhutan",
         [
          "-89.4241",
          "-133.328"
         ],
         "2022-05-18T07:01:16.000+0000"
        ],
        [
         "10371",
         "Bahamas",
         [
          "44.5638",
          "101.933"
         ],
         "2017-12-17T12:54:54.000+0000"
        ],
        [
         "2780",
         "Guinea",
         [
          "20.7163",
          "118.461"
         ],
         "2021-03-27T04:26:37.000+0000"
        ],
        [
         "5231",
         "Czech Republic",
         [
          "-84.8278",
          "-4.7503"
         ],
         "2021-01-03T15:19:31.000+0000"
        ],
        [
         "1179",
         "Cameroon",
         [
          "-24.8281",
          "-138.237"
         ],
         "2018-11-24T03:50:34.000+0000"
        ],
        [
         "2447",
         "Puerto Rico",
         [
          "-53.9666",
          "-0.87653"
         ],
         "2021-11-27T04:12:27.000+0000"
        ],
        [
         "4050",
         "Aruba",
         [
          "-61.471",
          "-154.912"
         ],
         "2021-05-06T22:25:37.000+0000"
        ],
        [
         "232",
         "Tanzania",
         [
          "6.60912",
          "-173.609"
         ],
         "2019-02-18T03:38:47.000+0000"
        ],
        [
         "744",
         "New Caledonia",
         [
          "-76.8074",
          "58.7517"
         ],
         "2019-08-28T15:03:13.000+0000"
        ],
        [
         "2343",
         "Brazil",
         [
          "60.6981",
          "-79.5945"
         ],
         "2019-10-15T13:21:45.000+0000"
        ],
        [
         "3259",
         "Albania",
         [
          "-85.7359",
          "-161.599"
         ],
         "2020-01-12T04:39:05.000+0000"
        ],
        [
         "250",
         "France",
         [
          "-84.4203",
          "-142.539"
         ],
         "2018-11-08T12:14:12.000+0000"
        ],
        [
         "4024",
         "Aruba",
         [
          "-61.471",
          "-154.912"
         ],
         "2019-10-19T10:03:03.000+0000"
        ],
        [
         "6134",
         "Austria",
         [
          "-68.8136",
          "-128.482"
         ],
         "2022-04-03T12:34:59.000+0000"
        ],
        [
         "5130",
         "Grenada",
         [
          "-86.6858",
          "-160.5"
         ],
         "2020-10-24T23:43:15.000+0000"
        ],
        [
         "10931",
         "Armenia",
         [
          "-82.9685",
          "-178.095"
         ],
         "2021-03-20T06:14:31.000+0000"
        ],
        [
         "1514",
         "Korea",
         [
          "88.2631",
          "96.2413"
         ],
         "2022-02-12T20:43:15.000+0000"
        ],
        [
         "428",
         "Bangladesh",
         [
          "-83.4105",
          "-150.788"
         ],
         "2020-09-27T18:46:41.000+0000"
        ],
        [
         "1706",
         "Aruba",
         [
          "-71.5025",
          "-179.257"
         ],
         "2017-11-24T23:36:46.000+0000"
        ],
        [
         "10783",
         "Afghanistan",
         [
          "-71.4881",
          "-117.355"
         ],
         "2020-01-28T00:13:29.000+0000"
        ],
        [
         "2946",
         "Maldives",
         [
          "-89.8559",
          "-170.155"
         ],
         "2020-09-26T03:51:16.000+0000"
        ],
        [
         "8162",
         "Algeria",
         [
          "-74.408",
          "-178.774"
         ],
         "2020-07-22T06:56:03.000+0000"
        ],
        [
         "1701",
         "Malta",
         [
          "11.8752",
          "72.5547"
         ],
         "2018-04-08T20:12:32.000+0000"
        ],
        [
         "9672",
         "India",
         [
          "79.4658",
          "-69.4133"
         ],
         "2019-11-03T13:15:52.000+0000"
        ],
        [
         "10883",
         "Aruba",
         [
          "-53.423",
          "-59.3144"
         ],
         "2020-07-25T13:21:12.000+0000"
        ],
        [
         "4080",
         "Singapore",
         [
          "73.853",
          "15.7012"
         ],
         "2021-03-30T19:39:22.000+0000"
        ],
        [
         "10253",
         "Azerbaijan",
         [
          "-89.3669",
          "-170.886"
         ],
         "2018-03-07T12:37:25.000+0000"
        ],
        [
         "7283",
         "Albania",
         [
          "-89.9787",
          "-173.293"
         ],
         "2022-08-23T00:58:33.000+0000"
        ],
        [
         "859",
         "Romania",
         [
          "89.8261",
          "48.2256"
         ],
         "2020-04-07T19:23:24.000+0000"
        ],
        [
         "6348",
         "Bangladesh",
         [
          "-76.8013",
          "-28.1091"
         ],
         "2019-07-30T01:45:14.000+0000"
        ],
        [
         "10050",
         "Malawi",
         [
          "-62.2012",
          "-115.461"
         ],
         "2018-09-23T01:54:04.000+0000"
        ],
        [
         "3632",
         "Armenia",
         [
          "-44.7118",
          "-74.3034"
         ],
         "2021-11-28T14:55:54.000+0000"
        ],
        [
         "8282",
         "Afghanistan",
         [
          "-87.8179",
          "-178.525"
         ],
         "2022-10-11T08:19:45.000+0000"
        ],
        [
         "1719",
         "Andorra",
         [
          "24.3613",
          "-26.1229"
         ],
         "2022-06-01T06:43:11.000+0000"
        ],
        [
         "1503",
         "Armenia",
         [
          "-74.225",
          "-178.59"
         ],
         "2019-08-18T05:34:11.000+0000"
        ],
        [
         "5155",
         "Congo",
         [
          "-72.6034",
          "-163.176"
         ],
         "2018-06-07T06:28:37.000+0000"
        ],
        [
         "8300",
         "Chile",
         [
          "-64.5259",
          "19.7049"
         ],
         "2018-02-14T23:50:10.000+0000"
        ],
        [
         "5911",
         "Dominican Republic",
         [
          "-63.6774",
          "-118.407"
         ],
         "2020-11-04T03:19:21.000+0000"
        ],
        [
         "4857",
         "Azerbaijan",
         [
          "-39.5852",
          "-175.96"
         ],
         "2022-09-14T00:06:18.000+0000"
        ],
        [
         "3843",
         "Jamaica",
         [
          "-65.1524",
          "-18.7344"
         ],
         "2019-09-20T23:22:44.000+0000"
        ],
        [
         "365",
         "Ghana",
         [
          "64.583",
          "15.9277"
         ],
         "2020-07-22T01:36:17.000+0000"
        ],
        [
         "6575",
         "Dominican Republic",
         [
          "81.7192",
          "61.5152"
         ],
         "2020-12-29T22:59:37.000+0000"
        ],
        [
         "4398",
         "Greece",
         [
          "-67.8237",
          "17.7927"
         ],
         "2018-12-03T03:33:45.000+0000"
        ],
        [
         "8732",
         "United States of America",
         [
          "85.718",
          "-25.2438"
         ],
         "2022-03-06T12:41:07.000+0000"
        ],
        [
         "831",
         "Congo",
         [
          "-43.7816",
          "-66.1592"
         ],
         "2021-06-23T23:16:10.000+0000"
        ],
        [
         "3599",
         "Afghanistan",
         [
          "-88.5478",
          "-174.971"
         ],
         "2019-03-03T06:13:41.000+0000"
        ],
        [
         "7874",
         "Algeria",
         [
          "-89.5173",
          "-179.689"
         ],
         "2022-01-18T08:58:49.000+0000"
        ],
        [
         "3824",
         "British Virgin Islands",
         [
          "-82.4276",
          "-170.019"
         ],
         "2018-10-28T19:22:34.000+0000"
        ],
        [
         "10137",
         "Armenia",
         [
          "-50.8998",
          "-112.455"
         ],
         "2021-05-03T17:23:40.000+0000"
        ],
        [
         "9550",
         "British Virgin Islands",
         [
          "-84.918",
          "7.23235"
         ],
         "2022-03-23T00:25:45.000+0000"
        ],
        [
         "7183",
         "Finland",
         [
          "-31.7091",
          "50.1784"
         ],
         "2020-04-18T00:06:06.000+0000"
        ],
        [
         "9941",
         "Aruba",
         [
          "-53.7253",
          "-130.413"
         ],
         "2021-09-22T02:20:21.000+0000"
        ],
        [
         "6398",
         "Albania",
         [
          "-3.29267",
          "-179.726"
         ],
         "2020-01-19T01:49:05.000+0000"
        ],
        [
         "1667",
         "Bangladesh",
         [
          "-83.448",
          "-147.771"
         ],
         "2022-02-23T16:10:08.000+0000"
        ],
        [
         "4186",
         "Falkland Islands (Malvinas)",
         [
          "-72.0557",
          "-5.16099"
         ],
         "2018-09-10T12:52:21.000+0000"
        ],
        [
         "3688",
         "Montserrat",
         [
          "-64.6183",
          "-173.527"
         ],
         "2020-12-01T08:22:49.000+0000"
        ],
        [
         "8277",
         "Switzerland",
         [
          "40.4887",
          "-39.9694"
         ],
         "2021-10-25T06:21:53.000+0000"
        ],
        [
         "6333",
         "Yemen",
         [
          "69.6593",
          "173.413"
         ],
         "2021-05-09T03:29:56.000+0000"
        ],
        [
         "7500",
         "Albania",
         [
          "56.5828",
          "-165.941"
         ],
         "2021-08-08T15:30:48.000+0000"
        ],
        [
         "2553",
         "Bosnia and Herzegovina",
         [
          "-77.5565",
          "-152.042"
         ],
         "2022-01-05T11:05:38.000+0000"
        ],
        [
         "9146",
         "Argentina",
         [
          "-89.4739",
          "-176.154"
         ],
         "2018-08-08T16:20:34.000+0000"
        ],
        [
         "1263",
         "Armenia",
         [
          "-74.225",
          "-178.59"
         ],
         "2022-07-02T14:50:03.000+0000"
        ],
        [
         "4936",
         "Cambodia",
         [
          "-20.2655",
          "-163.485"
         ],
         "2019-06-04T23:30:11.000+0000"
        ],
        [
         "10154",
         "Chile",
         [
          "89.5057",
          "-36.5702"
         ],
         "2022-04-06T21:26:45.000+0000"
        ],
        [
         "4327",
         "Bahrain",
         [
          "43.4514",
          "121.584"
         ],
         "2017-11-02T02:56:00.000+0000"
        ],
        [
         "6145",
         "Mozambique",
         [
          "-65.9079",
          "-143.845"
         ],
         "2019-12-05T02:09:44.000+0000"
        ],
        [
         "5758",
         "Azerbaijan",
         [
          "-79.3714",
          "-145.242"
         ],
         "2018-09-12T15:08:34.000+0000"
        ],
        [
         "10917",
         "Solomon Islands",
         [
          "-86.2944",
          "-11.7821"
         ],
         "2019-08-18T13:14:30.000+0000"
        ],
        [
         "1881",
         "Uganda",
         [
          "10.6188",
          "103.231"
         ],
         "2018-03-26T06:09:13.000+0000"
        ],
        [
         "6453",
         "Angola",
         [
          "-81.0982",
          "-151.289"
         ],
         "2020-11-30T02:46:39.000+0000"
        ],
        [
         "8941",
         "Argentina",
         [
          "-89.4739",
          "-176.154"
         ],
         "2019-01-11T22:37:24.000+0000"
        ],
        [
         "4076",
         "Mauritania",
         [
          "-67.2157",
          "27.8139"
         ],
         "2019-06-07T20:13:50.000+0000"
        ],
        [
         "7641",
         "Albania",
         [
          "-87.2",
          "-177.109"
         ],
         "2021-09-28T13:56:50.000+0000"
        ],
        [
         "1254",
         "Latvia",
         [
          "76.9735",
          "-178.147"
         ],
         "2021-06-08T18:40:59.000+0000"
        ],
        [
         "8090",
         "Algeria",
         [
          "-89.5173",
          "-179.689"
         ],
         "2019-04-18T00:54:25.000+0000"
        ],
        [
         "9808",
         "American Samoa",
         [
          "-77.9744",
          "-106.258"
         ],
         "2018-02-27T14:43:59.000+0000"
        ],
        [
         "9482",
         "Rwanda",
         [
          "80.272",
          "-7.54919"
         ],
         "2022-08-13T15:19:04.000+0000"
        ],
        [
         "7039",
         "Belize",
         [
          "-77.5336",
          "-161.068"
         ],
         "2020-09-20T18:21:13.000+0000"
        ],
        [
         "9054",
         "Aruba",
         [
          "-83.104",
          "-171.302"
         ],
         "2020-05-18T01:31:05.000+0000"
        ],
        [
         "9223",
         "Aruba",
         [
          "-83.104",
          "-171.302"
         ],
         "2022-08-22T03:36:20.000+0000"
        ],
        [
         "223",
         "Isle of Man",
         [
          "1.15509",
          "-118.397"
         ],
         "2018-12-07T07:30:40.000+0000"
        ],
        [
         "7738",
         "Comoros",
         [
          "66.8478",
          "22.777"
         ],
         "2017-11-12T03:45:21.000+0000"
        ],
        [
         "6865",
         "Algeria",
         [
          "-70.3363",
          "-42.7487"
         ],
         "2020-05-15T16:04:18.000+0000"
        ],
        [
         "7631",
         "Heard Island and McDonald Islands",
         [
          "54.4122",
          "130.428"
         ],
         "2021-12-15T22:42:25.000+0000"
        ],
        [
         "3556",
         "Andorra",
         [
          "-88.0812",
          "-166.603"
         ],
         "2022-02-05T02:03:08.000+0000"
        ],
        [
         "1967",
         "Australia",
         [
          "32.74",
          "-179.581"
         ],
         "2021-02-05T10:37:28.000+0000"
        ],
        [
         "7162",
         "Latvia",
         [
          "-62.1814",
          "-161.34"
         ],
         "2017-12-16T03:09:45.000+0000"
        ],
        [
         "8004",
         "French Polynesia",
         [
          "44.8017",
          "-151.313"
         ],
         "2017-10-20T09:27:16.000+0000"
        ],
        [
         "7093",
         "Nicaragua",
         [
          "-11.9605",
          "92.2728"
         ],
         "2022-06-06T14:11:52.000+0000"
        ],
        [
         "1864",
         "Algeria",
         [
          "-72.3958",
          "-164.414"
         ],
         "2020-04-24T17:08:13.000+0000"
        ],
        [
         "4256",
         "Afghanistan",
         [
          "-88.5478",
          "-174.971"
         ],
         "2018-10-10T17:57:16.000+0000"
        ],
        [
         "8488",
         "Argentina",
         [
          "-89.4739",
          "-176.154"
         ],
         "2017-12-20T03:09:10.000+0000"
        ],
        [
         "1024",
         "Congo",
         [
          "-35.9989",
          "-107.383"
         ],
         "2020-03-11T02:37:45.000+0000"
        ],
        [
         "9099",
         "Andorra",
         [
          "-73.8268",
          "-159.056"
         ],
         "2017-12-24T21:03:56.000+0000"
        ],
        [
         "6682",
         "Korea",
         [
          "-5.04594",
          "28.0201"
         ],
         "2019-02-10T06:51:48.000+0000"
        ],
        [
         "10663",
         "Saint Kitts and Nevis",
         [
          "-27.3474",
          "-162.83"
         ],
         "2019-07-25T18:53:51.000+0000"
        ],
        [
         "9903",
         "Egypt",
         [
          "-73.556",
          "44.511"
         ],
         "2019-05-12T08:33:31.000+0000"
        ],
        [
         "2060",
         "Trinidad and Tobago",
         [
          "52.4584",
          "68.6527"
         ],
         "2020-01-25T13:54:17.000+0000"
        ],
        [
         "5198",
         "Croatia",
         [
          "-13.8028",
          "-160.846"
         ],
         "2020-10-21T11:13:53.000+0000"
        ],
        [
         "3983",
         "Benin",
         [
          "-73.6522",
          "-164.936"
         ],
         "2019-09-01T10:40:42.000+0000"
        ],
        [
         "10673",
         "Nicaragua",
         [
          "37.1991",
          "-32.1713"
         ],
         "2021-06-30T08:47:01.000+0000"
        ],
        [
         "2810",
         "India",
         [
          "-85.4298",
          "-49.5099"
         ],
         "2019-12-29T14:34:40.000+0000"
        ],
        [
         "1780",
         "Andorra",
         [
          "-87.1113",
          "-159.587"
         ],
         "2019-11-01T18:14:25.000+0000"
        ],
        [
         "8591",
         "Aruba",
         [
          "-83.104",
          "-171.302"
         ],
         "2021-08-02T15:08:22.000+0000"
        ],
        [
         "8366",
         "Kuwait",
         [
          "-38.5318",
          "-139.215"
         ],
         "2018-03-28T14:17:11.000+0000"
        ],
        [
         "10526",
         "Namibia",
         [
          "59.1203",
          "94.4738"
         ],
         "2018-02-21T14:52:09.000+0000"
        ],
        [
         "7209",
         "Central African Republic",
         [
          "-88.5425",
          "-157.374"
         ],
         "2020-02-12T11:09:50.000+0000"
        ],
        [
         "10602",
         "British Virgin Islands",
         [
          "-63.6447",
          "-132.968"
         ],
         "2018-03-05T12:50:32.000+0000"
        ],
        [
         "5111",
         "British Indian Ocean Territory (Chagos Archipelago)",
         [
          "-83.7472",
          "8.65953"
         ],
         "2021-04-01T00:56:57.000+0000"
        ],
        [
         "204",
         "United States Virgin Islands",
         [
          "29.2096",
          "-13.1258"
         ],
         "2018-11-23T15:01:11.000+0000"
        ],
        [
         "9700",
         "Cyprus",
         [
          "25.3879",
          "-177.604"
         ],
         "2021-02-05T05:06:15.000+0000"
        ],
        [
         "4353",
         "Congo",
         [
          "15.5553",
          "-55.4806"
         ],
         "2018-02-03T23:18:03.000+0000"
        ],
        [
         "2015",
         "Armenia",
         [
          "-17.629",
          "-177.685"
         ],
         "2018-09-22T13:52:19.000+0000"
        ],
        [
         "3419",
         "Bhutan",
         [
          "7.60293",
          "-108.979"
         ],
         "2021-12-20T05:01:54.000+0000"
        ],
        [
         "8341",
         "Somalia",
         [
          "-16.5066",
          "-133.185"
         ],
         "2022-08-08T05:09:50.000+0000"
        ],
        [
         "320",
         "Greece",
         [
          "12.0902",
          "113.873"
         ],
         "2019-11-13T10:03:45.000+0000"
        ],
        [
         "860",
         "Bahrain",
         [
          "-5.22078",
          "-26.9354"
         ],
         "2018-12-11T12:14:12.000+0000"
        ],
        [
         "3542",
         "Monaco",
         [
          "0.214821",
          "-148.275"
         ],
         "2022-05-15T20:38:55.000+0000"
        ],
        [
         "10093",
         "Korea",
         [
          "5.63233",
          "-128.852"
         ],
         "2018-09-11T01:30:39.000+0000"
        ],
        [
         "772",
         "Monaco",
         [
          "25.0708",
          "-97.1964"
         ],
         "2022-09-22T05:59:55.000+0000"
        ],
        [
         "1643",
         "Uganda",
         [
          "52.0489",
          "-63.5087"
         ],
         "2018-08-17T13:25:13.000+0000"
        ],
        [
         "5460",
         "Antigua and Barbuda",
         [
          "-56.1614",
          "7.19803"
         ],
         "2022-04-25T15:02:37.000+0000"
        ],
        [
         "7958",
         "Saint Vincent and the Grenadines",
         [
          "-72.3686",
          "174.831"
         ],
         "2021-02-26T21:03:00.000+0000"
        ],
        [
         "3563",
         "Saint Barthelemy",
         [
          "-77.3153",
          "-69.505"
         ],
         "2018-09-05T07:40:01.000+0000"
        ],
        [
         "2975",
         "Ecuador",
         [
          "42.4695",
          "101.315"
         ],
         "2021-08-06T01:48:36.000+0000"
        ],
        [
         "2754",
         "Lithuania",
         [
          "-86.4467",
          "-74.949"
         ],
         "2019-09-11T02:15:42.000+0000"
        ],
        [
         "2297",
         "United States Virgin Islands",
         [
          "28.1985",
          "-94.6501"
         ],
         "2021-10-04T19:45:54.000+0000"
        ],
        [
         "6063",
         "Anguilla",
         [
          "-89.1797",
          "-174.015"
         ],
         "2021-07-20T09:02:47.000+0000"
        ],
        [
         "9218",
         "Benin",
         [
          "-70.6524",
          "-171.552"
         ],
         "2020-05-07T21:30:58.000+0000"
        ],
        [
         "4654",
         "El Salvador",
         [
          "-77.816",
          "-168.413"
         ],
         "2020-06-22T16:43:58.000+0000"
        ],
        [
         "8089",
         "Niue",
         [
          "-56.4684",
          "98.8754"
         ],
         "2018-06-01T04:06:02.000+0000"
        ],
        [
         "9718",
         "Czech Republic",
         [
          "-76.4505",
          "-161.588"
         ],
         "2021-11-25T04:36:47.000+0000"
        ],
        [
         "8461",
         "Benin",
         [
          "34.7197",
          "79.8326"
         ],
         "2021-10-15T09:17:14.000+0000"
        ],
        [
         "616",
         "Andorra",
         [
          "-77.6883",
          "-145.539"
         ],
         "2017-10-25T11:00:30.000+0000"
        ],
        [
         "935",
         "China",
         [
          "38.6535",
          "38.6415"
         ],
         "2020-12-01T00:14:41.000+0000"
        ],
        [
         "3638",
         "Macao",
         [
          "-0.749224",
          "58.845"
         ],
         "2020-09-12T07:45:37.000+0000"
        ],
        [
         "8738",
         "Austria",
         [
          "-87.7764",
          "-151.645"
         ],
         "2018-11-21T16:40:06.000+0000"
        ],
        [
         "8007",
         "Austria",
         [
          "-65.3158",
          "-179.734"
         ],
         "2022-08-15T09:19:01.000+0000"
        ],
        [
         "4361",
         "Antarctica (the territory South of 60 deg S)",
         [
          "-24.8372",
          "-163.337"
         ],
         "2022-07-17T10:48:12.000+0000"
        ],
        [
         "2923",
         "Cote d'Ivoire",
         [
          "-84.6302",
          "-164.507"
         ],
         "2019-09-08T22:53:09.000+0000"
        ],
        [
         "46",
         "Afghanistan",
         [
          "4.21689",
          "-145.82"
         ],
         "2018-09-15T09:16:57.000+0000"
        ],
        [
         "6261",
         "Marshall Islands",
         [
          "-10.3101",
          "-109.763"
         ],
         "2021-11-11T16:18:45.000+0000"
        ],
        [
         "9185",
         "Antarctica (the territory South of 60 deg S)",
         [
          "-10.3764",
          "-22.9809"
         ],
         "2019-10-06T18:12:55.000+0000"
        ],
        [
         "1789",
         "Iran",
         [
          "25.4676",
          "-125.575"
         ],
         "2020-09-28T10:16:28.000+0000"
        ],
        [
         "678",
         "Iran",
         [
          "50.2114",
          "56.4204"
         ],
         "2019-09-08T16:46:26.000+0000"
        ],
        [
         "5497",
         "Czech Republic",
         [
          "-84.8278",
          "-4.7503"
         ],
         "2018-09-10T22:55:37.000+0000"
        ],
        [
         "8174",
         "Burkina Faso",
         [
          "-66.6708",
          "-110.47"
         ],
         "2018-10-20T17:28:23.000+0000"
        ],
        [
         "6976",
         "Aruba",
         [
          "-74.1238",
          "-64.0839"
         ],
         "2020-09-14T04:55:37.000+0000"
        ],
        [
         "3094",
         "Benin",
         [
          "-88.9184",
          "-50.9383"
         ],
         "2018-03-22T12:31:19.000+0000"
        ],
        [
         "5349",
         "Aruba",
         [
          "-53.7253",
          "-130.413"
         ],
         "2020-10-09T12:55:51.000+0000"
        ],
        [
         "1322",
         "Austria",
         [
          "-66.7906",
          "-99.8545"
         ],
         "2021-08-29T12:37:19.000+0000"
        ],
        [
         "4448",
         "Anguilla",
         [
          "24.8451",
          "158.01"
         ],
         "2019-03-16T15:36:20.000+0000"
        ],
        [
         "480",
         "Mozambique",
         [
          "-30.7158",
          "-167.461"
         ],
         "2019-02-08T03:34:58.000+0000"
        ],
        [
         "7745",
         "Algeria",
         [
          "-89.5173",
          "-179.689"
         ],
         "2018-11-01T18:20:28.000+0000"
        ],
        [
         "8645",
         "Armenia",
         [
          "-69.636",
          "-166.432"
         ],
         "2022-06-22T09:32:17.000+0000"
        ],
        [
         "2001",
         "Croatia",
         [
          "-53.7111",
          "-138.763"
         ],
         "2021-11-11T15:42:04.000+0000"
        ],
        [
         "10912",
         "Armenia",
         [
          "-89.3302",
          "-60.6105"
         ],
         "2019-12-11T00:03:39.000+0000"
        ],
        [
         "5494",
         "Bulgaria",
         [
          "-82.6768",
          "-129.202"
         ],
         "2021-07-21T02:02:35.000+0000"
        ],
        [
         "7554",
         "Sudan",
         [
          "-51.2172",
          "-77.9768"
         ],
         "2019-03-20T03:15:07.000+0000"
        ],
        [
         "6019",
         "Gabon",
         [
          "-12.722",
          "178.583"
         ],
         "2019-05-23T22:52:10.000+0000"
        ],
        [
         "8251",
         "Bouvet Island (Bouvetoya)",
         [
          "-0.165781",
          "-62.325"
         ],
         "2022-02-03T11:05:11.000+0000"
        ],
        [
         "7964",
         "Algeria",
         [
          "-89.5173",
          "-179.689"
         ],
         "2019-03-08T16:29:06.000+0000"
        ],
        [
         "2508",
         "Bahamas",
         [
          "-46.4572",
          "131.244"
         ],
         "2018-01-24T08:31:16.000+0000"
        ],
        [
         "1065",
         "Saudi Arabia",
         [
          "25.4542",
          "26.6371"
         ],
         "2018-09-27T13:09:39.000+0000"
        ],
        [
         "8944",
         "Ireland",
         [
          "54.4385",
          "-0.300596"
         ],
         "2020-02-29T04:51:18.000+0000"
        ],
        [
         "5692",
         "Belize",
         [
          "-71.3226",
          "-2.65747"
         ],
         "2021-12-27T06:24:04.000+0000"
        ],
        [
         "2293",
         "British Virgin Islands",
         [
          "-87.7946",
          "-159.647"
         ],
         "2022-03-21T10:46:53.000+0000"
        ],
        [
         "637",
         "American Samoa",
         [
          "-41.2244",
          "-158.022"
         ],
         "2018-06-06T01:25:58.000+0000"
        ],
        [
         "7413",
         "Nicaragua",
         [
          "-41.065",
          "169.341"
         ],
         "2021-10-23T08:25:14.000+0000"
        ],
        [
         "8361",
         "Algeria",
         [
          "-88.355",
          "-96.0131"
         ],
         "2019-01-14T02:17:34.000+0000"
        ],
        [
         "6498",
         "Argentina",
         [
          "-65.3952",
          "-175.249"
         ],
         "2020-04-04T16:25:16.000+0000"
        ],
        [
         "7940",
         "Argentina",
         [
          "-87.7034",
          "-178.422"
         ],
         "2021-11-29T09:13:08.000+0000"
        ],
        [
         "5091",
         "Saudi Arabia",
         [
          "-19.04",
          "3.5168"
         ],
         "2020-11-07T10:43:32.000+0000"
        ],
        [
         "1786",
         "Afghanistan",
         [
          "33.2467",
          "-132.693"
         ],
         "2018-05-15T13:12:23.000+0000"
        ],
        [
         "7514",
         "Belize",
         [
          "-82.0184",
          "129.231"
         ],
         "2020-03-07T10:12:53.000+0000"
        ],
        [
         "10715",
         "Bahamas",
         [
          "-57.3926",
          "-145.818"
         ],
         "2022-09-24T08:05:54.000+0000"
        ],
        [
         "1537",
         "Lebanon",
         [
          "43.6096",
          "-176.551"
         ],
         "2017-12-15T13:53:57.000+0000"
        ],
        [
         "5737",
         "Argentina",
         [
          "-80.3487",
          "-178.419"
         ],
         "2020-04-11T11:27:31.000+0000"
        ],
        [
         "10073",
         "Antarctica (the territory South of 60 deg S)",
         [
          "-32.8885",
          "-170.295"
         ],
         "2021-06-29T19:56:04.000+0000"
        ],
        [
         "6813",
         "Albania",
         [
          "-89.9787",
          "-173.293"
         ],
         "2019-03-28T09:34:06.000+0000"
        ],
        [
         "2430",
         "Aruba",
         [
          "-71.5025",
          "-179.257"
         ],
         "2019-06-23T04:33:25.000+0000"
        ],
        [
         "2048",
         "Antigua and Barbuda",
         [
          "-89.4008",
          "-142.186"
         ],
         "2017-11-20T06:33:50.000+0000"
        ],
        [
         "1216",
         "Albania",
         [
          "-69.8134",
          "-152.834"
         ],
         "2020-07-19T23:57:16.000+0000"
        ],
        [
         "2787",
         "Bahamas",
         [
          "-51.5396",
          "-105.634"
         ],
         "2022-03-05T15:22:38.000+0000"
        ],
        [
         "4765",
         "Bhutan",
         [
          "56.1765",
          "-60.3563"
         ],
         "2020-06-09T00:49:44.000+0000"
        ],
        [
         "7484",
         "Mozambique",
         [
          "-6.16637",
          "16.2863"
         ],
         "2021-12-16T20:21:16.000+0000"
        ],
        [
         "4417",
         "Somalia",
         [
          "-70.957",
          "-8.13146"
         ],
         "2021-04-15T13:11:21.000+0000"
        ],
        [
         "10319",
         "Palestinian Territory",
         [
          "45.3368",
          "-145.879"
         ],
         "2021-01-04T02:21:08.000+0000"
        ],
        [
         "3156",
         "Armenia",
         [
          "-84.738",
          "-160.795"
         ],
         "2018-01-13T19:33:49.000+0000"
        ],
        [
         "9425",
         "Macedonia",
         [
          "17.5612",
          "132.851"
         ],
         "2020-07-25T01:35:10.000+0000"
        ],
        [
         "4113",
         "Niger",
         [
          "23.4312",
          "-25.2749"
         ],
         "2021-01-06T06:21:50.000+0000"
        ],
        [
         "9904",
         "Algeria",
         [
          "-74.7055",
          "-177.87"
         ],
         "2018-07-27T09:36:32.000+0000"
        ],
        [
         "7537",
         "Liechtenstein",
         [
          "57.5347",
          "-129.946"
         ],
         "2020-06-01T18:04:11.000+0000"
        ],
        [
         "8309",
         "United States of America",
         [
          "75.447",
          "62.1468"
         ],
         "2019-05-14T19:32:10.000+0000"
        ],
        [
         "3185",
         "Bouvet Island (Bouvetoya)",
         [
          "-88.4607",
          "-154.638"
         ],
         "2022-06-14T09:39:11.000+0000"
        ],
        [
         "9452",
         "Andorra",
         [
          "-84.7363",
          "-179.087"
         ],
         "2021-02-14T08:40:56.000+0000"
        ],
        [
         "6770",
         "Kenya",
         [
          "-58.8668",
          "44.9303"
         ],
         "2021-11-21T22:59:39.000+0000"
        ],
        [
         "7768",
         "Algeria",
         [
          "-88.355",
          "-96.0131"
         ],
         "2018-05-25T21:34:19.000+0000"
        ],
        [
         "7167",
         "Ecuador",
         [
          "-55.757",
          "-157.572"
         ],
         "2019-12-27T20:45:04.000+0000"
        ],
        [
         "4045",
         "American Samoa",
         [
          "-89.3099",
          "-166.033"
         ],
         "2018-03-11T23:01:08.000+0000"
        ],
        [
         "653",
         "Israel",
         [
          "-65.1612",
          "-167.961"
         ],
         "2020-10-15T07:38:44.000+0000"
        ],
        [
         "6374",
         "Congo",
         [
          "-76.5909",
          "-153.068"
         ],
         "2020-05-14T22:42:45.000+0000"
        ],
        [
         "3239",
         "Afghanistan",
         [
          "-78.0893",
          "-57.1052"
         ],
         "2019-10-22T00:54:29.000+0000"
        ],
        [
         "4513",
         "Namibia",
         [
          "22.2314",
          "144.214"
         ],
         "2022-04-11T11:05:13.000+0000"
        ],
        [
         "1675",
         "Estonia",
         [
          "13.8054",
          "13.0336"
         ],
         "2022-06-15T03:39:59.000+0000"
        ],
        [
         "8886",
         "American Samoa",
         [
          "-88.2286",
          "-178.919"
         ],
         "2022-01-16T10:17:16.000+0000"
        ],
        [
         "5724",
         "Greece",
         [
          "47.1902",
          "-10.6517"
         ],
         "2018-01-19T07:36:12.000+0000"
        ],
        [
         "5333",
         "Croatia",
         [
          "-86.6652",
          "-173.898"
         ],
         "2021-01-20T08:10:08.000+0000"
        ],
        [
         "1465",
         "Albania",
         [
          "-69.8134",
          "-152.834"
         ],
         "2020-11-09T12:15:10.000+0000"
        ],
        [
         "4505",
         "Faroe Islands",
         [
          "0.0485475",
          "-16.5635"
         ],
         "2018-06-20T22:11:03.000+0000"
        ],
        [
         "3800",
         "Aruba",
         [
          "-61.471",
          "-154.912"
         ],
         "2018-01-27T16:49:07.000+0000"
        ],
        [
         "604",
         "Malta",
         [
          "-85.3088",
          "130.617"
         ],
         "2020-12-25T06:02:16.000+0000"
        ],
        [
         "1598",
         "Cambodia",
         [
          "-55.4968",
          "-165.517"
         ],
         "2021-05-01T05:03:08.000+0000"
        ],
        [
         "8083",
         "Saint Martin",
         [
          "68.4336",
          "-67.038"
         ],
         "2018-07-03T01:16:02.000+0000"
        ],
        [
         "7116",
         "Macao",
         [
          "-18.3686",
          "72.4109"
         ],
         "2019-09-16T18:45:41.000+0000"
        ],
        [
         "1901",
         "Mali",
         [
          "48.1778",
          "124.806"
         ],
         "2018-08-03T19:57:38.000+0000"
        ],
        [
         "3032",
         "American Samoa",
         [
          "-66.7253",
          "-122.489"
         ],
         "2018-04-14T09:28:18.000+0000"
        ],
        [
         "6170",
         "Congo",
         [
          "-82.4709",
          "1.37215"
         ],
         "2020-03-29T23:28:43.000+0000"
        ],
        [
         "3930",
         "Congo",
         [
          "-20.2154",
          "-137.478"
         ],
         "2019-02-24T18:54:12.000+0000"
        ],
        [
         "2595",
         "Algeria",
         [
          "-53.9169",
          "-104.473"
         ],
         "2018-02-03T20:35:30.000+0000"
        ],
        [
         "6586",
         "Burkina Faso",
         [
          "53.9251",
          "105.744"
         ],
         "2017-11-04T07:10:22.000+0000"
        ],
        [
         "7031",
         "Liechtenstein",
         [
          "62.7213",
          "-111.563"
         ],
         "2018-03-25T09:15:16.000+0000"
        ],
        [
         "8058",
         "Lao People's Democratic Republic",
         [
          "-45.8033",
          "-140.37"
         ],
         "2018-08-05T01:23:40.000+0000"
        ],
        [
         "3145",
         "Kenya",
         [
          "-57.5981",
          "-19.8932"
         ],
         "2022-06-18T22:46:26.000+0000"
        ],
        [
         "1832",
         "Bulgaria",
         [
          "-12.0827",
          "-87.0131"
         ],
         "2020-08-18T12:11:49.000+0000"
        ],
        [
         "4377",
         "Puerto Rico",
         [
          "-55.7837",
          "2.5347"
         ],
         "2020-07-18T04:12:10.000+0000"
        ],
        [
         "533",
         "Angola",
         [
          "-68.0095",
          "-157.227"
         ],
         "2020-06-28T04:27:45.000+0000"
        ],
        [
         "10920",
         "Egypt",
         [
          "-58.5064",
          "-149.458"
         ],
         "2021-05-05T08:08:57.000+0000"
        ],
        [
         "10932",
         "Cuba",
         [
          "87.9514",
          "113.689"
         ],
         "2022-08-22T08:46:17.000+0000"
        ],
        [
         "9198",
         "Afghanistan",
         [
          "-12.1295",
          "-29.9199"
         ],
         "2019-04-07T22:11:02.000+0000"
        ],
        [
         "7529",
         "Bangladesh",
         [
          "-29.9924",
          "90.2718"
         ],
         "2017-12-12T08:44:52.000+0000"
        ],
        [
         "4561",
         "Hungary",
         [
          "-63.6785",
          "-29.2943"
         ],
         "2020-04-05T19:38:48.000+0000"
        ],
        [
         "6814",
         "British Indian Ocean Territory (Chagos Archipelago)",
         [
          "-86.5675",
          "-149.565"
         ],
         "2022-09-02T11:34:28.000+0000"
        ],
        [
         "5523",
         "Indonesia",
         [
          "-33.6892",
          "-71.3189"
         ],
         "2018-10-06T18:24:48.000+0000"
        ],
        [
         "856",
         "Albania",
         [
          "-71.6856",
          "-179.126"
         ],
         "2020-07-22T04:49:08.000+0000"
        ],
        [
         "5463",
         "Chad",
         [
          "-62.3082",
          "164.589"
         ],
         "2021-11-05T17:50:36.000+0000"
        ],
        [
         "4996",
         "Poland",
         [
          "39.9625",
          "-118.569"
         ],
         "2019-04-16T23:49:42.000+0000"
        ],
        [
         "10160",
         "Serbia",
         [
          "-19.5192",
          "-115.211"
         ],
         "2019-05-07T04:28:27.000+0000"
        ],
        [
         "4251",
         "American Samoa",
         [
          "-89.3099",
          "-166.033"
         ],
         "2018-09-24T23:24:26.000+0000"
        ],
        [
         "4066",
         "Aruba",
         [
          "-61.471",
          "-154.912"
         ],
         "2020-12-12T13:40:43.000+0000"
        ],
        [
         "9979",
         "Dominican Republic",
         [
          "14.9967",
          "-120.682"
         ],
         "2018-07-18T19:01:46.000+0000"
        ],
        [
         "8930",
         "Argentina",
         [
          "-89.4739",
          "-176.154"
         ],
         "2021-09-29T13:25:49.000+0000"
        ],
        [
         "5759",
         "Albania",
         [
          "-62.7034",
          "-114.366"
         ],
         "2019-06-08T02:29:25.000+0000"
        ],
        [
         "8448",
         "Niue",
         [
          "-87.5252",
          "140.842"
         ],
         "2021-09-06T09:41:31.000+0000"
        ],
        [
         "160",
         "Niger",
         [
          "71.654",
          "-59.7394"
         ],
         "2019-08-09T06:43:52.000+0000"
        ],
        [
         "8637",
         "Costa Rica",
         [
          "17.7523",
          "90.2341"
         ],
         "2020-12-04T20:23:56.000+0000"
        ],
        [
         "8606",
         "Antigua and Barbuda",
         [
          "-88.0974",
          "-172.052"
         ],
         "2021-03-28T14:54:07.000+0000"
        ],
        [
         "3831",
         "Afghanistan",
         [
          "-88.5478",
          "-174.971"
         ],
         "2018-07-22T21:46:59.000+0000"
        ],
        [
         "1745",
         "Bulgaria",
         [
          "-87.4992",
          "-177.336"
         ],
         "2019-12-11T16:49:31.000+0000"
        ],
        [
         "9896",
         "Ecuador",
         [
          "-82.0334",
          "-110.476"
         ],
         "2018-01-12T05:40:05.000+0000"
        ],
        [
         "7733",
         "Algeria",
         [
          "-89.5173",
          "-179.689"
         ],
         "2022-09-29T10:45:19.000+0000"
        ],
        [
         "3561",
         "Albania",
         [
          "-89.8908",
          "-179.887"
         ],
         "2021-12-04T14:19:43.000+0000"
        ],
        [
         "7090",
         "Antarctica (the territory South of 60 deg S)",
         [
          "-62.92",
          "-63.7974"
         ],
         "2022-01-08T18:53:52.000+0000"
        ],
        [
         "2788",
         "Djibouti",
         [
          "-36.076",
          "-94.1779"
         ],
         "2019-12-18T03:04:41.000+0000"
        ],
        [
         "2011",
         "Guinea",
         [
          "18.6922",
          "-80.0756"
         ],
         "2020-12-14T18:11:42.000+0000"
        ],
        [
         "8705",
         "Canada",
         [
          "-75.2588",
          "-107.089"
         ],
         "2020-02-04T20:13:08.000+0000"
        ],
        [
         "7073",
         "Madagascar",
         [
          "-33.9813",
          "-128.525"
         ],
         "2021-12-23T13:56:14.000+0000"
        ],
        [
         "2301",
         "Saint Vincent and the Grenadines",
         [
          "13.4683",
          "51.7244"
         ],
         "2020-11-14T00:25:28.000+0000"
        ],
        [
         "5317",
         "Dominican Republic",
         [
          "-72.2358",
          "-119.449"
         ],
         "2021-02-21T20:35:38.000+0000"
        ],
        [
         "3352",
         "Afghanistan",
         [
          "-84.5322",
          "-179.647"
         ],
         "2018-11-28T20:01:55.000+0000"
        ],
        [
         "8315",
         "Afghanistan",
         [
          "-87.8179",
          "-178.525"
         ],
         "2018-10-03T00:29:49.000+0000"
        ],
        [
         "10904",
         "Romania",
         [
          "64.0854",
          "35.3199"
         ],
         "2017-11-17T03:50:33.000+0000"
        ],
        [
         "9123",
         "Montserrat",
         [
          "53.8446",
          "-84.5662"
         ],
         "2019-04-30T02:16:32.000+0000"
        ],
        [
         "3285",
         "Azerbaijan",
         [
          "-42.3946",
          "-149.855"
         ],
         "2022-07-26T17:05:09.000+0000"
        ],
        [
         "9590",
         "Algeria",
         [
          "-64.3876",
          "-174.281"
         ],
         "2019-05-20T19:48:48.000+0000"
        ],
        [
         "6566",
         "Cape Verde",
         [
          "-39.225",
          "-71.6593"
         ],
         "2020-11-19T10:06:13.000+0000"
        ],
        [
         "10552",
         "Grenada",
         [
          "32.7568",
          "-179.812"
         ],
         "2020-08-24T11:39:32.000+0000"
        ],
        [
         "9363",
         "Lithuania",
         [
          "-74.8991",
          "79.285"
         ],
         "2018-12-13T03:57:08.000+0000"
        ],
        [
         "10908",
         "Kyrgyz Republic",
         [
          "-37.8211",
          "153.935"
         ],
         "2020-07-31T13:10:52.000+0000"
        ],
        [
         "6756",
         "Nigeria",
         [
          "8.10741",
          "-152.898"
         ],
         "2020-11-05T01:58:15.000+0000"
        ],
        [
         "746",
         "Argentina",
         [
          "-71.6036",
          "-175.3"
         ],
         "2019-10-15T00:31:59.000+0000"
        ],
        [
         "7952",
         "Liechtenstein",
         [
          "-38.428",
          "-68.0234"
         ],
         "2020-11-28T08:11:22.000+0000"
        ],
        [
         "1778",
         "Cameroon",
         [
          "-84.7767",
          "-155.835"
         ],
         "2020-05-23T00:20:16.000+0000"
        ],
        [
         "8836",
         "Antarctica (the territory South of 60 deg S)",
         [
          "-75.0203",
          "-108.272"
         ],
         "2022-09-06T23:57:01.000+0000"
        ],
        [
         "5126",
         "Azerbaijan",
         [
          "-32.1812",
          "-138.244"
         ],
         "2020-04-05T00:40:49.000+0000"
        ],
        [
         "8255",
         "Palestinian Territory",
         [
          "-73.5682",
          "-168.842"
         ],
         "2020-09-29T11:37:01.000+0000"
        ],
        [
         "660",
         "Afghanistan",
         [
          "-75.7662",
          "-171.892"
         ],
         "2021-06-01T23:24:07.000+0000"
        ],
        [
         "5106",
         "Antigua and Barbuda",
         [
          "-41.6096",
          "-17.9408"
         ],
         "2019-11-05T04:24:06.000+0000"
        ],
        [
         "10794",
         "Cocos (Keeling) Islands",
         [
          "-89.5236",
          "-154.567"
         ],
         "2022-01-01T02:26:50.000+0000"
        ],
        [
         "6328",
         "Moldova",
         [
          "29.6234",
          "-33.0952"
         ],
         "2018-01-06T06:29:33.000+0000"
        ],
        [
         "2041",
         "Bangladesh",
         [
          "-52.0123",
          "-148.446"
         ],
         "2022-03-01T18:26:27.000+0000"
        ],
        [
         "155",
         "American Samoa",
         [
          "-86.4433",
          "-178.772"
         ],
         "2021-06-01T07:43:02.000+0000"
        ],
        [
         "7078",
         "Fiji",
         [
          "1.43641",
          "135.772"
         ],
         "2019-08-25T06:50:19.000+0000"
        ],
        [
         "6250",
         "Austria",
         [
          "-73.2098",
          "-150.856"
         ],
         "2020-11-22T18:28:02.000+0000"
        ],
        [
         "7206",
         "Heard Island and McDonald Islands",
         [
          "-69.8132",
          "-173.161"
         ],
         "2020-08-19T02:53:12.000+0000"
        ],
        [
         "1313",
         "Maldives",
         [
          "77.0447",
          "61.9119"
         ],
         "2018-06-26T02:39:25.000+0000"
        ],
        [
         "7467",
         "Burundi",
         [
          "-55.3123",
          "-170.812"
         ],
         "2020-03-04T20:03:07.000+0000"
        ],
        [
         "6957",
         "Mauritius",
         [
          "-70.9941",
          "168.195"
         ],
         "2021-04-25T04:41:38.000+0000"
        ],
        [
         "3884",
         "Dominican Republic",
         [
          "-56.7762",
          "-130.132"
         ],
         "2021-03-02T08:38:33.000+0000"
        ],
        [
         "4866",
         "Venezuela",
         [
          "9.00668",
          "46.1605"
         ],
         "2021-10-27T23:57:46.000+0000"
        ],
        [
         "7974",
         "Albania",
         [
          "-87.2",
          "-177.109"
         ],
         "2018-05-24T05:43:00.000+0000"
        ],
        [
         "2206",
         "British Virgin Islands",
         [
          "-72.8879",
          "-131.966"
         ],
         "2022-08-15T23:33:00.000+0000"
        ],
        [
         "2304",
         "Bermuda",
         [
          "-85.2344",
          "-94.599"
         ],
         "2019-03-29T02:30:06.000+0000"
        ],
        [
         "1371",
         "Andorra",
         [
          "-89.4584",
          "-134.271"
         ],
         "2018-08-08T04:41:17.000+0000"
        ],
        [
         "7560",
         "Guernsey",
         [
          "-19.6852",
          "-44.3416"
         ],
         "2017-11-24T08:58:34.000+0000"
        ],
        [
         "2565",
         "Bulgaria",
         [
          "-87.4992",
          "-177.336"
         ],
         "2022-02-06T13:42:35.000+0000"
        ],
        [
         "4556",
         "Nicaragua",
         [
          "69.6624",
          "-128.284"
         ],
         "2021-01-03T15:01:51.000+0000"
        ],
        [
         "3393",
         "Belgium",
         [
          "-73.6491",
          "-136.57"
         ],
         "2018-10-10T20:34:11.000+0000"
        ],
        [
         "5254",
         "Haiti",
         [
          "42.0864",
          "127.398"
         ],
         "2020-10-16T10:22:44.000+0000"
        ],
        [
         "6240",
         "Latvia",
         [
          "-6.88551",
          "-95.5132"
         ],
         "2021-11-08T01:02:41.000+0000"
        ],
        [
         "8159",
         "Belgium",
         [
          "-62.2853",
          "-176.497"
         ],
         "2021-01-02T09:48:03.000+0000"
        ],
        [
         "7832",
         "Israel",
         [
          "-53.8629",
          "91.8136"
         ],
         "2022-02-14T13:47:24.000+0000"
        ],
        [
         "8385",
         "Grenada",
         [
          "-13.7262",
          "-178.706"
         ],
         "2018-01-08T06:01:02.000+0000"
        ],
        [
         "3089",
         "Albania",
         [
          "-89.9787",
          "-173.293"
         ],
         "2018-02-28T05:31:29.000+0000"
        ],
        [
         "91",
         "Canada",
         [
          "-54.5927",
          "-90.6345"
         ],
         "2021-10-11T12:44:03.000+0000"
        ],
        [
         "10862",
         "Monaco",
         [
          "23.1361",
          "-63.9384"
         ],
         "2017-11-30T01:25:50.000+0000"
        ],
        [
         "7165",
         "Denmark",
         [
          "-62.9912",
          "-142.837"
         ],
         "2021-06-02T21:18:20.000+0000"
        ],
        [
         "6809",
         "Bangladesh",
         [
          "-89.4254",
          "-161.818"
         ],
         "2020-04-17T13:20:43.000+0000"
        ],
        [
         "5309",
         "Maldives",
         [
          "-89.4194",
          "-84.2493"
         ],
         "2020-05-04T22:00:32.000+0000"
        ],
        [
         "9426",
         "Sao Tome and Principe",
         [
          "-29.8646",
          "-78.1449"
         ],
         "2021-06-30T02:14:47.000+0000"
        ],
        [
         "1749",
         "Ecuador",
         [
          "-76.008",
          "-129.397"
         ],
         "2018-05-21T23:45:01.000+0000"
        ],
        [
         "2637",
         "Tunisia",
         [
          "3.0033",
          "-96.4904"
         ],
         "2022-10-15T13:25:51.000+0000"
        ],
        [
         "552",
         "Lesotho",
         [
          "-80.6043",
          "31.9601"
         ],
         "2022-03-14T05:12:07.000+0000"
        ],
        [
         "10804",
         "South Africa",
         [
          "69.9913",
          "170.373"
         ],
         "2020-04-05T04:16:50.000+0000"
        ],
        [
         "4064",
         "Austria",
         [
          "-48.6363",
          "-177.92"
         ],
         "2021-11-19T16:11:38.000+0000"
        ],
        [
         "2403",
         "Czech Republic",
         [
          "12.4979",
          "178.574"
         ],
         "2019-10-03T03:36:09.000+0000"
        ],
        [
         "709",
         "Albania",
         [
          "-88.8298",
          "-170.188"
         ],
         "2020-12-03T15:25:22.000+0000"
        ],
        [
         "7922",
         "Antigua and Barbuda",
         [
          "-88.0974",
          "-172.052"
         ],
         "2021-01-27T09:14:19.000+0000"
        ],
        [
         "1335",
         "Antarctica (the territory South of 60 deg S)",
         [
          "-77.9931",
          "-175.682"
         ],
         "2022-03-19T17:29:42.000+0000"
        ],
        [
         "7670",
         "Algeria",
         [
          "-89.5173",
          "-179.689"
         ],
         "2021-12-25T18:58:40.000+0000"
        ],
        [
         "4949",
         "Austria",
         [
          "-26.961",
          "-141.787"
         ],
         "2021-05-08T19:16:52.000+0000"
        ],
        [
         "10429",
         "Aruba",
         [
          "-47.228",
          "-166.492"
         ],
         "2021-06-06T09:33:56.000+0000"
        ],
        [
         "2795",
         "Bosnia and Herzegovina",
         [
          "-40.1415",
          "-34.2076"
         ],
         "2018-10-02T02:16:48.000+0000"
        ],
        [
         "8592",
         "Botswana",
         [
          "-80.8644",
          "-133.78"
         ],
         "2018-01-18T04:17:50.000+0000"
        ],
        [
         "10020",
         "Cocos (Keeling) Islands",
         [
          "-88.6883",
          "-86.0607"
         ],
         "2021-08-22T19:54:37.000+0000"
        ],
        [
         "9584",
         "Bahrain",
         [
          "-36.8458",
          "-116.844"
         ],
         "2018-04-23T06:21:51.000+0000"
        ],
        [
         "7983",
         "Albania",
         [
          "-87.2",
          "-177.109"
         ],
         "2019-06-21T20:51:41.000+0000"
        ],
        [
         "1188",
         "Cocos (Keeling) Islands",
         [
          "-32.5999",
          "18.3353"
         ],
         "2019-02-20T19:38:32.000+0000"
        ],
        [
         "741",
         "Albania",
         [
          "-88.8298",
          "-170.188"
         ],
         "2017-11-15T15:17:20.000+0000"
        ],
        [
         "6386",
         "Costa Rica",
         [
          "-86.2326",
          "-144.71"
         ],
         "2019-02-24T14:41:20.000+0000"
        ],
        [
         "8813",
         "Algeria",
         [
          "-89.5173",
          "-179.689"
         ],
         "2022-09-08T01:30:24.000+0000"
        ],
        [
         "6717",
         "Netherlands",
         [
          "-58.7512",
          "-162.324"
         ],
         "2022-09-07T16:35:00.000+0000"
        ],
        [
         "4122",
         "Kyrgyz Republic",
         [
          "53.8438",
          "5.89482"
         ],
         "2021-04-03T21:48:54.000+0000"
        ],
        [
         "2925",
         "France",
         [
          "-38.6499",
          "-72.8142"
         ],
         "2018-01-12T01:05:35.000+0000"
        ],
        [
         "8509",
         "Afghanistan",
         [
          "-12.1295",
          "-29.9199"
         ],
         "2019-01-16T20:04:11.000+0000"
        ],
        [
         "4249",
         "Afghanistan",
         [
          "-88.5478",
          "-174.971"
         ],
         "2021-09-01T11:10:02.000+0000"
        ],
        [
         "2668",
         "Angola",
         [
          "-24.2386",
          "-165.309"
         ],
         "2019-11-13T16:18:57.000+0000"
        ],
        [
         "4764",
         "Hong Kong",
         [
          "37.0844",
          "-164.878"
         ],
         "2018-01-10T11:06:53.000+0000"
        ],
        [
         "8407",
         "Australia",
         [
          "-4.42914",
          "-23.6931"
         ],
         "2018-11-14T06:25:25.000+0000"
        ],
        [
         "101",
         "Albania",
         [
          "-88.8298",
          "-170.188"
         ],
         "2020-12-30T22:16:20.000+0000"
        ],
        [
         "1094",
         "Armenia",
         [
          "-46.7328",
          "-124.445"
         ],
         "2018-08-19T00:34:20.000+0000"
        ],
        [
         "327",
         "Gibraltar",
         [
          "62.3674",
          "100.972"
         ],
         "2022-02-09T03:03:58.000+0000"
        ],
        [
         "7759",
         "Andorra",
         [
          "-84.7363",
          "-179.087"
         ],
         "2020-06-14T00:42:47.000+0000"
        ],
        [
         "3504",
         "Luxembourg",
         [
          "-49.3653",
          "-110.641"
         ],
         "2021-08-19T00:41:47.000+0000"
        ],
        [
         "9643",
         "Cook Islands",
         [
          "89.4443",
          "174.703"
         ],
         "2020-08-06T23:23:24.000+0000"
        ],
        [
         "7861",
         "Afghanistan",
         [
          "-39.7124",
          "25.1539"
         ],
         "2019-02-26T16:20:44.000+0000"
        ],
        [
         "427",
         "Isle of Man",
         [
          "-66.9418",
          "-30.0087"
         ],
         "2020-04-22T03:08:50.000+0000"
        ],
        [
         "8015",
         "Martinique",
         [
          "52.4977",
          "94.336"
         ],
         "2020-03-13T18:02:39.000+0000"
        ],
        [
         "10198",
         "Gabon",
         [
          "-77.4995",
          "-65.4026"
         ],
         "2022-02-18T20:14:09.000+0000"
        ],
        [
         "6589",
         "Mexico",
         [
          "1.81728",
          "-67.4792"
         ],
         "2019-09-01T20:52:19.000+0000"
        ],
        [
         "1961",
         "Argentina",
         [
          "-65.3952",
          "-175.249"
         ],
         "2022-07-29T18:16:50.000+0000"
        ],
        [
         "8100",
         "Algeria",
         [
          "-89.5173",
          "-179.689"
         ],
         "2019-12-03T15:49:59.000+0000"
        ],
        [
         "8967",
         "Guyana",
         [
          "24.8791",
          "99.4055"
         ],
         "2021-06-27T12:33:19.000+0000"
        ],
        [
         "4651",
         "Cocos (Keeling) Islands",
         [
          "42.3157",
          "-56.7178"
         ],
         "2020-05-06T16:03:39.000+0000"
        ],
        [
         "10659",
         "Bulgaria",
         [
          "-87.6895",
          "-176.801"
         ],
         "2018-06-12T12:29:05.000+0000"
        ],
        [
         "5293",
         "Sao Tome and Principe",
         [
          "-13.1463",
          "-25.9649"
         ],
         "2019-05-31T20:49:36.000+0000"
        ],
        [
         "5704",
         "Indonesia",
         [
          "-85.9781",
          "-172.038"
         ],
         "2019-12-31T11:38:29.000+0000"
        ],
        [
         "9014",
         "Ethiopia",
         [
          "-37.2495",
          "-118.101"
         ],
         "2021-04-20T19:45:15.000+0000"
        ],
        [
         "3644",
         "Fiji",
         [
          "-74.6891",
          "-179.779"
         ],
         "2021-10-31T17:44:26.000+0000"
        ],
        [
         "3231",
         "Armenia",
         [
          "-84.738",
          "-160.795"
         ],
         "2018-10-12T08:31:30.000+0000"
        ],
        [
         "4107",
         "Bulgaria",
         [
          "-54.7673",
          "-89.1567"
         ],
         "2021-04-21T22:03:54.000+0000"
        ],
        [
         "10507",
         "South Georgia and the South Sandwich Islands",
         [
          "-89.4786",
          "-68.913"
         ],
         "2018-12-27T23:57:31.000+0000"
        ],
        [
         "4983",
         "India",
         [
          "-8.61001",
          "57.615"
         ],
         "2022-10-16T23:45:36.000+0000"
        ],
        [
         "3729",
         "Turkey",
         [
          "-24.4793",
          "-150.145"
         ],
         "2018-01-17T03:43:38.000+0000"
        ],
        [
         "9035",
         "Andorra",
         [
          "-84.7363",
          "-179.087"
         ],
         "2020-05-18T06:09:15.000+0000"
        ],
        [
         "7356",
         "Argentina",
         [
          "-89.4739",
          "-176.154"
         ],
         "2018-10-07T01:04:55.000+0000"
        ],
        [
         "1032",
         "Italy",
         [
          "-69.0923",
          "-154.819"
         ],
         "2021-03-21T04:42:59.000+0000"
        ],
        [
         "4565",
         "Belarus",
         [
          "-67.9802",
          "-22.7204"
         ],
         "2018-12-10T22:34:21.000+0000"
        ],
        [
         "6636",
         "Bahamas",
         [
          "-28.1579",
          "73.2111"
         ],
         "2018-04-13T08:18:23.000+0000"
        ],
        [
         "5527",
         "Cote d'Ivoire",
         [
          "-74.0172",
          "-109.979"
         ],
         "2022-06-03T09:49:02.000+0000"
        ],
        [
         "4213",
         "Albania",
         [
          "-89.8908",
          "-179.887"
         ],
         "2020-05-17T04:33:51.000+0000"
        ],
        [
         "6652",
         "Egypt",
         [
          "-78.2534",
          "-170.668"
         ],
         "2018-11-28T08:21:12.000+0000"
        ],
        [
         "649",
         "Sudan",
         [
          "-80.7952",
          "-22.2518"
         ],
         "2020-10-06T14:24:08.000+0000"
        ],
        [
         "10677",
         "Estonia",
         [
          "-86.3132",
          "-105.805"
         ],
         "2018-03-08T17:26:24.000+0000"
        ],
        [
         "7057",
         "Mongolia",
         [
          "-60.6942",
          "-125.106"
         ],
         "2020-11-13T07:13:30.000+0000"
        ],
        [
         "6309",
         "Anguilla",
         [
          "-28.9498",
          "-165.807"
         ],
         "2022-10-14T19:53:00.000+0000"
        ],
        [
         "4889",
         "Comoros",
         [
          "23.2845",
          "-156.467"
         ],
         "2020-12-20T07:09:08.000+0000"
        ],
        [
         "1411",
         "Cambodia",
         [
          "-55.4968",
          "-165.517"
         ],
         "2019-10-24T03:10:37.000+0000"
        ],
        [
         "10509",
         "Gibraltar",
         [
          "-67.187",
          "-24.2977"
         ],
         "2019-03-06T12:21:56.000+0000"
        ],
        [
         "450",
         "Antigua and Barbuda",
         [
          "-81.0108",
          "-165.206"
         ],
         "2018-09-28T05:43:18.000+0000"
        ],
        [
         "4482",
         "Bermuda",
         [
          "-79.0427",
          "-174.242"
         ],
         "2020-04-14T23:57:05.000+0000"
        ],
        [
         "7268",
         "Afghanistan",
         [
          "-88.3754",
          "-164.273"
         ],
         "2019-12-11T14:05:18.000+0000"
        ],
        [
         "3360",
         "Anguilla",
         [
          "-89.0609",
          "-170.904"
         ],
         "2019-01-26T07:43:57.000+0000"
        ],
        [
         "6496",
         "Cuba",
         [
          "-80.9436",
          "-47.4846"
         ],
         "2020-09-05T18:39:01.000+0000"
        ],
        [
         "1139",
         "France",
         [
          "-68.4636",
          "112.577"
         ],
         "2018-05-06T18:02:56.000+0000"
        ],
        [
         "9407",
         "American Samoa",
         [
          "-68.8926",
          "-164.968"
         ],
         "2022-03-05T17:22:15.000+0000"
        ],
        [
         "9749",
         "Tunisia",
         [
          "-44.6516",
          "-5.39518"
         ],
         "2022-02-06T22:14:06.000+0000"
        ],
        [
         "7600",
         "United States Virgin Islands",
         [
          "13.9054",
          "-166.411"
         ],
         "2019-10-14T10:12:49.000+0000"
        ],
        [
         "1567",
         "Angola",
         [
          "-68.0095",
          "-157.227"
         ],
         "2020-01-03T01:48:25.000+0000"
        ],
        [
         "5551",
         "Colombia",
         [
          "-67.8095",
          "63.2758"
         ],
         "2022-03-22T06:04:33.000+0000"
        ],
        [
         "1379",
         "American Samoa",
         [
          "-88.5252",
          "-172.436"
         ],
         "2018-05-26T03:05:20.000+0000"
        ],
        [
         "228",
         "Bosnia and Herzegovina",
         [
          "-32.3508",
          "-114.656"
         ],
         "2021-01-15T17:47:34.000+0000"
        ],
        [
         "7294",
         "Australia",
         [
          "-76.2967",
          "-136.501"
         ],
         "2018-02-12T08:06:28.000+0000"
        ],
        [
         "3945",
         "Barbados",
         [
          "-66.2816",
          "-142.673"
         ],
         "2022-04-17T02:01:53.000+0000"
        ],
        [
         "3660",
         "French Guiana",
         [
          "-85.2885",
          "6.96501"
         ],
         "2018-10-23T21:26:01.000+0000"
        ],
        [
         "10029",
         "Aruba",
         [
          "-89.8157",
          "-173.632"
         ],
         "2020-06-17T14:24:19.000+0000"
        ],
        [
         "7343",
         "Australia",
         [
          "-65.4428",
          "-161.684"
         ],
         "2018-08-06T12:17:07.000+0000"
        ],
        [
         "10022",
         "Benin",
         [
          "70.5626",
          "-89.4526"
         ],
         "2018-12-17T20:26:14.000+0000"
        ],
        [
         "7276",
         "Sweden",
         [
          "-58.4743",
          "21.875"
         ],
         "2018-08-03T05:14:15.000+0000"
        ],
        [
         "10865",
         "Singapore",
         [
          "45.0564",
          "-115.624"
         ],
         "2019-09-16T04:32:25.000+0000"
        ],
        [
         "7318",
         "Bulgaria",
         [
          "-30.255",
          "-87.2169"
         ],
         "2019-10-27T05:28:07.000+0000"
        ],
        [
         "6631",
         "Haiti",
         [
          "72.3119",
          "-66.4951"
         ],
         "2017-12-10T22:59:33.000+0000"
        ],
        [
         "5184",
         "Congo",
         [
          "-14.7152",
          "-170.399"
         ],
         "2018-06-27T00:16:41.000+0000"
        ],
        [
         "1704",
         "Christmas Island",
         [
          "-56.8702",
          "-93.6232"
         ],
         "2018-11-29T04:46:39.000+0000"
        ],
        [
         "9527",
         "Turkmenistan",
         [
          "-38.4443",
          "170.601"
         ],
         "2021-11-17T07:50:58.000+0000"
        ],
        [
         "10321",
         "Burkina Faso",
         [
          "-89.1005",
          "-151.255"
         ],
         "2022-10-09T08:06:50.000+0000"
        ],
        [
         "1775",
         "Djibouti",
         [
          "-73.588",
          "-146.537"
         ],
         "2018-05-06T00:29:03.000+0000"
        ],
        [
         "3351",
         "Portugal",
         [
          "-9.11859",
          "-96.9091"
         ],
         "2020-09-12T10:34:11.000+0000"
        ],
        [
         "9256",
         "Argentina",
         [
          "-89.4739",
          "-176.154"
         ],
         "2019-06-03T10:53:49.000+0000"
        ],
        [
         "909",
         "El Salvador",
         [
          "-19.8508",
          "19.7334"
         ],
         "2020-08-21T12:45:03.000+0000"
        ],
        [
         "6018",
         "Anguilla",
         [
          "-28.9498",
          "-165.807"
         ],
         "2020-04-07T22:08:44.000+0000"
        ],
        [
         "2698",
         "Egypt",
         [
          "-72.7174",
          "24.169"
         ],
         "2021-11-24T08:33:51.000+0000"
        ],
        [
         "6558",
         "Guadeloupe",
         [
          "-26.4944",
          "-174.009"
         ],
         "2019-09-08T03:27:31.000+0000"
        ],
        [
         "3562",
         "Angola",
         [
          "-87.3742",
          "-177.647"
         ],
         "2022-04-08T10:19:47.000+0000"
        ],
        [
         "2308",
         "Azerbaijan",
         [
          "-42.3946",
          "-149.855"
         ],
         "2020-02-01T13:56:01.000+0000"
        ],
        [
         "925",
         "American Samoa",
         [
          "-88.5252",
          "-172.436"
         ],
         "2018-02-02T19:41:14.000+0000"
        ],
        [
         "4988",
         "Madagascar",
         [
          "-32.1879",
          "-35.2784"
         ],
         "2020-07-11T11:01:12.000+0000"
        ],
        [
         "2604",
         "Antigua and Barbuda",
         [
          "-80.8933",
          "-104.972"
         ],
         "2018-12-01T09:23:35.000+0000"
        ],
        [
         "2759",
         "American Samoa",
         [
          "-66.7253",
          "-122.489"
         ],
         "2022-02-20T11:53:20.000+0000"
        ],
        [
         "1896",
         "Bahrain",
         [
          "-76.9515",
          "-150.467"
         ],
         "2021-06-18T08:38:10.000+0000"
        ],
        [
         "5730",
         "Colombia",
         [
          "-77.015",
          "-101.437"
         ],
         "2021-04-19T17:37:03.000+0000"
        ],
        [
         "3626",
         "American Samoa",
         [
          "-89.3099",
          "-166.033"
         ],
         "2021-05-31T08:12:00.000+0000"
        ],
        [
         "7448",
         "Bermuda",
         [
          "-48.4974",
          "-61.5981"
         ],
         "2017-12-20T07:13:19.000+0000"
        ],
        [
         "6021",
         "American Samoa",
         [
          "-69.1371",
          "151.933"
         ],
         "2021-07-25T21:41:11.000+0000"
        ],
        [
         "8578",
         "Guinea-Bissau",
         [
          "34.6427",
          "-161.397"
         ],
         "2018-01-26T19:27:11.000+0000"
        ],
        [
         "7180",
         "Holy See (Vatican City State)",
         [
          "-22.7118",
          "-167.739"
         ],
         "2018-04-22T21:33:50.000+0000"
        ],
        [
         "1631",
         "Slovenia",
         [
          "-25.8117",
          "-69.8618"
         ],
         "2020-08-24T10:43:22.000+0000"
        ],
        [
         "1694",
         "Saint Martin",
         [
          "-32.6594",
          "-62.5204"
         ],
         "2022-07-14T11:09:10.000+0000"
        ],
        [
         "2226",
         "Falkland Islands (Malvinas)",
         [
          "3.38121",
          "89.7473"
         ],
         "2018-10-14T11:54:15.000+0000"
        ],
        [
         "737",
         "Algeria",
         [
          "-67.0064",
          "-65.5553"
         ],
         "2019-07-05T08:55:23.000+0000"
        ],
        [
         "2090",
         "Mayotte",
         [
          "78.1523",
          "0.381029"
         ],
         "2020-01-10T22:22:33.000+0000"
        ],
        [
         "5978",
         "Saint Kitts and Nevis",
         [
          "26.749",
          "127.37"
         ],
         "2020-06-27T23:54:35.000+0000"
        ],
        [
         "10501",
         "Hungary",
         [
          "-82.2067",
          "110.935"
         ],
         "2020-09-24T13:44:30.000+0000"
        ],
        [
         "27",
         "Albania",
         [
          "-88.8298",
          "-170.188"
         ],
         "2020-11-15T23:51:27.000+0000"
        ],
        [
         "1963",
         "American Samoa",
         [
          "-85.7998",
          "-109.58"
         ],
         "2022-04-08T09:55:41.000+0000"
        ],
        [
         "2863",
         "Armenia",
         [
          "-5.34445",
          "-177.924"
         ],
         "2020-04-27T13:34:16.000+0000"
        ],
        [
         "680",
         "Bangladesh",
         [
          "-73.1838",
          "-154.293"
         ],
         "2019-03-29T23:22:56.000+0000"
        ],
        [
         "7262",
         "Canada",
         [
          "-84.0716",
          "-6.14558"
         ],
         "2020-01-29T23:37:22.000+0000"
        ],
        [
         "1729",
         "Antarctica (the territory South of 60 deg S)",
         [
          "-88.4642",
          "-171.061"
         ],
         "2021-05-04T14:59:44.000+0000"
        ],
        [
         "3979",
         "United States of America",
         [
          "-8.70075",
          "74.2723"
         ],
         "2021-12-30T14:26:47.000+0000"
        ],
        [
         "2530",
         "Albania",
         [
          "-89.3675",
          "-157.004"
         ],
         "2018-08-21T22:40:24.000+0000"
        ],
        [
         "7487",
         "Djibouti",
         [
          "-88.9574",
          "55.5995"
         ],
         "2019-08-20T08:34:24.000+0000"
        ],
        [
         "9332",
         "Andorra",
         [
          "-73.8268",
          "-159.056"
         ],
         "2018-09-22T14:44:57.000+0000"
        ],
        [
         "10585",
         "Paraguay",
         [
          "11.1301",
          "-96.9338"
         ],
         "2018-05-21T07:14:11.000+0000"
        ],
        [
         "5566",
         "Egypt",
         [
          "-72.7358",
          "67.9857"
         ],
         "2021-02-17T18:10:11.000+0000"
        ],
        [
         "6615",
         "Wallis and Futuna",
         [
          "-25.2428",
          "-32.8992"
         ],
         "2022-01-31T18:53:34.000+0000"
        ],
        [
         "640",
         "Albania",
         [
          "-87.2",
          "-177.109"
         ],
         "2019-07-12T16:46:03.000+0000"
        ],
        [
         "7511",
         "Guatemala",
         [
          "85.0721",
          "-128.483"
         ],
         "2019-10-25T19:38:50.000+0000"
        ],
        [
         "2639",
         "Andorra",
         [
          "-87.1113",
          "-159.587"
         ],
         "2020-01-28T21:57:17.000+0000"
        ],
        [
         "9734",
         "Belgium",
         [
          "-77.5092",
          "-33.8585"
         ],
         "2020-07-25T03:43:05.000+0000"
        ],
        [
         "8612",
         "American Samoa",
         [
          "-81.8896",
          "-153.897"
         ],
         "2022-04-09T09:20:15.000+0000"
        ],
        [
         "8224",
         "Lebanon",
         [
          "-72.7111",
          "-162.159"
         ],
         "2018-07-01T05:16:34.000+0000"
        ],
        [
         "2779",
         "Albania",
         [
          "-85.7359",
          "-161.599"
         ],
         "2018-03-25T22:19:53.000+0000"
        ],
        [
         "9567",
         "Cameroon",
         [
          "-60.4206",
          "-116.385"
         ],
         "2021-09-02T20:30:15.000+0000"
        ],
        [
         "3359",
         "Aruba",
         [
          "-64.984",
          "-117.531"
         ],
         "2018-12-31T08:50:21.000+0000"
        ],
        [
         "2858",
         "Argentina",
         [
          "-65.1565",
          "-166.807"
         ],
         "2018-05-03T13:27:09.000+0000"
        ],
        [
         "5395",
         "British Virgin Islands",
         [
          "-6.93422",
          "-24.9989"
         ],
         "2020-08-15T19:30:19.000+0000"
        ],
        [
         "6749",
         "Antarctica (the territory South of 60 deg S)",
         [
          "-88.4642",
          "-171.061"
         ],
         "2018-04-16T07:39:46.000+0000"
        ],
        [
         "2354",
         "American Samoa",
         [
          "-75.8862",
          "-111.36"
         ],
         "2022-01-30T05:53:41.000+0000"
        ],
        [
         "6849",
         "Singapore",
         [
          "15.771",
          "161.106"
         ],
         "2019-11-13T13:26:28.000+0000"
        ],
        [
         "205",
         "Barbados",
         [
          "-75.8378",
          "-163.945"
         ],
         "2020-07-08T14:10:38.000+0000"
        ],
        [
         "10734",
         "Aruba",
         [
          "-51.2174",
          "-166.894"
         ],
         "2021-08-29T21:27:53.000+0000"
        ],
        [
         "6403",
         "Kenya",
         [
          "24.4809",
          "160.728"
         ],
         "2021-10-01T16:26:34.000+0000"
        ],
        [
         "7889",
         "American Samoa",
         [
          "-33.1771",
          "-171.869"
         ],
         "2021-04-13T10:36:07.000+0000"
        ],
        [
         "25",
         "Ecuador",
         [
          "-81.3019",
          "63.8961"
         ],
         "2021-12-02T12:40:33.000+0000"
        ],
        [
         "7437",
         "Aruba",
         [
          "-86.4063",
          "-136.657"
         ],
         "2021-10-27T06:00:23.000+0000"
        ],
        [
         "2715",
         "Albania",
         [
          "-58.4025",
          "-168.097"
         ],
         "2021-12-29T12:18:25.000+0000"
        ],
        [
         "7648",
         "Madagascar",
         [
          "83.3604",
          "7.88083"
         ],
         "2018-02-14T12:26:14.000+0000"
        ],
        [
         "10868",
         "Panama",
         [
          "-42.1051",
          "153.465"
         ],
         "2019-06-15T06:59:12.000+0000"
        ],
        [
         "5297",
         "Croatia",
         [
          "0.944996",
          "-72.3861"
         ],
         "2018-04-20T23:50:13.000+0000"
        ],
        [
         "6978",
         "Iran",
         [
          "-22.2957",
          "121.77"
         ],
         "2020-12-07T06:42:02.000+0000"
        ],
        [
         "544",
         "Aruba",
         [
          "-64.984",
          "-117.531"
         ],
         "2022-07-08T06:00:32.000+0000"
        ],
        [
         "10671",
         "Mexico",
         [
          "44.4275",
          "98.3129"
         ],
         "2018-08-29T03:24:53.000+0000"
        ],
        [
         "734",
         "Aruba",
         [
          "-84.8378",
          "-167.14"
         ],
         "2022-04-04T06:26:56.000+0000"
        ],
        [
         "8699",
         "Mongolia",
         [
          "-66.2443",
          "106.397"
         ],
         "2018-03-08T03:33:18.000+0000"
        ],
        [
         "462",
         "Argentina",
         [
          "-89.63",
          "-179.022"
         ],
         "2022-08-19T23:59:15.000+0000"
        ],
        [
         "4315",
         "Cote d'Ivoire",
         [
          "-45.8508",
          "66.1003"
         ],
         "2019-12-15T03:51:28.000+0000"
        ],
        [
         "7154",
         "Afghanistan",
         [
          "-88.3754",
          "-164.273"
         ],
         "2022-03-26T23:36:54.000+0000"
        ],
        [
         "9267",
         "Aruba",
         [
          "-83.104",
          "-171.302"
         ],
         "2019-05-08T18:13:23.000+0000"
        ],
        [
         "1173",
         "Bermuda",
         [
          "-40.9049",
          "110.638"
         ],
         "2021-07-18T00:52:31.000+0000"
        ],
        [
         "6488",
         "Bolivia",
         [
          "-87.9073",
          "-153.482"
         ],
         "2018-05-15T03:11:41.000+0000"
        ],
        [
         "8519",
         "Australia",
         [
          "-71.5286",
          "-122.063"
         ],
         "2019-05-06T20:52:00.000+0000"
        ],
        [
         "4761",
         "Bhutan",
         [
          "45.8605",
          "-93.66"
         ],
         "2020-06-05T14:36:00.000+0000"
        ],
        [
         "4892",
         "Turks and Caicos Islands",
         [
          "55.2428",
          "94.8432"
         ],
         "2020-12-18T21:19:13.000+0000"
        ],
        [
         "10721",
         "Fiji",
         [
          "82.166",
          "-122.531"
         ],
         "2019-08-16T10:05:09.000+0000"
        ],
        [
         "10026",
         "Marshall Islands",
         [
          "-70.8314",
          "-90.784"
         ],
         "2020-01-01T05:36:44.000+0000"
        ],
        [
         "10097",
         "Algeria",
         [
          "-74.7055",
          "-177.87"
         ],
         "2021-09-24T16:28:48.000+0000"
        ],
        [
         "3803",
         "Angola",
         [
          "-87.3742",
          "-177.647"
         ],
         "2021-06-19T02:26:08.000+0000"
        ],
        [
         "7801",
         "Afghanistan",
         [
          "-75.9161",
          "-27.6285"
         ],
         "2017-11-18T22:54:58.000+0000"
        ],
        [
         "10204",
         "Svalbard & Jan Mayen Islands",
         [
          "-14.3257",
          "26.9087"
         ],
         "2020-04-06T02:56:29.000+0000"
        ],
        [
         "10513",
         "Slovakia (Slovak Republic)",
         [
          "25.2981",
          "143.877"
         ],
         "2021-05-30T01:56:22.000+0000"
        ],
        [
         "926",
         "Anguilla",
         [
          "-84.9417",
          "156.846"
         ],
         "2021-01-26T10:36:38.000+0000"
        ],
        [
         "3716",
         "Lithuania",
         [
          "32.6648",
          "-16.0578"
         ],
         "2018-12-31T20:43:42.000+0000"
        ],
        [
         "6014",
         "French Southern Territories",
         [
          "-26.6026",
          "155.206"
         ],
         "2019-04-30T12:33:13.000+0000"
        ],
        [
         "2498",
         "Togo",
         [
          "61.4706",
          "-51.05"
         ],
         "2021-04-03T18:10:34.000+0000"
        ],
        [
         "3111",
         "Iceland",
         [
          "-53.3753",
          "35.7843"
         ],
         "2018-01-22T00:19:58.000+0000"
        ],
        [
         "4675",
         "Panama",
         [
          "-62.9245",
          "-74.6713"
         ],
         "2020-06-29T01:50:10.000+0000"
        ],
        [
         "2216",
         "Kiribati",
         [
          "21.423",
          "14.4097"
         ],
         "2018-08-21T03:47:41.000+0000"
        ],
        [
         "2959",
         "Angola",
         [
          "-68.0095",
          "-157.227"
         ],
         "2019-08-19T08:22:02.000+0000"
        ],
        [
         "1026",
         "Kiribati",
         [
          "-23.6508",
          "14.2803"
         ],
         "2021-08-08T06:13:17.000+0000"
        ],
        [
         "6797",
         "Greece",
         [
          "-3.94057",
          "150.733"
         ],
         "2022-02-28T10:25:08.000+0000"
        ],
        [
         "10247",
         "Nauru",
         [
          "48.0954",
          "99.1652"
         ],
         "2021-10-31T01:04:11.000+0000"
        ],
        [
         "8843",
         "American Samoa",
         [
          "-88.5255",
          "-161.644"
         ],
         "2020-10-12T16:19:20.000+0000"
        ],
        [
         "9487",
         "Canada",
         [
          "-76.9532",
          "-113.641"
         ],
         "2018-12-18T11:16:52.000+0000"
        ],
        [
         "1599",
         "Bolivia",
         [
          "86.0967",
          "111.323"
         ],
         "2019-02-05T14:58:20.000+0000"
        ],
        [
         "6299",
         "Bangladesh",
         [
          "29.1899",
          "98.5863"
         ],
         "2022-10-05T06:08:34.000+0000"
        ],
        [
         "9155",
         "Andorra",
         [
          "-84.7363",
          "-179.087"
         ],
         "2021-09-04T20:27:36.000+0000"
        ],
        [
         "2641",
         "Anguilla",
         [
          "-89.0609",
          "-170.904"
         ],
         "2020-04-30T20:37:18.000+0000"
        ],
        [
         "6380",
         "Argentina",
         [
          "-57.051",
          "-133.377"
         ],
         "2017-12-21T21:46:23.000+0000"
        ],
        [
         "5647",
         "Germany",
         [
          "-82.2521",
          "-110.013"
         ],
         "2021-05-11T20:20:59.000+0000"
        ],
        [
         "1349",
         "France",
         [
          "-41.0444",
          "6.37103"
         ],
         "2018-04-26T22:32:36.000+0000"
        ],
        [
         "10936",
         "Andorra",
         [
          "52.2422",
          "38.9553"
         ],
         "2020-02-12T06:23:29.000+0000"
        ],
        [
         "10119",
         "Christmas Island",
         [
          "-74.5431",
          "-162.795"
         ],
         "2020-10-22T01:59:58.000+0000"
        ],
        [
         "9093",
         "Austria",
         [
          "-87.7764",
          "-151.645"
         ],
         "2021-07-24T23:07:06.000+0000"
        ],
        [
         "2577",
         "Aruba",
         [
          "-71.5025",
          "-179.257"
         ],
         "2019-08-01T05:45:51.000+0000"
        ],
        [
         "9935",
         "Bouvet Island (Bouvetoya)",
         [
          "-88.516",
          "-178.811"
         ],
         "2022-02-04T05:27:15.000+0000"
        ],
        [
         "6906",
         "Central African Republic",
         [
          "-88.5425",
          "-157.374"
         ],
         "2019-07-12T06:22:04.000+0000"
        ],
        [
         "8978",
         "Faroe Islands",
         [
          "-2.01499",
          "3.78198"
         ],
         "2017-12-01T13:26:06.000+0000"
        ],
        [
         "6680",
         "Azerbaijan",
         [
          "-24.8545",
          "162.173"
         ],
         "2020-09-06T18:52:17.000+0000"
        ],
        [
         "1555",
         "Algeria",
         [
          "-1.7046",
          "-55.332"
         ],
         "2017-12-24T18:41:23.000+0000"
        ],
        [
         "6479",
         "Ireland",
         [
          "47.9142",
          "-98.4756"
         ],
         "2020-10-12T04:13:06.000+0000"
        ],
        [
         "1676",
         "Anguilla",
         [
          "69.5322",
          "-89.9617"
         ],
         "2019-01-11T11:53:56.000+0000"
        ],
        [
         "1811",
         "Burundi",
         [
          "5.98843",
          "-127.249"
         ],
         "2020-03-01T19:51:40.000+0000"
        ],
        [
         "7528",
         "Albania",
         [
          "-89.9787",
          "-173.293"
         ],
         "2020-08-28T03:52:47.000+0000"
        ],
        [
         "5151",
         "Guatemala",
         [
          "-47.3372",
          "-151.397"
         ],
         "2020-07-15T01:42:38.000+0000"
        ],
        [
         "10538",
         "Belarus",
         [
          "-82.4354",
          "59.1527"
         ],
         "2018-01-29T03:49:45.000+0000"
        ],
        [
         "4775",
         "Maldives",
         [
          "19.1474",
          "100.721"
         ],
         "2018-03-21T03:50:29.000+0000"
        ],
        [
         "5069",
         "Azerbaijan",
         [
          "-63.0063",
          "-157.474"
         ],
         "2021-03-20T09:32:44.000+0000"
        ],
        [
         "4670",
         "Turkmenistan",
         [
          "3.12721",
          "24.4592"
         ],
         "2021-09-28T23:26:00.000+0000"
        ],
        [
         "813",
         "French Southern Territories",
         [
          "-70.9146",
          "-136.554"
         ],
         "2022-06-13T23:08:43.000+0000"
        ],
        [
         "187",
         "Dominica",
         [
          "-55.1732",
          "-175.864"
         ],
         "2018-06-20T10:32:48.000+0000"
        ],
        [
         "7512",
         "Japan",
         [
          "-69.4772",
          "14.3683"
         ],
         "2020-01-05T02:10:42.000+0000"
        ],
        [
         "6939",
         "Cuba",
         [
          "-83.907",
          "149.749"
         ],
         "2022-04-06T03:57:03.000+0000"
        ],
        [
         "5209",
         "Bahrain",
         [
          "-66.8154",
          "-102.355"
         ],
         "2021-01-21T07:00:24.000+0000"
        ],
        [
         "6602",
         "Afghanistan",
         [
          "-88.0192",
          "-169.911"
         ],
         "2019-06-06T07:40:48.000+0000"
        ],
        [
         "1104",
         "Niger",
         [
          "-67.6004",
          "-153.472"
         ],
         "2022-01-14T00:33:23.000+0000"
        ],
        [
         "8123",
         "Morocco",
         [
          "80.2593",
          "-134.292"
         ],
         "2021-08-23T07:31:46.000+0000"
        ],
        [
         "7961",
         "El Salvador",
         [
          "-25.6526",
          "-170.677"
         ],
         "2018-02-22T05:12:04.000+0000"
        ],
        [
         "1530",
         "Oman",
         [
          "65.8719",
          "110.263"
         ],
         "2018-08-23T03:52:50.000+0000"
        ],
        [
         "7752",
         "Burkina Faso",
         [
          "-66.6708",
          "-110.47"
         ],
         "2019-08-04T08:10:47.000+0000"
        ],
        [
         "8204",
         "Maldives",
         [
          "-18.1973",
          "-126.543"
         ],
         "2019-05-28T05:38:33.000+0000"
        ],
        [
         "1014",
         "Tonga",
         [
          "81.1477",
          "69.3538"
         ],
         "2022-02-03T22:05:34.000+0000"
        ],
        [
         "5468",
         "Isle of Man",
         [
          "-83.544",
          "33.9473"
         ],
         "2020-05-16T23:17:50.000+0000"
        ],
        [
         "7862",
         "Argentina",
         [
          "-87.7034",
          "-178.422"
         ],
         "2019-09-01T19:08:58.000+0000"
        ],
        [
         "3485",
         "Bahamas",
         [
          "-87.0574",
          "-164.826"
         ],
         "2020-05-07T16:28:18.000+0000"
        ],
        [
         "4585",
         "Afghanistan",
         [
          "-75.7662",
          "-171.892"
         ],
         "2021-12-05T18:36:27.000+0000"
        ],
        [
         "10440",
         "Andorra",
         [
          "-34.1179",
          "44.4994"
         ],
         "2021-08-20T01:36:51.000+0000"
        ],
        [
         "6324",
         "Colombia",
         [
          "31.9862",
          "-132.101"
         ],
         "2022-03-24T20:45:08.000+0000"
        ],
        [
         "9665",
         "Antigua and Barbuda",
         [
          "-54.2967",
          "-115.789"
         ],
         "2019-07-02T12:20:26.000+0000"
        ],
        [
         "3750",
         "Comoros",
         [
          "-73.8837",
          "-159.054"
         ],
         "2022-09-03T23:36:08.000+0000"
        ],
        [
         "9120",
         "Romania",
         [
          "47.556",
          "3.55852"
         ],
         "2021-09-30T17:07:00.000+0000"
        ],
        [
         "924",
         "Tajikistan",
         [
          "-83.1793",
          "-16.6569"
         ],
         "2022-07-30T11:11:55.000+0000"
        ],
        [
         "10625",
         "Jamaica",
         [
          "-84.4944",
          "-81.0613"
         ],
         "2018-07-13T11:51:15.000+0000"
        ],
        [
         "9875",
         "Barbados",
         [
          "-74.3382",
          "-110.484"
         ],
         "2020-03-20T13:03:18.000+0000"
        ],
        [
         "4508",
         "Philippines",
         [
          "69.1858",
          "-76.0761"
         ],
         "2019-01-04T11:15:27.000+0000"
        ],
        [
         "3882",
         "Belize",
         [
          "-88.6506",
          "-120.682"
         ],
         "2022-01-09T01:38:01.000+0000"
        ],
        [
         "9791",
         "Cote d'Ivoire",
         [
          "62.1818",
          "80.6331"
         ],
         "2022-09-12T04:27:50.000+0000"
        ],
        [
         "10566",
         "Bulgaria",
         [
          "-65.0348",
          "-139.576"
         ],
         "2022-08-02T03:56:01.000+0000"
        ],
        [
         "3182",
         "Belize",
         [
          "-89.6778",
          "-169.798"
         ],
         "2020-07-10T02:31:44.000+0000"
        ],
        [
         "7642",
         "Algeria",
         [
          "-89.5173",
          "-179.689"
         ],
         "2021-08-02T04:15:24.000+0000"
        ],
        [
         "8312",
         "American Samoa",
         [
          "-77.9744",
          "-106.258"
         ],
         "2021-04-25T15:56:29.000+0000"
        ],
        [
         "4027",
         "Barbados",
         [
          "-69.7124",
          "-165.207"
         ],
         "2019-01-23T20:53:22.000+0000"
        ],
        [
         "5084",
         "Slovakia (Slovak Republic)",
         [
          "87.8011",
          "53.0249"
         ],
         "2022-01-06T22:16:07.000+0000"
        ],
        [
         "4475",
         "Dominica",
         [
          "-59.6238",
          "96.814"
         ],
         "2018-05-01T16:59:40.000+0000"
        ],
        [
         "385",
         "American Samoa",
         [
          "-88.5252",
          "-172.436"
         ],
         "2017-12-30T19:35:54.000+0000"
        ],
        [
         "808",
         "Albania",
         [
          "-71.6856",
          "-179.126"
         ],
         "2019-01-03T15:43:12.000+0000"
        ],
        [
         "10337",
         "Christmas Island",
         [
          "-42.3069",
          "-109.17"
         ],
         "2021-10-26T12:09:43.000+0000"
        ],
        [
         "9778",
         "Guam",
         [
          "85.2343",
          "126.628"
         ],
         "2020-08-24T14:24:42.000+0000"
        ],
        [
         "4781",
         "Dominica",
         [
          "-72.0263",
          "32.3959"
         ],
         "2019-06-30T13:16:16.000+0000"
        ],
        [
         "7685",
         "Azerbaijan",
         [
          "-50.8291",
          "-40.8846"
         ],
         "2020-06-07T21:29:34.000+0000"
        ],
        [
         "9183",
         "Anguilla",
         [
          "-54.9713",
          "-55.3111"
         ],
         "2020-04-20T07:48:31.000+0000"
        ],
        [
         "2452",
         "Bahamas",
         [
          "-82.2495",
          "-135.586"
         ],
         "2018-02-16T06:48:42.000+0000"
        ],
        [
         "5679",
         "Qatar",
         [
          "-31.0302",
          "69.808"
         ],
         "2020-03-16T12:40:13.000+0000"
        ],
        [
         "4055",
         "Georgia",
         [
          "16.8902",
          "-123.373"
         ],
         "2021-09-23T06:42:16.000+0000"
        ],
        [
         "10570",
         "Bulgaria",
         [
          "-87.6895",
          "-176.801"
         ],
         "2021-12-29T05:55:33.000+0000"
        ],
        [
         "7770",
         "Venezuela",
         [
          "50.8676",
          "58.8244"
         ],
         "2019-10-03T17:28:34.000+0000"
        ],
        [
         "9234",
         "Azerbaijan",
         [
          "-68.2139",
          "-44.4492"
         ],
         "2021-07-08T05:58:46.000+0000"
        ],
        [
         "4381",
         "Papua New Guinea",
         [
          "-73.112",
          "166.935"
         ],
         "2018-10-24T00:08:30.000+0000"
        ],
        [
         "10248",
         "Equatorial Guinea",
         [
          "-31.9615",
          "161.151"
         ],
         "2019-11-03T15:11:00.000+0000"
        ],
        [
         "3345",
         "Sweden",
         [
          "21.5886",
          "-173.383"
         ],
         "2017-10-24T06:17:09.000+0000"
        ],
        [
         "10425",
         "Bangladesh",
         [
          "-89.4254",
          "-161.818"
         ],
         "2022-03-30T21:28:40.000+0000"
        ],
        [
         "1611",
         "Uganda",
         [
          "15.9313",
          "-117.052"
         ],
         "2018-04-09T02:43:42.000+0000"
        ],
        [
         "6671",
         "Armenia",
         [
          "-38.5336",
          "63.0323"
         ],
         "2019-06-19T07:38:50.000+0000"
        ],
        [
         "1545",
         "Anguilla",
         [
          "-30.18",
          "-72.3784"
         ],
         "2022-06-17T05:47:12.000+0000"
        ],
        [
         "1521",
         "Saint Helena",
         [
          "24.5192",
          "64.9674"
         ],
         "2022-10-12T14:03:26.000+0000"
        ],
        [
         "1175",
         "Nauru",
         [
          "-75.0051",
          "-171.034"
         ],
         "2020-09-16T14:16:31.000+0000"
        ],
        [
         "8700",
         "American Samoa",
         [
          "-88.5255",
          "-161.644"
         ],
         "2019-03-15T15:32:15.000+0000"
        ],
        [
         "5488",
         "Finland",
         [
          "-59.6163",
          "-107.324"
         ],
         "2021-03-14T05:55:21.000+0000"
        ],
        [
         "2161",
         "Bosnia and Herzegovina",
         [
          "65.064",
          "-26.9196"
         ],
         "2019-07-18T22:30:21.000+0000"
        ],
        [
         "9502",
         "Algeria",
         [
          "-71.3184",
          "-113.724"
         ],
         "2021-06-27T10:58:17.000+0000"
        ],
        [
         "9929",
         "Congo",
         [
          "-55.2455",
          "-97.0937"
         ],
         "2022-04-19T14:19:21.000+0000"
        ],
        [
         "9010",
         "Argentina",
         [
          "-89.63",
          "-179.022"
         ],
         "2018-12-21T18:40:56.000+0000"
        ],
        [
         "7902",
         "Afghanistan",
         [
          "-87.8179",
          "-178.525"
         ],
         "2022-04-13T15:57:13.000+0000"
        ],
        [
         "7640",
         "Albania",
         [
          "-87.2",
          "-177.109"
         ],
         "2020-12-26T05:39:12.000+0000"
        ],
        [
         "6305",
         "Azerbaijan",
         [
          "-89.3669",
          "-170.886"
         ],
         "2021-05-09T19:54:08.000+0000"
        ],
        [
         "7666",
         "Algeria",
         [
          "-89.5173",
          "-179.689"
         ],
         "2021-02-06T19:47:52.000+0000"
        ],
        [
         "10234",
         "Belarus",
         [
          "-89.1492",
          "-169.091"
         ],
         "2020-08-25T17:45:15.000+0000"
        ],
        [
         "10500",
         "Philippines",
         [
          "-84.9984",
          "155.706"
         ],
         "2019-06-16T10:28:02.000+0000"
        ],
        [
         "283",
         "Aruba",
         [
          "-84.8378",
          "-167.14"
         ],
         "2021-01-04T02:59:01.000+0000"
        ],
        [
         "2499",
         "Guadeloupe",
         [
          "-69.8437",
          "-61.9355"
         ],
         "2021-09-22T22:23:13.000+0000"
        ],
        [
         "644",
         "Albania",
         [
          "-71.6856",
          "-179.126"
         ],
         "2022-06-09T11:40:06.000+0000"
        ],
        [
         "7050",
         "Monaco",
         [
          "-28.2843",
          "-134.891"
         ],
         "2020-07-08T00:37:37.000+0000"
        ],
        [
         "287",
         "Aruba",
         [
          "-84.8378",
          "-167.14"
         ],
         "2022-06-18T10:40:31.000+0000"
        ],
        [
         "1268",
         "Argentina",
         [
          "-41.7803",
          "-177.23"
         ],
         "2019-07-06T04:10:29.000+0000"
        ],
        [
         "2793",
         "Botswana",
         [
          "-84.3867",
          "-120.917"
         ],
         "2021-03-22T17:39:38.000+0000"
        ],
        [
         "4641",
         "Bahrain",
         [
          "-34.1594",
          "-124.145"
         ],
         "2020-12-23T00:16:10.000+0000"
        ],
        [
         "9268",
         "American Samoa",
         [
          "-88.5255",
          "-161.644"
         ],
         "2020-03-16T23:13:51.000+0000"
        ],
        [
         "2904",
         "Brunei Darussalam",
         [
          "-35.6673",
          "-173.786"
         ],
         "2022-03-17T06:29:33.000+0000"
        ],
        [
         "498",
         "Armenia",
         [
          "-88.9652",
          "-164.795"
         ],
         "2021-05-13T21:01:51.000+0000"
        ],
        [
         "10369",
         "Bouvet Island (Bouvetoya)",
         [
          "-79.0994",
          "-101.415"
         ],
         "2020-02-01T10:43:06.000+0000"
        ],
        [
         "6645",
         "Colombia",
         [
          "-62.5143",
          "-114.548"
         ],
         "2019-06-18T05:17:37.000+0000"
        ],
        [
         "2952",
         "Chad",
         [
          "-79.2535",
          "-170.409"
         ],
         "2019-04-03T08:24:44.000+0000"
        ],
        [
         "3334",
         "Anguilla",
         [
          "-89.0609",
          "-170.904"
         ],
         "2019-09-26T20:13:48.000+0000"
        ],
        [
         "8120",
         "British Virgin Islands",
         [
          "-59.1209",
          "-93.9878"
         ],
         "2022-02-07T04:10:37.000+0000"
        ],
        [
         "7285",
         "Afghanistan",
         [
          "-88.3754",
          "-164.273"
         ],
         "2018-12-08T09:53:32.000+0000"
        ],
        [
         "179",
         "Monaco",
         [
          "-69.6993",
          "160.052"
         ],
         "2019-11-22T14:46:15.000+0000"
        ],
        [
         "159",
         "Andorra",
         [
          "-88.0812",
          "-166.603"
         ],
         "2017-11-20T21:14:56.000+0000"
        ],
        [
         "10853",
         "Peru",
         [
          "26.2386",
          "-91.1249"
         ],
         "2019-11-03T03:19:46.000+0000"
        ],
        [
         "2025",
         "American Samoa",
         [
          "-88.5252",
          "-172.436"
         ],
         "2021-11-08T16:23:39.000+0000"
        ],
        [
         "1707",
         "Congo",
         [
          "-49.9394",
          "-109.211"
         ],
         "2021-05-01T22:43:52.000+0000"
        ],
        [
         "8561",
         "American Samoa",
         [
          "-81.8896",
          "-153.897"
         ],
         "2019-09-07T20:08:45.000+0000"
        ],
        [
         "9173",
         "Guernsey",
         [
          "-70.6233",
          "-69.455"
         ],
         "2019-08-22T13:23:51.000+0000"
        ],
        [
         "857",
         "Bahamas",
         [
          "-87.0574",
          "-164.826"
         ],
         "2021-12-28T23:31:43.000+0000"
        ],
        [
         "8854",
         "Argentina",
         [
          "-89.4739",
          "-176.154"
         ],
         "2021-05-24T12:35:37.000+0000"
        ],
        [
         "4925",
         "Saint Kitts and Nevis",
         [
          "-27.7949",
          "-15.1704"
         ],
         "2018-12-08T06:53:23.000+0000"
        ],
        [
         "3175",
         "French Polynesia",
         [
          "-84.8365",
          "-122.171"
         ],
         "2021-12-08T02:58:18.000+0000"
        ],
        [
         "2482",
         "Bermuda",
         [
          "63.4563",
          "-164.709"
         ],
         "2019-09-13T08:20:13.000+0000"
        ],
        [
         "10278",
         "Bahrain",
         [
          "-52.3365",
          "-177.892"
         ],
         "2019-07-23T13:35:03.000+0000"
        ],
        [
         "1626",
         "Tokelau",
         [
          "-58.448",
          "-104.059"
         ],
         "2020-09-23T10:43:02.000+0000"
        ],
        [
         "6844",
         "New Caledonia",
         [
          "-22.6915",
          "5.69245"
         ],
         "2021-06-06T21:53:11.000+0000"
        ],
        [
         "1198",
         "Finland",
         [
          "6.37207",
          "-150.73"
         ],
         "2020-01-24T23:42:18.000+0000"
        ],
        [
         "2987",
         "Dominica",
         [
          "83.1466",
          "-169.136"
         ],
         "2019-12-24T22:33:06.000+0000"
        ],
        [
         "8996",
         "Andorra",
         [
          "-84.7363",
          "-179.087"
         ],
         "2022-06-12T07:21:52.000+0000"
        ],
        [
         "8653",
         "Seychelles",
         [
          "48.4569",
          "-139.658"
         ],
         "2022-04-11T18:30:19.000+0000"
        ],
        [
         "4",
         "Albania",
         [
          "-88.8298",
          "-170.188"
         ],
         "2022-07-07T00:18:41.000+0000"
        ],
        [
         "865",
         "Armenia",
         [
          "-88.9652",
          "-164.795"
         ],
         "2019-12-22T03:54:25.000+0000"
        ],
        [
         "3703",
         "Angola",
         [
          "-87.3742",
          "-177.647"
         ],
         "2020-05-18T04:14:27.000+0000"
        ],
        [
         "4769",
         "Aruba",
         [
          "-82.0592",
          "-92.7514"
         ],
         "2021-10-16T01:34:51.000+0000"
        ],
        [
         "301",
         "Aruba",
         [
          "-84.8378",
          "-167.14"
         ],
         "2018-04-15T07:17:24.000+0000"
        ],
        [
         "9402",
         "Argentina",
         [
          "-89.4739",
          "-176.154"
         ],
         "2022-06-15T08:25:16.000+0000"
        ],
        [
         "8977",
         "Bosnia and Herzegovina",
         [
          "-80.2967",
          "-166.23"
         ],
         "2021-07-05T00:38:13.000+0000"
        ],
        [
         "6806",
         "Fiji",
         [
          "51.4822",
          "-20.238"
         ],
         "2020-10-11T11:07:40.000+0000"
        ],
        [
         "1301",
         "Lesotho",
         [
          "-20.2845",
          "-1.62035"
         ],
         "2020-12-16T16:24:43.000+0000"
        ],
        [
         "9969",
         "Christmas Island",
         [
          "-85.0855",
          "-156.903"
         ],
         "2019-11-02T09:49:59.000+0000"
        ],
        [
         "10168",
         "Norway",
         [
          "-14.7211",
          "137.812"
         ],
         "2019-10-14T00:19:33.000+0000"
        ],
        [
         "10837",
         "Samoa",
         [
          "86.6387",
          "-26.2408"
         ],
         "2018-09-27T07:12:31.000+0000"
        ],
        [
         "527",
         "Aruba",
         [
          "-75.3",
          "-169.77"
         ],
         "2020-11-15T18:35:20.000+0000"
        ],
        [
         "5230",
         "Albania",
         [
          "-89.9787",
          "-173.293"
         ],
         "2022-05-05T00:30:35.000+0000"
        ],
        [
         "1481",
         "Finland",
         [
          "-37.2856",
          "153.269"
         ],
         "2018-07-14T15:10:37.000+0000"
        ],
        [
         "1324",
         "Netherlands Antilles",
         [
          "-10.2532",
          "-124.71"
         ],
         "2019-10-28T01:24:28.000+0000"
        ],
        [
         "10052",
         "Central African Republic",
         [
          "14.7195",
          "-130.921"
         ],
         "2020-01-03T01:10:57.000+0000"
        ],
        [
         "409",
         "Cameroon",
         [
          "-41.5492",
          "-152.355"
         ],
         "2019-05-28T01:00:22.000+0000"
        ],
        [
         "1170",
         "Libyan Arab Jamahiriya",
         [
          "56.1198",
          "20.2963"
         ],
         "2019-08-07T22:17:07.000+0000"
        ]
       ],
       "datasetInfos": [],
       "dbfsResultPath": null,
       "isJsonSchema": true,
       "metadata": {},
       "overflow": false,
       "plotOptions": {
        "customPlotOptions": {},
        "displayType": "table",
        "pivotAggregation": null,
        "pivotColumns": null,
        "xColumns": null,
        "yColumns": null
       },
       "removedWidgets": [],
       "schema": [
        {
         "metadata": "{}",
         "name": "ind",
         "type": "\"string\""
        },
        {
         "metadata": "{}",
         "name": "country",
         "type": "\"string\""
        },
        {
         "metadata": "{}",
         "name": "coordinates",
         "type": "{\"type\":\"array\",\"elementType\":\"string\",\"containsNull\":true}"
        },
        {
         "metadata": "{}",
         "name": "timestamp",
         "type": "\"timestamp\""
        }
       ],
       "type": "table"
      }
     },
     "output_type": "display_data"
    }
   ],
   "source": [
    "# Drop duplicates\n",
    "df_geo = df_geo_stream_de.dropDuplicates()\n",
    "\n",
    "# Create a new column coordinates that contains an array based on the latitude and longitude columns\n",
    "df_geo = df_geo.withColumn(\"coordinates\", array(col(\"latitude\"), col(\"longitude\")))\n",
    "\n",
    "# Drop the latitude and longitude columns from the DataFrame\n",
    "df_geo = df_geo.drop(\"latitude\", \"longitude\")\n",
    "\n",
    "# Convert the timestamp column from a string to a timestamp data type\n",
    "df_geo = df_geo.withColumn(\"timestamp\", col(\"timestamp\").cast(TimestampType()))\n",
    "\n",
    "# Reorder the DataFrame columns\n",
    "df_geo = df_geo.select([\"ind\", \"country\", \"coordinates\", \"timestamp\"])\n",
    "\n",
    "display(df_geo)\n"
   ]
  },
  {
   "cell_type": "code",
   "execution_count": 0,
   "metadata": {
    "application/vnd.databricks.v1+cell": {
     "cellMetadata": {
      "byteLimit": 2048000,
      "rowLimit": 10000
     },
     "inputWidgets": {},
     "nuid": "1d17fbe2-3d3c-4d48-a085-9db9b454444c",
     "showTitle": true,
     "title": "Cleaning user dataframe (df_user_raw)"
    }
   },
   "outputs": [
    {
     "output_type": "display_data",
     "data": {
      "text/html": [
       "<style scoped>\n",
       "  .table-result-container {\n",
       "    max-height: 300px;\n",
       "    overflow: auto;\n",
       "  }\n",
       "  table, th, td {\n",
       "    border: 1px solid black;\n",
       "    border-collapse: collapse;\n",
       "  }\n",
       "  th, td {\n",
       "    padding: 5px;\n",
       "  }\n",
       "  th {\n",
       "    text-align: left;\n",
       "  }\n",
       "</style><div class='table-result-container'><table class='table-result'><thead style='background-color: white'><tr><th>ind</th><th>user_name</th><th>age</th><th>date_joined</th></tr></thead><tbody><tr><td>2668</td><td>April Brown</td><td>20</td><td>2016-04-10T02:39:57.000+0000</td></tr><tr><td>6797</td><td>Janet Shaw</td><td>27</td><td>2016-11-02T03:54:55.000+0000</td></tr><tr><td>8204</td><td>David Davis</td><td>38</td><td>2016-11-20T06:55:49.000+0000</td></tr><tr><td>5293</td><td>David Taylor</td><td>36</td><td>2016-06-03T23:53:50.000+0000</td></tr><tr><td>4561</td><td>Madeline Brown</td><td>43</td><td>2016-11-11T15:53:15.000+0000</td></tr><tr><td>6957</td><td>Brittany Brown</td><td>37</td><td>2016-06-25T14:36:22.000+0000</td></tr><tr><td>7446</td><td>Melissa Weiss</td><td>32</td><td>2017-09-19T15:10:12.000+0000</td></tr><tr><td>926</td><td>Thomas Stone</td><td>21</td><td>2016-07-18T18:19:31.000+0000</td></tr><tr><td>552</td><td>Regina Morales</td><td>20</td><td>2017-01-17T01:49:27.000+0000</td></tr><tr><td>6615</td><td>Barry West</td><td>44</td><td>2016-08-13T21:13:14.000+0000</td></tr><tr><td>1570</td><td>Jason Thomas</td><td>35</td><td>2017-09-16T08:44:13.000+0000</td></tr><tr><td>2430</td><td>Amy Adams</td><td>20</td><td>2015-10-24T05:05:28.000+0000</td></tr><tr><td>159</td><td>Alison Bell</td><td>21</td><td>2016-01-07T08:11:35.000+0000</td></tr><tr><td>91</td><td>Darryl Baker</td><td>29</td><td>2016-02-26T03:45:09.000+0000</td></tr><tr><td>160</td><td>Anthony Mcbride</td><td>46</td><td>2016-06-10T09:51:54.000+0000</td></tr><tr><td>9533</td><td>Alice Day</td><td>25</td><td>2015-11-04T05:12:00.000+0000</td></tr><tr><td>7529</td><td>Robert Black</td><td>53</td><td>2016-05-21T02:14:41.000+0000</td></tr><tr><td>9875</td><td>Brendan Joseph</td><td>26</td><td>2015-12-20T10:28:00.000+0000</td></tr><tr><td>3436</td><td>Charles Johnson</td><td>25</td><td>2015-12-07T02:19:50.000+0000</td></tr><tr><td>8996</td><td>Aaron Alexander</td><td>21</td><td>2015-10-25T07:36:08.000+0000</td></tr><tr><td>7952</td><td>Karen Clark</td><td>47</td><td>2016-08-01T06:36:32.000+0000</td></tr><tr><td>8352</td><td>Carl Thompson</td><td>24</td><td>2015-10-21T03:17:47.000+0000</td></tr><tr><td>10501</td><td>Clarence Brooks</td><td>40</td><td>2016-04-07T05:11:10.000+0000</td></tr><tr><td>5365</td><td>Adam Cole</td><td>23</td><td>2015-11-15T23:49:12.000+0000</td></tr><tr><td>5730</td><td>Rachel Davis</td><td>36</td><td>2015-12-08T20:02:43.000+0000</td></tr><tr><td>327</td><td>Jill Taylor</td><td>39</td><td>2015-12-04T03:15:28.000+0000</td></tr><tr><td>8015</td><td>Danielle Klein</td><td>38</td><td>2016-04-11T08:54:04.000+0000</td></tr><tr><td>5402</td><td>James Brown</td><td>49</td><td>2016-04-06T13:56:50.000+0000</td></tr><tr><td>10429</td><td>Brandon Henderson</td><td>24</td><td>2016-01-12T17:59:43.000+0000</td></tr><tr><td>9929</td><td>Benjamin Brady</td><td>21</td><td>2016-05-11T06:22:07.000+0000</td></tr><tr><td>5111</td><td>Lonnie Boyd</td><td>49</td><td>2016-02-08T06:54:03.000+0000</td></tr><tr><td>5742</td><td>Barbara Edwards</td><td>24</td><td>2016-01-09T19:37:29.000+0000</td></tr><tr><td>7950</td><td>Kristy Donaldson</td><td>46</td><td>2017-08-15T03:04:44.000+0000</td></tr><tr><td>5349</td><td>Caitlyn Baker</td><td>22</td><td>2015-11-11T17:56:54.000+0000</td></tr><tr><td>7165</td><td>Nancy Jones</td><td>35</td><td>2016-01-12T09:32:19.000+0000</td></tr><tr><td>385</td><td>Aaron Abbott</td><td>20</td><td>2015-10-31T18:51:07.000+0000</td></tr><tr><td>737</td><td>Christopher Evans</td><td>32</td><td>2015-11-03T07:55:11.000+0000</td></tr><tr><td>3843</td><td>Ronald Hanson</td><td>28</td><td>2017-04-16T00:14:21.000+0000</td></tr><tr><td>1530</td><td>Jose Robbins</td><td>54</td><td>2016-03-07T19:38:00.000+0000</td></tr><tr><td>7356</td><td>Andrew Anderson</td><td>23</td><td>2015-11-28T11:52:37.000+0000</td></tr><tr><td>4764</td><td>Michael Adams</td><td>32</td><td>2016-03-15T21:43:17.000+0000</td></tr><tr><td>544</td><td>Abigail Carter</td><td>21</td><td>2015-12-10T01:13:45.000+0000</td></tr><tr><td>10253</td><td>Aaron Anderson</td><td>21</td><td>2015-10-23T03:43:54.000+0000</td></tr><tr><td>8361</td><td>Christine Cortez</td><td>23</td><td>2015-12-01T18:15:02.000+0000</td></tr><tr><td>9567</td><td>Daniel Dorsey</td><td>26</td><td>2016-05-30T04:59:21.000+0000</td></tr><tr><td>1371</td><td>Amanda Brown</td><td>20</td><td>2015-11-12T03:23:49.000+0000</td></tr><tr><td>5737</td><td>Alexis Bell</td><td>20</td><td>2015-11-23T06:34:47.000+0000</td></tr><tr><td>1379</td><td>Aaron Abbott</td><td>20</td><td>2015-10-31T18:51:07.000+0000</td></tr><tr><td>9759</td><td>Daniel Brooks</td><td>25</td><td>2015-11-19T21:24:33.000+0000</td></tr><tr><td>1706</td><td>Amy Adams</td><td>20</td><td>2015-10-24T05:05:28.000+0000</td></tr><tr><td>4654</td><td>Nathan Howard</td><td>37</td><td>2016-03-06T21:35:04.000+0000</td></tr><tr><td>7514</td><td>Amanda Holt</td><td>21</td><td>2017-01-10T13:22:59.000+0000</td></tr><tr><td>8315</td><td>Andrew Alexander</td><td>20</td><td>2015-11-20T09:08:00.000+0000</td></tr><tr><td>498</td><td>Anna Bird</td><td>25</td><td>2015-10-21T18:29:08.000+0000</td></tr><tr><td>6747</td><td>Matthew Simon</td><td>58</td><td>2017-06-17T04:42:14.000+0000</td></tr><tr><td>9812</td><td>Janet Andrews</td><td>28</td><td>2016-06-11T14:48:17.000+0000</td></tr><tr><td>8255</td><td>Peter Huffman</td><td>39</td><td>2017-03-18T05:26:56.000+0000</td></tr><tr><td>33</td><td>Angela Conner</td><td>36</td><td>2016-09-21T11:18:22.000+0000</td></tr><tr><td>2793</td><td>Bobby Cook</td><td>21</td><td>2015-12-15T05:28:12.000+0000</td></tr><tr><td>2025</td><td>Aaron Abbott</td><td>20</td><td>2015-10-31T18:51:07.000+0000</td></tr><tr><td>3688</td><td>James Jefferson</td><td>22</td><td>2016-02-25T23:48:54.000+0000</td></tr><tr><td>1567</td><td>David Griffith</td><td>20</td><td>2016-01-07T19:49:22.000+0000</td></tr><tr><td>6066</td><td>Angela Flores</td><td>28</td><td>2015-10-29T08:51:34.000+0000</td></tr><tr><td>10087</td><td>Danny Ramsey</td><td>22</td><td>2016-07-03T13:53:31.000+0000</td></tr><tr><td>6976</td><td>Andrea Beasley</td><td>23</td><td>2015-11-10T10:26:14.000+0000</td></tr><tr><td>9935</td><td>Annette Andrews</td><td>28</td><td>2015-12-20T22:09:10.000+0000</td></tr><tr><td>8889</td><td>Melissa Thompson</td><td>42</td><td>2016-04-01T01:20:00.000+0000</td></tr><tr><td>5091</td><td>Samantha Hall</td><td>27</td><td>2017-04-27T09:48:22.000+0000</td></tr><tr><td>6682</td><td>Lisa Walls</td><td>50</td><td>2016-09-09T23:42:11.000+0000</td></tr><tr><td>2955</td><td>Kevin Young</td><td>58</td><td>2016-09-18T07:28:19.000+0000</td></tr><tr><td>2987</td><td>Charles Robinson</td><td>41</td><td>2015-12-22T01:36:15.000+0000</td></tr><tr><td>4210</td><td>Anthony Golden</td><td>56</td><td>2017-05-03T22:37:43.000+0000</td></tr><tr><td>5155</td><td>Steven Weiss</td><td>22</td><td>2017-09-25T07:45:23.000+0000</td></tr><tr><td>3089</td><td>Abigail Ali</td><td>20</td><td>2015-10-24T11:23:51.000+0000</td></tr><tr><td>4137</td><td>Michael Decker</td><td>59</td><td>2017-06-29T22:35:17.000+0000</td></tr><tr><td>778</td><td>Christine Adams</td><td>31</td><td>2016-02-06T10:22:53.000+0000</td></tr><tr><td>1789</td><td>Jennifer Snyder</td><td>53</td><td>2017-03-27T10:25:34.000+0000</td></tr><tr><td>9455</td><td>Calvin Baker</td><td>26</td><td>2015-11-14T05:58:38.000+0000</td></tr><tr><td>7154</td><td>Alejandra Acevedo</td><td>20</td><td>2015-11-24T21:01:23.000+0000</td></tr><tr><td>8944</td><td>Aaron Lam</td><td>33</td><td>2017-04-15T12:15:53.000+0000</td></tr><tr><td>1254</td><td>Patricia Harvey</td><td>41</td><td>2017-09-25T07:22:09.000+0000</td></tr><tr><td>6586</td><td>Kelly Carter</td><td>58</td><td>2015-11-30T19:16:40.000+0000</td></tr><tr><td>4500</td><td>Angela Brooks</td><td>24</td><td>2015-11-20T05:37:11.000+0000</td></tr><tr><td>5198</td><td>James Sharp</td><td>23</td><td>2016-10-21T08:22:24.000+0000</td></tr><tr><td>4949</td><td>Colin Clayton</td><td>46</td><td>2016-11-18T10:00:53.000+0000</td></tr><tr><td>2447</td><td>Nancy Patel</td><td>35</td><td>2017-06-27T10:00:11.000+0000</td></tr><tr><td>1032</td><td>Kelly Blackwell</td><td>34</td><td>2016-04-01T21:50:44.000+0000</td></tr><tr><td>1729</td><td>Amanda Adams</td><td>20</td><td>2015-10-21T08:27:36.000+0000</td></tr><tr><td>5117</td><td>Leah Gonzalez</td><td>21</td><td>2016-08-12T18:53:00.000+0000</td></tr><tr><td>6018</td><td>Angela Everett</td><td>23</td><td>2016-02-23T11:59:45.000+0000</td></tr><tr><td>7343</td><td>Anne Clayton</td><td>24</td><td>2016-01-11T12:03:48.000+0000</td></tr><tr><td>9014</td><td>Luke Carter</td><td>37</td><td>2016-01-13T20:19:57.000+0000</td></tr><tr><td>9530</td><td>Denise Graves</td><td>21</td><td>2016-01-28T22:04:16.000+0000</td></tr><tr><td>525</td><td>Abigail Ali</td><td>20</td><td>2015-10-24T11:23:51.000+0000</td></tr><tr><td>1972</td><td>Michelle Smith</td><td>52</td><td>2017-05-05T05:06:56.000+0000</td></tr><tr><td>3317</td><td>Angela Anderson</td><td>20</td><td>2015-11-27T04:14:49.000+0000</td></tr><tr><td>5162</td><td>James Jacobson</td><td>28</td><td>2017-04-30T16:41:26.000+0000</td></tr><tr><td>6403</td><td>April Simmons</td><td>34</td><td>2017-05-27T14:44:48.000+0000</td></tr><tr><td>6631</td><td>Valerie Leach</td><td>33</td><td>2015-10-31T10:25:32.000+0000</td></tr><tr><td>3032</td><td>Anthony Chen</td><td>24</td><td>2016-06-15T12:49:30.000+0000</td></tr><tr><td>1611</td><td>Erik Martinez</td><td>40</td><td>2017-03-08T06:03:20.000+0000</td></tr><tr><td>1786</td><td>Adam Gibson</td><td>21</td><td>2015-11-22T23:22:23.000+0000</td></tr><tr><td>1821</td><td>Amanda Cooper</td><td>22</td><td>2016-01-19T16:56:23.000+0000</td></tr><tr><td>1811</td><td>Jasmine Buck</td><td>27</td><td>2015-12-24T10:01:06.000+0000</td></tr><tr><td>7586</td><td>Aaron Alexander</td><td>21</td><td>2015-10-25T07:36:08.000+0000</td></tr><tr><td>10936</td><td>Frank Howard</td><td>56</td><td>2017-04-21T18:32:30.000+0000</td></tr><tr><td>10794</td><td>Thomas Turner</td><td>34</td><td>2016-12-22T00:02:02.000+0000</td></tr><tr><td>2403</td><td>Erin Lawson</td><td>59</td><td>2017-06-29T10:23:41.000+0000</td></tr><tr><td>6671</td><td>Jessica Long</td><td>47</td><td>2017-10-06T04:10:16.000+0000</td></tr><tr><td>709</td><td>Adam Acosta</td><td>20</td><td>2015-10-21T21:26:45.000+0000</td></tr><tr><td>2001</td><td>Jonathan Gordon</td><td>24</td><td>2015-11-12T08:52:11.000+0000</td></tr><tr><td>9941</td><td>Caitlyn Baker</td><td>22</td><td>2015-11-11T17:56:54.000+0000</td></tr><tr><td>5297</td><td>Carrie Hurley</td><td>42</td><td>2016-11-05T11:17:22.000+0000</td></tr><tr><td>2015</td><td>Christopher Bradshaw</td><td>27</td><td>2016-03-08T13:38:37.000+0000</td></tr><tr><td>2041</td><td>Christopher Campbell</td><td>35</td><td>2015-10-22T22:42:23.000+0000</td></tr><tr><td>9198</td><td>Amber Chen</td><td>22</td><td>2015-12-30T05:21:14.000+0000</td></tr><tr><td>865</td><td>Anna Bird</td><td>25</td><td>2015-10-21T18:29:08.000+0000</td></tr><tr><td>9950</td><td>Christopher Bates</td><td>30</td><td>2016-05-25T10:09:22.000+0000</td></tr><tr><td>10602</td><td>Jack Dodson</td><td>21</td><td>2016-03-06T15:54:40.000+0000</td></tr><tr><td>310</td><td>Amanda Benitez</td><td>21</td><td>2015-11-01T09:16:18.000+0000</td></tr><tr><td>334</td><td>Cindy Morales</td><td>43</td><td>2016-09-01T18:15:56.000+0000</td></tr><tr><td>6756</td><td>Michael Clark</td><td>26</td><td>2016-06-15T18:10:59.000+0000</td></tr><tr><td>3454</td><td>Robert Murphy</td><td>48</td><td>2017-09-26T16:31:56.000+0000</td></tr><tr><td>7850</td><td>Joseph Kelly</td><td>44</td><td>2017-09-28T16:41:00.000+0000</td></tr><tr><td>10371</td><td>Lori Campos</td><td>48</td><td>2016-04-26T11:49:56.000+0000</td></tr><tr><td>5497</td><td>Joseph Barnett</td><td>21</td><td>2015-11-21T10:00:55.000+0000</td></tr><tr><td>6781</td><td>Stephen Chan</td><td>37</td><td>2017-02-26T16:11:58.000+0000</td></tr><tr><td>5494</td><td>Anne Allen</td><td>27</td><td>2015-12-16T15:20:05.000+0000</td></tr><tr><td>9426</td><td>Nicholas Mcdaniel</td><td>45</td><td>2017-05-24T01:41:26.000+0000</td></tr><tr><td>2577</td><td>Amy Adams</td><td>20</td><td>2015-10-24T05:05:28.000+0000</td></tr><tr><td>5704</td><td>David Craig</td><td>30</td><td>2016-01-30T06:09:57.000+0000</td></tr><tr><td>1701</td><td>Brandon Simmons</td><td>49</td><td>2017-03-31T10:02:35.000+0000</td></tr><tr><td>3239</td><td>Eric Anderson</td><td>33</td><td>2016-08-07T08:38:33.000+0000</td></tr><tr><td>4357</td><td>Allison Adams</td><td>22</td><td>2015-11-30T10:51:59.000+0000</td></tr><tr><td>9155</td><td>Aaron Alexander</td><td>21</td><td>2015-10-25T07:36:08.000+0000</td></tr><tr><td>3094</td><td>Jose Smith</td><td>55</td><td>2016-12-13T06:09:30.000+0000</td></tr><tr><td>6328</td><td>Ashley Combs</td><td>34</td><td>2015-11-13T06:33:05.000+0000</td></tr><tr><td>2161</td><td>Alexander Rodriguez</td><td>55</td><td>2017-08-12T13:26:38.000+0000</td></tr><tr><td>1780</td><td>Angela Andrews</td><td>20</td><td>2015-10-28T21:44:56.000+0000</td></tr><tr><td>6814</td><td>April Blake</td><td>21</td><td>2015-10-28T03:16:59.000+0000</td></tr><tr><td>5106</td><td>Brandon Mueller</td><td>28</td><td>2017-03-16T15:12:04.000+0000</td></tr><tr><td>2788</td><td>Jesus Arellano</td><td>43</td><td>2016-03-22T15:45:21.000+0000</td></tr><tr><td>3231</td><td>Andrew Baker</td><td>22</td><td>2015-12-21T08:06:54.000+0000</td></tr><tr><td>3352</td><td>Abigail Adams</td><td>20</td><td>2015-10-25T13:11:51.000+0000</td></tr><tr><td>1776</td><td>Deanna Molina</td><td>22</td><td>2016-04-07T20:10:55.000+0000</td></tr><tr><td>5566</td><td>Ashley Anderson</td><td>32</td><td>2017-07-14T17:59:46.000+0000</td></tr><tr><td>462</td><td>Albert Allison</td><td>20</td><td>2015-10-21T22:27:27.000+0000</td></tr><tr><td>8731</td><td>Andrea Alexander</td><td>21</td><td>2015-11-10T09:27:42.000+0000</td></tr><tr><td>6014</td><td>Mary Luna</td><td>22</td><td>2016-01-02T01:40:52.000+0000</td></tr><tr><td>9270</td><td>Amy Brown</td><td>21</td><td>2015-11-08T16:14:16.000+0000</td></tr><tr><td>2354</td><td>Danielle Barber</td><td>23</td><td>2016-02-21T14:23:49.000+0000</td></tr><tr><td>5796</td><td>Adam Alexander</td><td>20</td><td>2015-10-22T11:31:37.000+0000</td></tr><tr><td>5069</td><td>Amanda Ball</td><td>25</td><td>2016-01-13T17:36:30.000+0000</td></tr><tr><td>4988</td><td>Rhonda Durham</td><td>25</td><td>2017-07-20T05:51:23.000+0000</td></tr><tr><td>8237</td><td>Aaron Abbott</td><td>20</td><td>2015-10-23T16:08:41.000+0000</td></tr><tr><td>9146</td><td>Andrew Anderson</td><td>23</td><td>2015-11-28T11:52:37.000+0000</td></tr><tr><td>10908</td><td>Stephanie Cooper</td><td>20</td><td>2017-06-01T02:30:48.000+0000</td></tr><tr><td>7560</td><td>Theresa Dixon</td><td>47</td><td>2015-12-18T14:49:13.000+0000</td></tr><tr><td>4866</td><td>Lawrence Lane</td><td>28</td><td>2017-07-09T11:52:42.000+0000</td></tr><tr><td>9672</td><td>Jennifer Hudson</td><td>22</td><td>2016-02-11T20:46:04.000+0000</td></tr><tr><td>10804</td><td>Stacy May</td><td>58</td><td>2016-06-21T11:33:31.000+0000</td></tr><tr><td>9584</td><td>David Harper</td><td>38</td><td>2016-08-12T12:33:07.000+0000</td></tr><tr><td>1066</td><td>Benjamin Branch</td><td>44</td><td>2016-06-08T17:23:33.000+0000</td></tr><tr><td>2754</td><td>Lance Li</td><td>23</td><td>2016-06-14T14:03:04.000+0000</td></tr><tr><td>5679</td><td>Melanie Allison</td><td>32</td><td>2017-07-02T05:22:18.000+0000</td></tr><tr><td>8941</td><td>Andrew Anderson</td><td>23</td><td>2015-11-28T11:52:37.000+0000</td></tr><tr><td>10868</td><td>Benjamin Keith</td><td>24</td><td>2017-02-25T21:08:31.000+0000</td></tr><tr><td>6806</td><td>Christopher Daniel</td><td>25</td><td>2016-04-15T17:06:49.000+0000</td></tr><tr><td>5724</td><td>Matthew Walker</td><td>57</td><td>2015-12-07T08:51:53.000+0000</td></tr><tr><td>4251</td><td>Amanda Allen</td><td>21</td><td>2015-11-16T23:15:00.000+0000</td></tr><tr><td>2780</td><td>Kimberly Mack</td><td>37</td><td>2017-08-09T03:52:40.000+0000</td></tr><tr><td>6963</td><td>Angela Allen</td><td>20</td><td>2015-10-26T04:12:32.000+0000</td></tr><tr><td>3485</td><td>Andrew Burke</td><td>20</td><td>2015-11-14T17:38:31.000+0000</td></tr><tr><td>6636</td><td>Christopher Green</td><td>34</td><td>2016-09-17T04:22:25.000+0000</td></tr><tr><td>5692</td><td>Adam Bennett</td><td>22</td><td>2016-02-08T21:50:41.000+0000</td></tr><tr><td>5309</td><td>Daniel Roy</td><td>31</td><td>2016-03-07T01:01:24.000+0000</td></tr><tr><td>10247</td><td>Gloria Mills</td><td>53</td><td>2016-07-14T12:43:36.000+0000</td></tr><tr><td>3201</td><td>Elizabeth Terry</td><td>28</td><td>2016-01-29T20:32:05.000+0000</td></tr><tr><td>6348</td><td>Mark Brown</td><td>23</td><td>2016-07-24T20:27:24.000+0000</td></tr><tr><td>2553</td><td>Bonnie Estrada</td><td>30</td><td>2015-10-21T07:31:00.000+0000</td></tr><tr><td>10585</td><td>Katherine Dennis</td><td>49</td><td>2016-10-03T13:42:13.000+0000</td></tr><tr><td>3561</td><td>Abigail Allen</td><td>20</td><td>2015-11-12T14:40:14.000+0000</td></tr><tr><td>1775</td><td>James Graham</td><td>22</td><td>2015-12-24T13:28:36.000+0000</td></tr><tr><td>3419</td><td>Aaron Jenkins</td><td>47</td><td>2017-04-26T03:26:23.000+0000</td></tr><tr><td>3334</td><td>Amber Casey</td><td>23</td><td>2016-01-06T12:22:08.000+0000</td></tr><tr><td>3660</td><td>Adrian Jackson</td><td>28</td><td>2016-04-30T10:03:19.000+0000</td></tr><tr><td>2927</td><td>Angela Andrews</td><td>20</td><td>2015-10-28T21:44:56.000+0000</td></tr><tr><td>909</td><td>Daniel Peck</td><td>24</td><td>2016-02-22T23:13:34.000+0000</td></tr><tr><td>6021</td><td>Elaine Savage</td><td>23</td><td>2017-10-13T13:55:52.000+0000</td></tr><tr><td>228</td><td>Linda Mccullough</td><td>43</td><td>2015-10-22T10:04:23.000+0000</td></tr><tr><td>5959</td><td>Jason Brooks</td><td>28</td><td>2015-12-21T00:33:51.000+0000</td></tr><tr><td>7068</td><td>Andrea Beasley</td><td>23</td><td>2015-11-10T10:26:14.000+0000</td></tr><tr><td>935</td><td>Michael Brooks</td><td>48</td><td>2016-08-05T06:18:29.000+0000</td></tr><tr><td>6305</td><td>Aaron Anderson</td><td>21</td><td>2015-10-23T03:43:54.000+0000</td></tr><tr><td>6633</td><td>James Turner</td><td>47</td><td>2017-10-04T16:16:34.000+0000</td></tr><tr><td>649</td><td>Jill Gilmore</td><td>29</td><td>2017-01-13T08:26:21.000+0000</td></tr><tr><td>3644</td><td>Angela Hall</td><td>27</td><td>2016-02-22T03:37:09.000+0000</td></tr><tr><td>7983</td><td>Aaron Anderson</td><td>21</td><td>2015-10-24T05:35:27.000+0000</td></tr><tr><td>4186</td><td>Christina Bryant</td><td>33</td><td>2016-04-27T01:35:39.000+0000</td></tr><tr><td>10721</td><td>Garrett Hernandez</td><td>53</td><td>2017-04-05T13:59:02.000+0000</td></tr><tr><td>9267</td><td>Andrea Alexander</td><td>21</td><td>2015-11-10T09:27:42.000+0000</td></tr><tr><td>2304</td><td>Abigail Burch</td><td>29</td><td>2016-03-17T11:34:05.000+0000</td></tr><tr><td>480</td><td>Timothy Sullivan</td><td>40</td><td>2017-01-12T08:37:12.000+0000</td></tr><tr><td>9123</td><td>Margaret Torres</td><td>21</td><td>2017-05-24T03:44:43.000+0000</td></tr><tr><td>4925</td><td>Lauren Richardson</td><td>32</td><td>2017-04-30T14:55:27.000+0000</td></tr><tr><td>3285</td><td>Aaron Greene</td><td>25</td><td>2016-01-14T00:10:04.000+0000</td></tr><tr><td>4377</td><td>Samuel Thompson</td><td>24</td><td>2017-04-08T10:18:26.000+0000</td></tr><tr><td>8058</td><td>Joyce Ochoa</td><td>23</td><td>2016-12-27T11:43:07.000+0000</td></tr><tr><td>2226</td><td>Lisa Thomas</td><td>35</td><td>2015-11-25T06:31:01.000+0000</td></tr><tr><td>4931</td><td>Steven Duncan</td><td>44</td><td>2016-04-25T23:51:06.000+0000</td></tr><tr><td>2530</td><td>Ariel Brown</td><td>26</td><td>2015-11-24T23:04:52.000+0000</td></tr><tr><td>637</td><td>Alexis Carrillo</td><td>24</td><td>2016-01-03T01:10:04.000+0000</td></tr><tr><td>10198</td><td>Mary Pope</td><td>41</td><td>2016-06-25T05:11:46.000+0000</td></tr><tr><td>4889</td><td>Andrew Gordon</td><td>25</td><td>2015-11-17T01:31:08.000+0000</td></tr><tr><td>6566</td><td>Alexander Perez</td><td>31</td><td>2017-08-04T14:30:22.000+0000</td></tr><tr><td>7874</td><td>Aaron Abbott</td><td>20</td><td>2015-10-23T16:08:41.000+0000</td></tr><tr><td>6479</td><td>Debra Morse</td><td>48</td><td>2016-09-12T23:54:34.000+0000</td></tr><tr><td>7642</td><td>Aaron Abbott</td><td>20</td><td>2015-10-23T16:08:41.000+0000</td></tr><tr><td>7383</td><td>Dawn Bradley</td><td>20</td><td>2016-08-26T16:09:52.000+0000</td></tr><tr><td>7896</td><td>Andrew Alvarez</td><td>21</td><td>2015-11-10T12:55:13.000+0000</td></tr><tr><td>1514</td><td>Michael Perkins</td><td>40</td><td>2017-06-28T16:17:39.000+0000</td></tr><tr><td>3878</td><td>William Donovan</td><td>49</td><td>2017-05-02T07:34:05.000+0000</td></tr><tr><td>6978</td><td>Jack Morales</td><td>56</td><td>2016-10-23T06:50:28.000+0000</td></tr><tr><td>6834</td><td>Keith Martinez</td><td>38</td><td>2015-11-17T12:56:37.000+0000</td></tr><tr><td>4271</td><td>Danielle Chambers</td><td>21</td><td>2015-12-08T00:29:58.000+0000</td></tr><tr><td>427</td><td>Jon Burke</td><td>25</td><td>2015-11-26T17:42:37.000+0000</td></tr><tr><td>1173</td><td>Dana Jackson</td><td>57</td><td>2016-06-05T21:37:09.000+0000</td></tr><tr><td>10500</td><td>Brooke Vang</td><td>33</td><td>2016-12-09T20:16:49.000+0000</td></tr><tr><td>10920</td><td>Bradley Bennett</td><td>21</td><td>2015-10-26T18:21:55.000+0000</td></tr><tr><td>4424</td><td>Aaron Buchanan</td><td>23</td><td>2016-01-17T21:06:05.000+0000</td></tr><tr><td>1694</td><td>James Mills</td><td>38</td><td>2017-08-13T19:07:29.000+0000</td></tr><tr><td>6488</td><td>Alec Bell</td><td>22</td><td>2016-01-09T15:37:07.000+0000</td></tr><tr><td>4489</td><td>Tracie Thompson</td><td>34</td><td>2017-08-21T02:27:26.000+0000</td></tr><tr><td>10234</td><td>Amy Adams</td><td>23</td><td>2015-11-19T13:16:24.000+0000</td></tr><tr><td>179</td><td>Sarah Salas</td><td>26</td><td>2016-01-01T10:11:23.000+0000</td></tr><tr><td>10932</td><td>Jacqueline King</td><td>36</td><td>2015-11-26T03:34:44.000+0000</td></tr><tr><td>1362</td><td>Nancy Case</td><td>23</td><td>2016-02-18T08:44:33.000+0000</td></tr><tr><td>3710</td><td>Nicole Johnson</td><td>44</td><td>2016-02-08T18:55:39.000+0000</td></tr><tr><td>7631</td><td>Jennifer Bailey</td><td>42</td><td>2016-03-07T21:07:12.000+0000</td></tr><tr><td>10671</td><td>Kristina Dawson</td><td>59</td><td>2017-08-19T13:07:48.000+0000</td></tr><tr><td>2508</td><td>Aaron Johnson</td><td>59</td><td>2016-07-02T04:35:40.000+0000</td></tr><tr><td>6398</td><td>Christina Davenport</td><td>39</td><td>2016-06-29T20:43:59.000+0000</td></tr><tr><td>7167</td><td>Dawn Bradley</td><td>20</td><td>2016-08-26T16:09:52.000+0000</td></tr><tr><td>2946</td><td>Samantha Carpenter</td><td>24</td><td>2016-06-26T00:05:17.000+0000</td></tr><tr><td>6589</td><td>Jeffrey Gross</td><td>23</td><td>2016-03-04T06:21:39.000+0000</td></tr><tr><td>808</td><td>Aaron Bartlett</td><td>21</td><td>2015-11-24T02:15:36.000+0000</td></tr><tr><td>2315</td><td>Ashley Briggs</td><td>38</td><td>2015-11-15T16:53:09.000+0000</td></tr><tr><td>10029</td><td>Anthony Baker</td><td>20</td><td>2015-11-14T19:24:56.000+0000</td></tr><tr><td>10853</td><td>Amanda Cox</td><td>37</td><td>2015-12-29T23:56:30.000+0000</td></tr><tr><td>4892</td><td>Pamela Wilson</td><td>28</td><td>2016-07-10T23:56:30.000+0000</td></tr><tr><td>223</td><td>Melanie Hill</td><td>51</td><td>2016-10-09T14:47:51.000+0000</td></tr><tr><td>7940</td><td>Andrew Arnold</td><td>21</td><td>2015-12-02T08:29:10.000+0000</td></tr><tr><td>4055</td><td>Grant George</td><td>27</td><td>2015-11-11T01:45:05.000+0000</td></tr><tr><td>7670</td><td>Aaron Abbott</td><td>20</td><td>2015-10-23T16:08:41.000+0000</td></tr><tr><td>6906</td><td>April Anderson</td><td>30</td><td>2016-06-27T08:35:51.000+0000</td></tr><tr><td>7862</td><td>Andrew Arnold</td><td>21</td><td>2015-12-02T08:29:10.000+0000</td></tr><tr><td>9010</td><td>Albert Allison</td><td>20</td><td>2015-10-21T22:27:27.000+0000</td></tr><tr><td>2595</td><td>Christopher Barnett</td><td>22</td><td>2016-03-24T09:38:54.000+0000</td></tr><tr><td>3182</td><td>Becky Brady</td><td>21</td><td>2015-11-05T20:19:03.000+0000</td></tr><tr><td>6844</td><td>Peter Roberts</td><td>30</td><td>2016-07-03T10:59:40.000+0000</td></tr><tr><td>4944</td><td>Amber Bennett</td><td>29</td><td>2016-02-28T04:37:04.000+0000</td></tr><tr><td>10052</td><td>Jamie Bryant</td><td>20</td><td>2017-06-17T20:00:37.000+0000</td></tr><tr><td>3240</td><td>April Brown</td><td>20</td><td>2016-04-10T02:39:57.000+0000</td></tr><tr><td>6299</td><td>Jeffrey Gordon</td><td>57</td><td>2017-01-06T20:27:48.000+0000</td></tr><tr><td>527</td><td>Carlos Dixon</td><td>24</td><td>2015-11-09T03:47:45.000+0000</td></tr><tr><td>5647</td><td>Calvin Atkins</td><td>27</td><td>2016-08-31T20:20:25.000+0000</td></tr><tr><td>3831</td><td>Alexandria Alvarado</td><td>20</td><td>2015-10-23T04:13:23.000+0000</td></tr><tr><td>1104</td><td>Holly Bailey</td><td>48</td><td>2016-02-01T07:15:19.000+0000</td></tr><tr><td>3359</td><td>Abigail Carter</td><td>21</td><td>2015-12-10T01:13:45.000+0000</td></tr><tr><td>719</td><td>Alicia Avila</td><td>20</td><td>2016-01-26T01:49:23.000+0000</td></tr><tr><td>5488</td><td>Heather Edwards</td><td>33</td><td>2016-01-16T18:25:10.000+0000</td></tr><tr><td>3626</td><td>Amanda Allen</td><td>21</td><td>2015-11-16T23:15:00.000+0000</td></tr><tr><td>1139</td><td>Jeffrey Smith</td><td>30</td><td>2016-10-26T06:53:14.000+0000</td></tr><tr><td>5978</td><td>Rebecca Simmons</td><td>60</td><td>2016-03-15T14:37:17.000+0000</td></tr><tr><td>4024</td><td>Adam Armstrong</td><td>20</td><td>2015-12-17T08:43:40.000+0000</td></tr><tr><td>10137</td><td>Daniel Matthews</td><td>34</td><td>2016-01-23T03:59:37.000+0000</td></tr><tr><td>2267</td><td>Andrea Blankenship</td><td>27</td><td>2016-04-11T21:27:52.000+0000</td></tr><tr><td>4780</td><td>Kristina King</td><td>34</td><td>2015-12-17T06:10:31.000+0000</td></tr><tr><td>9653</td><td>Jeffery Roberson</td><td>42</td><td>2017-06-29T14:26:41.000+0000</td></tr><tr><td>4585</td><td>Amy Atkins</td><td>21</td><td>2015-10-31T07:37:40.000+0000</td></tr><tr><td>4080</td><td>Marie Kennedy</td><td>42</td><td>2016-08-11T18:30:52.000+0000</td></tr><tr><td>8732</td><td>Annette Barber</td><td>43</td><td>2017-09-16T15:37:45.000+0000</td></tr><tr><td>6498</td><td>Adrienne Barrett</td><td>22</td><td>2015-11-04T15:48:14.000+0000</td></tr><tr><td>1137</td><td>Virginia Vega</td><td>38</td><td>2017-05-03T03:08:33.000+0000</td></tr><tr><td>4249</td><td>Alexandria Alvarado</td><td>20</td><td>2015-10-23T04:13:23.000+0000</td></tr><tr><td>9665</td><td>Austin Abbott</td><td>22</td><td>2015-11-07T09:52:29.000+0000</td></tr><tr><td>1521</td><td>Mindy Garrison</td><td>29</td><td>2016-02-18T23:18:39.000+0000</td></tr><tr><td>3360</td><td>Amber Casey</td><td>23</td><td>2016-01-06T12:22:08.000+0000</td></tr><tr><td>6740</td><td>Erica Green</td><td>36</td><td>2017-05-31T09:19:59.000+0000</td></tr><tr><td>10369</td><td>Gabrielle Flores</td><td>34</td><td>2017-09-17T01:53:38.000+0000</td></tr><tr><td>1214</td><td>Alejandro Graham</td><td>57</td><td>2017-07-17T15:31:30.000+0000</td></tr><tr><td>9969</td><td>Angela Bailey</td><td>21</td><td>2015-12-13T04:59:44.000+0000</td></tr><tr><td>9402</td><td>Andrew Anderson</td><td>23</td><td>2015-11-28T11:52:37.000+0000</td></tr><tr><td>9407</td><td>Amy Andrews</td><td>23</td><td>2015-10-29T19:12:55.000+0000</td></tr><tr><td>365</td><td>Kevin Torres</td><td>51</td><td>2016-08-07T18:45:21.000+0000</td></tr><tr><td>9487</td><td>Jose Bailey</td><td>21</td><td>2016-01-10T09:41:14.000+0000</td></tr><tr><td>7641</td><td>Aaron Anderson</td><td>21</td><td>2015-10-24T05:35:27.000+0000</td></tr><tr><td>10425</td><td>Andrea Carroll</td><td>20</td><td>2016-01-21T03:54:20.000+0000</td></tr><tr><td>10931</td><td>Aaron Bailey</td><td>20</td><td>2015-11-02T04:40:42.000+0000</td></tr><tr><td>3164</td><td>Cynthia Harper</td><td>43</td><td>2016-01-23T05:44:11.000+0000</td></tr><tr><td>1704</td><td>Barry Lynn</td><td>20</td><td>2015-10-28T05:00:33.000+0000</td></tr><tr><td>9936</td><td>Anthony Cantu</td><td>28</td><td>2016-11-15T10:40:03.000+0000</td></tr><tr><td>1967</td><td>Jay Flynn</td><td>24</td><td>2016-05-12T16:28:27.000+0000</td></tr><tr><td>501</td><td>Adam Acosta</td><td>20</td><td>2015-10-21T21:26:45.000+0000</td></tr><tr><td>3703</td><td>Alison Cole</td><td>21</td><td>2015-11-05T13:39:57.000+0000</td></tr><tr><td>533</td><td>David Griffith</td><td>20</td><td>2016-01-07T19:49:22.000+0000</td></tr><tr><td>1094</td><td>Ann Elliott</td><td>20</td><td>2016-07-02T02:32:30.000+0000</td></tr><tr><td>7180</td><td>Shannon Melton</td><td>26</td><td>2017-06-07T23:07:30.000+0000</td></tr><tr><td>8089</td><td>Melissa Griffin</td><td>47</td><td>2017-04-24T05:30:31.000+0000</td></tr><tr><td>10570</td><td>David Evans</td><td>21</td><td>2016-03-28T10:54:55.000+0000</td></tr><tr><td>6503</td><td>Frank Jackson</td><td>33</td><td>2016-05-22T06:19:03.000+0000</td></tr><tr><td>7648</td><td>Louis Patterson</td><td>23</td><td>2016-05-13T10:51:36.000+0000</td></tr><tr><td>7090</td><td>Andrea Allen</td><td>22</td><td>2015-11-13T10:22:18.000+0000</td></tr><tr><td>6264</td><td>Antonio Aguilar</td><td>42</td><td>2015-11-16T00:07:37.000+0000</td></tr><tr><td>10625</td><td>Christian Lang</td><td>32</td><td>2017-10-10T20:09:33.000+0000</td></tr><tr><td>1881</td><td>Jeffrey Brooks</td><td>47</td><td>2017-02-08T21:03:46.000+0000</td></tr><tr><td>1778</td><td>Alice Bennett</td><td>28</td><td>2016-05-03T03:50:42.000+0000</td></tr><tr><td>9054</td><td>Andrea Alexander</td><td>21</td><td>2015-11-10T09:27:42.000+0000</td></tr><tr><td>616</td><td>Brandon Holmes</td><td>21</td><td>2015-11-02T23:30:01.000+0000</td></tr><tr><td>4333</td><td>Andre Bartlett</td><td>20</td><td>2015-10-30T20:41:47.000+0000</td></tr><tr><td>3260</td><td>Ariel Brown</td><td>26</td><td>2015-11-24T23:04:52.000+0000</td></tr><tr><td>7500</td><td>Angela Chavez</td><td>43</td><td>2016-03-17T20:37:41.000+0000</td></tr><tr><td>5758</td><td>Amanda Arnold</td><td>20</td><td>2015-10-26T23:04:52.000+0000</td></tr><tr><td>5551</td><td>Christina Haas</td><td>25</td><td>2016-02-14T18:52:16.000+0000</td></tr><tr><td>6602</td><td>Alexandria Anderson</td><td>23</td><td>2015-10-31T19:20:09.000+0000</td></tr><tr><td>2172</td><td>April Shaffer</td><td>28</td><td>2017-01-05T12:11:56.000+0000</td></tr><tr><td>7318</td><td>James Dunn</td><td>45</td><td>2016-04-30T10:48:25.000+0000</td></tr><tr><td>4448</td><td>Stanley Jones</td><td>20</td><td>2016-09-05T19:29:24.000+0000</td></tr><tr><td>6813</td><td>Abigail Ali</td><td>20</td><td>2015-10-24T11:23:51.000+0000</td></tr><tr><td>3930</td><td>Kylie Alvarez</td><td>35</td><td>2015-10-30T03:04:23.000+0000</td></tr><tr><td>1481</td><td>Alison Harding</td><td>35</td><td>2017-10-05T17:45:20.000+0000</td></tr><tr><td>8578</td><td>Joe Pham</td><td>48</td><td>2017-06-01T23:13:27.000+0000</td></tr><tr><td>1268</td><td>Donna Campbell</td><td>32</td><td>2016-06-08T22:10:13.000+0000</td></tr><tr><td>8081</td><td>Carmen Taylor</td><td>40</td><td>2016-08-02T19:06:12.000+0000</td></tr><tr><td>10020</td><td>Christopher Hawkins</td><td>45</td><td>2016-09-15T06:02:53.000+0000</td></tr><tr><td>7974</td><td>Aaron Anderson</td><td>21</td><td>2015-10-24T05:35:27.000+0000</td></tr><tr><td>2293</td><td>Alex Bean</td><td>24</td><td>2016-01-11T23:08:27.000+0000</td></tr><tr><td>3011</td><td>Justin Singleton</td><td>20</td><td>2017-03-10T19:53:44.000+0000</td></tr><tr><td>3562</td><td>Alison Cole</td><td>21</td><td>2015-11-05T13:39:57.000+0000</td></tr><tr><td>2334</td><td>Bailey Rogers</td><td>31</td><td>2015-10-22T22:51:57.000+0000</td></tr><tr><td>4641</td><td>Anthony Dean</td><td>21</td><td>2016-04-15T19:54:05.000+0000</td></tr><tr><td>4066</td><td>Adam Armstrong</td><td>20</td><td>2015-12-17T08:43:40.000+0000</td></tr><tr><td>5166</td><td>Amy Caldwell</td><td>33</td><td>2015-11-12T14:10:39.000+0000</td></tr><tr><td>660</td><td>Amy Atkins</td><td>21</td><td>2015-10-31T07:37:40.000+0000</td></tr><tr><td>8007</td><td>Alexander Briggs</td><td>31</td><td>2016-06-30T04:37:04.000+0000</td></tr><tr><td>7922</td><td>Denise Adams</td><td>21</td><td>2015-11-12T06:21:36.000+0000</td></tr><tr><td>1422</td><td>Aaron Abbott</td><td>20</td><td>2015-10-31T18:51:07.000+0000</td></tr><tr><td>1450</td><td>Aaron Abbott</td><td>20</td><td>2015-10-31T18:51:07.000+0000</td></tr><tr><td>1465</td><td>Juan Cortez</td><td>20</td><td>2016-04-07T13:02:08.000+0000</td></tr><tr><td>741</td><td>Adam Acosta</td><td>20</td><td>2015-10-21T21:26:45.000+0000</td></tr><tr><td>5126</td><td>Bradley Long</td><td>25</td><td>2016-02-18T20:48:04.000+0000</td></tr><tr><td>1313</td><td>Brittany Jones</td><td>32</td><td>2016-04-02T03:51:23.000+0000</td></tr><tr><td>3599</td><td>Alexandria Alvarado</td><td>20</td><td>2015-10-23T04:13:23.000+0000</td></tr><tr><td>5333</td><td>Aaron Clark</td><td>35</td><td>2016-11-19T22:36:49.000+0000</td></tr><tr><td>2975</td><td>Debbie Crawford</td><td>23</td><td>2016-04-04T04:03:32.000+0000</td></tr><tr><td>3647</td><td>Amanda Allen</td><td>21</td><td>2015-11-16T23:15:00.000+0000</td></tr><tr><td>8977</td><td>Alicia Brown</td><td>23</td><td>2016-05-27T08:41:11.000+0000</td></tr><tr><td>10347</td><td>Julia Jackson</td><td>23</td><td>2016-11-13T02:31:21.000+0000</td></tr><tr><td>10278</td><td>Christopher Fox</td><td>44</td><td>2016-10-26T03:56:51.000+0000</td></tr><tr><td>10513</td><td>Melody Thompson</td><td>28</td><td>2016-10-28T04:09:37.000+0000</td></tr><tr><td>187</td><td>Laura Knight</td><td>21</td><td>2016-12-02T03:34:06.000+0000</td></tr><tr><td>6521</td><td>Christian Cruz</td><td>26</td><td>2015-11-03T06:28:57.000+0000</td></tr><tr><td>2048</td><td>Ann Chung</td><td>22</td><td>2015-11-18T23:11:15.000+0000</td></tr><tr><td>8745</td><td>Grant Villanueva</td><td>53</td><td>2016-02-14T19:17:10.000+0000</td></tr><tr><td>6019</td><td>Heather Russell</td><td>44</td><td>2017-09-17T22:18:59.000+0000</td></tr><tr><td>4245</td><td>Alexandria Alvarado</td><td>20</td><td>2015-10-23T04:13:23.000+0000</td></tr><tr><td>8738</td><td>Albert Adams</td><td>21</td><td>2015-11-05T22:07:56.000+0000</td></tr><tr><td>7905</td><td>Anthony Duncan</td><td>47</td><td>2016-01-01T03:57:19.000+0000</td></tr><tr><td>1643</td><td>Claire Leonard</td><td>45</td><td>2016-03-18T23:34:56.000+0000</td></tr><tr><td>4475</td><td>Anna Taylor</td><td>34</td><td>2017-04-25T14:21:09.000+0000</td></tr><tr><td>1749</td><td>Andrew Buck</td><td>23</td><td>2016-01-06T23:14:16.000+0000</td></tr><tr><td>2411</td><td>Aaron Bartlett</td><td>21</td><td>2015-11-24T02:15:36.000+0000</td></tr><tr><td>222</td><td>Herbert Sawyer</td><td>45</td><td>2016-07-27T15:08:03.000+0000</td></tr><tr><td>7964</td><td>Aaron Abbott</td><td>20</td><td>2015-10-23T16:08:41.000+0000</td></tr><tr><td>4113</td><td>Heidi Perez</td><td>39</td><td>2015-12-21T02:15:53.000+0000</td></tr><tr><td>6181</td><td>Albert Allison</td><td>20</td><td>2015-10-21T22:27:27.000+0000</td></tr><tr><td>896</td><td>Amanda Guzman</td><td>26</td><td>2016-01-19T18:41:59.000+0000</td></tr><tr><td>6063</td><td>Corey Andrews</td><td>23</td><td>2015-11-25T13:36:22.000+0000</td></tr><tr><td>9718</td><td>Brian Barnes</td><td>23</td><td>2017-01-17T06:38:28.000+0000</td></tr><tr><td>4936</td><td>Andrew Miller</td><td>28</td><td>2016-03-12T02:52:38.000+0000</td></tr><tr><td>4651</td><td>Charles York</td><td>20</td><td>2016-12-20T21:37:01.000+0000</td></tr><tr><td>4361</td><td>David Hardin</td><td>23</td><td>2016-12-05T19:08:39.000+0000</td></tr><tr><td>2863</td><td>Dylan Holmes</td><td>32</td><td>2016-10-23T14:06:51.000+0000</td></tr><tr><td>1555</td><td>Alexis Bennett</td><td>54</td><td>2016-05-15T04:22:01.000+0000</td></tr><tr><td>10337</td><td>Carrie Parker</td><td>46</td><td>2016-09-11T22:32:50.000+0000</td></tr><tr><td>7861</td><td>Alexandria Gross</td><td>22</td><td>2016-06-07T14:30:06.000+0000</td></tr><tr><td>1324</td><td>Patrick Davidson</td><td>41</td><td>2016-12-24T11:07:22.000+0000</td></tr><tr><td>746</td><td>Diana Barry</td><td>26</td><td>2015-11-12T15:36:01.000+0000</td></tr><tr><td>10566</td><td>Joshua Carter</td><td>23</td><td>2016-04-23T05:36:37.000+0000</td></tr><tr><td>6770</td><td>David Buckley</td><td>30</td><td>2016-05-29T17:08:36.000+0000</td></tr><tr><td>3351</td><td>Eric Taylor</td><td>39</td><td>2017-04-04T06:05:03.000+0000</td></tr><tr><td>2893</td><td>Nancy Choi</td><td>50</td><td>2016-07-27T16:22:59.000+0000</td></tr><tr><td>8449</td><td>Aaron Abbott</td><td>20</td><td>2015-10-23T16:08:41.000+0000</td></tr><tr><td>1707</td><td>Albert Jackson</td><td>23</td><td>2016-04-13T18:06:15.000+0000</td></tr><tr><td>6878</td><td>Angela Allen</td><td>20</td><td>2015-10-26T04:12:32.000+0000</td></tr><tr><td>7596</td><td>Aaron Anderson</td><td>21</td><td>2015-10-24T05:35:27.000+0000</td></tr><tr><td>10099</td><td>Amanda Carlson</td><td>21</td><td>2015-11-23T09:01:37.000+0000</td></tr><tr><td>6660</td><td>Maria Davidson</td><td>28</td><td>2016-04-22T05:55:48.000+0000</td></tr><tr><td>8488</td><td>Andrew Anderson</td><td>23</td><td>2015-11-28T11:52:37.000+0000</td></tr><tr><td>1170</td><td>Stacey Stewart</td><td>24</td><td>2017-03-24T10:12:14.000+0000</td></tr><tr><td>5209</td><td>Bradley Griffin</td><td>24</td><td>2016-04-05T09:58:20.000+0000</td></tr><tr><td>1014</td><td>Gregory Ramsey</td><td>56</td><td>2016-10-15T17:21:39.000+0000</td></tr><tr><td>1545</td><td>Jonathan Avila</td><td>46</td><td>2015-11-27T23:11:21.000+0000</td></tr><tr><td>10552</td><td>Michael Hunter</td><td>40</td><td>2017-05-16T07:09:21.000+0000</td></tr><tr><td>9475</td><td>Jessica Mejia</td><td>40</td><td>2016-01-03T12:03:05.000+0000</td></tr><tr><td>3008</td><td>Scott Houston</td><td>58</td><td>2016-10-22T16:08:50.000+0000</td></tr><tr><td>5620</td><td>Daniel Anderson</td><td>20</td><td>2017-02-10T13:39:15.000+0000</td></tr><tr><td>1411</td><td>Adrian Baker</td><td>24</td><td>2015-12-04T05:17:24.000+0000</td></tr><tr><td>6680</td><td>Sarah Buckley</td><td>51</td><td>2017-06-08T14:07:12.000+0000</td></tr><tr><td>8385</td><td>Austin Miller</td><td>31</td><td>2015-11-25T21:28:12.000+0000</td></tr><tr><td>2343</td><td>James Graves</td><td>43</td><td>2016-01-21T09:41:10.000+0000</td></tr><tr><td>4857</td><td>Barbara Clark</td><td>21</td><td>2015-11-17T01:16:08.000+0000</td></tr><tr><td>10245</td><td>Julie Cook</td><td>34</td><td>2016-05-08T16:27:01.000+0000</td></tr><tr><td>744</td><td>Brian Lloyd</td><td>38</td><td>2016-12-15T07:06:03.000+0000</td></tr><tr><td>6380</td><td>Matthew Newman</td><td>41</td><td>2016-04-03T05:17:47.000+0000</td></tr><tr><td>857</td><td>Andrew Burke</td><td>20</td><td>2015-11-14T17:38:31.000+0000</td></tr><tr><td>155</td><td>Alexandra Allen</td><td>20</td><td>2015-10-23T13:07:00.000+0000</td></tr><tr><td>7902</td><td>Andrew Alexander</td><td>20</td><td>2015-11-20T09:08:00.000+0000</td></tr><tr><td>2925</td><td>Jennifer Lester</td><td>25</td><td>2016-01-08T10:31:10.000+0000</td></tr><tr><td>7283</td><td>Abigail Ali</td><td>20</td><td>2015-10-24T11:23:51.000+0000</td></tr><tr><td>772</td><td>Glenn Hammond</td><td>25</td><td>2016-04-27T02:59:27.000+0000</td></tr><tr><td>9550</td><td>John Foster</td><td>32</td><td>2016-06-10T15:27:19.000+0000</td></tr><tr><td>3156</td><td>Andrew Baker</td><td>22</td><td>2015-12-21T08:06:54.000+0000</td></tr><tr><td>4765</td><td>Danielle Gonzalez</td><td>36</td><td>2017-02-16T16:01:34.000+0000</td></tr><tr><td>8843</td><td>Alexander Bailey</td><td>20</td><td>2015-10-30T11:37:32.000+0000</td></tr><tr><td>8637</td><td>Michael Grant</td><td>28</td><td>2016-09-08T04:09:44.000+0000</td></tr><tr><td>1626</td><td>Jennifer Melton</td><td>39</td><td>2016-03-02T15:41:23.000+0000</td></tr><tr><td>8505</td><td>Sandra Humphrey</td><td>41</td><td>2017-04-16T22:40:56.000+0000</td></tr><tr><td>8653</td><td>Tammy Davis</td><td>24</td><td>2016-03-09T10:48:14.000+0000</td></tr><tr><td>9778</td><td>Holly Campbell</td><td>30</td><td>2016-07-08T19:10:37.000+0000</td></tr><tr><td>3393</td><td>Courtney Berg</td><td>20</td><td>2015-11-30T10:24:37.000+0000</td></tr><tr><td>1832</td><td>Angela Carlson</td><td>33</td><td>2016-01-01T21:17:41.000+0000</td></tr><tr><td>8323</td><td>Abigail Ali</td><td>20</td><td>2015-10-24T11:23:51.000+0000</td></tr><tr><td>4045</td><td>Amanda Allen</td><td>21</td><td>2015-11-16T23:15:00.000+0000</td></tr><tr><td>6575</td><td>Devon Waller</td><td>38</td><td>2016-03-11T13:19:05.000+0000</td></tr><tr><td>9307</td><td>Adam Acosta</td><td>20</td><td>2015-10-21T21:26:45.000+0000</td></tr><tr><td>4761</td><td>Christopher Norman</td><td>40</td><td>2017-03-07T21:33:30.000+0000</td></tr><tr><td>2452</td><td>Ashley Cortez</td><td>21</td><td>2017-03-07T07:21:57.000+0000</td></tr><tr><td>7600</td><td>Nancy Franco</td><td>33</td><td>2016-06-06T19:14:47.000+0000</td></tr><tr><td>287</td><td>Amanda Alvarez</td><td>21</td><td>2015-10-30T01:31:09.000+0000</td></tr><tr><td>3630</td><td>Michael Mckay</td><td>44</td><td>2015-10-24T12:52:57.000+0000</td></tr><tr><td>9527</td><td>Vernon Brown</td><td>55</td><td>2017-08-04T01:04:25.000+0000</td></tr><tr><td>2779</td><td>Allison Acosta</td><td>20</td><td>2015-10-24T01:15:02.000+0000</td></tr><tr><td>1301</td><td>Lisa Washington</td><td>46</td><td>2016-08-18T08:22:56.000+0000</td></tr><tr><td>428</td><td>Claudia Adams</td><td>20</td><td>2015-11-28T02:20:29.000+0000</td></tr><tr><td>6170</td><td>Eric Gonzalez</td><td>36</td><td>2016-07-31T17:22:08.000+0000</td></tr><tr><td>7891</td><td>Amanda Brown</td><td>20</td><td>2015-11-12T03:23:49.000+0000</td></tr><tr><td>7093</td><td>Jonathan Martinez</td><td>31</td><td>2016-02-28T10:31:48.000+0000</td></tr><tr><td>7206</td><td>Christina Anderson</td><td>27</td><td>2016-03-03T11:25:21.000+0000</td></tr><tr><td>7031</td><td>Christopher Anderson</td><td>48</td><td>2016-06-13T17:09:14.000+0000</td></tr><tr><td>7294</td><td>Dawn Anderson</td><td>20</td><td>2016-12-31T00:06:36.000+0000</td></tr><tr><td>6261</td><td>Nicholas Hart</td><td>38</td><td>2015-10-26T09:45:45.000+0000</td></tr><tr><td>1631</td><td>Lauren Powell</td><td>30</td><td>2016-05-22T08:40:37.000+0000</td></tr><tr><td>1179</td><td>Cynthia Clark</td><td>20</td><td>2016-01-30T15:21:25.000+0000</td></tr><tr><td>4122</td><td>Michael Chan</td><td>38</td><td>2017-03-23T16:11:45.000+0000</td></tr><tr><td>3824</td><td>Aaron Berry</td><td>28</td><td>2016-04-12T03:40:13.000+0000</td></tr><tr><td>1598</td><td>Adrian Baker</td><td>24</td><td>2015-12-04T05:17:24.000+0000</td></tr><tr><td>8519</td><td>Alicia Burnett</td><td>23</td><td>2016-07-18T00:04:07.000+0000</td></tr><tr><td>8300</td><td>Nathan Stanton</td><td>51</td><td>2017-08-14T08:26:30.000+0000</td></tr><tr><td>10120</td><td>Jacob Baird</td><td>24</td><td>2016-02-25T08:52:45.000+0000</td></tr><tr><td>7240</td><td>Abigail Ali</td><td>20</td><td>2015-10-24T11:23:51.000+0000</td></tr><tr><td>8090</td><td>Aaron Abbott</td><td>20</td><td>2015-10-23T16:08:41.000+0000</td></tr><tr><td>5044</td><td>Amanda Bowers</td><td>22</td><td>2016-01-18T20:23:23.000+0000</td></tr><tr><td>1473</td><td>Kathleen Lawson</td><td>41</td><td>2017-02-11T19:17:19.000+0000</td></tr><tr><td>4353</td><td>Brett Oliver</td><td>24</td><td>2015-12-26T21:27:59.000+0000</td></tr><tr><td>3184</td><td>Allison Dawson</td><td>35</td><td>2016-02-04T14:45:39.000+0000</td></tr><tr><td>7370</td><td>James Keith</td><td>42</td><td>2017-07-02T17:25:18.000+0000</td></tr><tr><td>10073</td><td>Jeffrey Hunter</td><td>32</td><td>2016-09-07T04:52:20.000+0000</td></tr><tr><td>10156</td><td>Shawn Gray</td><td>34</td><td>2017-02-05T07:25:42.000+0000</td></tr><tr><td>6849</td><td>Jeffrey Jones</td><td>54</td><td>2016-08-12T04:15:37.000+0000</td></tr><tr><td>7745</td><td>Aaron Abbott</td><td>20</td><td>2015-10-23T16:08:41.000+0000</td></tr><tr><td>3803</td><td>Alison Cole</td><td>21</td><td>2015-11-05T13:39:57.000+0000</td></tr><tr><td>3185</td><td>Alexandra Fuentes</td><td>29</td><td>2016-01-03T02:33:53.000+0000</td></tr><tr><td>570</td><td>Alexandra Allen</td><td>20</td><td>2015-10-23T13:07:00.000+0000</td></tr><tr><td>9035</td><td>Aaron Alexander</td><td>21</td><td>2015-10-25T07:36:08.000+0000</td></tr><tr><td>8100</td><td>Aaron Abbott</td><td>20</td><td>2015-10-23T16:08:41.000+0000</td></tr><tr><td>2308</td><td>Aaron Greene</td><td>25</td><td>2016-01-14T00:10:04.000+0000</td></tr><tr><td>8304</td><td>Charles Berry</td><td>25</td><td>2015-12-28T04:21:39.000+0000</td></tr><tr><td>771</td><td>Brittany Butler</td><td>32</td><td>2016-03-10T04:11:31.000+0000</td></tr><tr><td>7268</td><td>Alejandra Acevedo</td><td>20</td><td>2015-11-24T21:01:23.000+0000</td></tr><tr><td>974</td><td>David Jones</td><td>40</td><td>2016-06-30T00:50:31.000+0000</td></tr><tr><td>2959</td><td>David Griffith</td><td>20</td><td>2016-01-07T19:49:22.000+0000</td></tr><tr><td>1599</td><td>Linda Rojas</td><td>42</td><td>2017-01-31T05:08:14.000+0000</td></tr><tr><td>10248</td><td>Elizabeth English</td><td>25</td><td>2016-08-19T02:29:26.000+0000</td></tr><tr><td>4781</td><td>Cynthia Guerra</td><td>29</td><td>2016-12-25T23:51:01.000+0000</td></tr><tr><td>9332</td><td>Gregory Carpenter</td><td>23</td><td>2016-07-14T11:45:49.000+0000</td></tr><tr><td>10526</td><td>Grace Luna</td><td>27</td><td>2016-09-02T02:25:43.000+0000</td></tr><tr><td>2787</td><td>Christopher Brown</td><td>21</td><td>2016-05-23T23:48:56.000+0000</td></tr><tr><td>7640</td><td>Aaron Anderson</td><td>21</td><td>2015-10-24T05:35:27.000+0000</td></tr><tr><td>8606</td><td>Denise Adams</td><td>21</td><td>2015-11-12T06:21:36.000+0000</td></tr><tr><td>8123</td><td>Courtney Chung</td><td>46</td><td>2016-05-11T23:09:30.000+0000</td></tr><tr><td>10677</td><td>Catherine Mitchell</td><td>26</td><td>2016-06-16T14:07:36.000+0000</td></tr><tr><td>9234</td><td>Christina Aguilar</td><td>23</td><td>2015-12-09T20:29:10.000+0000</td></tr><tr><td>3052</td><td>Allison Dawson</td><td>35</td><td>2016-02-04T14:45:39.000+0000</td></tr><tr><td>27</td><td>Adam Acosta</td><td>20</td><td>2015-10-21T21:26:45.000+0000</td></tr><tr><td>7209</td><td>April Anderson</td><td>30</td><td>2016-06-27T08:35:51.000+0000</td></tr><tr><td>603</td><td>Brandon Jackson</td><td>44</td><td>2016-10-29T02:07:21.000+0000</td></tr><tr><td>204</td><td>Meghan Larson</td><td>56</td><td>2017-04-17T06:27:04.000+0000</td></tr><tr><td>640</td><td>Aaron Anderson</td><td>21</td><td>2015-10-24T05:35:27.000+0000</td></tr><tr><td>4556</td><td>Timothy Meyer</td><td>40</td><td>2016-06-23T22:33:38.000+0000</td></tr><tr><td>2904</td><td>Brad Abbott</td><td>35</td><td>2016-03-07T17:23:18.000+0000</td></tr><tr><td>2715</td><td>Adrienne Acosta</td><td>21</td><td>2015-11-17T14:56:48.000+0000</td></tr><tr><td>9173</td><td>Gary Collins</td><td>25</td><td>2016-07-07T18:59:52.000+0000</td></tr><tr><td>7510</td><td>Debra Becker</td><td>20</td><td>2016-07-27T06:20:48.000+0000</td></tr><tr><td>7116</td><td>Michael Mcconnell</td><td>59</td><td>2017-06-01T10:55:10.000+0000</td></tr><tr><td>8251</td><td>Timothy Orozco</td><td>20</td><td>2016-03-21T17:34:44.000+0000</td></tr><tr><td>678</td><td>John Trujillo</td><td>22</td><td>2017-07-20T11:18:24.000+0000</td></tr><tr><td>10097</td><td>Alexandra Austin</td><td>22</td><td>2015-11-06T05:05:43.000+0000</td></tr><tr><td>4757</td><td>Carrie Chambers</td><td>24</td><td>2015-12-15T10:04:18.000+0000</td></tr><tr><td>5395</td><td>Leah Franco</td><td>36</td><td>2017-04-01T04:04:00.000+0000</td></tr><tr><td>8277</td><td>Jermaine Hensley</td><td>32</td><td>2016-10-01T05:49:39.000+0000</td></tr><tr><td>101</td><td>Adam Acosta</td><td>20</td><td>2015-10-21T21:26:45.000+0000</td></tr><tr><td>5317</td><td>Ashley Carter</td><td>21</td><td>2015-11-29T21:11:06.000+0000</td></tr><tr><td>2422</td><td>Maria Franklin</td><td>44</td><td>2016-10-25T14:57:24.000+0000</td></tr><tr><td>8612</td><td>Angela Berg</td><td>20</td><td>2015-11-10T05:57:33.000+0000</td></tr><tr><td>2418</td><td>Amanda Adams</td><td>20</td><td>2015-10-21T08:27:36.000+0000</td></tr><tr><td>6341</td><td>Barbara Duran</td><td>22</td><td>2016-11-07T11:01:26.000+0000</td></tr><tr><td>8645</td><td>Alexander Clark</td><td>21</td><td>2016-02-16T17:03:44.000+0000</td></tr><tr><td>6496</td><td>Cindy Bennett</td><td>26</td><td>2016-01-03T06:10:45.000+0000</td></tr><tr><td>9355</td><td>Elizabeth Johnson</td><td>33</td><td>2016-12-09T23:34:15.000+0000</td></tr><tr><td>3259</td><td>Allison Acosta</td><td>20</td><td>2015-10-24T01:15:02.000+0000</td></tr><tr><td>4482</td><td>Amber Blevins</td><td>20</td><td>2015-12-13T16:33:13.000+0000</td></tr><tr><td>4996</td><td>John Anderson</td><td>27</td><td>2016-03-03T07:28:39.000+0000</td></tr><tr><td>8004</td><td>Frank Combs</td><td>23</td><td>2015-11-30T05:25:22.000+0000</td></tr><tr><td>4675</td><td>Kaitlyn Rodriguez</td><td>48</td><td>2016-01-02T21:18:48.000+0000</td></tr><tr><td>2641</td><td>Amber Casey</td><td>23</td><td>2016-01-06T12:22:08.000+0000</td></tr><tr><td>1667</td><td>Bernard Arnold</td><td>21</td><td>2015-12-12T01:39:29.000+0000</td></tr><tr><td>2759</td><td>Anthony Chen</td><td>24</td><td>2016-06-15T12:49:30.000+0000</td></tr><tr><td>4398</td><td>Stacey Scott</td><td>47</td><td>2017-06-29T18:04:56.000+0000</td></tr><tr><td>4670</td><td>Heather Barnes</td><td>43</td><td>2016-06-20T18:35:26.000+0000</td></tr><tr><td>10271</td><td>Mark Duran</td><td>28</td><td>2016-03-23T00:25:16.000+0000</td></tr><tr><td>8926</td><td>Tyler Davis</td><td>27</td><td>2016-06-14T18:48:59.000+0000</td></tr><tr><td>10883</td><td>Carl Hampton</td><td>25</td><td>2015-11-26T03:43:03.000+0000</td></tr><tr><td>7262</td><td>Jacob Alvarez</td><td>27</td><td>2016-01-29T09:37:46.000+0000</td></tr><tr><td>6749</td><td>Amanda Adams</td><td>20</td><td>2015-10-21T08:27:36.000+0000</td></tr><tr><td>8224</td><td>Eric Buck</td><td>45</td><td>2015-10-28T17:36:12.000+0000</td></tr><tr><td>9074</td><td>Aaron Alexander</td><td>21</td><td>2015-10-25T07:36:08.000+0000</td></tr><tr><td>3884</td><td>Alex Jimenez</td><td>24</td><td>2015-10-29T18:48:47.000+0000</td></tr><tr><td>301</td><td>Amanda Alvarez</td><td>21</td><td>2015-10-30T01:31:09.000+0000</td></tr><tr><td>859</td><td>Scott Page</td><td>44</td><td>2015-10-31T14:35:30.000+0000</td></tr><tr><td>9120</td><td>Dawn Mcdowell</td><td>45</td><td>2017-04-19T00:02:19.000+0000</td></tr><tr><td>4590</td><td>Daniel Davis</td><td>29</td><td>2016-12-15T04:11:20.000+0000</td></tr><tr><td>3979</td><td>David Manning</td><td>50</td><td>2016-06-29T03:16:01.000+0000</td></tr><tr><td>450</td><td>Amanda Benitez</td><td>21</td><td>2015-11-01T09:16:18.000+0000</td></tr><tr><td>1961</td><td>Adrienne Barrett</td><td>22</td><td>2015-11-04T15:48:14.000+0000</td></tr><tr><td>9452</td><td>Aaron Alexander</td><td>21</td><td>2015-10-25T07:36:08.000+0000</td></tr><tr><td>5231</td><td>Joseph Barnett</td><td>21</td><td>2015-11-21T10:00:55.000+0000</td></tr><tr><td>46</td><td>Erik Kelley</td><td>30</td><td>2016-01-06T09:58:56.000+0000</td></tr><tr><td>10917</td><td>Valerie Rodriguez</td><td>31</td><td>2016-07-30T01:45:47.000+0000</td></tr><tr><td>3632</td><td>Danielle Chambers</td><td>21</td><td>2015-12-08T00:29:58.000+0000</td></tr><tr><td>734</td><td>Amanda Alvarez</td><td>21</td><td>2015-10-30T01:31:09.000+0000</td></tr><tr><td>4396</td><td>Justin Morris</td><td>45</td><td>2016-05-27T10:56:28.000+0000</td></tr><tr><td>2795</td><td>Carrie Holder</td><td>21</td><td>2015-10-27T11:16:56.000+0000</td></tr><tr><td>2952</td><td>Billy Armstrong</td><td>22</td><td>2015-12-18T20:54:14.000+0000</td></tr><tr><td>7078</td><td>Haley Jordan</td><td>25</td><td>2016-05-31T08:49:03.000+0000</td></tr><tr><td>7539</td><td>Alvin Adams</td><td>20</td><td>2016-01-01T13:50:40.000+0000</td></tr><tr><td>7770</td><td>Jeffrey Hudson</td><td>58</td><td>2017-08-17T18:45:27.000+0000</td></tr><tr><td>4505</td><td>Diane Phillips</td><td>59</td><td>2016-03-01T14:23:30.000+0000</td></tr><tr><td>1349</td><td>Andrew Allen</td><td>53</td><td>2017-01-23T23:59:16.000+0000</td></tr><tr><td>2523</td><td>Bryce Bailey</td><td>37</td><td>2015-11-28T01:46:17.000+0000</td></tr><tr><td>5405</td><td>Adam Alexander</td><td>20</td><td>2015-10-22T11:31:37.000+0000</td></tr><tr><td>9791</td><td>Michelle Scott</td><td>38</td><td>2017-04-10T11:52:09.000+0000</td></tr><tr><td>2216</td><td>Morgan Turner</td><td>30</td><td>2016-01-31T11:52:34.000+0000</td></tr><tr><td>9218</td><td>April Barr</td><td>26</td><td>2016-02-06T19:00:11.000+0000</td></tr><tr><td>7276</td><td>Meghan Gomez</td><td>52</td><td>2017-05-08T12:25:11.000+0000</td></tr><tr><td>7666</td><td>Aaron Abbott</td><td>20</td><td>2015-10-23T16:08:41.000+0000</td></tr><tr><td>3983</td><td>Ashley Allen</td><td>20</td><td>2016-01-12T03:41:16.000+0000</td></tr><tr><td>10673</td><td>Alexander Cervantes</td><td>59</td><td>2017-05-12T21:22:17.000+0000</td></tr><tr><td>1341</td><td>Abigail Ali</td><td>20</td><td>2015-10-24T11:23:51.000+0000</td></tr><tr><td>6652</td><td>Heather Arellano</td><td>23</td><td>2016-01-02T03:36:30.000+0000</td></tr><tr><td>320</td><td>Alexandra Anderson</td><td>47</td><td>2016-07-06T00:08:29.000+0000</td></tr><tr><td>7183</td><td>Amanda Maldonado</td><td>38</td><td>2016-11-17T23:45:04.000+0000</td></tr><tr><td>7785</td><td>Eric Buck</td><td>45</td><td>2015-10-28T17:36:12.000+0000</td></tr><tr><td>2565</td><td>Anthony Adkins</td><td>21</td><td>2015-10-28T03:59:42.000+0000</td></tr><tr><td>7511</td><td>Sarah Valenzuela</td><td>54</td><td>2016-12-08T15:53:57.000+0000</td></tr><tr><td>4107</td><td>Barbara English</td><td>23</td><td>2016-03-01T23:23:24.000+0000</td></tr><tr><td>1745</td><td>Anthony Adkins</td><td>21</td><td>2015-10-28T03:59:42.000+0000</td></tr><tr><td>8978</td><td>Mark Jones</td><td>34</td><td>2017-08-22T00:01:29.000+0000</td></tr><tr><td>6916</td><td>Steven Dixon</td><td>44</td><td>2016-10-17T08:09:28.000+0000</td></tr><tr><td>4064</td><td>Andrew Garcia</td><td>44</td><td>2015-10-27T20:31:15.000+0000</td></tr><tr><td>7271</td><td>Ashley Castro</td><td>38</td><td>2017-06-25T02:03:31.000+0000</td></tr><tr><td>9099</td><td>Gregory Carpenter</td><td>23</td><td>2016-07-14T11:45:49.000+0000</td></tr><tr><td>8561</td><td>Angela Berg</td><td>20</td><td>2015-11-10T05:57:33.000+0000</td></tr><tr><td>10022</td><td>Alyssa Greene</td><td>50</td><td>2017-05-03T07:29:04.000+0000</td></tr><tr><td>4530</td><td>Jamie Davis</td><td>33</td><td>2016-03-23T06:58:08.000+0000</td></tr><tr><td>3638</td><td>Rebecca Conner</td><td>33</td><td>2015-12-29T22:26:53.000+0000</td></tr><tr><td>8836</td><td>Dalton Daniels</td><td>21</td><td>2015-11-11T10:19:51.000+0000</td></tr><tr><td>7832</td><td>Samuel Hawkins</td><td>39</td><td>2016-06-30T02:56:06.000+0000</td></tr><tr><td>1487</td><td>Jonathan Rodriguez</td><td>30</td><td>2016-09-05T12:31:44.000+0000</td></tr><tr><td>8592</td><td>Alicia Benjamin</td><td>27</td><td>2015-12-10T18:40:42.000+0000</td></tr><tr><td>5084</td><td>Marissa Spence</td><td>53</td><td>2016-06-30T20:53:16.000+0000</td></tr><tr><td>8700</td><td>Alexander Bailey</td><td>20</td><td>2015-10-30T11:37:32.000+0000</td></tr><tr><td>6145</td><td>Emily Hawkins</td><td>30</td><td>2015-12-25T20:24:37.000+0000</td></tr><tr><td>232</td><td>Sarah Buchanan</td><td>33</td><td>2017-04-19T08:49:40.000+0000</td></tr><tr><td>813</td><td>Christopher Gonzalez</td><td>30</td><td>2016-03-02T23:44:12.000+0000</td></tr><tr><td>10026</td><td>Ann Holmes</td><td>34</td><td>2016-04-14T21:47:18.000+0000</td></tr><tr><td>3813</td><td>James Green</td><td>47</td><td>2016-04-27T16:02:10.000+0000</td></tr><tr><td>5254</td><td>William Combs</td><td>50</td><td>2015-12-06T10:58:54.000+0000</td></tr><tr><td>3349</td><td>Alice Bennett</td><td>28</td><td>2016-05-03T03:50:42.000+0000</td></tr><tr><td>7958</td><td>Tommy Murray</td><td>37</td><td>2015-10-22T18:00:07.000+0000</td></tr><tr><td>10509</td><td>Brittany Thompson</td><td>49</td><td>2016-04-22T20:36:02.000+0000</td></tr><tr><td>10862</td><td>Jamie Harrison</td><td>37</td><td>2017-07-19T01:17:18.000+0000</td></tr><tr><td>5230</td><td>Abigail Ali</td><td>20</td><td>2015-10-24T11:23:51.000+0000</td></tr><tr><td>4417</td><td>Maria Long</td><td>27</td><td>2017-09-28T00:27:20.000+0000</td></tr><tr><td>5759</td><td>Brian Davis</td><td>38</td><td>2015-12-09T10:50:57.000+0000</td></tr><tr><td>7057</td><td>Jay Hampton</td><td>21</td><td>2016-05-10T01:52:46.000+0000</td></tr><tr><td>4983</td><td>John Mueller</td><td>33</td><td>2017-04-28T12:34:25.000+0000</td></tr><tr><td>10370</td><td>Derrick Kim</td><td>30</td><td>2016-12-21T13:39:14.000+0000</td></tr><tr><td>8448</td><td>Joseph Church</td><td>31</td><td>2017-04-29T03:22:38.000+0000</td></tr><tr><td>3345</td><td>Benjamin Turner</td><td>36</td><td>2016-08-30T14:33:44.000+0000</td></tr><tr><td>6333</td><td>Julia Bennett</td><td>30</td><td>2016-04-21T15:45:11.000+0000</td></tr><tr><td>7234</td><td>Angela Allen</td><td>20</td><td>2015-10-26T04:12:32.000+0000</td></tr><tr><td>9903</td><td>Amanda Baker</td><td>20</td><td>2016-01-31T04:46:39.000+0000</td></tr><tr><td>8162</td><td>Benjamin Adams</td><td>24</td><td>2015-10-25T03:23:53.000+0000</td></tr><tr><td>3266</td><td>Robert Golden</td><td>50</td><td>2017-03-19T15:29:02.000+0000</td></tr><tr><td>6324</td><td>Crystal Santiago</td><td>41</td><td>2016-09-23T04:00:32.000+0000</td></tr><tr><td>3750</td><td>Gary Barker</td><td>28</td><td>2015-11-26T11:23:50.000+0000</td></tr><tr><td>680</td><td>Diana Ballard</td><td>23</td><td>2017-01-12T11:17:31.000+0000</td></tr><tr><td>3504</td><td>Kyle Floyd</td><td>20</td><td>2016-07-29T04:25:14.000+0000</td></tr><tr><td>2060</td><td>Joshua Long</td><td>27</td><td>2016-12-18T10:11:23.000+0000</td></tr><tr><td>2810</td><td>Brandi Cervantes</td><td>35</td><td>2016-05-31T01:40:44.000+0000</td></tr><tr><td>3882</td><td>Darryl Alexander</td><td>25</td><td>2015-12-02T11:20:58.000+0000</td></tr><tr><td>7733</td><td>Aaron Abbott</td><td>20</td><td>2015-10-23T16:08:41.000+0000</td></tr><tr><td>7448</td><td>Brenda Gonzalez</td><td>56</td><td>2015-12-07T11:53:35.000+0000</td></tr><tr><td>9363</td><td>James Warren</td><td>57</td><td>2017-09-29T23:40:45.000+0000</td></tr><tr><td>7537</td><td>Jessica Sullivan</td><td>25</td><td>2016-01-19T18:17:05.000+0000</td></tr><tr><td>1322</td><td>Alfred Murray</td><td>36</td><td>2016-03-15T11:19:05.000+0000</td></tr><tr><td>1188</td><td>Cesar Miller</td><td>38</td><td>2015-11-19T03:01:18.000+0000</td></tr><tr><td>4381</td><td>Jennifer Kelly</td><td>21</td><td>2016-02-14T12:45:08.000+0000</td></tr><tr><td>4508</td><td>Michael Carter</td><td>58</td><td>2016-06-03T23:35:30.000+0000</td></tr><tr><td>2970</td><td>Anthony Brown</td><td>33</td><td>2015-10-24T16:39:50.000+0000</td></tr><tr><td>4816</td><td>Darin Lee</td><td>25</td><td>2016-08-09T23:13:29.000+0000</td></tr><tr><td>7752</td><td>Andrew Brown</td><td>25</td><td>2016-03-26T04:30:23.000+0000</td></tr><tr><td>867</td><td>Herbert Sawyer</td><td>45</td><td>2016-07-27T15:08:03.000+0000</td></tr><tr><td>856</td><td>Aaron Bartlett</td><td>21</td><td>2015-11-24T02:15:36.000+0000</td></tr><tr><td>25</td><td>Amber Gray</td><td>24</td><td>2017-07-01T07:56:15.000+0000</td></tr><tr><td>9904</td><td>Alexandra Austin</td><td>22</td><td>2015-11-06T05:05:43.000+0000</td></tr><tr><td>2206</td><td>Catherine Burke</td><td>27</td><td>2016-04-09T02:08:13.000+0000</td></tr><tr><td>4348</td><td>Barbara Allen</td><td>26</td><td>2015-10-30T21:57:35.000+0000</td></tr><tr><td>6717</td><td>Elizabeth Green</td><td>20</td><td>2016-06-21T10:08:09.000+0000</td></tr><tr><td>7484</td><td>Jason Herrera</td><td>40</td><td>2016-10-21T21:15:50.000+0000</td></tr><tr><td>1026</td><td>Scott Campbell</td><td>20</td><td>2016-04-01T02:34:49.000+0000</td></tr><tr><td>8813</td><td>Aaron Abbott</td><td>20</td><td>2015-10-23T16:08:41.000+0000</td></tr><tr><td>9734</td><td>Jennifer Kaiser</td><td>30</td><td>2015-11-24T03:29:52.000+0000</td></tr><tr><td>10154</td><td>Lauren Hill</td><td>52</td><td>2016-01-08T17:05:07.000+0000</td></tr><tr><td>1175</td><td>Jennifer Dunn</td><td>47</td><td>2015-10-21T09:05:46.000+0000</td></tr><tr><td>9643</td><td>Daniel Reyes</td><td>32</td><td>2017-08-02T14:05:48.000+0000</td></tr><tr><td>9979</td><td>Kaylee Miller</td><td>31</td><td>2016-11-09T19:50:51.000+0000</td></tr><tr><td>4256</td><td>Alexandria Alvarado</td><td>20</td><td>2015-10-23T04:13:23.000+0000</td></tr><tr><td>5512</td><td>Caitlyn Baker</td><td>22</td><td>2015-11-11T17:56:54.000+0000</td></tr><tr><td>5460</td><td>Betty Cannon</td><td>40</td><td>2015-10-23T18:02:31.000+0000</td></tr><tr><td>8159</td><td>Bradley Chapman</td><td>20</td><td>2016-02-11T23:38:24.000+0000</td></tr><tr><td>8366</td><td>Justin Ewing</td><td>56</td><td>2016-02-04T23:27:36.000+0000</td></tr><tr><td>8282</td><td>Andrew Alexander</td><td>20</td><td>2015-11-20T09:08:00.000+0000</td></tr><tr><td>1065</td><td>Tammy Wise</td><td>27</td><td>2016-07-13T08:39:57.000+0000</td></tr><tr><td>8461</td><td>Cody Barker</td><td>48</td><td>2015-12-20T02:56:01.000+0000</td></tr><tr><td>9482</td><td>Heather Hall</td><td>31</td><td>2017-02-25T07:58:37.000+0000</td></tr><tr><td>7889</td><td>Anthony Johnson</td><td>23</td><td>2016-07-09T05:03:39.000+0000</td></tr><tr><td>4565</td><td>Julie Johnson</td><td>23</td><td>2016-02-10T22:37:52.000+0000</td></tr><tr><td>7487</td><td>Adrian Marshall</td><td>35</td><td>2017-05-29T13:35:25.000+0000</td></tr><tr><td>9268</td><td>Alexander Bailey</td><td>20</td><td>2015-10-30T11:37:32.000+0000</td></tr><tr><td>6558</td><td>Gary Tanner</td><td>43</td><td>2016-11-29T22:22:47.000+0000</td></tr><tr><td>8341</td><td>Amber Robinson</td><td>31</td><td>2016-09-05T14:41:44.000+0000</td></tr><tr><td>4</td><td>Adam Acosta</td><td>20</td><td>2015-10-21T21:26:45.000+0000</td></tr><tr><td>10204</td><td>Heather Gonzalez</td><td>41</td><td>2016-06-14T11:16:18.000+0000</td></tr><tr><td>2301</td><td>Karina Morton</td><td>31</td><td>2016-01-21T12:53:34.000+0000</td></tr><tr><td>3945</td><td>Beth Johnson</td><td>30</td><td>2015-11-29T15:45:13.000+0000</td></tr><tr><td>9808</td><td>Daniel Brooks</td><td>25</td><td>2015-11-19T21:24:33.000+0000</td></tr><tr><td>4775</td><td>Kyle Perry</td><td>29</td><td>2016-08-09T19:40:48.000+0000</td></tr><tr><td>5468</td><td>Lisa Gamble</td><td>20</td><td>2016-07-23T20:51:06.000+0000</td></tr><tr><td>3729</td><td>Richard Edwards</td><td>52</td><td>2016-02-07T20:00:25.000+0000</td></tr><tr><td>2858</td><td>Anne Bond</td><td>21</td><td>2015-12-27T23:43:42.000+0000</td></tr><tr><td>5527</td><td>Brian Herman</td><td>32</td><td>2016-02-19T01:20:00.000+0000</td></tr><tr><td>10912</td><td>Valerie Bryant</td><td>42</td><td>2016-08-01T22:44:34.000+0000</td></tr><tr><td>5763</td><td>Anita Acosta</td><td>25</td><td>2015-11-01T01:31:22.000+0000</td></tr><tr><td>7437</td><td>Alvin Adams</td><td>20</td><td>2016-01-01T13:50:40.000+0000</td></tr><tr><td>5159</td><td>Brian Davis</td><td>38</td><td>2015-12-09T10:50:57.000+0000</td></tr><tr><td>7285</td><td>Alejandra Acevedo</td><td>20</td><td>2015-11-24T21:01:23.000+0000</td></tr><tr><td>7718</td><td>Katherine Howell</td><td>56</td><td>2017-07-22T19:52:39.000+0000</td></tr><tr><td>9223</td><td>Andrea Alexander</td><td>21</td><td>2015-11-10T09:27:42.000+0000</td></tr><tr><td>8407</td><td>David Brooks</td><td>33</td><td>2015-11-14T10:12:03.000+0000</td></tr><tr><td>7073</td><td>Manuel Ashley</td><td>55</td><td>2017-07-13T23:48:07.000+0000</td></tr><tr><td>6309</td><td>Angela Everett</td><td>23</td><td>2016-02-23T11:59:45.000+0000</td></tr><tr><td>3177</td><td>Becky Brady</td><td>21</td><td>2015-11-05T20:19:03.000+0000</td></tr><tr><td>456</td><td>Amber Cervantes</td><td>25</td><td>2016-05-09T16:38:08.000+0000</td></tr><tr><td>1024</td><td>Jason Martin</td><td>53</td><td>2016-06-07T07:09:02.000+0000</td></tr><tr><td>5911</td><td>Anna Adams</td><td>21</td><td>2015-11-27T08:22:20.000+0000</td></tr><tr><td>5523</td><td>Joel Obrien</td><td>29</td><td>2016-09-12T12:33:33.000+0000</td></tr><tr><td>5003</td><td>Aaron Anderson</td><td>21</td><td>2015-10-23T03:43:54.000+0000</td></tr><tr><td>3800</td><td>Adam Armstrong</td><td>20</td><td>2015-12-17T08:43:40.000+0000</td></tr><tr><td>2095</td><td>Cheryl Dean</td><td>57</td><td>2017-08-01T04:00:30.000+0000</td></tr><tr><td>3896</td><td>Alexandria Alvarado</td><td>20</td><td>2015-10-23T04:13:23.000+0000</td></tr><tr><td>1676</td><td>Kyle Mccarthy</td><td>41</td><td>2016-04-10T12:18:20.000+0000</td></tr><tr><td>9546</td><td>Alex Barnes</td><td>20</td><td>2016-02-27T21:13:44.000+0000</td></tr><tr><td>5561</td><td>Amanda Anderson</td><td>24</td><td>2015-11-11T20:38:26.000+0000</td></tr><tr><td>4849</td><td>Erica Murphy</td><td>35</td><td>2015-11-03T05:49:39.000+0000</td></tr><tr><td>3716</td><td>Catherine Ferrell</td><td>21</td><td>2017-01-02T03:01:09.000+0000</td></tr><tr><td>9896</td><td>Brenda Baker</td><td>22</td><td>2015-11-24T12:08:06.000+0000</td></tr><tr><td>8887</td><td>Austin Rodriguez</td><td>24</td><td>2016-03-31T20:56:39.000+0000</td></tr><tr><td>205</td><td>Brett Bryant</td><td>20</td><td>2015-10-23T12:40:19.000+0000</td></tr><tr><td>8930</td><td>Andrew Anderson</td><td>23</td><td>2015-11-28T11:52:37.000+0000</td></tr><tr><td>1205</td><td>Andrew Estrada</td><td>25</td><td>2015-11-15T13:36:03.000+0000</td></tr><tr><td>10160</td><td>Cameron Medina</td><td>20</td><td>2016-06-02T03:51:43.000+0000</td></tr><tr><td>7961</td><td>Alex Adams</td><td>20</td><td>2015-11-02T22:24:22.000+0000</td></tr><tr><td>10865</td><td>Nicole Harrison</td><td>29</td><td>2017-07-24T18:11:03.000+0000</td></tr><tr><td>8511</td><td>Molly Curtis</td><td>20</td><td>2016-06-30T10:13:01.000+0000</td></tr><tr><td>644</td><td>Aaron Bartlett</td><td>21</td><td>2015-11-24T02:15:36.000+0000</td></tr><tr><td>3556</td><td>Alison Bell</td><td>21</td><td>2016-01-07T08:11:35.000+0000</td></tr><tr><td>10319</td><td>Alexis Taylor</td><td>40</td><td>2016-07-24T11:25:01.000+0000</td></tr><tr><td>4050</td><td>Adam Armstrong</td><td>20</td><td>2015-12-17T08:43:40.000+0000</td></tr><tr><td>2637</td><td>Shawn Jones</td><td>32</td><td>2016-08-23T20:36:12.000+0000</td></tr><tr><td>2337</td><td>Alex Bean</td><td>24</td><td>2016-01-11T23:08:27.000+0000</td></tr><tr><td>1814</td><td>Brian Hansen</td><td>31</td><td>2016-01-30T13:25:52.000+0000</td></tr><tr><td>925</td><td>Aaron Abbott</td><td>20</td><td>2015-10-31T18:51:07.000+0000</td></tr><tr><td>1719</td><td>Jordan Jenkins</td><td>60</td><td>2017-08-19T17:07:31.000+0000</td></tr><tr><td>8705</td><td>Jeffrey Gregory</td><td>53</td><td>2016-02-01T03:06:59.000+0000</td></tr><tr><td>10093</td><td>Jamie Andrews</td><td>46</td><td>2016-10-11T07:57:59.000+0000</td></tr><tr><td>1335</td><td>Benjamin Campbell</td><td>20</td><td>2015-11-16T13:25:08.000+0000</td></tr><tr><td>5130</td><td>Linda Blackwell</td><td>20</td><td>2015-12-11T03:23:37.000+0000</td></tr><tr><td>9590</td><td>Amanda Allen</td><td>22</td><td>2015-10-24T18:56:30.000+0000</td></tr><tr><td>1503</td><td>Anthony Bryan</td><td>22</td><td>2015-10-24T15:35:59.000+0000</td></tr><tr><td>860</td><td>Jay Davis</td><td>33</td><td>2016-12-04T21:33:36.000+0000</td></tr><tr><td>2090</td><td>Edward Oliver</td><td>21</td><td>2016-04-05T00:40:22.000+0000</td></tr><tr><td>604</td><td>Cynthia Ortiz</td><td>35</td><td>2016-03-05T05:16:44.000+0000</td></tr><tr><td>9749</td><td>Arthur Riggs</td><td>46</td><td>2016-05-01T10:44:18.000+0000</td></tr><tr><td>4327</td><td>Shane Blanchard</td><td>38</td><td>2017-05-06T09:43:45.000+0000</td></tr><tr><td>5076</td><td>Christopher Butler</td><td>20</td><td>2015-12-01T15:08:31.000+0000</td></tr><tr><td>10663</td><td>Julie Cox</td><td>23</td><td>2016-06-23T14:38:00.000+0000</td></tr><tr><td>10119</td><td>Chelsea Gonzalez</td><td>43</td><td>2016-07-21T15:25:08.000+0000</td></tr><tr><td>10783</td><td>Jane Aguilar</td><td>32</td><td>2016-03-02T01:25:48.000+0000</td></tr><tr><td>2604</td><td>Ashley Evans</td><td>30</td><td>2016-02-21T12:54:01.000+0000</td></tr><tr><td>5151</td><td>Mary Jordan</td><td>26</td><td>2017-06-12T16:02:59.000+0000</td></tr><tr><td>6134</td><td>Jacob Baker</td><td>33</td><td>2015-11-29T07:33:20.000+0000</td></tr><tr><td>3175</td><td>David Bell</td><td>20</td><td>2016-04-15T17:11:11.000+0000</td></tr><tr><td>409</td><td>Alfred Chen</td><td>24</td><td>2016-07-01T16:11:59.000+0000</td></tr><tr><td>2011</td><td>Adam Anderson</td><td>34</td><td>2016-03-14T20:42:08.000+0000</td></tr><tr><td>9183</td><td>Brittany Cruz</td><td>47</td><td>2016-07-28T09:04:46.000+0000</td></tr><tr><td>8591</td><td>Andrea Alexander</td><td>21</td><td>2015-11-10T09:27:42.000+0000</td></tr><tr><td>6705</td><td>Adrian Allen</td><td>21</td><td>2015-10-21T22:43:58.000+0000</td></tr><tr><td>3717</td><td>Alexandria Alvarado</td><td>20</td><td>2015-10-23T04:13:23.000+0000</td></tr><tr><td>5630</td><td>Carlos Estrada</td><td>22</td><td>2016-02-09T17:01:38.000+0000</td></tr><tr><td>1864</td><td>Alexander Adams</td><td>32</td><td>2015-10-28T15:48:24.000+0000</td></tr><tr><td>1857</td><td>Christopher Hamilton</td><td>48</td><td>2016-02-27T16:57:44.000+0000</td></tr><tr><td>2465</td><td>Duane Lopez</td><td>27</td><td>2016-05-01T09:31:11.000+0000</td></tr><tr><td>6276</td><td>Briana Bryant</td><td>23</td><td>2016-03-30T16:14:41.000+0000</td></tr><tr><td>10715</td><td>Angela Brown</td><td>36</td><td>2015-12-14T13:52:48.000+0000</td></tr><tr><td>7528</td><td>Abigail Ali</td><td>20</td><td>2015-10-24T11:23:51.000+0000</td></tr><tr><td>4913</td><td>Angela Brooks</td><td>24</td><td>2015-11-20T05:37:11.000+0000</td></tr><tr><td>6809</td><td>Andrea Carroll</td><td>20</td><td>2016-01-21T03:54:20.000+0000</td></tr><tr><td>9721</td><td>Debra Jenkins</td><td>50</td><td>2016-02-03T06:04:15.000+0000</td></tr><tr><td>10524</td><td>Brian Conley</td><td>32</td><td>2016-06-01T06:25:53.000+0000</td></tr><tr><td>7790</td><td>Michelle Gutierrez</td><td>39</td><td>2017-07-19T07:12:04.000+0000</td></tr><tr><td>7162</td><td>Alan Davis</td><td>34</td><td>2016-04-25T01:45:51.000+0000</td></tr><tr><td>6386</td><td>Alan Adams</td><td>25</td><td>2016-05-20T09:33:35.000+0000</td></tr><tr><td>831</td><td>Aimee Collins</td><td>28</td><td>2016-06-16T02:06:38.000+0000</td></tr><tr><td>7759</td><td>Aaron Alexander</td><td>21</td><td>2015-10-25T07:36:08.000+0000</td></tr><tr><td>1963</td><td>Andre Carey</td><td>28</td><td>2015-11-16T13:20:58.000+0000</td></tr><tr><td>3480</td><td>Amanda Allen</td><td>21</td><td>2015-11-16T23:15:00.000+0000</td></tr><tr><td>7554</td><td>Cheryl Huerta</td><td>20</td><td>2017-04-11T16:35:33.000+0000</td></tr><tr><td>7039</td><td>Brian Buckley</td><td>28</td><td>2016-10-14T03:43:48.000+0000</td></tr><tr><td>6453</td><td>Caitlin Bailey</td><td>28</td><td>2015-10-24T04:11:28.000+0000</td></tr><tr><td>1537</td><td>Nichole Chapman</td><td>27</td><td>2017-06-05T09:25:41.000+0000</td></tr><tr><td>8886</td><td>Abigail Bates</td><td>20</td><td>2015-11-07T20:59:32.000+0000</td></tr><tr><td>995</td><td>Jason Horne</td><td>27</td><td>2016-02-06T15:31:57.000+0000</td></tr><tr><td>6250</td><td>Lydia Nelson</td><td>59</td><td>2016-09-06T06:21:57.000+0000</td></tr><tr><td>1675</td><td>Barbara Ford</td><td>50</td><td>2015-12-30T08:56:15.000+0000</td></tr><tr><td>1263</td><td>Anthony Bryan</td><td>22</td><td>2015-10-24T15:35:59.000+0000</td></tr><tr><td>3226</td><td>Angela Andrews</td><td>20</td><td>2015-10-28T21:44:56.000+0000</td></tr><tr><td>3111</td><td>Natasha Gonzalez</td><td>51</td><td>2016-05-17T07:56:53.000+0000</td></tr><tr><td>10440</td><td>Christian Howell</td><td>29</td><td>2016-08-20T04:54:42.000+0000</td></tr><tr><td>3563</td><td>Gerald Davis</td><td>55</td><td>2017-08-11T14:24:41.000+0000</td></tr><tr><td>2499</td><td>John Hamilton</td><td>23</td><td>2015-11-09T12:22:53.000+0000</td></tr><tr><td>4315</td><td>Michelle Prince</td><td>36</td><td>2015-12-20T16:38:13.000+0000</td></tr><tr><td>1198</td><td>Ariana Gross</td><td>59</td><td>2016-12-17T11:10:48.000+0000</td></tr><tr><td>8174</td><td>Andrew Brown</td><td>25</td><td>2016-03-26T04:30:23.000+0000</td></tr><tr><td>10050</td><td>Carla Arnold</td><td>34</td><td>2015-12-20T18:05:14.000+0000</td></tr><tr><td>10538</td><td>Jordan Grant</td><td>42</td><td>2016-07-29T00:56:59.000+0000</td></tr><tr><td>2297</td><td>Debbie Mitchell</td><td>46</td><td>2017-02-23T00:45:45.000+0000</td></tr><tr><td>283</td><td>Amanda Alvarez</td><td>21</td><td>2015-10-30T01:31:09.000+0000</td></tr><tr><td>8312</td><td>Daniel Brooks</td><td>25</td><td>2015-11-19T21:24:33.000+0000</td></tr><tr><td>74</td><td>Amanda Benitez</td><td>21</td><td>2015-11-01T09:16:18.000+0000</td></tr><tr><td>307</td><td>John Cruz</td><td>55</td><td>2017-03-15T23:04:39.000+0000</td></tr><tr><td>7769</td><td>Aaron Abbott</td><td>20</td><td>2015-10-23T16:08:41.000+0000</td></tr><tr><td>6240</td><td>Linda Tate</td><td>33</td><td>2017-06-14T08:16:57.000+0000</td></tr><tr><td>924</td><td>Adam Baker</td><td>30</td><td>2016-04-17T19:47:03.000+0000</td></tr><tr><td>4922</td><td>Abigail Barry</td><td>21</td><td>2015-12-03T10:40:24.000+0000</td></tr><tr><td>8120</td><td>James Goodwin</td><td>20</td><td>2016-01-24T09:18:29.000+0000</td></tr><tr><td>6645</td><td>Amanda Herrera</td><td>38</td><td>2016-05-01T21:17:08.000+0000</td></tr><tr><td>10904</td><td>Deanna Alexander</td><td>29</td><td>2016-04-04T18:49:31.000+0000</td></tr><tr><td>250</td><td>Cody Adams</td><td>22</td><td>2015-10-26T03:29:49.000+0000</td></tr><tr><td>2639</td><td>Angela Andrews</td><td>20</td><td>2015-10-28T21:44:56.000+0000</td></tr><tr><td>9335</td><td>Amanda Adams</td><td>20</td><td>2015-10-21T08:27:36.000+0000</td></tr><tr><td>6865</td><td>Monica Hernandez</td><td>33</td><td>2016-04-01T13:54:42.000+0000</td></tr><tr><td>9256</td><td>Andrew Anderson</td><td>23</td><td>2015-11-28T11:52:37.000+0000</td></tr><tr><td>10507</td><td>Hannah Allen</td><td>21</td><td>2016-12-02T04:34:51.000+0000</td></tr><tr><td>4213</td><td>Abigail Allen</td><td>20</td><td>2015-11-12T14:40:14.000+0000</td></tr><tr><td>10138</td><td>Carol Silva</td><td>22</td><td>2015-12-31T14:57:02.000+0000</td></tr><tr><td>7768</td><td>Christine Cortez</td><td>23</td><td>2015-12-01T18:15:02.000+0000</td></tr><tr><td>1216</td><td>Juan Cortez</td><td>20</td><td>2016-04-07T13:02:08.000+0000</td></tr><tr><td>4513</td><td>Charlotte Pitts</td><td>60</td><td>2017-07-18T11:50:18.000+0000</td></tr><tr><td>5360</td><td>Anna Cross</td><td>38</td><td>2015-11-21T18:19:10.000+0000</td></tr><tr><td>9185</td><td>Scott Copeland</td><td>25</td><td>2017-10-18T06:45:02.000+0000</td></tr><tr><td>10659</td><td>David Evans</td><td>21</td><td>2016-03-28T10:54:55.000+0000</td></tr><tr><td>2698</td><td>Kayla Burton</td><td>44</td><td>2017-06-21T19:53:27.000+0000</td></tr><tr><td>9093</td><td>Albert Adams</td><td>21</td><td>2015-11-05T22:07:56.000+0000</td></tr><tr><td>9502</td><td>Brian Barnes</td><td>29</td><td>2015-11-01T23:09:37.000+0000</td></tr><tr><td>8083</td><td>Nancy Sanchez</td><td>32</td><td>2016-05-21T16:43:34.000+0000</td></tr><tr><td>5463</td><td>Barbara Riley</td><td>24</td><td>2017-08-03T05:18:28.000+0000</td></tr><tr><td>7166</td><td>Alvin Adams</td><td>20</td><td>2016-01-01T13:50:40.000+0000</td></tr><tr><td>4862</td><td>Jacob Castro</td><td>23</td><td>2016-10-03T21:44:53.000+0000</td></tr><tr><td>7467</td><td>Donna Carroll</td><td>21</td><td>2016-02-02T12:25:05.000+0000</td></tr><tr><td>1308</td><td>Charles Clark</td><td>25</td><td>2016-01-14T12:21:54.000+0000</td></tr><tr><td>8854</td><td>Andrew Anderson</td><td>23</td><td>2015-11-28T11:52:37.000+0000</td></tr><tr><td>7685</td><td>Brian Howard</td><td>23</td><td>2015-12-20T18:33:11.000+0000</td></tr><tr><td>5184</td><td>Jacob Chapman</td><td>42</td><td>2016-05-09T01:25:48.000+0000</td></tr><tr><td>8509</td><td>Amber Chen</td><td>22</td><td>2015-12-30T05:21:14.000+0000</td></tr><tr><td>7050</td><td>Corey Anderson</td><td>28</td><td>2015-12-05T21:26:20.000+0000</td></tr><tr><td>3145</td><td>Crystal Schmidt</td><td>22</td><td>2017-04-14T13:57:52.000+0000</td></tr><tr><td>10600</td><td>Robert Mclaughlin</td><td>49</td><td>2016-02-27T04:42:03.000+0000</td></tr><tr><td>4115</td><td>Danielle Cook</td><td>22</td><td>2016-05-18T00:47:21.000+0000</td></tr><tr><td>8699</td><td>Brandi Martin</td><td>25</td><td>2017-08-24T13:05:36.000+0000</td></tr><tr><td>2498</td><td>Jeremy Chase</td><td>50</td><td>2017-07-31T16:56:52.000+0000</td></tr><tr><td>10837</td><td>Mark Richardson</td><td>55</td><td>2015-11-18T05:46:35.000+0000</td></tr><tr><td>8834</td><td>Andrea Alexander</td><td>21</td><td>2015-11-10T09:27:42.000+0000</td></tr><tr><td>643</td><td>Anthony Adkins</td><td>21</td><td>2015-10-28T03:59:42.000+0000</td></tr><tr><td>3542</td><td>Kristen Stevenson</td><td>24</td><td>2016-12-29T04:45:35.000+0000</td></tr><tr><td>6374</td><td>Brandon Bender</td><td>21</td><td>2016-02-15T23:12:43.000+0000</td></tr><tr><td>7512</td><td>Andrew Bird</td><td>20</td><td>2016-11-10T21:10:11.000+0000</td></tr><tr><td>1901</td><td>Michelle Richardson</td><td>44</td><td>2016-12-18T16:05:39.000+0000</td></tr><tr><td>4769</td><td>Abigail Barry</td><td>21</td><td>2015-12-03T10:40:24.000+0000</td></tr><tr><td>2074</td><td>Annette Forbes</td><td>21</td><td>2016-01-03T15:42:12.000+0000</td></tr><tr><td>7738</td><td>Alexis George</td><td>34</td><td>2016-02-26T00:38:01.000+0000</td></tr><tr><td>4027</td><td>Alexander Bailey</td><td>20</td><td>2015-12-05T21:04:46.000+0000</td></tr><tr><td>653</td><td>Adam Nash</td><td>36</td><td>2016-11-26T08:35:53.000+0000</td></tr><tr><td>1469</td><td>Angela Berg</td><td>20</td><td>2015-11-10T05:57:33.000+0000</td></tr><tr><td>10168</td><td>Nicole Gray</td><td>53</td><td>2016-02-20T13:03:00.000+0000</td></tr><tr><td>2288</td><td>Corey Andrews</td><td>23</td><td>2015-11-25T13:36:22.000+0000</td></tr><tr><td>1896</td><td>Amanda Anderson</td><td>23</td><td>2016-02-22T08:38:01.000+0000</td></tr><tr><td>7413</td><td>Seth Gardner</td><td>55</td><td>2016-04-12T09:43:50.000+0000</td></tr><tr><td>2923</td><td>Brian Nelson</td><td>26</td><td>2015-11-11T03:20:57.000+0000</td></tr><tr><td>2482</td><td>David Moss</td><td>22</td><td>2016-03-01T07:11:48.000+0000</td></tr><tr><td>4076</td><td>Larry Pineda</td><td>20</td><td>2015-10-23T22:47:39.000+0000</td></tr><tr><td>1699</td><td>Brandon Cummings</td><td>22</td><td>2016-05-11T01:36:00.000+0000</td></tr><tr><td>10734</td><td>Jennifer Arellano</td><td>28</td><td>2015-12-18T10:50:10.000+0000</td></tr><tr><td>10321</td><td>Andrea Burke</td><td>20</td><td>2015-12-12T11:20:08.000+0000</td></tr><tr><td>10479</td><td>Aaron Bailey</td><td>20</td><td>2015-11-02T04:40:42.000+0000</td></tr><tr><td>8309</td><td>Vickie Acevedo</td><td>43</td><td>2017-04-09T08:19:09.000+0000</td></tr><tr><td>7801</td><td>Nancy Clay</td><td>36</td><td>2016-01-12T18:33:12.000+0000</td></tr><tr><td>8677</td><td>Amy Brown</td><td>21</td><td>2015-11-08T16:14:16.000+0000</td></tr><tr><td>781</td><td>Alexandra Allen</td><td>20</td><td>2015-10-23T13:07:00.000+0000</td></tr><tr><td>6939</td><td>Erin Thompson</td><td>35</td><td>2016-10-21T03:38:15.000+0000</td></tr><tr><td>9425</td><td>Katrina Fischer</td><td>47</td><td>2017-05-10T22:51:14.000+0000</td></tr><tr><td>8967</td><td>Joshua Harrison</td><td>26</td><td>2017-04-30T16:38:10.000+0000</td></tr><tr><td>10179</td><td>Alexandra Austin</td><td>22</td><td>2015-11-06T05:05:43.000+0000</td></tr><tr><td>9700</td><td>Isabel Rogers</td><td>30</td><td>2016-10-24T17:36:15.000+0000</td></tr></tbody></table></div>"
      ]
     },
     "metadata": {
      "application/vnd.databricks.v1+output": {
       "addedWidgets": {},
       "aggData": [],
       "aggError": "",
       "aggOverflow": false,
       "aggSchema": [],
       "aggSeriesLimitReached": false,
       "aggType": "",
       "arguments": {},
       "columnCustomDisplayInfos": {},
       "data": [
        [
         "2668",
         "April Brown",
         "20",
         "2016-04-10T02:39:57.000+0000"
        ],
        [
         "6797",
         "Janet Shaw",
         "27",
         "2016-11-02T03:54:55.000+0000"
        ],
        [
         "8204",
         "David Davis",
         "38",
         "2016-11-20T06:55:49.000+0000"
        ],
        [
         "5293",
         "David Taylor",
         "36",
         "2016-06-03T23:53:50.000+0000"
        ],
        [
         "4561",
         "Madeline Brown",
         "43",
         "2016-11-11T15:53:15.000+0000"
        ],
        [
         "6957",
         "Brittany Brown",
         "37",
         "2016-06-25T14:36:22.000+0000"
        ],
        [
         "7446",
         "Melissa Weiss",
         "32",
         "2017-09-19T15:10:12.000+0000"
        ],
        [
         "926",
         "Thomas Stone",
         "21",
         "2016-07-18T18:19:31.000+0000"
        ],
        [
         "552",
         "Regina Morales",
         "20",
         "2017-01-17T01:49:27.000+0000"
        ],
        [
         "6615",
         "Barry West",
         "44",
         "2016-08-13T21:13:14.000+0000"
        ],
        [
         "1570",
         "Jason Thomas",
         "35",
         "2017-09-16T08:44:13.000+0000"
        ],
        [
         "2430",
         "Amy Adams",
         "20",
         "2015-10-24T05:05:28.000+0000"
        ],
        [
         "159",
         "Alison Bell",
         "21",
         "2016-01-07T08:11:35.000+0000"
        ],
        [
         "91",
         "Darryl Baker",
         "29",
         "2016-02-26T03:45:09.000+0000"
        ],
        [
         "160",
         "Anthony Mcbride",
         "46",
         "2016-06-10T09:51:54.000+0000"
        ],
        [
         "9533",
         "Alice Day",
         "25",
         "2015-11-04T05:12:00.000+0000"
        ],
        [
         "7529",
         "Robert Black",
         "53",
         "2016-05-21T02:14:41.000+0000"
        ],
        [
         "9875",
         "Brendan Joseph",
         "26",
         "2015-12-20T10:28:00.000+0000"
        ],
        [
         "3436",
         "Charles Johnson",
         "25",
         "2015-12-07T02:19:50.000+0000"
        ],
        [
         "8996",
         "Aaron Alexander",
         "21",
         "2015-10-25T07:36:08.000+0000"
        ],
        [
         "7952",
         "Karen Clark",
         "47",
         "2016-08-01T06:36:32.000+0000"
        ],
        [
         "8352",
         "Carl Thompson",
         "24",
         "2015-10-21T03:17:47.000+0000"
        ],
        [
         "10501",
         "Clarence Brooks",
         "40",
         "2016-04-07T05:11:10.000+0000"
        ],
        [
         "5365",
         "Adam Cole",
         "23",
         "2015-11-15T23:49:12.000+0000"
        ],
        [
         "5730",
         "Rachel Davis",
         "36",
         "2015-12-08T20:02:43.000+0000"
        ],
        [
         "327",
         "Jill Taylor",
         "39",
         "2015-12-04T03:15:28.000+0000"
        ],
        [
         "8015",
         "Danielle Klein",
         "38",
         "2016-04-11T08:54:04.000+0000"
        ],
        [
         "5402",
         "James Brown",
         "49",
         "2016-04-06T13:56:50.000+0000"
        ],
        [
         "10429",
         "Brandon Henderson",
         "24",
         "2016-01-12T17:59:43.000+0000"
        ],
        [
         "9929",
         "Benjamin Brady",
         "21",
         "2016-05-11T06:22:07.000+0000"
        ],
        [
         "5111",
         "Lonnie Boyd",
         "49",
         "2016-02-08T06:54:03.000+0000"
        ],
        [
         "5742",
         "Barbara Edwards",
         "24",
         "2016-01-09T19:37:29.000+0000"
        ],
        [
         "7950",
         "Kristy Donaldson",
         "46",
         "2017-08-15T03:04:44.000+0000"
        ],
        [
         "5349",
         "Caitlyn Baker",
         "22",
         "2015-11-11T17:56:54.000+0000"
        ],
        [
         "7165",
         "Nancy Jones",
         "35",
         "2016-01-12T09:32:19.000+0000"
        ],
        [
         "385",
         "Aaron Abbott",
         "20",
         "2015-10-31T18:51:07.000+0000"
        ],
        [
         "737",
         "Christopher Evans",
         "32",
         "2015-11-03T07:55:11.000+0000"
        ],
        [
         "3843",
         "Ronald Hanson",
         "28",
         "2017-04-16T00:14:21.000+0000"
        ],
        [
         "1530",
         "Jose Robbins",
         "54",
         "2016-03-07T19:38:00.000+0000"
        ],
        [
         "7356",
         "Andrew Anderson",
         "23",
         "2015-11-28T11:52:37.000+0000"
        ],
        [
         "4764",
         "Michael Adams",
         "32",
         "2016-03-15T21:43:17.000+0000"
        ],
        [
         "544",
         "Abigail Carter",
         "21",
         "2015-12-10T01:13:45.000+0000"
        ],
        [
         "10253",
         "Aaron Anderson",
         "21",
         "2015-10-23T03:43:54.000+0000"
        ],
        [
         "8361",
         "Christine Cortez",
         "23",
         "2015-12-01T18:15:02.000+0000"
        ],
        [
         "9567",
         "Daniel Dorsey",
         "26",
         "2016-05-30T04:59:21.000+0000"
        ],
        [
         "1371",
         "Amanda Brown",
         "20",
         "2015-11-12T03:23:49.000+0000"
        ],
        [
         "5737",
         "Alexis Bell",
         "20",
         "2015-11-23T06:34:47.000+0000"
        ],
        [
         "1379",
         "Aaron Abbott",
         "20",
         "2015-10-31T18:51:07.000+0000"
        ],
        [
         "9759",
         "Daniel Brooks",
         "25",
         "2015-11-19T21:24:33.000+0000"
        ],
        [
         "1706",
         "Amy Adams",
         "20",
         "2015-10-24T05:05:28.000+0000"
        ],
        [
         "4654",
         "Nathan Howard",
         "37",
         "2016-03-06T21:35:04.000+0000"
        ],
        [
         "7514",
         "Amanda Holt",
         "21",
         "2017-01-10T13:22:59.000+0000"
        ],
        [
         "8315",
         "Andrew Alexander",
         "20",
         "2015-11-20T09:08:00.000+0000"
        ],
        [
         "498",
         "Anna Bird",
         "25",
         "2015-10-21T18:29:08.000+0000"
        ],
        [
         "6747",
         "Matthew Simon",
         "58",
         "2017-06-17T04:42:14.000+0000"
        ],
        [
         "9812",
         "Janet Andrews",
         "28",
         "2016-06-11T14:48:17.000+0000"
        ],
        [
         "8255",
         "Peter Huffman",
         "39",
         "2017-03-18T05:26:56.000+0000"
        ],
        [
         "33",
         "Angela Conner",
         "36",
         "2016-09-21T11:18:22.000+0000"
        ],
        [
         "2793",
         "Bobby Cook",
         "21",
         "2015-12-15T05:28:12.000+0000"
        ],
        [
         "2025",
         "Aaron Abbott",
         "20",
         "2015-10-31T18:51:07.000+0000"
        ],
        [
         "3688",
         "James Jefferson",
         "22",
         "2016-02-25T23:48:54.000+0000"
        ],
        [
         "1567",
         "David Griffith",
         "20",
         "2016-01-07T19:49:22.000+0000"
        ],
        [
         "6066",
         "Angela Flores",
         "28",
         "2015-10-29T08:51:34.000+0000"
        ],
        [
         "10087",
         "Danny Ramsey",
         "22",
         "2016-07-03T13:53:31.000+0000"
        ],
        [
         "6976",
         "Andrea Beasley",
         "23",
         "2015-11-10T10:26:14.000+0000"
        ],
        [
         "9935",
         "Annette Andrews",
         "28",
         "2015-12-20T22:09:10.000+0000"
        ],
        [
         "8889",
         "Melissa Thompson",
         "42",
         "2016-04-01T01:20:00.000+0000"
        ],
        [
         "5091",
         "Samantha Hall",
         "27",
         "2017-04-27T09:48:22.000+0000"
        ],
        [
         "6682",
         "Lisa Walls",
         "50",
         "2016-09-09T23:42:11.000+0000"
        ],
        [
         "2955",
         "Kevin Young",
         "58",
         "2016-09-18T07:28:19.000+0000"
        ],
        [
         "2987",
         "Charles Robinson",
         "41",
         "2015-12-22T01:36:15.000+0000"
        ],
        [
         "4210",
         "Anthony Golden",
         "56",
         "2017-05-03T22:37:43.000+0000"
        ],
        [
         "5155",
         "Steven Weiss",
         "22",
         "2017-09-25T07:45:23.000+0000"
        ],
        [
         "3089",
         "Abigail Ali",
         "20",
         "2015-10-24T11:23:51.000+0000"
        ],
        [
         "4137",
         "Michael Decker",
         "59",
         "2017-06-29T22:35:17.000+0000"
        ],
        [
         "778",
         "Christine Adams",
         "31",
         "2016-02-06T10:22:53.000+0000"
        ],
        [
         "1789",
         "Jennifer Snyder",
         "53",
         "2017-03-27T10:25:34.000+0000"
        ],
        [
         "9455",
         "Calvin Baker",
         "26",
         "2015-11-14T05:58:38.000+0000"
        ],
        [
         "7154",
         "Alejandra Acevedo",
         "20",
         "2015-11-24T21:01:23.000+0000"
        ],
        [
         "8944",
         "Aaron Lam",
         "33",
         "2017-04-15T12:15:53.000+0000"
        ],
        [
         "1254",
         "Patricia Harvey",
         "41",
         "2017-09-25T07:22:09.000+0000"
        ],
        [
         "6586",
         "Kelly Carter",
         "58",
         "2015-11-30T19:16:40.000+0000"
        ],
        [
         "4500",
         "Angela Brooks",
         "24",
         "2015-11-20T05:37:11.000+0000"
        ],
        [
         "5198",
         "James Sharp",
         "23",
         "2016-10-21T08:22:24.000+0000"
        ],
        [
         "4949",
         "Colin Clayton",
         "46",
         "2016-11-18T10:00:53.000+0000"
        ],
        [
         "2447",
         "Nancy Patel",
         "35",
         "2017-06-27T10:00:11.000+0000"
        ],
        [
         "1032",
         "Kelly Blackwell",
         "34",
         "2016-04-01T21:50:44.000+0000"
        ],
        [
         "1729",
         "Amanda Adams",
         "20",
         "2015-10-21T08:27:36.000+0000"
        ],
        [
         "5117",
         "Leah Gonzalez",
         "21",
         "2016-08-12T18:53:00.000+0000"
        ],
        [
         "6018",
         "Angela Everett",
         "23",
         "2016-02-23T11:59:45.000+0000"
        ],
        [
         "7343",
         "Anne Clayton",
         "24",
         "2016-01-11T12:03:48.000+0000"
        ],
        [
         "9014",
         "Luke Carter",
         "37",
         "2016-01-13T20:19:57.000+0000"
        ],
        [
         "9530",
         "Denise Graves",
         "21",
         "2016-01-28T22:04:16.000+0000"
        ],
        [
         "525",
         "Abigail Ali",
         "20",
         "2015-10-24T11:23:51.000+0000"
        ],
        [
         "1972",
         "Michelle Smith",
         "52",
         "2017-05-05T05:06:56.000+0000"
        ],
        [
         "3317",
         "Angela Anderson",
         "20",
         "2015-11-27T04:14:49.000+0000"
        ],
        [
         "5162",
         "James Jacobson",
         "28",
         "2017-04-30T16:41:26.000+0000"
        ],
        [
         "6403",
         "April Simmons",
         "34",
         "2017-05-27T14:44:48.000+0000"
        ],
        [
         "6631",
         "Valerie Leach",
         "33",
         "2015-10-31T10:25:32.000+0000"
        ],
        [
         "3032",
         "Anthony Chen",
         "24",
         "2016-06-15T12:49:30.000+0000"
        ],
        [
         "1611",
         "Erik Martinez",
         "40",
         "2017-03-08T06:03:20.000+0000"
        ],
        [
         "1786",
         "Adam Gibson",
         "21",
         "2015-11-22T23:22:23.000+0000"
        ],
        [
         "1821",
         "Amanda Cooper",
         "22",
         "2016-01-19T16:56:23.000+0000"
        ],
        [
         "1811",
         "Jasmine Buck",
         "27",
         "2015-12-24T10:01:06.000+0000"
        ],
        [
         "7586",
         "Aaron Alexander",
         "21",
         "2015-10-25T07:36:08.000+0000"
        ],
        [
         "10936",
         "Frank Howard",
         "56",
         "2017-04-21T18:32:30.000+0000"
        ],
        [
         "10794",
         "Thomas Turner",
         "34",
         "2016-12-22T00:02:02.000+0000"
        ],
        [
         "2403",
         "Erin Lawson",
         "59",
         "2017-06-29T10:23:41.000+0000"
        ],
        [
         "6671",
         "Jessica Long",
         "47",
         "2017-10-06T04:10:16.000+0000"
        ],
        [
         "709",
         "Adam Acosta",
         "20",
         "2015-10-21T21:26:45.000+0000"
        ],
        [
         "2001",
         "Jonathan Gordon",
         "24",
         "2015-11-12T08:52:11.000+0000"
        ],
        [
         "9941",
         "Caitlyn Baker",
         "22",
         "2015-11-11T17:56:54.000+0000"
        ],
        [
         "5297",
         "Carrie Hurley",
         "42",
         "2016-11-05T11:17:22.000+0000"
        ],
        [
         "2015",
         "Christopher Bradshaw",
         "27",
         "2016-03-08T13:38:37.000+0000"
        ],
        [
         "2041",
         "Christopher Campbell",
         "35",
         "2015-10-22T22:42:23.000+0000"
        ],
        [
         "9198",
         "Amber Chen",
         "22",
         "2015-12-30T05:21:14.000+0000"
        ],
        [
         "865",
         "Anna Bird",
         "25",
         "2015-10-21T18:29:08.000+0000"
        ],
        [
         "9950",
         "Christopher Bates",
         "30",
         "2016-05-25T10:09:22.000+0000"
        ],
        [
         "10602",
         "Jack Dodson",
         "21",
         "2016-03-06T15:54:40.000+0000"
        ],
        [
         "310",
         "Amanda Benitez",
         "21",
         "2015-11-01T09:16:18.000+0000"
        ],
        [
         "334",
         "Cindy Morales",
         "43",
         "2016-09-01T18:15:56.000+0000"
        ],
        [
         "6756",
         "Michael Clark",
         "26",
         "2016-06-15T18:10:59.000+0000"
        ],
        [
         "3454",
         "Robert Murphy",
         "48",
         "2017-09-26T16:31:56.000+0000"
        ],
        [
         "7850",
         "Joseph Kelly",
         "44",
         "2017-09-28T16:41:00.000+0000"
        ],
        [
         "10371",
         "Lori Campos",
         "48",
         "2016-04-26T11:49:56.000+0000"
        ],
        [
         "5497",
         "Joseph Barnett",
         "21",
         "2015-11-21T10:00:55.000+0000"
        ],
        [
         "6781",
         "Stephen Chan",
         "37",
         "2017-02-26T16:11:58.000+0000"
        ],
        [
         "5494",
         "Anne Allen",
         "27",
         "2015-12-16T15:20:05.000+0000"
        ],
        [
         "9426",
         "Nicholas Mcdaniel",
         "45",
         "2017-05-24T01:41:26.000+0000"
        ],
        [
         "2577",
         "Amy Adams",
         "20",
         "2015-10-24T05:05:28.000+0000"
        ],
        [
         "5704",
         "David Craig",
         "30",
         "2016-01-30T06:09:57.000+0000"
        ],
        [
         "1701",
         "Brandon Simmons",
         "49",
         "2017-03-31T10:02:35.000+0000"
        ],
        [
         "3239",
         "Eric Anderson",
         "33",
         "2016-08-07T08:38:33.000+0000"
        ],
        [
         "4357",
         "Allison Adams",
         "22",
         "2015-11-30T10:51:59.000+0000"
        ],
        [
         "9155",
         "Aaron Alexander",
         "21",
         "2015-10-25T07:36:08.000+0000"
        ],
        [
         "3094",
         "Jose Smith",
         "55",
         "2016-12-13T06:09:30.000+0000"
        ],
        [
         "6328",
         "Ashley Combs",
         "34",
         "2015-11-13T06:33:05.000+0000"
        ],
        [
         "2161",
         "Alexander Rodriguez",
         "55",
         "2017-08-12T13:26:38.000+0000"
        ],
        [
         "1780",
         "Angela Andrews",
         "20",
         "2015-10-28T21:44:56.000+0000"
        ],
        [
         "6814",
         "April Blake",
         "21",
         "2015-10-28T03:16:59.000+0000"
        ],
        [
         "5106",
         "Brandon Mueller",
         "28",
         "2017-03-16T15:12:04.000+0000"
        ],
        [
         "2788",
         "Jesus Arellano",
         "43",
         "2016-03-22T15:45:21.000+0000"
        ],
        [
         "3231",
         "Andrew Baker",
         "22",
         "2015-12-21T08:06:54.000+0000"
        ],
        [
         "3352",
         "Abigail Adams",
         "20",
         "2015-10-25T13:11:51.000+0000"
        ],
        [
         "1776",
         "Deanna Molina",
         "22",
         "2016-04-07T20:10:55.000+0000"
        ],
        [
         "5566",
         "Ashley Anderson",
         "32",
         "2017-07-14T17:59:46.000+0000"
        ],
        [
         "462",
         "Albert Allison",
         "20",
         "2015-10-21T22:27:27.000+0000"
        ],
        [
         "8731",
         "Andrea Alexander",
         "21",
         "2015-11-10T09:27:42.000+0000"
        ],
        [
         "6014",
         "Mary Luna",
         "22",
         "2016-01-02T01:40:52.000+0000"
        ],
        [
         "9270",
         "Amy Brown",
         "21",
         "2015-11-08T16:14:16.000+0000"
        ],
        [
         "2354",
         "Danielle Barber",
         "23",
         "2016-02-21T14:23:49.000+0000"
        ],
        [
         "5796",
         "Adam Alexander",
         "20",
         "2015-10-22T11:31:37.000+0000"
        ],
        [
         "5069",
         "Amanda Ball",
         "25",
         "2016-01-13T17:36:30.000+0000"
        ],
        [
         "4988",
         "Rhonda Durham",
         "25",
         "2017-07-20T05:51:23.000+0000"
        ],
        [
         "8237",
         "Aaron Abbott",
         "20",
         "2015-10-23T16:08:41.000+0000"
        ],
        [
         "9146",
         "Andrew Anderson",
         "23",
         "2015-11-28T11:52:37.000+0000"
        ],
        [
         "10908",
         "Stephanie Cooper",
         "20",
         "2017-06-01T02:30:48.000+0000"
        ],
        [
         "7560",
         "Theresa Dixon",
         "47",
         "2015-12-18T14:49:13.000+0000"
        ],
        [
         "4866",
         "Lawrence Lane",
         "28",
         "2017-07-09T11:52:42.000+0000"
        ],
        [
         "9672",
         "Jennifer Hudson",
         "22",
         "2016-02-11T20:46:04.000+0000"
        ],
        [
         "10804",
         "Stacy May",
         "58",
         "2016-06-21T11:33:31.000+0000"
        ],
        [
         "9584",
         "David Harper",
         "38",
         "2016-08-12T12:33:07.000+0000"
        ],
        [
         "1066",
         "Benjamin Branch",
         "44",
         "2016-06-08T17:23:33.000+0000"
        ],
        [
         "2754",
         "Lance Li",
         "23",
         "2016-06-14T14:03:04.000+0000"
        ],
        [
         "5679",
         "Melanie Allison",
         "32",
         "2017-07-02T05:22:18.000+0000"
        ],
        [
         "8941",
         "Andrew Anderson",
         "23",
         "2015-11-28T11:52:37.000+0000"
        ],
        [
         "10868",
         "Benjamin Keith",
         "24",
         "2017-02-25T21:08:31.000+0000"
        ],
        [
         "6806",
         "Christopher Daniel",
         "25",
         "2016-04-15T17:06:49.000+0000"
        ],
        [
         "5724",
         "Matthew Walker",
         "57",
         "2015-12-07T08:51:53.000+0000"
        ],
        [
         "4251",
         "Amanda Allen",
         "21",
         "2015-11-16T23:15:00.000+0000"
        ],
        [
         "2780",
         "Kimberly Mack",
         "37",
         "2017-08-09T03:52:40.000+0000"
        ],
        [
         "6963",
         "Angela Allen",
         "20",
         "2015-10-26T04:12:32.000+0000"
        ],
        [
         "3485",
         "Andrew Burke",
         "20",
         "2015-11-14T17:38:31.000+0000"
        ],
        [
         "6636",
         "Christopher Green",
         "34",
         "2016-09-17T04:22:25.000+0000"
        ],
        [
         "5692",
         "Adam Bennett",
         "22",
         "2016-02-08T21:50:41.000+0000"
        ],
        [
         "5309",
         "Daniel Roy",
         "31",
         "2016-03-07T01:01:24.000+0000"
        ],
        [
         "10247",
         "Gloria Mills",
         "53",
         "2016-07-14T12:43:36.000+0000"
        ],
        [
         "3201",
         "Elizabeth Terry",
         "28",
         "2016-01-29T20:32:05.000+0000"
        ],
        [
         "6348",
         "Mark Brown",
         "23",
         "2016-07-24T20:27:24.000+0000"
        ],
        [
         "2553",
         "Bonnie Estrada",
         "30",
         "2015-10-21T07:31:00.000+0000"
        ],
        [
         "10585",
         "Katherine Dennis",
         "49",
         "2016-10-03T13:42:13.000+0000"
        ],
        [
         "3561",
         "Abigail Allen",
         "20",
         "2015-11-12T14:40:14.000+0000"
        ],
        [
         "1775",
         "James Graham",
         "22",
         "2015-12-24T13:28:36.000+0000"
        ],
        [
         "3419",
         "Aaron Jenkins",
         "47",
         "2017-04-26T03:26:23.000+0000"
        ],
        [
         "3334",
         "Amber Casey",
         "23",
         "2016-01-06T12:22:08.000+0000"
        ],
        [
         "3660",
         "Adrian Jackson",
         "28",
         "2016-04-30T10:03:19.000+0000"
        ],
        [
         "2927",
         "Angela Andrews",
         "20",
         "2015-10-28T21:44:56.000+0000"
        ],
        [
         "909",
         "Daniel Peck",
         "24",
         "2016-02-22T23:13:34.000+0000"
        ],
        [
         "6021",
         "Elaine Savage",
         "23",
         "2017-10-13T13:55:52.000+0000"
        ],
        [
         "228",
         "Linda Mccullough",
         "43",
         "2015-10-22T10:04:23.000+0000"
        ],
        [
         "5959",
         "Jason Brooks",
         "28",
         "2015-12-21T00:33:51.000+0000"
        ],
        [
         "7068",
         "Andrea Beasley",
         "23",
         "2015-11-10T10:26:14.000+0000"
        ],
        [
         "935",
         "Michael Brooks",
         "48",
         "2016-08-05T06:18:29.000+0000"
        ],
        [
         "6305",
         "Aaron Anderson",
         "21",
         "2015-10-23T03:43:54.000+0000"
        ],
        [
         "6633",
         "James Turner",
         "47",
         "2017-10-04T16:16:34.000+0000"
        ],
        [
         "649",
         "Jill Gilmore",
         "29",
         "2017-01-13T08:26:21.000+0000"
        ],
        [
         "3644",
         "Angela Hall",
         "27",
         "2016-02-22T03:37:09.000+0000"
        ],
        [
         "7983",
         "Aaron Anderson",
         "21",
         "2015-10-24T05:35:27.000+0000"
        ],
        [
         "4186",
         "Christina Bryant",
         "33",
         "2016-04-27T01:35:39.000+0000"
        ],
        [
         "10721",
         "Garrett Hernandez",
         "53",
         "2017-04-05T13:59:02.000+0000"
        ],
        [
         "9267",
         "Andrea Alexander",
         "21",
         "2015-11-10T09:27:42.000+0000"
        ],
        [
         "2304",
         "Abigail Burch",
         "29",
         "2016-03-17T11:34:05.000+0000"
        ],
        [
         "480",
         "Timothy Sullivan",
         "40",
         "2017-01-12T08:37:12.000+0000"
        ],
        [
         "9123",
         "Margaret Torres",
         "21",
         "2017-05-24T03:44:43.000+0000"
        ],
        [
         "4925",
         "Lauren Richardson",
         "32",
         "2017-04-30T14:55:27.000+0000"
        ],
        [
         "3285",
         "Aaron Greene",
         "25",
         "2016-01-14T00:10:04.000+0000"
        ],
        [
         "4377",
         "Samuel Thompson",
         "24",
         "2017-04-08T10:18:26.000+0000"
        ],
        [
         "8058",
         "Joyce Ochoa",
         "23",
         "2016-12-27T11:43:07.000+0000"
        ],
        [
         "2226",
         "Lisa Thomas",
         "35",
         "2015-11-25T06:31:01.000+0000"
        ],
        [
         "4931",
         "Steven Duncan",
         "44",
         "2016-04-25T23:51:06.000+0000"
        ],
        [
         "2530",
         "Ariel Brown",
         "26",
         "2015-11-24T23:04:52.000+0000"
        ],
        [
         "637",
         "Alexis Carrillo",
         "24",
         "2016-01-03T01:10:04.000+0000"
        ],
        [
         "10198",
         "Mary Pope",
         "41",
         "2016-06-25T05:11:46.000+0000"
        ],
        [
         "4889",
         "Andrew Gordon",
         "25",
         "2015-11-17T01:31:08.000+0000"
        ],
        [
         "6566",
         "Alexander Perez",
         "31",
         "2017-08-04T14:30:22.000+0000"
        ],
        [
         "7874",
         "Aaron Abbott",
         "20",
         "2015-10-23T16:08:41.000+0000"
        ],
        [
         "6479",
         "Debra Morse",
         "48",
         "2016-09-12T23:54:34.000+0000"
        ],
        [
         "7642",
         "Aaron Abbott",
         "20",
         "2015-10-23T16:08:41.000+0000"
        ],
        [
         "7383",
         "Dawn Bradley",
         "20",
         "2016-08-26T16:09:52.000+0000"
        ],
        [
         "7896",
         "Andrew Alvarez",
         "21",
         "2015-11-10T12:55:13.000+0000"
        ],
        [
         "1514",
         "Michael Perkins",
         "40",
         "2017-06-28T16:17:39.000+0000"
        ],
        [
         "3878",
         "William Donovan",
         "49",
         "2017-05-02T07:34:05.000+0000"
        ],
        [
         "6978",
         "Jack Morales",
         "56",
         "2016-10-23T06:50:28.000+0000"
        ],
        [
         "6834",
         "Keith Martinez",
         "38",
         "2015-11-17T12:56:37.000+0000"
        ],
        [
         "4271",
         "Danielle Chambers",
         "21",
         "2015-12-08T00:29:58.000+0000"
        ],
        [
         "427",
         "Jon Burke",
         "25",
         "2015-11-26T17:42:37.000+0000"
        ],
        [
         "1173",
         "Dana Jackson",
         "57",
         "2016-06-05T21:37:09.000+0000"
        ],
        [
         "10500",
         "Brooke Vang",
         "33",
         "2016-12-09T20:16:49.000+0000"
        ],
        [
         "10920",
         "Bradley Bennett",
         "21",
         "2015-10-26T18:21:55.000+0000"
        ],
        [
         "4424",
         "Aaron Buchanan",
         "23",
         "2016-01-17T21:06:05.000+0000"
        ],
        [
         "1694",
         "James Mills",
         "38",
         "2017-08-13T19:07:29.000+0000"
        ],
        [
         "6488",
         "Alec Bell",
         "22",
         "2016-01-09T15:37:07.000+0000"
        ],
        [
         "4489",
         "Tracie Thompson",
         "34",
         "2017-08-21T02:27:26.000+0000"
        ],
        [
         "10234",
         "Amy Adams",
         "23",
         "2015-11-19T13:16:24.000+0000"
        ],
        [
         "179",
         "Sarah Salas",
         "26",
         "2016-01-01T10:11:23.000+0000"
        ],
        [
         "10932",
         "Jacqueline King",
         "36",
         "2015-11-26T03:34:44.000+0000"
        ],
        [
         "1362",
         "Nancy Case",
         "23",
         "2016-02-18T08:44:33.000+0000"
        ],
        [
         "3710",
         "Nicole Johnson",
         "44",
         "2016-02-08T18:55:39.000+0000"
        ],
        [
         "7631",
         "Jennifer Bailey",
         "42",
         "2016-03-07T21:07:12.000+0000"
        ],
        [
         "10671",
         "Kristina Dawson",
         "59",
         "2017-08-19T13:07:48.000+0000"
        ],
        [
         "2508",
         "Aaron Johnson",
         "59",
         "2016-07-02T04:35:40.000+0000"
        ],
        [
         "6398",
         "Christina Davenport",
         "39",
         "2016-06-29T20:43:59.000+0000"
        ],
        [
         "7167",
         "Dawn Bradley",
         "20",
         "2016-08-26T16:09:52.000+0000"
        ],
        [
         "2946",
         "Samantha Carpenter",
         "24",
         "2016-06-26T00:05:17.000+0000"
        ],
        [
         "6589",
         "Jeffrey Gross",
         "23",
         "2016-03-04T06:21:39.000+0000"
        ],
        [
         "808",
         "Aaron Bartlett",
         "21",
         "2015-11-24T02:15:36.000+0000"
        ],
        [
         "2315",
         "Ashley Briggs",
         "38",
         "2015-11-15T16:53:09.000+0000"
        ],
        [
         "10029",
         "Anthony Baker",
         "20",
         "2015-11-14T19:24:56.000+0000"
        ],
        [
         "10853",
         "Amanda Cox",
         "37",
         "2015-12-29T23:56:30.000+0000"
        ],
        [
         "4892",
         "Pamela Wilson",
         "28",
         "2016-07-10T23:56:30.000+0000"
        ],
        [
         "223",
         "Melanie Hill",
         "51",
         "2016-10-09T14:47:51.000+0000"
        ],
        [
         "7940",
         "Andrew Arnold",
         "21",
         "2015-12-02T08:29:10.000+0000"
        ],
        [
         "4055",
         "Grant George",
         "27",
         "2015-11-11T01:45:05.000+0000"
        ],
        [
         "7670",
         "Aaron Abbott",
         "20",
         "2015-10-23T16:08:41.000+0000"
        ],
        [
         "6906",
         "April Anderson",
         "30",
         "2016-06-27T08:35:51.000+0000"
        ],
        [
         "7862",
         "Andrew Arnold",
         "21",
         "2015-12-02T08:29:10.000+0000"
        ],
        [
         "9010",
         "Albert Allison",
         "20",
         "2015-10-21T22:27:27.000+0000"
        ],
        [
         "2595",
         "Christopher Barnett",
         "22",
         "2016-03-24T09:38:54.000+0000"
        ],
        [
         "3182",
         "Becky Brady",
         "21",
         "2015-11-05T20:19:03.000+0000"
        ],
        [
         "6844",
         "Peter Roberts",
         "30",
         "2016-07-03T10:59:40.000+0000"
        ],
        [
         "4944",
         "Amber Bennett",
         "29",
         "2016-02-28T04:37:04.000+0000"
        ],
        [
         "10052",
         "Jamie Bryant",
         "20",
         "2017-06-17T20:00:37.000+0000"
        ],
        [
         "3240",
         "April Brown",
         "20",
         "2016-04-10T02:39:57.000+0000"
        ],
        [
         "6299",
         "Jeffrey Gordon",
         "57",
         "2017-01-06T20:27:48.000+0000"
        ],
        [
         "527",
         "Carlos Dixon",
         "24",
         "2015-11-09T03:47:45.000+0000"
        ],
        [
         "5647",
         "Calvin Atkins",
         "27",
         "2016-08-31T20:20:25.000+0000"
        ],
        [
         "3831",
         "Alexandria Alvarado",
         "20",
         "2015-10-23T04:13:23.000+0000"
        ],
        [
         "1104",
         "Holly Bailey",
         "48",
         "2016-02-01T07:15:19.000+0000"
        ],
        [
         "3359",
         "Abigail Carter",
         "21",
         "2015-12-10T01:13:45.000+0000"
        ],
        [
         "719",
         "Alicia Avila",
         "20",
         "2016-01-26T01:49:23.000+0000"
        ],
        [
         "5488",
         "Heather Edwards",
         "33",
         "2016-01-16T18:25:10.000+0000"
        ],
        [
         "3626",
         "Amanda Allen",
         "21",
         "2015-11-16T23:15:00.000+0000"
        ],
        [
         "1139",
         "Jeffrey Smith",
         "30",
         "2016-10-26T06:53:14.000+0000"
        ],
        [
         "5978",
         "Rebecca Simmons",
         "60",
         "2016-03-15T14:37:17.000+0000"
        ],
        [
         "4024",
         "Adam Armstrong",
         "20",
         "2015-12-17T08:43:40.000+0000"
        ],
        [
         "10137",
         "Daniel Matthews",
         "34",
         "2016-01-23T03:59:37.000+0000"
        ],
        [
         "2267",
         "Andrea Blankenship",
         "27",
         "2016-04-11T21:27:52.000+0000"
        ],
        [
         "4780",
         "Kristina King",
         "34",
         "2015-12-17T06:10:31.000+0000"
        ],
        [
         "9653",
         "Jeffery Roberson",
         "42",
         "2017-06-29T14:26:41.000+0000"
        ],
        [
         "4585",
         "Amy Atkins",
         "21",
         "2015-10-31T07:37:40.000+0000"
        ],
        [
         "4080",
         "Marie Kennedy",
         "42",
         "2016-08-11T18:30:52.000+0000"
        ],
        [
         "8732",
         "Annette Barber",
         "43",
         "2017-09-16T15:37:45.000+0000"
        ],
        [
         "6498",
         "Adrienne Barrett",
         "22",
         "2015-11-04T15:48:14.000+0000"
        ],
        [
         "1137",
         "Virginia Vega",
         "38",
         "2017-05-03T03:08:33.000+0000"
        ],
        [
         "4249",
         "Alexandria Alvarado",
         "20",
         "2015-10-23T04:13:23.000+0000"
        ],
        [
         "9665",
         "Austin Abbott",
         "22",
         "2015-11-07T09:52:29.000+0000"
        ],
        [
         "1521",
         "Mindy Garrison",
         "29",
         "2016-02-18T23:18:39.000+0000"
        ],
        [
         "3360",
         "Amber Casey",
         "23",
         "2016-01-06T12:22:08.000+0000"
        ],
        [
         "6740",
         "Erica Green",
         "36",
         "2017-05-31T09:19:59.000+0000"
        ],
        [
         "10369",
         "Gabrielle Flores",
         "34",
         "2017-09-17T01:53:38.000+0000"
        ],
        [
         "1214",
         "Alejandro Graham",
         "57",
         "2017-07-17T15:31:30.000+0000"
        ],
        [
         "9969",
         "Angela Bailey",
         "21",
         "2015-12-13T04:59:44.000+0000"
        ],
        [
         "9402",
         "Andrew Anderson",
         "23",
         "2015-11-28T11:52:37.000+0000"
        ],
        [
         "9407",
         "Amy Andrews",
         "23",
         "2015-10-29T19:12:55.000+0000"
        ],
        [
         "365",
         "Kevin Torres",
         "51",
         "2016-08-07T18:45:21.000+0000"
        ],
        [
         "9487",
         "Jose Bailey",
         "21",
         "2016-01-10T09:41:14.000+0000"
        ],
        [
         "7641",
         "Aaron Anderson",
         "21",
         "2015-10-24T05:35:27.000+0000"
        ],
        [
         "10425",
         "Andrea Carroll",
         "20",
         "2016-01-21T03:54:20.000+0000"
        ],
        [
         "10931",
         "Aaron Bailey",
         "20",
         "2015-11-02T04:40:42.000+0000"
        ],
        [
         "3164",
         "Cynthia Harper",
         "43",
         "2016-01-23T05:44:11.000+0000"
        ],
        [
         "1704",
         "Barry Lynn",
         "20",
         "2015-10-28T05:00:33.000+0000"
        ],
        [
         "9936",
         "Anthony Cantu",
         "28",
         "2016-11-15T10:40:03.000+0000"
        ],
        [
         "1967",
         "Jay Flynn",
         "24",
         "2016-05-12T16:28:27.000+0000"
        ],
        [
         "501",
         "Adam Acosta",
         "20",
         "2015-10-21T21:26:45.000+0000"
        ],
        [
         "3703",
         "Alison Cole",
         "21",
         "2015-11-05T13:39:57.000+0000"
        ],
        [
         "533",
         "David Griffith",
         "20",
         "2016-01-07T19:49:22.000+0000"
        ],
        [
         "1094",
         "Ann Elliott",
         "20",
         "2016-07-02T02:32:30.000+0000"
        ],
        [
         "7180",
         "Shannon Melton",
         "26",
         "2017-06-07T23:07:30.000+0000"
        ],
        [
         "8089",
         "Melissa Griffin",
         "47",
         "2017-04-24T05:30:31.000+0000"
        ],
        [
         "10570",
         "David Evans",
         "21",
         "2016-03-28T10:54:55.000+0000"
        ],
        [
         "6503",
         "Frank Jackson",
         "33",
         "2016-05-22T06:19:03.000+0000"
        ],
        [
         "7648",
         "Louis Patterson",
         "23",
         "2016-05-13T10:51:36.000+0000"
        ],
        [
         "7090",
         "Andrea Allen",
         "22",
         "2015-11-13T10:22:18.000+0000"
        ],
        [
         "6264",
         "Antonio Aguilar",
         "42",
         "2015-11-16T00:07:37.000+0000"
        ],
        [
         "10625",
         "Christian Lang",
         "32",
         "2017-10-10T20:09:33.000+0000"
        ],
        [
         "1881",
         "Jeffrey Brooks",
         "47",
         "2017-02-08T21:03:46.000+0000"
        ],
        [
         "1778",
         "Alice Bennett",
         "28",
         "2016-05-03T03:50:42.000+0000"
        ],
        [
         "9054",
         "Andrea Alexander",
         "21",
         "2015-11-10T09:27:42.000+0000"
        ],
        [
         "616",
         "Brandon Holmes",
         "21",
         "2015-11-02T23:30:01.000+0000"
        ],
        [
         "4333",
         "Andre Bartlett",
         "20",
         "2015-10-30T20:41:47.000+0000"
        ],
        [
         "3260",
         "Ariel Brown",
         "26",
         "2015-11-24T23:04:52.000+0000"
        ],
        [
         "7500",
         "Angela Chavez",
         "43",
         "2016-03-17T20:37:41.000+0000"
        ],
        [
         "5758",
         "Amanda Arnold",
         "20",
         "2015-10-26T23:04:52.000+0000"
        ],
        [
         "5551",
         "Christina Haas",
         "25",
         "2016-02-14T18:52:16.000+0000"
        ],
        [
         "6602",
         "Alexandria Anderson",
         "23",
         "2015-10-31T19:20:09.000+0000"
        ],
        [
         "2172",
         "April Shaffer",
         "28",
         "2017-01-05T12:11:56.000+0000"
        ],
        [
         "7318",
         "James Dunn",
         "45",
         "2016-04-30T10:48:25.000+0000"
        ],
        [
         "4448",
         "Stanley Jones",
         "20",
         "2016-09-05T19:29:24.000+0000"
        ],
        [
         "6813",
         "Abigail Ali",
         "20",
         "2015-10-24T11:23:51.000+0000"
        ],
        [
         "3930",
         "Kylie Alvarez",
         "35",
         "2015-10-30T03:04:23.000+0000"
        ],
        [
         "1481",
         "Alison Harding",
         "35",
         "2017-10-05T17:45:20.000+0000"
        ],
        [
         "8578",
         "Joe Pham",
         "48",
         "2017-06-01T23:13:27.000+0000"
        ],
        [
         "1268",
         "Donna Campbell",
         "32",
         "2016-06-08T22:10:13.000+0000"
        ],
        [
         "8081",
         "Carmen Taylor",
         "40",
         "2016-08-02T19:06:12.000+0000"
        ],
        [
         "10020",
         "Christopher Hawkins",
         "45",
         "2016-09-15T06:02:53.000+0000"
        ],
        [
         "7974",
         "Aaron Anderson",
         "21",
         "2015-10-24T05:35:27.000+0000"
        ],
        [
         "2293",
         "Alex Bean",
         "24",
         "2016-01-11T23:08:27.000+0000"
        ],
        [
         "3011",
         "Justin Singleton",
         "20",
         "2017-03-10T19:53:44.000+0000"
        ],
        [
         "3562",
         "Alison Cole",
         "21",
         "2015-11-05T13:39:57.000+0000"
        ],
        [
         "2334",
         "Bailey Rogers",
         "31",
         "2015-10-22T22:51:57.000+0000"
        ],
        [
         "4641",
         "Anthony Dean",
         "21",
         "2016-04-15T19:54:05.000+0000"
        ],
        [
         "4066",
         "Adam Armstrong",
         "20",
         "2015-12-17T08:43:40.000+0000"
        ],
        [
         "5166",
         "Amy Caldwell",
         "33",
         "2015-11-12T14:10:39.000+0000"
        ],
        [
         "660",
         "Amy Atkins",
         "21",
         "2015-10-31T07:37:40.000+0000"
        ],
        [
         "8007",
         "Alexander Briggs",
         "31",
         "2016-06-30T04:37:04.000+0000"
        ],
        [
         "7922",
         "Denise Adams",
         "21",
         "2015-11-12T06:21:36.000+0000"
        ],
        [
         "1422",
         "Aaron Abbott",
         "20",
         "2015-10-31T18:51:07.000+0000"
        ],
        [
         "1450",
         "Aaron Abbott",
         "20",
         "2015-10-31T18:51:07.000+0000"
        ],
        [
         "1465",
         "Juan Cortez",
         "20",
         "2016-04-07T13:02:08.000+0000"
        ],
        [
         "741",
         "Adam Acosta",
         "20",
         "2015-10-21T21:26:45.000+0000"
        ],
        [
         "5126",
         "Bradley Long",
         "25",
         "2016-02-18T20:48:04.000+0000"
        ],
        [
         "1313",
         "Brittany Jones",
         "32",
         "2016-04-02T03:51:23.000+0000"
        ],
        [
         "3599",
         "Alexandria Alvarado",
         "20",
         "2015-10-23T04:13:23.000+0000"
        ],
        [
         "5333",
         "Aaron Clark",
         "35",
         "2016-11-19T22:36:49.000+0000"
        ],
        [
         "2975",
         "Debbie Crawford",
         "23",
         "2016-04-04T04:03:32.000+0000"
        ],
        [
         "3647",
         "Amanda Allen",
         "21",
         "2015-11-16T23:15:00.000+0000"
        ],
        [
         "8977",
         "Alicia Brown",
         "23",
         "2016-05-27T08:41:11.000+0000"
        ],
        [
         "10347",
         "Julia Jackson",
         "23",
         "2016-11-13T02:31:21.000+0000"
        ],
        [
         "10278",
         "Christopher Fox",
         "44",
         "2016-10-26T03:56:51.000+0000"
        ],
        [
         "10513",
         "Melody Thompson",
         "28",
         "2016-10-28T04:09:37.000+0000"
        ],
        [
         "187",
         "Laura Knight",
         "21",
         "2016-12-02T03:34:06.000+0000"
        ],
        [
         "6521",
         "Christian Cruz",
         "26",
         "2015-11-03T06:28:57.000+0000"
        ],
        [
         "2048",
         "Ann Chung",
         "22",
         "2015-11-18T23:11:15.000+0000"
        ],
        [
         "8745",
         "Grant Villanueva",
         "53",
         "2016-02-14T19:17:10.000+0000"
        ],
        [
         "6019",
         "Heather Russell",
         "44",
         "2017-09-17T22:18:59.000+0000"
        ],
        [
         "4245",
         "Alexandria Alvarado",
         "20",
         "2015-10-23T04:13:23.000+0000"
        ],
        [
         "8738",
         "Albert Adams",
         "21",
         "2015-11-05T22:07:56.000+0000"
        ],
        [
         "7905",
         "Anthony Duncan",
         "47",
         "2016-01-01T03:57:19.000+0000"
        ],
        [
         "1643",
         "Claire Leonard",
         "45",
         "2016-03-18T23:34:56.000+0000"
        ],
        [
         "4475",
         "Anna Taylor",
         "34",
         "2017-04-25T14:21:09.000+0000"
        ],
        [
         "1749",
         "Andrew Buck",
         "23",
         "2016-01-06T23:14:16.000+0000"
        ],
        [
         "2411",
         "Aaron Bartlett",
         "21",
         "2015-11-24T02:15:36.000+0000"
        ],
        [
         "222",
         "Herbert Sawyer",
         "45",
         "2016-07-27T15:08:03.000+0000"
        ],
        [
         "7964",
         "Aaron Abbott",
         "20",
         "2015-10-23T16:08:41.000+0000"
        ],
        [
         "4113",
         "Heidi Perez",
         "39",
         "2015-12-21T02:15:53.000+0000"
        ],
        [
         "6181",
         "Albert Allison",
         "20",
         "2015-10-21T22:27:27.000+0000"
        ],
        [
         "896",
         "Amanda Guzman",
         "26",
         "2016-01-19T18:41:59.000+0000"
        ],
        [
         "6063",
         "Corey Andrews",
         "23",
         "2015-11-25T13:36:22.000+0000"
        ],
        [
         "9718",
         "Brian Barnes",
         "23",
         "2017-01-17T06:38:28.000+0000"
        ],
        [
         "4936",
         "Andrew Miller",
         "28",
         "2016-03-12T02:52:38.000+0000"
        ],
        [
         "4651",
         "Charles York",
         "20",
         "2016-12-20T21:37:01.000+0000"
        ],
        [
         "4361",
         "David Hardin",
         "23",
         "2016-12-05T19:08:39.000+0000"
        ],
        [
         "2863",
         "Dylan Holmes",
         "32",
         "2016-10-23T14:06:51.000+0000"
        ],
        [
         "1555",
         "Alexis Bennett",
         "54",
         "2016-05-15T04:22:01.000+0000"
        ],
        [
         "10337",
         "Carrie Parker",
         "46",
         "2016-09-11T22:32:50.000+0000"
        ],
        [
         "7861",
         "Alexandria Gross",
         "22",
         "2016-06-07T14:30:06.000+0000"
        ],
        [
         "1324",
         "Patrick Davidson",
         "41",
         "2016-12-24T11:07:22.000+0000"
        ],
        [
         "746",
         "Diana Barry",
         "26",
         "2015-11-12T15:36:01.000+0000"
        ],
        [
         "10566",
         "Joshua Carter",
         "23",
         "2016-04-23T05:36:37.000+0000"
        ],
        [
         "6770",
         "David Buckley",
         "30",
         "2016-05-29T17:08:36.000+0000"
        ],
        [
         "3351",
         "Eric Taylor",
         "39",
         "2017-04-04T06:05:03.000+0000"
        ],
        [
         "2893",
         "Nancy Choi",
         "50",
         "2016-07-27T16:22:59.000+0000"
        ],
        [
         "8449",
         "Aaron Abbott",
         "20",
         "2015-10-23T16:08:41.000+0000"
        ],
        [
         "1707",
         "Albert Jackson",
         "23",
         "2016-04-13T18:06:15.000+0000"
        ],
        [
         "6878",
         "Angela Allen",
         "20",
         "2015-10-26T04:12:32.000+0000"
        ],
        [
         "7596",
         "Aaron Anderson",
         "21",
         "2015-10-24T05:35:27.000+0000"
        ],
        [
         "10099",
         "Amanda Carlson",
         "21",
         "2015-11-23T09:01:37.000+0000"
        ],
        [
         "6660",
         "Maria Davidson",
         "28",
         "2016-04-22T05:55:48.000+0000"
        ],
        [
         "8488",
         "Andrew Anderson",
         "23",
         "2015-11-28T11:52:37.000+0000"
        ],
        [
         "1170",
         "Stacey Stewart",
         "24",
         "2017-03-24T10:12:14.000+0000"
        ],
        [
         "5209",
         "Bradley Griffin",
         "24",
         "2016-04-05T09:58:20.000+0000"
        ],
        [
         "1014",
         "Gregory Ramsey",
         "56",
         "2016-10-15T17:21:39.000+0000"
        ],
        [
         "1545",
         "Jonathan Avila",
         "46",
         "2015-11-27T23:11:21.000+0000"
        ],
        [
         "10552",
         "Michael Hunter",
         "40",
         "2017-05-16T07:09:21.000+0000"
        ],
        [
         "9475",
         "Jessica Mejia",
         "40",
         "2016-01-03T12:03:05.000+0000"
        ],
        [
         "3008",
         "Scott Houston",
         "58",
         "2016-10-22T16:08:50.000+0000"
        ],
        [
         "5620",
         "Daniel Anderson",
         "20",
         "2017-02-10T13:39:15.000+0000"
        ],
        [
         "1411",
         "Adrian Baker",
         "24",
         "2015-12-04T05:17:24.000+0000"
        ],
        [
         "6680",
         "Sarah Buckley",
         "51",
         "2017-06-08T14:07:12.000+0000"
        ],
        [
         "8385",
         "Austin Miller",
         "31",
         "2015-11-25T21:28:12.000+0000"
        ],
        [
         "2343",
         "James Graves",
         "43",
         "2016-01-21T09:41:10.000+0000"
        ],
        [
         "4857",
         "Barbara Clark",
         "21",
         "2015-11-17T01:16:08.000+0000"
        ],
        [
         "10245",
         "Julie Cook",
         "34",
         "2016-05-08T16:27:01.000+0000"
        ],
        [
         "744",
         "Brian Lloyd",
         "38",
         "2016-12-15T07:06:03.000+0000"
        ],
        [
         "6380",
         "Matthew Newman",
         "41",
         "2016-04-03T05:17:47.000+0000"
        ],
        [
         "857",
         "Andrew Burke",
         "20",
         "2015-11-14T17:38:31.000+0000"
        ],
        [
         "155",
         "Alexandra Allen",
         "20",
         "2015-10-23T13:07:00.000+0000"
        ],
        [
         "7902",
         "Andrew Alexander",
         "20",
         "2015-11-20T09:08:00.000+0000"
        ],
        [
         "2925",
         "Jennifer Lester",
         "25",
         "2016-01-08T10:31:10.000+0000"
        ],
        [
         "7283",
         "Abigail Ali",
         "20",
         "2015-10-24T11:23:51.000+0000"
        ],
        [
         "772",
         "Glenn Hammond",
         "25",
         "2016-04-27T02:59:27.000+0000"
        ],
        [
         "9550",
         "John Foster",
         "32",
         "2016-06-10T15:27:19.000+0000"
        ],
        [
         "3156",
         "Andrew Baker",
         "22",
         "2015-12-21T08:06:54.000+0000"
        ],
        [
         "4765",
         "Danielle Gonzalez",
         "36",
         "2017-02-16T16:01:34.000+0000"
        ],
        [
         "8843",
         "Alexander Bailey",
         "20",
         "2015-10-30T11:37:32.000+0000"
        ],
        [
         "8637",
         "Michael Grant",
         "28",
         "2016-09-08T04:09:44.000+0000"
        ],
        [
         "1626",
         "Jennifer Melton",
         "39",
         "2016-03-02T15:41:23.000+0000"
        ],
        [
         "8505",
         "Sandra Humphrey",
         "41",
         "2017-04-16T22:40:56.000+0000"
        ],
        [
         "8653",
         "Tammy Davis",
         "24",
         "2016-03-09T10:48:14.000+0000"
        ],
        [
         "9778",
         "Holly Campbell",
         "30",
         "2016-07-08T19:10:37.000+0000"
        ],
        [
         "3393",
         "Courtney Berg",
         "20",
         "2015-11-30T10:24:37.000+0000"
        ],
        [
         "1832",
         "Angela Carlson",
         "33",
         "2016-01-01T21:17:41.000+0000"
        ],
        [
         "8323",
         "Abigail Ali",
         "20",
         "2015-10-24T11:23:51.000+0000"
        ],
        [
         "4045",
         "Amanda Allen",
         "21",
         "2015-11-16T23:15:00.000+0000"
        ],
        [
         "6575",
         "Devon Waller",
         "38",
         "2016-03-11T13:19:05.000+0000"
        ],
        [
         "9307",
         "Adam Acosta",
         "20",
         "2015-10-21T21:26:45.000+0000"
        ],
        [
         "4761",
         "Christopher Norman",
         "40",
         "2017-03-07T21:33:30.000+0000"
        ],
        [
         "2452",
         "Ashley Cortez",
         "21",
         "2017-03-07T07:21:57.000+0000"
        ],
        [
         "7600",
         "Nancy Franco",
         "33",
         "2016-06-06T19:14:47.000+0000"
        ],
        [
         "287",
         "Amanda Alvarez",
         "21",
         "2015-10-30T01:31:09.000+0000"
        ],
        [
         "3630",
         "Michael Mckay",
         "44",
         "2015-10-24T12:52:57.000+0000"
        ],
        [
         "9527",
         "Vernon Brown",
         "55",
         "2017-08-04T01:04:25.000+0000"
        ],
        [
         "2779",
         "Allison Acosta",
         "20",
         "2015-10-24T01:15:02.000+0000"
        ],
        [
         "1301",
         "Lisa Washington",
         "46",
         "2016-08-18T08:22:56.000+0000"
        ],
        [
         "428",
         "Claudia Adams",
         "20",
         "2015-11-28T02:20:29.000+0000"
        ],
        [
         "6170",
         "Eric Gonzalez",
         "36",
         "2016-07-31T17:22:08.000+0000"
        ],
        [
         "7891",
         "Amanda Brown",
         "20",
         "2015-11-12T03:23:49.000+0000"
        ],
        [
         "7093",
         "Jonathan Martinez",
         "31",
         "2016-02-28T10:31:48.000+0000"
        ],
        [
         "7206",
         "Christina Anderson",
         "27",
         "2016-03-03T11:25:21.000+0000"
        ],
        [
         "7031",
         "Christopher Anderson",
         "48",
         "2016-06-13T17:09:14.000+0000"
        ],
        [
         "7294",
         "Dawn Anderson",
         "20",
         "2016-12-31T00:06:36.000+0000"
        ],
        [
         "6261",
         "Nicholas Hart",
         "38",
         "2015-10-26T09:45:45.000+0000"
        ],
        [
         "1631",
         "Lauren Powell",
         "30",
         "2016-05-22T08:40:37.000+0000"
        ],
        [
         "1179",
         "Cynthia Clark",
         "20",
         "2016-01-30T15:21:25.000+0000"
        ],
        [
         "4122",
         "Michael Chan",
         "38",
         "2017-03-23T16:11:45.000+0000"
        ],
        [
         "3824",
         "Aaron Berry",
         "28",
         "2016-04-12T03:40:13.000+0000"
        ],
        [
         "1598",
         "Adrian Baker",
         "24",
         "2015-12-04T05:17:24.000+0000"
        ],
        [
         "8519",
         "Alicia Burnett",
         "23",
         "2016-07-18T00:04:07.000+0000"
        ],
        [
         "8300",
         "Nathan Stanton",
         "51",
         "2017-08-14T08:26:30.000+0000"
        ],
        [
         "10120",
         "Jacob Baird",
         "24",
         "2016-02-25T08:52:45.000+0000"
        ],
        [
         "7240",
         "Abigail Ali",
         "20",
         "2015-10-24T11:23:51.000+0000"
        ],
        [
         "8090",
         "Aaron Abbott",
         "20",
         "2015-10-23T16:08:41.000+0000"
        ],
        [
         "5044",
         "Amanda Bowers",
         "22",
         "2016-01-18T20:23:23.000+0000"
        ],
        [
         "1473",
         "Kathleen Lawson",
         "41",
         "2017-02-11T19:17:19.000+0000"
        ],
        [
         "4353",
         "Brett Oliver",
         "24",
         "2015-12-26T21:27:59.000+0000"
        ],
        [
         "3184",
         "Allison Dawson",
         "35",
         "2016-02-04T14:45:39.000+0000"
        ],
        [
         "7370",
         "James Keith",
         "42",
         "2017-07-02T17:25:18.000+0000"
        ],
        [
         "10073",
         "Jeffrey Hunter",
         "32",
         "2016-09-07T04:52:20.000+0000"
        ],
        [
         "10156",
         "Shawn Gray",
         "34",
         "2017-02-05T07:25:42.000+0000"
        ],
        [
         "6849",
         "Jeffrey Jones",
         "54",
         "2016-08-12T04:15:37.000+0000"
        ],
        [
         "7745",
         "Aaron Abbott",
         "20",
         "2015-10-23T16:08:41.000+0000"
        ],
        [
         "3803",
         "Alison Cole",
         "21",
         "2015-11-05T13:39:57.000+0000"
        ],
        [
         "3185",
         "Alexandra Fuentes",
         "29",
         "2016-01-03T02:33:53.000+0000"
        ],
        [
         "570",
         "Alexandra Allen",
         "20",
         "2015-10-23T13:07:00.000+0000"
        ],
        [
         "9035",
         "Aaron Alexander",
         "21",
         "2015-10-25T07:36:08.000+0000"
        ],
        [
         "8100",
         "Aaron Abbott",
         "20",
         "2015-10-23T16:08:41.000+0000"
        ],
        [
         "2308",
         "Aaron Greene",
         "25",
         "2016-01-14T00:10:04.000+0000"
        ],
        [
         "8304",
         "Charles Berry",
         "25",
         "2015-12-28T04:21:39.000+0000"
        ],
        [
         "771",
         "Brittany Butler",
         "32",
         "2016-03-10T04:11:31.000+0000"
        ],
        [
         "7268",
         "Alejandra Acevedo",
         "20",
         "2015-11-24T21:01:23.000+0000"
        ],
        [
         "974",
         "David Jones",
         "40",
         "2016-06-30T00:50:31.000+0000"
        ],
        [
         "2959",
         "David Griffith",
         "20",
         "2016-01-07T19:49:22.000+0000"
        ],
        [
         "1599",
         "Linda Rojas",
         "42",
         "2017-01-31T05:08:14.000+0000"
        ],
        [
         "10248",
         "Elizabeth English",
         "25",
         "2016-08-19T02:29:26.000+0000"
        ],
        [
         "4781",
         "Cynthia Guerra",
         "29",
         "2016-12-25T23:51:01.000+0000"
        ],
        [
         "9332",
         "Gregory Carpenter",
         "23",
         "2016-07-14T11:45:49.000+0000"
        ],
        [
         "10526",
         "Grace Luna",
         "27",
         "2016-09-02T02:25:43.000+0000"
        ],
        [
         "2787",
         "Christopher Brown",
         "21",
         "2016-05-23T23:48:56.000+0000"
        ],
        [
         "7640",
         "Aaron Anderson",
         "21",
         "2015-10-24T05:35:27.000+0000"
        ],
        [
         "8606",
         "Denise Adams",
         "21",
         "2015-11-12T06:21:36.000+0000"
        ],
        [
         "8123",
         "Courtney Chung",
         "46",
         "2016-05-11T23:09:30.000+0000"
        ],
        [
         "10677",
         "Catherine Mitchell",
         "26",
         "2016-06-16T14:07:36.000+0000"
        ],
        [
         "9234",
         "Christina Aguilar",
         "23",
         "2015-12-09T20:29:10.000+0000"
        ],
        [
         "3052",
         "Allison Dawson",
         "35",
         "2016-02-04T14:45:39.000+0000"
        ],
        [
         "27",
         "Adam Acosta",
         "20",
         "2015-10-21T21:26:45.000+0000"
        ],
        [
         "7209",
         "April Anderson",
         "30",
         "2016-06-27T08:35:51.000+0000"
        ],
        [
         "603",
         "Brandon Jackson",
         "44",
         "2016-10-29T02:07:21.000+0000"
        ],
        [
         "204",
         "Meghan Larson",
         "56",
         "2017-04-17T06:27:04.000+0000"
        ],
        [
         "640",
         "Aaron Anderson",
         "21",
         "2015-10-24T05:35:27.000+0000"
        ],
        [
         "4556",
         "Timothy Meyer",
         "40",
         "2016-06-23T22:33:38.000+0000"
        ],
        [
         "2904",
         "Brad Abbott",
         "35",
         "2016-03-07T17:23:18.000+0000"
        ],
        [
         "2715",
         "Adrienne Acosta",
         "21",
         "2015-11-17T14:56:48.000+0000"
        ],
        [
         "9173",
         "Gary Collins",
         "25",
         "2016-07-07T18:59:52.000+0000"
        ],
        [
         "7510",
         "Debra Becker",
         "20",
         "2016-07-27T06:20:48.000+0000"
        ],
        [
         "7116",
         "Michael Mcconnell",
         "59",
         "2017-06-01T10:55:10.000+0000"
        ],
        [
         "8251",
         "Timothy Orozco",
         "20",
         "2016-03-21T17:34:44.000+0000"
        ],
        [
         "678",
         "John Trujillo",
         "22",
         "2017-07-20T11:18:24.000+0000"
        ],
        [
         "10097",
         "Alexandra Austin",
         "22",
         "2015-11-06T05:05:43.000+0000"
        ],
        [
         "4757",
         "Carrie Chambers",
         "24",
         "2015-12-15T10:04:18.000+0000"
        ],
        [
         "5395",
         "Leah Franco",
         "36",
         "2017-04-01T04:04:00.000+0000"
        ],
        [
         "8277",
         "Jermaine Hensley",
         "32",
         "2016-10-01T05:49:39.000+0000"
        ],
        [
         "101",
         "Adam Acosta",
         "20",
         "2015-10-21T21:26:45.000+0000"
        ],
        [
         "5317",
         "Ashley Carter",
         "21",
         "2015-11-29T21:11:06.000+0000"
        ],
        [
         "2422",
         "Maria Franklin",
         "44",
         "2016-10-25T14:57:24.000+0000"
        ],
        [
         "8612",
         "Angela Berg",
         "20",
         "2015-11-10T05:57:33.000+0000"
        ],
        [
         "2418",
         "Amanda Adams",
         "20",
         "2015-10-21T08:27:36.000+0000"
        ],
        [
         "6341",
         "Barbara Duran",
         "22",
         "2016-11-07T11:01:26.000+0000"
        ],
        [
         "8645",
         "Alexander Clark",
         "21",
         "2016-02-16T17:03:44.000+0000"
        ],
        [
         "6496",
         "Cindy Bennett",
         "26",
         "2016-01-03T06:10:45.000+0000"
        ],
        [
         "9355",
         "Elizabeth Johnson",
         "33",
         "2016-12-09T23:34:15.000+0000"
        ],
        [
         "3259",
         "Allison Acosta",
         "20",
         "2015-10-24T01:15:02.000+0000"
        ],
        [
         "4482",
         "Amber Blevins",
         "20",
         "2015-12-13T16:33:13.000+0000"
        ],
        [
         "4996",
         "John Anderson",
         "27",
         "2016-03-03T07:28:39.000+0000"
        ],
        [
         "8004",
         "Frank Combs",
         "23",
         "2015-11-30T05:25:22.000+0000"
        ],
        [
         "4675",
         "Kaitlyn Rodriguez",
         "48",
         "2016-01-02T21:18:48.000+0000"
        ],
        [
         "2641",
         "Amber Casey",
         "23",
         "2016-01-06T12:22:08.000+0000"
        ],
        [
         "1667",
         "Bernard Arnold",
         "21",
         "2015-12-12T01:39:29.000+0000"
        ],
        [
         "2759",
         "Anthony Chen",
         "24",
         "2016-06-15T12:49:30.000+0000"
        ],
        [
         "4398",
         "Stacey Scott",
         "47",
         "2017-06-29T18:04:56.000+0000"
        ],
        [
         "4670",
         "Heather Barnes",
         "43",
         "2016-06-20T18:35:26.000+0000"
        ],
        [
         "10271",
         "Mark Duran",
         "28",
         "2016-03-23T00:25:16.000+0000"
        ],
        [
         "8926",
         "Tyler Davis",
         "27",
         "2016-06-14T18:48:59.000+0000"
        ],
        [
         "10883",
         "Carl Hampton",
         "25",
         "2015-11-26T03:43:03.000+0000"
        ],
        [
         "7262",
         "Jacob Alvarez",
         "27",
         "2016-01-29T09:37:46.000+0000"
        ],
        [
         "6749",
         "Amanda Adams",
         "20",
         "2015-10-21T08:27:36.000+0000"
        ],
        [
         "8224",
         "Eric Buck",
         "45",
         "2015-10-28T17:36:12.000+0000"
        ],
        [
         "9074",
         "Aaron Alexander",
         "21",
         "2015-10-25T07:36:08.000+0000"
        ],
        [
         "3884",
         "Alex Jimenez",
         "24",
         "2015-10-29T18:48:47.000+0000"
        ],
        [
         "301",
         "Amanda Alvarez",
         "21",
         "2015-10-30T01:31:09.000+0000"
        ],
        [
         "859",
         "Scott Page",
         "44",
         "2015-10-31T14:35:30.000+0000"
        ],
        [
         "9120",
         "Dawn Mcdowell",
         "45",
         "2017-04-19T00:02:19.000+0000"
        ],
        [
         "4590",
         "Daniel Davis",
         "29",
         "2016-12-15T04:11:20.000+0000"
        ],
        [
         "3979",
         "David Manning",
         "50",
         "2016-06-29T03:16:01.000+0000"
        ],
        [
         "450",
         "Amanda Benitez",
         "21",
         "2015-11-01T09:16:18.000+0000"
        ],
        [
         "1961",
         "Adrienne Barrett",
         "22",
         "2015-11-04T15:48:14.000+0000"
        ],
        [
         "9452",
         "Aaron Alexander",
         "21",
         "2015-10-25T07:36:08.000+0000"
        ],
        [
         "5231",
         "Joseph Barnett",
         "21",
         "2015-11-21T10:00:55.000+0000"
        ],
        [
         "46",
         "Erik Kelley",
         "30",
         "2016-01-06T09:58:56.000+0000"
        ],
        [
         "10917",
         "Valerie Rodriguez",
         "31",
         "2016-07-30T01:45:47.000+0000"
        ],
        [
         "3632",
         "Danielle Chambers",
         "21",
         "2015-12-08T00:29:58.000+0000"
        ],
        [
         "734",
         "Amanda Alvarez",
         "21",
         "2015-10-30T01:31:09.000+0000"
        ],
        [
         "4396",
         "Justin Morris",
         "45",
         "2016-05-27T10:56:28.000+0000"
        ],
        [
         "2795",
         "Carrie Holder",
         "21",
         "2015-10-27T11:16:56.000+0000"
        ],
        [
         "2952",
         "Billy Armstrong",
         "22",
         "2015-12-18T20:54:14.000+0000"
        ],
        [
         "7078",
         "Haley Jordan",
         "25",
         "2016-05-31T08:49:03.000+0000"
        ],
        [
         "7539",
         "Alvin Adams",
         "20",
         "2016-01-01T13:50:40.000+0000"
        ],
        [
         "7770",
         "Jeffrey Hudson",
         "58",
         "2017-08-17T18:45:27.000+0000"
        ],
        [
         "4505",
         "Diane Phillips",
         "59",
         "2016-03-01T14:23:30.000+0000"
        ],
        [
         "1349",
         "Andrew Allen",
         "53",
         "2017-01-23T23:59:16.000+0000"
        ],
        [
         "2523",
         "Bryce Bailey",
         "37",
         "2015-11-28T01:46:17.000+0000"
        ],
        [
         "5405",
         "Adam Alexander",
         "20",
         "2015-10-22T11:31:37.000+0000"
        ],
        [
         "9791",
         "Michelle Scott",
         "38",
         "2017-04-10T11:52:09.000+0000"
        ],
        [
         "2216",
         "Morgan Turner",
         "30",
         "2016-01-31T11:52:34.000+0000"
        ],
        [
         "9218",
         "April Barr",
         "26",
         "2016-02-06T19:00:11.000+0000"
        ],
        [
         "7276",
         "Meghan Gomez",
         "52",
         "2017-05-08T12:25:11.000+0000"
        ],
        [
         "7666",
         "Aaron Abbott",
         "20",
         "2015-10-23T16:08:41.000+0000"
        ],
        [
         "3983",
         "Ashley Allen",
         "20",
         "2016-01-12T03:41:16.000+0000"
        ],
        [
         "10673",
         "Alexander Cervantes",
         "59",
         "2017-05-12T21:22:17.000+0000"
        ],
        [
         "1341",
         "Abigail Ali",
         "20",
         "2015-10-24T11:23:51.000+0000"
        ],
        [
         "6652",
         "Heather Arellano",
         "23",
         "2016-01-02T03:36:30.000+0000"
        ],
        [
         "320",
         "Alexandra Anderson",
         "47",
         "2016-07-06T00:08:29.000+0000"
        ],
        [
         "7183",
         "Amanda Maldonado",
         "38",
         "2016-11-17T23:45:04.000+0000"
        ],
        [
         "7785",
         "Eric Buck",
         "45",
         "2015-10-28T17:36:12.000+0000"
        ],
        [
         "2565",
         "Anthony Adkins",
         "21",
         "2015-10-28T03:59:42.000+0000"
        ],
        [
         "7511",
         "Sarah Valenzuela",
         "54",
         "2016-12-08T15:53:57.000+0000"
        ],
        [
         "4107",
         "Barbara English",
         "23",
         "2016-03-01T23:23:24.000+0000"
        ],
        [
         "1745",
         "Anthony Adkins",
         "21",
         "2015-10-28T03:59:42.000+0000"
        ],
        [
         "8978",
         "Mark Jones",
         "34",
         "2017-08-22T00:01:29.000+0000"
        ],
        [
         "6916",
         "Steven Dixon",
         "44",
         "2016-10-17T08:09:28.000+0000"
        ],
        [
         "4064",
         "Andrew Garcia",
         "44",
         "2015-10-27T20:31:15.000+0000"
        ],
        [
         "7271",
         "Ashley Castro",
         "38",
         "2017-06-25T02:03:31.000+0000"
        ],
        [
         "9099",
         "Gregory Carpenter",
         "23",
         "2016-07-14T11:45:49.000+0000"
        ],
        [
         "8561",
         "Angela Berg",
         "20",
         "2015-11-10T05:57:33.000+0000"
        ],
        [
         "10022",
         "Alyssa Greene",
         "50",
         "2017-05-03T07:29:04.000+0000"
        ],
        [
         "4530",
         "Jamie Davis",
         "33",
         "2016-03-23T06:58:08.000+0000"
        ],
        [
         "3638",
         "Rebecca Conner",
         "33",
         "2015-12-29T22:26:53.000+0000"
        ],
        [
         "8836",
         "Dalton Daniels",
         "21",
         "2015-11-11T10:19:51.000+0000"
        ],
        [
         "7832",
         "Samuel Hawkins",
         "39",
         "2016-06-30T02:56:06.000+0000"
        ],
        [
         "1487",
         "Jonathan Rodriguez",
         "30",
         "2016-09-05T12:31:44.000+0000"
        ],
        [
         "8592",
         "Alicia Benjamin",
         "27",
         "2015-12-10T18:40:42.000+0000"
        ],
        [
         "5084",
         "Marissa Spence",
         "53",
         "2016-06-30T20:53:16.000+0000"
        ],
        [
         "8700",
         "Alexander Bailey",
         "20",
         "2015-10-30T11:37:32.000+0000"
        ],
        [
         "6145",
         "Emily Hawkins",
         "30",
         "2015-12-25T20:24:37.000+0000"
        ],
        [
         "232",
         "Sarah Buchanan",
         "33",
         "2017-04-19T08:49:40.000+0000"
        ],
        [
         "813",
         "Christopher Gonzalez",
         "30",
         "2016-03-02T23:44:12.000+0000"
        ],
        [
         "10026",
         "Ann Holmes",
         "34",
         "2016-04-14T21:47:18.000+0000"
        ],
        [
         "3813",
         "James Green",
         "47",
         "2016-04-27T16:02:10.000+0000"
        ],
        [
         "5254",
         "William Combs",
         "50",
         "2015-12-06T10:58:54.000+0000"
        ],
        [
         "3349",
         "Alice Bennett",
         "28",
         "2016-05-03T03:50:42.000+0000"
        ],
        [
         "7958",
         "Tommy Murray",
         "37",
         "2015-10-22T18:00:07.000+0000"
        ],
        [
         "10509",
         "Brittany Thompson",
         "49",
         "2016-04-22T20:36:02.000+0000"
        ],
        [
         "10862",
         "Jamie Harrison",
         "37",
         "2017-07-19T01:17:18.000+0000"
        ],
        [
         "5230",
         "Abigail Ali",
         "20",
         "2015-10-24T11:23:51.000+0000"
        ],
        [
         "4417",
         "Maria Long",
         "27",
         "2017-09-28T00:27:20.000+0000"
        ],
        [
         "5759",
         "Brian Davis",
         "38",
         "2015-12-09T10:50:57.000+0000"
        ],
        [
         "7057",
         "Jay Hampton",
         "21",
         "2016-05-10T01:52:46.000+0000"
        ],
        [
         "4983",
         "John Mueller",
         "33",
         "2017-04-28T12:34:25.000+0000"
        ],
        [
         "10370",
         "Derrick Kim",
         "30",
         "2016-12-21T13:39:14.000+0000"
        ],
        [
         "8448",
         "Joseph Church",
         "31",
         "2017-04-29T03:22:38.000+0000"
        ],
        [
         "3345",
         "Benjamin Turner",
         "36",
         "2016-08-30T14:33:44.000+0000"
        ],
        [
         "6333",
         "Julia Bennett",
         "30",
         "2016-04-21T15:45:11.000+0000"
        ],
        [
         "7234",
         "Angela Allen",
         "20",
         "2015-10-26T04:12:32.000+0000"
        ],
        [
         "9903",
         "Amanda Baker",
         "20",
         "2016-01-31T04:46:39.000+0000"
        ],
        [
         "8162",
         "Benjamin Adams",
         "24",
         "2015-10-25T03:23:53.000+0000"
        ],
        [
         "3266",
         "Robert Golden",
         "50",
         "2017-03-19T15:29:02.000+0000"
        ],
        [
         "6324",
         "Crystal Santiago",
         "41",
         "2016-09-23T04:00:32.000+0000"
        ],
        [
         "3750",
         "Gary Barker",
         "28",
         "2015-11-26T11:23:50.000+0000"
        ],
        [
         "680",
         "Diana Ballard",
         "23",
         "2017-01-12T11:17:31.000+0000"
        ],
        [
         "3504",
         "Kyle Floyd",
         "20",
         "2016-07-29T04:25:14.000+0000"
        ],
        [
         "2060",
         "Joshua Long",
         "27",
         "2016-12-18T10:11:23.000+0000"
        ],
        [
         "2810",
         "Brandi Cervantes",
         "35",
         "2016-05-31T01:40:44.000+0000"
        ],
        [
         "3882",
         "Darryl Alexander",
         "25",
         "2015-12-02T11:20:58.000+0000"
        ],
        [
         "7733",
         "Aaron Abbott",
         "20",
         "2015-10-23T16:08:41.000+0000"
        ],
        [
         "7448",
         "Brenda Gonzalez",
         "56",
         "2015-12-07T11:53:35.000+0000"
        ],
        [
         "9363",
         "James Warren",
         "57",
         "2017-09-29T23:40:45.000+0000"
        ],
        [
         "7537",
         "Jessica Sullivan",
         "25",
         "2016-01-19T18:17:05.000+0000"
        ],
        [
         "1322",
         "Alfred Murray",
         "36",
         "2016-03-15T11:19:05.000+0000"
        ],
        [
         "1188",
         "Cesar Miller",
         "38",
         "2015-11-19T03:01:18.000+0000"
        ],
        [
         "4381",
         "Jennifer Kelly",
         "21",
         "2016-02-14T12:45:08.000+0000"
        ],
        [
         "4508",
         "Michael Carter",
         "58",
         "2016-06-03T23:35:30.000+0000"
        ],
        [
         "2970",
         "Anthony Brown",
         "33",
         "2015-10-24T16:39:50.000+0000"
        ],
        [
         "4816",
         "Darin Lee",
         "25",
         "2016-08-09T23:13:29.000+0000"
        ],
        [
         "7752",
         "Andrew Brown",
         "25",
         "2016-03-26T04:30:23.000+0000"
        ],
        [
         "867",
         "Herbert Sawyer",
         "45",
         "2016-07-27T15:08:03.000+0000"
        ],
        [
         "856",
         "Aaron Bartlett",
         "21",
         "2015-11-24T02:15:36.000+0000"
        ],
        [
         "25",
         "Amber Gray",
         "24",
         "2017-07-01T07:56:15.000+0000"
        ],
        [
         "9904",
         "Alexandra Austin",
         "22",
         "2015-11-06T05:05:43.000+0000"
        ],
        [
         "2206",
         "Catherine Burke",
         "27",
         "2016-04-09T02:08:13.000+0000"
        ],
        [
         "4348",
         "Barbara Allen",
         "26",
         "2015-10-30T21:57:35.000+0000"
        ],
        [
         "6717",
         "Elizabeth Green",
         "20",
         "2016-06-21T10:08:09.000+0000"
        ],
        [
         "7484",
         "Jason Herrera",
         "40",
         "2016-10-21T21:15:50.000+0000"
        ],
        [
         "1026",
         "Scott Campbell",
         "20",
         "2016-04-01T02:34:49.000+0000"
        ],
        [
         "8813",
         "Aaron Abbott",
         "20",
         "2015-10-23T16:08:41.000+0000"
        ],
        [
         "9734",
         "Jennifer Kaiser",
         "30",
         "2015-11-24T03:29:52.000+0000"
        ],
        [
         "10154",
         "Lauren Hill",
         "52",
         "2016-01-08T17:05:07.000+0000"
        ],
        [
         "1175",
         "Jennifer Dunn",
         "47",
         "2015-10-21T09:05:46.000+0000"
        ],
        [
         "9643",
         "Daniel Reyes",
         "32",
         "2017-08-02T14:05:48.000+0000"
        ],
        [
         "9979",
         "Kaylee Miller",
         "31",
         "2016-11-09T19:50:51.000+0000"
        ],
        [
         "4256",
         "Alexandria Alvarado",
         "20",
         "2015-10-23T04:13:23.000+0000"
        ],
        [
         "5512",
         "Caitlyn Baker",
         "22",
         "2015-11-11T17:56:54.000+0000"
        ],
        [
         "5460",
         "Betty Cannon",
         "40",
         "2015-10-23T18:02:31.000+0000"
        ],
        [
         "8159",
         "Bradley Chapman",
         "20",
         "2016-02-11T23:38:24.000+0000"
        ],
        [
         "8366",
         "Justin Ewing",
         "56",
         "2016-02-04T23:27:36.000+0000"
        ],
        [
         "8282",
         "Andrew Alexander",
         "20",
         "2015-11-20T09:08:00.000+0000"
        ],
        [
         "1065",
         "Tammy Wise",
         "27",
         "2016-07-13T08:39:57.000+0000"
        ],
        [
         "8461",
         "Cody Barker",
         "48",
         "2015-12-20T02:56:01.000+0000"
        ],
        [
         "9482",
         "Heather Hall",
         "31",
         "2017-02-25T07:58:37.000+0000"
        ],
        [
         "7889",
         "Anthony Johnson",
         "23",
         "2016-07-09T05:03:39.000+0000"
        ],
        [
         "4565",
         "Julie Johnson",
         "23",
         "2016-02-10T22:37:52.000+0000"
        ],
        [
         "7487",
         "Adrian Marshall",
         "35",
         "2017-05-29T13:35:25.000+0000"
        ],
        [
         "9268",
         "Alexander Bailey",
         "20",
         "2015-10-30T11:37:32.000+0000"
        ],
        [
         "6558",
         "Gary Tanner",
         "43",
         "2016-11-29T22:22:47.000+0000"
        ],
        [
         "8341",
         "Amber Robinson",
         "31",
         "2016-09-05T14:41:44.000+0000"
        ],
        [
         "4",
         "Adam Acosta",
         "20",
         "2015-10-21T21:26:45.000+0000"
        ],
        [
         "10204",
         "Heather Gonzalez",
         "41",
         "2016-06-14T11:16:18.000+0000"
        ],
        [
         "2301",
         "Karina Morton",
         "31",
         "2016-01-21T12:53:34.000+0000"
        ],
        [
         "3945",
         "Beth Johnson",
         "30",
         "2015-11-29T15:45:13.000+0000"
        ],
        [
         "9808",
         "Daniel Brooks",
         "25",
         "2015-11-19T21:24:33.000+0000"
        ],
        [
         "4775",
         "Kyle Perry",
         "29",
         "2016-08-09T19:40:48.000+0000"
        ],
        [
         "5468",
         "Lisa Gamble",
         "20",
         "2016-07-23T20:51:06.000+0000"
        ],
        [
         "3729",
         "Richard Edwards",
         "52",
         "2016-02-07T20:00:25.000+0000"
        ],
        [
         "2858",
         "Anne Bond",
         "21",
         "2015-12-27T23:43:42.000+0000"
        ],
        [
         "5527",
         "Brian Herman",
         "32",
         "2016-02-19T01:20:00.000+0000"
        ],
        [
         "10912",
         "Valerie Bryant",
         "42",
         "2016-08-01T22:44:34.000+0000"
        ],
        [
         "5763",
         "Anita Acosta",
         "25",
         "2015-11-01T01:31:22.000+0000"
        ],
        [
         "7437",
         "Alvin Adams",
         "20",
         "2016-01-01T13:50:40.000+0000"
        ],
        [
         "5159",
         "Brian Davis",
         "38",
         "2015-12-09T10:50:57.000+0000"
        ],
        [
         "7285",
         "Alejandra Acevedo",
         "20",
         "2015-11-24T21:01:23.000+0000"
        ],
        [
         "7718",
         "Katherine Howell",
         "56",
         "2017-07-22T19:52:39.000+0000"
        ],
        [
         "9223",
         "Andrea Alexander",
         "21",
         "2015-11-10T09:27:42.000+0000"
        ],
        [
         "8407",
         "David Brooks",
         "33",
         "2015-11-14T10:12:03.000+0000"
        ],
        [
         "7073",
         "Manuel Ashley",
         "55",
         "2017-07-13T23:48:07.000+0000"
        ],
        [
         "6309",
         "Angela Everett",
         "23",
         "2016-02-23T11:59:45.000+0000"
        ],
        [
         "3177",
         "Becky Brady",
         "21",
         "2015-11-05T20:19:03.000+0000"
        ],
        [
         "456",
         "Amber Cervantes",
         "25",
         "2016-05-09T16:38:08.000+0000"
        ],
        [
         "1024",
         "Jason Martin",
         "53",
         "2016-06-07T07:09:02.000+0000"
        ],
        [
         "5911",
         "Anna Adams",
         "21",
         "2015-11-27T08:22:20.000+0000"
        ],
        [
         "5523",
         "Joel Obrien",
         "29",
         "2016-09-12T12:33:33.000+0000"
        ],
        [
         "5003",
         "Aaron Anderson",
         "21",
         "2015-10-23T03:43:54.000+0000"
        ],
        [
         "3800",
         "Adam Armstrong",
         "20",
         "2015-12-17T08:43:40.000+0000"
        ],
        [
         "2095",
         "Cheryl Dean",
         "57",
         "2017-08-01T04:00:30.000+0000"
        ],
        [
         "3896",
         "Alexandria Alvarado",
         "20",
         "2015-10-23T04:13:23.000+0000"
        ],
        [
         "1676",
         "Kyle Mccarthy",
         "41",
         "2016-04-10T12:18:20.000+0000"
        ],
        [
         "9546",
         "Alex Barnes",
         "20",
         "2016-02-27T21:13:44.000+0000"
        ],
        [
         "5561",
         "Amanda Anderson",
         "24",
         "2015-11-11T20:38:26.000+0000"
        ],
        [
         "4849",
         "Erica Murphy",
         "35",
         "2015-11-03T05:49:39.000+0000"
        ],
        [
         "3716",
         "Catherine Ferrell",
         "21",
         "2017-01-02T03:01:09.000+0000"
        ],
        [
         "9896",
         "Brenda Baker",
         "22",
         "2015-11-24T12:08:06.000+0000"
        ],
        [
         "8887",
         "Austin Rodriguez",
         "24",
         "2016-03-31T20:56:39.000+0000"
        ],
        [
         "205",
         "Brett Bryant",
         "20",
         "2015-10-23T12:40:19.000+0000"
        ],
        [
         "8930",
         "Andrew Anderson",
         "23",
         "2015-11-28T11:52:37.000+0000"
        ],
        [
         "1205",
         "Andrew Estrada",
         "25",
         "2015-11-15T13:36:03.000+0000"
        ],
        [
         "10160",
         "Cameron Medina",
         "20",
         "2016-06-02T03:51:43.000+0000"
        ],
        [
         "7961",
         "Alex Adams",
         "20",
         "2015-11-02T22:24:22.000+0000"
        ],
        [
         "10865",
         "Nicole Harrison",
         "29",
         "2017-07-24T18:11:03.000+0000"
        ],
        [
         "8511",
         "Molly Curtis",
         "20",
         "2016-06-30T10:13:01.000+0000"
        ],
        [
         "644",
         "Aaron Bartlett",
         "21",
         "2015-11-24T02:15:36.000+0000"
        ],
        [
         "3556",
         "Alison Bell",
         "21",
         "2016-01-07T08:11:35.000+0000"
        ],
        [
         "10319",
         "Alexis Taylor",
         "40",
         "2016-07-24T11:25:01.000+0000"
        ],
        [
         "4050",
         "Adam Armstrong",
         "20",
         "2015-12-17T08:43:40.000+0000"
        ],
        [
         "2637",
         "Shawn Jones",
         "32",
         "2016-08-23T20:36:12.000+0000"
        ],
        [
         "2337",
         "Alex Bean",
         "24",
         "2016-01-11T23:08:27.000+0000"
        ],
        [
         "1814",
         "Brian Hansen",
         "31",
         "2016-01-30T13:25:52.000+0000"
        ],
        [
         "925",
         "Aaron Abbott",
         "20",
         "2015-10-31T18:51:07.000+0000"
        ],
        [
         "1719",
         "Jordan Jenkins",
         "60",
         "2017-08-19T17:07:31.000+0000"
        ],
        [
         "8705",
         "Jeffrey Gregory",
         "53",
         "2016-02-01T03:06:59.000+0000"
        ],
        [
         "10093",
         "Jamie Andrews",
         "46",
         "2016-10-11T07:57:59.000+0000"
        ],
        [
         "1335",
         "Benjamin Campbell",
         "20",
         "2015-11-16T13:25:08.000+0000"
        ],
        [
         "5130",
         "Linda Blackwell",
         "20",
         "2015-12-11T03:23:37.000+0000"
        ],
        [
         "9590",
         "Amanda Allen",
         "22",
         "2015-10-24T18:56:30.000+0000"
        ],
        [
         "1503",
         "Anthony Bryan",
         "22",
         "2015-10-24T15:35:59.000+0000"
        ],
        [
         "860",
         "Jay Davis",
         "33",
         "2016-12-04T21:33:36.000+0000"
        ],
        [
         "2090",
         "Edward Oliver",
         "21",
         "2016-04-05T00:40:22.000+0000"
        ],
        [
         "604",
         "Cynthia Ortiz",
         "35",
         "2016-03-05T05:16:44.000+0000"
        ],
        [
         "9749",
         "Arthur Riggs",
         "46",
         "2016-05-01T10:44:18.000+0000"
        ],
        [
         "4327",
         "Shane Blanchard",
         "38",
         "2017-05-06T09:43:45.000+0000"
        ],
        [
         "5076",
         "Christopher Butler",
         "20",
         "2015-12-01T15:08:31.000+0000"
        ],
        [
         "10663",
         "Julie Cox",
         "23",
         "2016-06-23T14:38:00.000+0000"
        ],
        [
         "10119",
         "Chelsea Gonzalez",
         "43",
         "2016-07-21T15:25:08.000+0000"
        ],
        [
         "10783",
         "Jane Aguilar",
         "32",
         "2016-03-02T01:25:48.000+0000"
        ],
        [
         "2604",
         "Ashley Evans",
         "30",
         "2016-02-21T12:54:01.000+0000"
        ],
        [
         "5151",
         "Mary Jordan",
         "26",
         "2017-06-12T16:02:59.000+0000"
        ],
        [
         "6134",
         "Jacob Baker",
         "33",
         "2015-11-29T07:33:20.000+0000"
        ],
        [
         "3175",
         "David Bell",
         "20",
         "2016-04-15T17:11:11.000+0000"
        ],
        [
         "409",
         "Alfred Chen",
         "24",
         "2016-07-01T16:11:59.000+0000"
        ],
        [
         "2011",
         "Adam Anderson",
         "34",
         "2016-03-14T20:42:08.000+0000"
        ],
        [
         "9183",
         "Brittany Cruz",
         "47",
         "2016-07-28T09:04:46.000+0000"
        ],
        [
         "8591",
         "Andrea Alexander",
         "21",
         "2015-11-10T09:27:42.000+0000"
        ],
        [
         "6705",
         "Adrian Allen",
         "21",
         "2015-10-21T22:43:58.000+0000"
        ],
        [
         "3717",
         "Alexandria Alvarado",
         "20",
         "2015-10-23T04:13:23.000+0000"
        ],
        [
         "5630",
         "Carlos Estrada",
         "22",
         "2016-02-09T17:01:38.000+0000"
        ],
        [
         "1864",
         "Alexander Adams",
         "32",
         "2015-10-28T15:48:24.000+0000"
        ],
        [
         "1857",
         "Christopher Hamilton",
         "48",
         "2016-02-27T16:57:44.000+0000"
        ],
        [
         "2465",
         "Duane Lopez",
         "27",
         "2016-05-01T09:31:11.000+0000"
        ],
        [
         "6276",
         "Briana Bryant",
         "23",
         "2016-03-30T16:14:41.000+0000"
        ],
        [
         "10715",
         "Angela Brown",
         "36",
         "2015-12-14T13:52:48.000+0000"
        ],
        [
         "7528",
         "Abigail Ali",
         "20",
         "2015-10-24T11:23:51.000+0000"
        ],
        [
         "4913",
         "Angela Brooks",
         "24",
         "2015-11-20T05:37:11.000+0000"
        ],
        [
         "6809",
         "Andrea Carroll",
         "20",
         "2016-01-21T03:54:20.000+0000"
        ],
        [
         "9721",
         "Debra Jenkins",
         "50",
         "2016-02-03T06:04:15.000+0000"
        ],
        [
         "10524",
         "Brian Conley",
         "32",
         "2016-06-01T06:25:53.000+0000"
        ],
        [
         "7790",
         "Michelle Gutierrez",
         "39",
         "2017-07-19T07:12:04.000+0000"
        ],
        [
         "7162",
         "Alan Davis",
         "34",
         "2016-04-25T01:45:51.000+0000"
        ],
        [
         "6386",
         "Alan Adams",
         "25",
         "2016-05-20T09:33:35.000+0000"
        ],
        [
         "831",
         "Aimee Collins",
         "28",
         "2016-06-16T02:06:38.000+0000"
        ],
        [
         "7759",
         "Aaron Alexander",
         "21",
         "2015-10-25T07:36:08.000+0000"
        ],
        [
         "1963",
         "Andre Carey",
         "28",
         "2015-11-16T13:20:58.000+0000"
        ],
        [
         "3480",
         "Amanda Allen",
         "21",
         "2015-11-16T23:15:00.000+0000"
        ],
        [
         "7554",
         "Cheryl Huerta",
         "20",
         "2017-04-11T16:35:33.000+0000"
        ],
        [
         "7039",
         "Brian Buckley",
         "28",
         "2016-10-14T03:43:48.000+0000"
        ],
        [
         "6453",
         "Caitlin Bailey",
         "28",
         "2015-10-24T04:11:28.000+0000"
        ],
        [
         "1537",
         "Nichole Chapman",
         "27",
         "2017-06-05T09:25:41.000+0000"
        ],
        [
         "8886",
         "Abigail Bates",
         "20",
         "2015-11-07T20:59:32.000+0000"
        ],
        [
         "995",
         "Jason Horne",
         "27",
         "2016-02-06T15:31:57.000+0000"
        ],
        [
         "6250",
         "Lydia Nelson",
         "59",
         "2016-09-06T06:21:57.000+0000"
        ],
        [
         "1675",
         "Barbara Ford",
         "50",
         "2015-12-30T08:56:15.000+0000"
        ],
        [
         "1263",
         "Anthony Bryan",
         "22",
         "2015-10-24T15:35:59.000+0000"
        ],
        [
         "3226",
         "Angela Andrews",
         "20",
         "2015-10-28T21:44:56.000+0000"
        ],
        [
         "3111",
         "Natasha Gonzalez",
         "51",
         "2016-05-17T07:56:53.000+0000"
        ],
        [
         "10440",
         "Christian Howell",
         "29",
         "2016-08-20T04:54:42.000+0000"
        ],
        [
         "3563",
         "Gerald Davis",
         "55",
         "2017-08-11T14:24:41.000+0000"
        ],
        [
         "2499",
         "John Hamilton",
         "23",
         "2015-11-09T12:22:53.000+0000"
        ],
        [
         "4315",
         "Michelle Prince",
         "36",
         "2015-12-20T16:38:13.000+0000"
        ],
        [
         "1198",
         "Ariana Gross",
         "59",
         "2016-12-17T11:10:48.000+0000"
        ],
        [
         "8174",
         "Andrew Brown",
         "25",
         "2016-03-26T04:30:23.000+0000"
        ],
        [
         "10050",
         "Carla Arnold",
         "34",
         "2015-12-20T18:05:14.000+0000"
        ],
        [
         "10538",
         "Jordan Grant",
         "42",
         "2016-07-29T00:56:59.000+0000"
        ],
        [
         "2297",
         "Debbie Mitchell",
         "46",
         "2017-02-23T00:45:45.000+0000"
        ],
        [
         "283",
         "Amanda Alvarez",
         "21",
         "2015-10-30T01:31:09.000+0000"
        ],
        [
         "8312",
         "Daniel Brooks",
         "25",
         "2015-11-19T21:24:33.000+0000"
        ],
        [
         "74",
         "Amanda Benitez",
         "21",
         "2015-11-01T09:16:18.000+0000"
        ],
        [
         "307",
         "John Cruz",
         "55",
         "2017-03-15T23:04:39.000+0000"
        ],
        [
         "7769",
         "Aaron Abbott",
         "20",
         "2015-10-23T16:08:41.000+0000"
        ],
        [
         "6240",
         "Linda Tate",
         "33",
         "2017-06-14T08:16:57.000+0000"
        ],
        [
         "924",
         "Adam Baker",
         "30",
         "2016-04-17T19:47:03.000+0000"
        ],
        [
         "4922",
         "Abigail Barry",
         "21",
         "2015-12-03T10:40:24.000+0000"
        ],
        [
         "8120",
         "James Goodwin",
         "20",
         "2016-01-24T09:18:29.000+0000"
        ],
        [
         "6645",
         "Amanda Herrera",
         "38",
         "2016-05-01T21:17:08.000+0000"
        ],
        [
         "10904",
         "Deanna Alexander",
         "29",
         "2016-04-04T18:49:31.000+0000"
        ],
        [
         "250",
         "Cody Adams",
         "22",
         "2015-10-26T03:29:49.000+0000"
        ],
        [
         "2639",
         "Angela Andrews",
         "20",
         "2015-10-28T21:44:56.000+0000"
        ],
        [
         "9335",
         "Amanda Adams",
         "20",
         "2015-10-21T08:27:36.000+0000"
        ],
        [
         "6865",
         "Monica Hernandez",
         "33",
         "2016-04-01T13:54:42.000+0000"
        ],
        [
         "9256",
         "Andrew Anderson",
         "23",
         "2015-11-28T11:52:37.000+0000"
        ],
        [
         "10507",
         "Hannah Allen",
         "21",
         "2016-12-02T04:34:51.000+0000"
        ],
        [
         "4213",
         "Abigail Allen",
         "20",
         "2015-11-12T14:40:14.000+0000"
        ],
        [
         "10138",
         "Carol Silva",
         "22",
         "2015-12-31T14:57:02.000+0000"
        ],
        [
         "7768",
         "Christine Cortez",
         "23",
         "2015-12-01T18:15:02.000+0000"
        ],
        [
         "1216",
         "Juan Cortez",
         "20",
         "2016-04-07T13:02:08.000+0000"
        ],
        [
         "4513",
         "Charlotte Pitts",
         "60",
         "2017-07-18T11:50:18.000+0000"
        ],
        [
         "5360",
         "Anna Cross",
         "38",
         "2015-11-21T18:19:10.000+0000"
        ],
        [
         "9185",
         "Scott Copeland",
         "25",
         "2017-10-18T06:45:02.000+0000"
        ],
        [
         "10659",
         "David Evans",
         "21",
         "2016-03-28T10:54:55.000+0000"
        ],
        [
         "2698",
         "Kayla Burton",
         "44",
         "2017-06-21T19:53:27.000+0000"
        ],
        [
         "9093",
         "Albert Adams",
         "21",
         "2015-11-05T22:07:56.000+0000"
        ],
        [
         "9502",
         "Brian Barnes",
         "29",
         "2015-11-01T23:09:37.000+0000"
        ],
        [
         "8083",
         "Nancy Sanchez",
         "32",
         "2016-05-21T16:43:34.000+0000"
        ],
        [
         "5463",
         "Barbara Riley",
         "24",
         "2017-08-03T05:18:28.000+0000"
        ],
        [
         "7166",
         "Alvin Adams",
         "20",
         "2016-01-01T13:50:40.000+0000"
        ],
        [
         "4862",
         "Jacob Castro",
         "23",
         "2016-10-03T21:44:53.000+0000"
        ],
        [
         "7467",
         "Donna Carroll",
         "21",
         "2016-02-02T12:25:05.000+0000"
        ],
        [
         "1308",
         "Charles Clark",
         "25",
         "2016-01-14T12:21:54.000+0000"
        ],
        [
         "8854",
         "Andrew Anderson",
         "23",
         "2015-11-28T11:52:37.000+0000"
        ],
        [
         "7685",
         "Brian Howard",
         "23",
         "2015-12-20T18:33:11.000+0000"
        ],
        [
         "5184",
         "Jacob Chapman",
         "42",
         "2016-05-09T01:25:48.000+0000"
        ],
        [
         "8509",
         "Amber Chen",
         "22",
         "2015-12-30T05:21:14.000+0000"
        ],
        [
         "7050",
         "Corey Anderson",
         "28",
         "2015-12-05T21:26:20.000+0000"
        ],
        [
         "3145",
         "Crystal Schmidt",
         "22",
         "2017-04-14T13:57:52.000+0000"
        ],
        [
         "10600",
         "Robert Mclaughlin",
         "49",
         "2016-02-27T04:42:03.000+0000"
        ],
        [
         "4115",
         "Danielle Cook",
         "22",
         "2016-05-18T00:47:21.000+0000"
        ],
        [
         "8699",
         "Brandi Martin",
         "25",
         "2017-08-24T13:05:36.000+0000"
        ],
        [
         "2498",
         "Jeremy Chase",
         "50",
         "2017-07-31T16:56:52.000+0000"
        ],
        [
         "10837",
         "Mark Richardson",
         "55",
         "2015-11-18T05:46:35.000+0000"
        ],
        [
         "8834",
         "Andrea Alexander",
         "21",
         "2015-11-10T09:27:42.000+0000"
        ],
        [
         "643",
         "Anthony Adkins",
         "21",
         "2015-10-28T03:59:42.000+0000"
        ],
        [
         "3542",
         "Kristen Stevenson",
         "24",
         "2016-12-29T04:45:35.000+0000"
        ],
        [
         "6374",
         "Brandon Bender",
         "21",
         "2016-02-15T23:12:43.000+0000"
        ],
        [
         "7512",
         "Andrew Bird",
         "20",
         "2016-11-10T21:10:11.000+0000"
        ],
        [
         "1901",
         "Michelle Richardson",
         "44",
         "2016-12-18T16:05:39.000+0000"
        ],
        [
         "4769",
         "Abigail Barry",
         "21",
         "2015-12-03T10:40:24.000+0000"
        ],
        [
         "2074",
         "Annette Forbes",
         "21",
         "2016-01-03T15:42:12.000+0000"
        ],
        [
         "7738",
         "Alexis George",
         "34",
         "2016-02-26T00:38:01.000+0000"
        ],
        [
         "4027",
         "Alexander Bailey",
         "20",
         "2015-12-05T21:04:46.000+0000"
        ],
        [
         "653",
         "Adam Nash",
         "36",
         "2016-11-26T08:35:53.000+0000"
        ],
        [
         "1469",
         "Angela Berg",
         "20",
         "2015-11-10T05:57:33.000+0000"
        ],
        [
         "10168",
         "Nicole Gray",
         "53",
         "2016-02-20T13:03:00.000+0000"
        ],
        [
         "2288",
         "Corey Andrews",
         "23",
         "2015-11-25T13:36:22.000+0000"
        ],
        [
         "1896",
         "Amanda Anderson",
         "23",
         "2016-02-22T08:38:01.000+0000"
        ],
        [
         "7413",
         "Seth Gardner",
         "55",
         "2016-04-12T09:43:50.000+0000"
        ],
        [
         "2923",
         "Brian Nelson",
         "26",
         "2015-11-11T03:20:57.000+0000"
        ],
        [
         "2482",
         "David Moss",
         "22",
         "2016-03-01T07:11:48.000+0000"
        ],
        [
         "4076",
         "Larry Pineda",
         "20",
         "2015-10-23T22:47:39.000+0000"
        ],
        [
         "1699",
         "Brandon Cummings",
         "22",
         "2016-05-11T01:36:00.000+0000"
        ],
        [
         "10734",
         "Jennifer Arellano",
         "28",
         "2015-12-18T10:50:10.000+0000"
        ],
        [
         "10321",
         "Andrea Burke",
         "20",
         "2015-12-12T11:20:08.000+0000"
        ],
        [
         "10479",
         "Aaron Bailey",
         "20",
         "2015-11-02T04:40:42.000+0000"
        ],
        [
         "8309",
         "Vickie Acevedo",
         "43",
         "2017-04-09T08:19:09.000+0000"
        ],
        [
         "7801",
         "Nancy Clay",
         "36",
         "2016-01-12T18:33:12.000+0000"
        ],
        [
         "8677",
         "Amy Brown",
         "21",
         "2015-11-08T16:14:16.000+0000"
        ],
        [
         "781",
         "Alexandra Allen",
         "20",
         "2015-10-23T13:07:00.000+0000"
        ],
        [
         "6939",
         "Erin Thompson",
         "35",
         "2016-10-21T03:38:15.000+0000"
        ],
        [
         "9425",
         "Katrina Fischer",
         "47",
         "2017-05-10T22:51:14.000+0000"
        ],
        [
         "8967",
         "Joshua Harrison",
         "26",
         "2017-04-30T16:38:10.000+0000"
        ],
        [
         "10179",
         "Alexandra Austin",
         "22",
         "2015-11-06T05:05:43.000+0000"
        ],
        [
         "9700",
         "Isabel Rogers",
         "30",
         "2016-10-24T17:36:15.000+0000"
        ]
       ],
       "datasetInfos": [],
       "dbfsResultPath": null,
       "isJsonSchema": true,
       "metadata": {},
       "overflow": false,
       "plotOptions": {
        "customPlotOptions": {},
        "displayType": "table",
        "pivotAggregation": null,
        "pivotColumns": null,
        "xColumns": null,
        "yColumns": null
       },
       "removedWidgets": [],
       "schema": [
        {
         "metadata": "{}",
         "name": "ind",
         "type": "\"string\""
        },
        {
         "metadata": "{}",
         "name": "user_name",
         "type": "\"string\""
        },
        {
         "metadata": "{}",
         "name": "age",
         "type": "\"string\""
        },
        {
         "metadata": "{}",
         "name": "date_joined",
         "type": "\"timestamp\""
        }
       ],
       "type": "table"
      }
     },
     "output_type": "display_data"
    }
   ],
   "source": [
    "# Drop duplicates\n",
    "df_user = df_user_stream_de.dropDuplicates()\n",
    "\n",
    "# Create a new column user_name that concatenates the information found in the first_name and last_name columns\n",
    "df_user = df_user.withColumn(\"user_name\", concat_ws(\" \", col(\"first_name\"), col(\"last_name\")))\n",
    "\n",
    "# Drop the first_name and last_name columns from the DataFrame\n",
    "df_user = df_user.drop(\"first_name\", \"last_name\")\n",
    "\n",
    "# Convert the date_joined column from a string to a timestamp data type\n",
    "df_user = df_user.withColumn(\"date_joined\", col(\"date_joined\").cast(TimestampType()))\n",
    "\n",
    "# Reorder the DataFrame columns\n",
    "df_user = df_user.select([\"ind\", \"user_name\", \"age\", \"date_joined\"])\n",
    "\n",
    "display(df_user)"
   ]
  },
  {
   "cell_type": "markdown",
   "metadata": {
    "application/vnd.databricks.v1+cell": {
     "cellMetadata": {},
     "inputWidgets": {},
     "nuid": "b196836c-5b4a-4f72-af35-7d985c8efd87",
     "showTitle": false,
     "title": ""
    }
   },
   "source": [
    "# Create Delta Table"
   ]
  },
  {
   "cell_type": "code",
   "execution_count": 0,
   "metadata": {
    "application/vnd.databricks.v1+cell": {
     "cellMetadata": {
      "byteLimit": 2048000,
      "rowLimit": 10000
     },
     "inputWidgets": {},
     "nuid": "99f84b24-ab4d-4a9c-865b-46b80256b8d3",
     "showTitle": true,
     "title": "Pinterest Delta Table"
    }
   },
   "outputs": [
    {
     "output_type": "display_data",
     "data": {
      "text/html": [
       "<style scoped>\n",
       "  .ansiout {\n",
       "    display: block;\n",
       "    unicode-bidi: embed;\n",
       "    white-space: pre-wrap;\n",
       "    word-wrap: break-word;\n",
       "    word-break: break-all;\n",
       "    font-family: \"Menlo\", \"Monaco\", \"Consolas\", \"Ubuntu Mono\", \"Source Code Pro\", monospace;\n",
       "    font-size: 13px;\n",
       "    color: #555;\n",
       "    margin-left: 4px;\n",
       "    line-height: 19px;\n",
       "  }\n",
       "</style>\n",
       "<div class=\"ansiout\"></div>"
      ]
     },
     "metadata": {
      "application/vnd.databricks.v1+output": {
       "addedWidgets": {},
       "arguments": {},
       "data": "<div class=\"ansiout\"></div>",
       "datasetInfos": [],
       "metadata": {},
       "removedWidgets": [],
       "type": "html"
      }
     },
     "output_type": "display_data"
    }
   ],
   "source": [
    "dbutils.fs.rm(\"/tmp/kinesis/_checkpoints/\", True)\n",
    "create_delta_table(df_pin, \"pin\")\n"
   ]
  },
  {
   "cell_type": "code",
   "execution_count": 0,
   "metadata": {
    "application/vnd.databricks.v1+cell": {
     "cellMetadata": {
      "byteLimit": 2048000,
      "rowLimit": 10000
     },
     "inputWidgets": {},
     "nuid": "5ed67996-dbd7-4635-961c-8fa26a6ee708",
     "showTitle": true,
     "title": "Geo Delta Table"
    }
   },
   "outputs": [
    {
     "output_type": "display_data",
     "data": {
      "text/html": [
       "<style scoped>\n",
       "  .ansiout {\n",
       "    display: block;\n",
       "    unicode-bidi: embed;\n",
       "    white-space: pre-wrap;\n",
       "    word-wrap: break-word;\n",
       "    word-break: break-all;\n",
       "    font-family: \"Menlo\", \"Monaco\", \"Consolas\", \"Ubuntu Mono\", \"Source Code Pro\", monospace;\n",
       "    font-size: 13px;\n",
       "    color: #555;\n",
       "    margin-left: 4px;\n",
       "    line-height: 19px;\n",
       "  }\n",
       "</style>\n",
       "<div class=\"ansiout\"></div>"
      ]
     },
     "metadata": {
      "application/vnd.databricks.v1+output": {
       "addedWidgets": {},
       "arguments": {},
       "data": "<div class=\"ansiout\"></div>",
       "datasetInfos": [],
       "metadata": {},
       "removedWidgets": [],
       "type": "html"
      }
     },
     "output_type": "display_data"
    }
   ],
   "source": [
    "dbutils.fs.rm(\"/tmp/kinesis/_checkpoints/\", True)\n",
    "create_delta_table(df_geo, \"geo\")\n"
   ]
  },
  {
   "cell_type": "code",
   "execution_count": 0,
   "metadata": {
    "application/vnd.databricks.v1+cell": {
     "cellMetadata": {
      "byteLimit": 2048000,
      "rowLimit": 10000
     },
     "inputWidgets": {},
     "nuid": "623e587f-3d3e-48f0-aa50-fb15cf007b2f",
     "showTitle": true,
     "title": "User Delta Table"
    }
   },
   "outputs": [
    {
     "output_type": "display_data",
     "data": {
      "text/html": [
       "<style scoped>\n",
       "  .ansiout {\n",
       "    display: block;\n",
       "    unicode-bidi: embed;\n",
       "    white-space: pre-wrap;\n",
       "    word-wrap: break-word;\n",
       "    word-break: break-all;\n",
       "    font-family: \"Menlo\", \"Monaco\", \"Consolas\", \"Ubuntu Mono\", \"Source Code Pro\", monospace;\n",
       "    font-size: 13px;\n",
       "    color: #555;\n",
       "    margin-left: 4px;\n",
       "    line-height: 19px;\n",
       "  }\n",
       "</style>\n",
       "<div class=\"ansiout\"></div>"
      ]
     },
     "metadata": {
      "application/vnd.databricks.v1+output": {
       "addedWidgets": {},
       "arguments": {},
       "data": "<div class=\"ansiout\"></div>",
       "datasetInfos": [],
       "metadata": {},
       "removedWidgets": [],
       "type": "html"
      }
     },
     "output_type": "display_data"
    }
   ],
   "source": [
    "dbutils.fs.rm(\"/tmp/kinesis/_checkpoints/\", True)\n",
    "create_delta_table(df_user, \"user\")\n"
   ]
  }
 ],
 "metadata": {
  "application/vnd.databricks.v1+notebook": {
   "dashboards": [],
   "language": "python",
   "notebookMetadata": {
    "pythonIndentUnit": 4
   },
   "notebookName": "Steaming Data Processing",
   "widgets": {}
  }
 },
 "nbformat": 4,
 "nbformat_minor": 0
}
